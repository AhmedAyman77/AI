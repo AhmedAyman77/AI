{
  "nbformat": 4,
  "nbformat_minor": 0,
  "metadata": {
    "colab": {
      "provenance": []
    },
    "kernelspec": {
      "name": "python3",
      "display_name": "Python 3"
    },
    "language_info": {
      "name": "python"
    }
  },
  "cells": [
    {
      "cell_type": "code",
      "execution_count": 50,
      "metadata": {
        "id": "imLImQzBZXjD"
      },
      "outputs": [],
      "source": [
        "import torch\n",
        "from torchvision.datasets import MNIST\n",
        "from torchvision import transforms\n",
        "from torch.utils.data import DataLoader, Dataset\n",
        "import numpy as np\n",
        "import matplotlib.pyplot as plt\n",
        "import warnings\n",
        "warnings.filterwarnings('ignore')"
      ]
    },
    {
      "cell_type": "code",
      "source": [
        "transform = transforms.Compose([\n",
        "    transforms.ToTensor(),\n",
        "    transforms.Normalize((0.5,), (0.5,))\n",
        "])\n",
        "# convert to tensor and normalize the dataset"
      ],
      "metadata": {
        "id": "Bs1oWewMZjtQ"
      },
      "execution_count": 51,
      "outputs": []
    },
    {
      "cell_type": "code",
      "source": [
        "train_data = MNIST(root='./data',train=True,transform=transform,download=True)\n",
        "len(train_data)"
      ],
      "metadata": {
        "colab": {
          "base_uri": "https://localhost:8080/"
        },
        "id": "--MVSBN5aNSE",
        "outputId": "b8621a07-3a36-4dfb-dc51-dbf2085cce1f"
      },
      "execution_count": 52,
      "outputs": [
        {
          "output_type": "execute_result",
          "data": {
            "text/plain": [
              "60000"
            ]
          },
          "metadata": {},
          "execution_count": 52
        }
      ]
    },
    {
      "cell_type": "code",
      "source": [
        "# number of subprocesses to use for data loading\n",
        "num_workers = 0\n",
        "# how many samples per batch to load\n",
        "batch_size = 50"
      ],
      "metadata": {
        "id": "Yq1uL5EBajKK"
      },
      "execution_count": 53,
      "outputs": []
    },
    {
      "cell_type": "code",
      "source": [
        "train_loader = DataLoader(train_data, batch_size=batch_size,num_workers=num_workers)"
      ],
      "metadata": {
        "id": "aBbN9nPHao5I"
      },
      "execution_count": 54,
      "outputs": []
    },
    {
      "cell_type": "code",
      "source": [
        "dataiter = iter(train_loader)\n",
        "images, labels = next(dataiter)\n",
        "print(type(images))\n",
        "print(images.shape)\n",
        "print(labels.shape)"
      ],
      "metadata": {
        "colab": {
          "base_uri": "https://localhost:8080/"
        },
        "id": "yvde3AGka32d",
        "outputId": "be83afa2-140e-4bc0-b609-1af913b3f24d"
      },
      "execution_count": 55,
      "outputs": [
        {
          "output_type": "stream",
          "name": "stdout",
          "text": [
            "<class 'torch.Tensor'>\n",
            "torch.Size([50, 1, 28, 28])\n",
            "torch.Size([50])\n"
          ]
        }
      ]
    },
    {
      "cell_type": "code",
      "source": [
        "plt.imshow(images[0].numpy().squeeze(), cmap='gray_r')"
      ],
      "metadata": {
        "colab": {
          "base_uri": "https://localhost:8080/",
          "height": 447
        },
        "id": "1KSC5NeFa6P0",
        "outputId": "c3d7ce48-309b-48c8-91ef-9d7882793867"
      },
      "execution_count": 56,
      "outputs": [
        {
          "output_type": "execute_result",
          "data": {
            "text/plain": [
              "<matplotlib.image.AxesImage at 0x7f50dd9cb010>"
            ]
          },
          "metadata": {},
          "execution_count": 56
        },
        {
          "output_type": "display_data",
          "data": {
            "text/plain": [
              "<Figure size 640x480 with 1 Axes>"
            ],
            "image/png": "[encoded data removed]"
          },
          "metadata": {}
        }
      ]
    },
    {
      "cell_type": "code",
      "source": [
        "# store for prediction\n",
        "first_img = images[0].numpy()\n",
        "first_img.shape"
      ],
      "metadata": {
        "colab": {
          "base_uri": "https://localhost:8080/"
        },
        "id": "EivzT0hmbQez",
        "outputId": "69ba8e3d-421a-4485-a94b-e8135b7923e5"
      },
      "execution_count": 68,
      "outputs": [
        {
          "output_type": "execute_result",
          "data": {
            "text/plain": [
              "(28, 28)"
            ]
          },
          "metadata": {},
          "execution_count": 68
        }
      ]
    },
    {
      "cell_type": "markdown",
      "source": [
        "<h1>Creating the model with CrossEntropyLoss<h1>\n",
        "which is equal to F.log_softmax + nn.NLLLoss()"
      ],
      "metadata": {
        "id": "zkwUeUPFevD1"
      }
    },
    {
      "cell_type": "code",
      "source": [
        "class Model(torch.nn.Module):\n",
        "    def __init__(self):\n",
        "      super().__init__()\n",
        "      self.fc1 = torch.nn.Linear(784, 128)\n",
        "      self.fc2 = torch.nn.Linear(128, 64)\n",
        "      self.fc3 = torch.nn.Linear(64, 10)\n",
        "\n",
        "    def forward(self, x):\n",
        "      x = x.view(x.shape[0], -1) # shape before (1,28,28) after (1,784)\n",
        "      x = torch.nn.functional.relu(self.fc1(x))\n",
        "      x = torch.nn.functional.relu(self.fc2(x))\n",
        "      x = self.fc3(x) # did not use softmax so i will use CrossEntropyLoss\n",
        "      return x"
      ],
      "metadata": {
        "id": "4f7JIXuGbYVe"
      },
      "execution_count": 58,
      "outputs": []
    },
    {
      "cell_type": "code",
      "source": [
        "model = Model()"
      ],
      "metadata": {
        "id": "PeE1MHjBcIRM"
      },
      "execution_count": 59,
      "outputs": []
    },
    {
      "cell_type": "code",
      "source": [
        "criterion = torch.nn.CrossEntropyLoss()\n",
        "optimizer = torch.optim.Adam(model.parameters(), lr=0.003)"
      ],
      "metadata": {
        "id": "f6KXRCe3cJjr"
      },
      "execution_count": 60,
      "outputs": []
    },
    {
      "cell_type": "code",
      "source": [
        "# train\n",
        "for epoch in range(1,11):\n",
        "  train_loss = []\n",
        "\n",
        "  for img, lable in train_loader:\n",
        "    optimizer.zero_grad()\n",
        "    output = model(img)\n",
        "    loss = criterion(output, lable)\n",
        "    loss.backward()\n",
        "    optimizer.step()\n",
        "    train_loss.append(loss.item())\n",
        "\n",
        "  print(f\"Epoch: {epoch} Loss: {np.mean(train_loss)}\")"
      ],
      "metadata": {
        "colab": {
          "base_uri": "https://localhost:8080/"
        },
        "id": "Q1pSw3Escnv_",
        "outputId": "fafa2a8d-209d-4f12-bbd4-24acb6b0d06b"
      },
      "execution_count": 61,
      "outputs": [
        {
          "output_type": "stream",
          "name": "stdout",
          "text": [
            "Epoch: 1 Loss: 0.35336063471700374\n",
            "Epoch: 2 Loss: 0.18855587195721454\n",
            "Epoch: 3 Loss: 0.15168163670338497\n",
            "Epoch: 4 Loss: 0.13773389393584998\n",
            "Epoch: 5 Loss: 0.12576460980664705\n",
            "Epoch: 6 Loss: 0.11855041583585262\n",
            "Epoch: 7 Loss: 0.11079886110635319\n",
            "Epoch: 8 Loss: 0.1016781560627957\n",
            "Epoch: 9 Loss: 0.09935615330758689\n",
            "Epoch: 10 Loss: 0.09321776607864497\n"
          ]
        }
      ]
    },
    {
      "cell_type": "code",
      "source": [
        "first_img = first_img.reshape(1,28,28)\n",
        "first_img = torch.from_numpy(first_img)\n",
        "first_img.shape"
      ],
      "metadata": {
        "colab": {
          "base_uri": "https://localhost:8080/"
        },
        "id": "bxD8yF6BlB_K",
        "outputId": "c2b0a49d-8423-4c3a-dbd1-ecb44ab9bd48"
      },
      "execution_count": 79,
      "outputs": [
        {
          "output_type": "execute_result",
          "data": {
            "text/plain": [
              "torch.Size([1, 28, 28])"
            ]
          },
          "metadata": {},
          "execution_count": 79
        }
      ]
    },
    {
      "cell_type": "code",
      "source": [
        "# Calculate the class probabilities (softmax) for img\n",
        "log_ps = model(first_img)\n",
        "ps = torch.exp(log_ps)\n",
        "print(ps)\n",
        "print(ps.shape)"
      ],
      "metadata": {
        "colab": {
          "base_uri": "https://localhost:8080/"
        },
        "id": "fb4YHK4If4Pg",
        "outputId": "0bbe8506-7ada-43c2-bfbe-846528b2cb58"
      },
      "execution_count": 80,
      "outputs": [
        {
          "output_type": "stream",
          "name": "stdout",
          "text": [
            "tensor([[5.6001e-11, 4.9606e-04, 4.0854e-02, 1.2552e+02, 2.2810e-06, 2.4084e+04,\n",
            "         3.7910e-10, 1.1013e-01, 3.6263e-05, 4.0611e-01]],\n",
            "       grad_fn=<ExpBackward0>)\n",
            "torch.Size([1, 10])\n"
          ]
        }
      ]
    },
    {
      "cell_type": "code",
      "source": [
        "top_p, top_class = ps.topk(1, dim=1)\n",
        "print(top_class)"
      ],
      "metadata": {
        "colab": {
          "base_uri": "https://localhost:8080/"
        },
        "id": "0CNvf4I4mOxf",
        "outputId": "8d4a32ae-fd7d-4234-e566-35fbd0579158"
      },
      "execution_count": 81,
      "outputs": [
        {
          "output_type": "stream",
          "name": "stdout",
          "text": [
            "tensor([[5]])\n"
          ]
        }
      ]
    },
    {
      "cell_type": "code",
      "source": [
        "dataiter = iter(train_loader)\n",
        "images, labels = next(dataiter)\n",
        "print(type(images))\n",
        "print(images.shape)\n",
        "print(labels.shape)"
      ],
      "metadata": {
        "colab": {
          "base_uri": "https://localhost:8080/"
        },
        "id": "Ir_niDSPmj1p",
        "outputId": "59f917a8-4517-4fc9-a4f4-4d7f6c509aad"
      },
      "execution_count": 84,
      "outputs": [
        {
          "output_type": "stream",
          "name": "stdout",
          "text": [
            "<class 'torch.Tensor'>\n",
            "torch.Size([50, 1, 28, 28])\n",
            "torch.Size([50])\n"
          ]
        }
      ]
    },
    {
      "cell_type": "code",
      "source": [
        "logs_ps = model(images)\n",
        "ps = torch.exp(logs_ps)\n",
        "top_p, top_class = ps.topk(1,dim=1)\n",
        "print(top_class)"
      ],
      "metadata": {
        "colab": {
          "base_uri": "https://localhost:8080/"
        },
        "id": "nYZsARMsh06r",
        "outputId": "c1929c65-9401-43db-b820-d1b6f8f16253"
      },
      "execution_count": 85,
      "outputs": [
        {
          "output_type": "stream",
          "name": "stdout",
          "text": [
            "tensor([[5],\n",
            "        [0],\n",
            "        [4],\n",
            "        [1],\n",
            "        [9],\n",
            "        [2],\n",
            "        [1],\n",
            "        [3],\n",
            "        [1],\n",
            "        [4],\n",
            "        [3],\n",
            "        [5],\n",
            "        [3],\n",
            "        [6],\n",
            "        [1],\n",
            "        [7],\n",
            "        [2],\n",
            "        [8],\n",
            "        [6],\n",
            "        [9],\n",
            "        [4],\n",
            "        [0],\n",
            "        [9],\n",
            "        [1],\n",
            "        [1],\n",
            "        [2],\n",
            "        [4],\n",
            "        [3],\n",
            "        [2],\n",
            "        [2],\n",
            "        [3],\n",
            "        [8],\n",
            "        [6],\n",
            "        [9],\n",
            "        [0],\n",
            "        [5],\n",
            "        [6],\n",
            "        [0],\n",
            "        [7],\n",
            "        [6],\n",
            "        [1],\n",
            "        [8],\n",
            "        [7],\n",
            "        [9],\n",
            "        [3],\n",
            "        [9],\n",
            "        [8],\n",
            "        [5],\n",
            "        [3],\n",
            "        [3]])\n"
          ]
        }
      ]
    },
    {
      "cell_type": "code",
      "source": [
        "equals = top_class == labels.view(*top_class.shape)\n",
        "print(equals)"
      ],
      "metadata": {
        "colab": {
          "base_uri": "https://localhost:8080/"
        },
        "id": "MFCTeBSokecp",
        "outputId": "4e18d61b-573f-4a76-a76b-b0d17e46a300"
      },
      "execution_count": 86,
      "outputs": [
        {
          "output_type": "stream",
          "name": "stdout",
          "text": [
            "tensor([[ True],\n",
            "        [ True],\n",
            "        [ True],\n",
            "        [ True],\n",
            "        [ True],\n",
            "        [ True],\n",
            "        [ True],\n",
            "        [ True],\n",
            "        [ True],\n",
            "        [ True],\n",
            "        [ True],\n",
            "        [ True],\n",
            "        [ True],\n",
            "        [ True],\n",
            "        [ True],\n",
            "        [ True],\n",
            "        [ True],\n",
            "        [ True],\n",
            "        [ True],\n",
            "        [ True],\n",
            "        [ True],\n",
            "        [ True],\n",
            "        [ True],\n",
            "        [ True],\n",
            "        [ True],\n",
            "        [ True],\n",
            "        [ True],\n",
            "        [ True],\n",
            "        [ True],\n",
            "        [False],\n",
            "        [ True],\n",
            "        [ True],\n",
            "        [ True],\n",
            "        [ True],\n",
            "        [ True],\n",
            "        [ True],\n",
            "        [ True],\n",
            "        [ True],\n",
            "        [ True],\n",
            "        [ True],\n",
            "        [ True],\n",
            "        [ True],\n",
            "        [ True],\n",
            "        [ True],\n",
            "        [ True],\n",
            "        [ True],\n",
            "        [ True],\n",
            "        [ True],\n",
            "        [False],\n",
            "        [ True]])\n"
          ]
        }
      ]
    },
    {
      "cell_type": "code",
      "source": [
        "accuracy = torch.mean(equals.type(torch.FloatTensor))\n",
        "print(f'Accuracy: {accuracy.item()*100}%')"
      ],
      "metadata": {
        "colab": {
          "base_uri": "https://localhost:8080/"
        },
        "id": "u5208M8ym1Ag",
        "outputId": "c4c6f023-0f65-479d-a481-0518d6c29ab2"
      },
      "execution_count": 87,
      "outputs": [
        {
          "output_type": "stream",
          "name": "stdout",
          "text": [
            "Accuracy: 95.99999785423279%\n"
          ]
        }
      ]
    },
    {
      "cell_type": "code",
      "source": [],
      "metadata": {
        "id": "UTDnZkusm7C2"
      },
      "execution_count": null,
      "outputs": []
    }
  ]
}