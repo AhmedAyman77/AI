{
  "nbformat": 4,
  "nbformat_minor": 0,
  "metadata": {
    "colab": {
      "provenance": [],
      "gpuType": "T4"
    },
    "kernelspec": {
      "name": "python3",
      "display_name": "Python 3"
    },
    "language_info": {
      "name": "python"
    },
    "accelerator": "GPU"
  },
  "cells": [
    {
      "cell_type": "code",
      "execution_count": 69,
      "metadata": {
        "colab": {
          "base_uri": "https://localhost:8080/"
        },
        "id": "izm9CE0WBpOe",
        "outputId": "3781e7e6-71e6-40ad-9b48-31bf13a178b6"
      },
      "outputs": [
        {
          "output_type": "stream",
          "name": "stdout",
          "text": [
            "Drive already mounted at /content/drive; to attempt to forcibly remount, call drive.mount(\"/content/drive\", force_remount=True).\n"
          ]
        }
      ],
      "source": [
        "import numpy as np\n",
        "import matplotlib.pyplot as plt\n",
        "import warnings\n",
        "import torch\n",
        "from torchvision.datasets import MNIST\n",
        "from torchvision import transforms\n",
        "from torch.utils.data import DataLoader\n",
        "from torch import nn\n",
        "from torch.nn import functional as F\n",
        "from google.colab import drive\n",
        "warnings.filterwarnings(\"ignore\")\n",
        "drive.mount('/content/drive')"
      ]
    },
    {
      "cell_type": "code",
      "source": [
        "transform = transforms.Compose([\n",
        "    transforms.ToTensor(),\n",
        "    transforms.Normalize((0.5,), (0.5,))\n",
        "])"
      ],
      "metadata": {
        "id": "e6g7pCQcB2Qh"
      },
      "execution_count": 70,
      "outputs": []
    },
    {
      "cell_type": "code",
      "source": [
        "train_data = MNIST(root='./data', train=True, download=True, transform=transform)\n",
        "test_data = MNIST(root='./data', train=False, download=True, transform=transform)"
      ],
      "metadata": {
        "id": "zYHKYVJzCThk"
      },
      "execution_count": 71,
      "outputs": []
    },
    {
      "cell_type": "code",
      "source": [
        "VALIDATION = 0.2\n",
        "BATCH_SIZE = 64\n",
        "EPOCHS = 10"
      ],
      "metadata": {
        "id": "ZwD_NFzhCiBl"
      },
      "execution_count": 72,
      "outputs": []
    },
    {
      "cell_type": "code",
      "source": [
        "idx = np.arange(len(train_data))\n",
        "np.random.shuffle(idx)\n",
        "split = int(np.floor(VALIDATION * len(train_data)))\n",
        "train_idx, validation_idx = idx[split:], idx[:split]\n",
        "\n",
        "train_sample = torch.utils.data.sampler.SubsetRandomSampler(train_idx)\n",
        "validation_sample = torch.utils.data.sampler.SubsetRandomSampler(validation_idx)\n",
        "\n",
        "# when use sampler the shuffle is ignored\n",
        "train_loader = DataLoader(train_data, batch_size=BATCH_SIZE, sampler=train_sample)\n",
        "validation_loader = DataLoader(train_data, batch_size=BATCH_SIZE, sampler=validation_sample)\n",
        "test_loader = DataLoader(test_data, batch_size=BATCH_SIZE)"
      ],
      "metadata": {
        "id": "6rAhh4aqDA0i"
      },
      "execution_count": 73,
      "outputs": []
    },
    {
      "cell_type": "code",
      "source": [
        "for data, target in train_loader:\n",
        "    print(data.shape, target.shape)\n",
        "    break"
      ],
      "metadata": {
        "colab": {
          "base_uri": "https://localhost:8080/"
        },
        "id": "X_Or56mLEPfO",
        "outputId": "49f9f8dd-7ec5-4226-80be-9036f59c1989"
      },
      "execution_count": 74,
      "outputs": [
        {
          "output_type": "stream",
          "name": "stdout",
          "text": [
            "torch.Size([64, 1, 28, 28]) torch.Size([64])\n"
          ]
        }
      ]
    },
    {
      "cell_type": "markdown",
      "source": [
        "# nn.Sequential:\n",
        "Below we have defined the Deep Neural Network archietecture with the help of nn.Sequential."
      ],
      "metadata": {
        "id": "ijuklTpmEVwD"
      }
    },
    {
      "cell_type": "code",
      "source": [
        "model = nn.Sequential(\n",
        "    nn.Linear(784, 256),\n",
        "    nn.ReLU(),\n",
        "    nn.Dropout(0.2),\n",
        "\n",
        "    nn.Linear(256, 64),\n",
        "    nn.ReLU(),\n",
        "    nn.Dropout(0.2),\n",
        "\n",
        "    nn.Linear(64, 32),\n",
        "    nn.ReLU(),\n",
        "    nn.Dropout(0.2),\n",
        "\n",
        "    nn.Linear(32, 10)\n",
        ")"
      ],
      "metadata": {
        "id": "LPVPPkOnER5l"
      },
      "execution_count": 101,
      "outputs": []
    },
    {
      "cell_type": "code",
      "source": [
        "loss = nn.CrossEntropyLoss()\n",
        "optimizer = torch.optim.Adam(model.parameters(), lr=0.001)"
      ],
      "metadata": {
        "id": "nLXOnn6hFHzP"
      },
      "execution_count": 102,
      "outputs": []
    },
    {
      "cell_type": "markdown",
      "source": [
        "# GPU Support:\n",
        "First check that your GPU is working in Pytorch:"
      ],
      "metadata": {
        "id": "x4blafxXpBRY"
      }
    },
    {
      "cell_type": "code",
      "source": [
        "print(torch.cuda.is_available())"
      ],
      "metadata": {
        "colab": {
          "base_uri": "https://localhost:8080/"
        },
        "id": "qgW3N2pHpRAl",
        "outputId": "e53ab489-66d7-4f41-cd03-ce38e25680d4"
      },
      "execution_count": 103,
      "outputs": [
        {
          "output_type": "stream",
          "name": "stdout",
          "text": [
            "True\n"
          ]
        }
      ]
    },
    {
      "cell_type": "code",
      "source": [
        "device = torch.device(\n",
        "    \"cuda\") if torch.cuda.is_available() else torch.device(\"cpu\")\n",
        "print(device)"
      ],
      "metadata": {
        "colab": {
          "base_uri": "https://localhost:8080/"
        },
        "id": "BnXoD4klpVEH",
        "outputId": "754d412e-64f0-4ae2-95a1-4e380cb5c38d"
      },
      "execution_count": 104,
      "outputs": [
        {
          "output_type": "stream",
          "name": "stdout",
          "text": [
            "cuda\n"
          ]
        }
      ]
    },
    {
      "cell_type": "code",
      "source": [
        "model.to(device)"
      ],
      "metadata": {
        "colab": {
          "base_uri": "https://localhost:8080/"
        },
        "id": "GpvHMnqfpXQK",
        "outputId": "775a1d33-eb78-423e-82f4-74a70d317392"
      },
      "execution_count": 105,
      "outputs": [
        {
          "output_type": "execute_result",
          "data": {
            "text/plain": [
              "Sequential(\n",
              "  (0): Linear(in_features=784, out_features=256, bias=True)\n",
              "  (1): ReLU()\n",
              "  (2): Dropout(p=0.2, inplace=False)\n",
              "  (3): Linear(in_features=256, out_features=64, bias=True)\n",
              "  (4): ReLU()\n",
              "  (5): Dropout(p=0.2, inplace=False)\n",
              "  (6): Linear(in_features=64, out_features=32, bias=True)\n",
              "  (7): ReLU()\n",
              "  (8): Dropout(p=0.2, inplace=False)\n",
              "  (9): Linear(in_features=32, out_features=10, bias=True)\n",
              ")"
            ]
          },
          "metadata": {},
          "execution_count": 105
        }
      ]
    },
    {
      "cell_type": "code",
      "source": [
        "for epoch in range(EPOCHS):\n",
        "  train_loss, valid_loss = [], []\n",
        "\n",
        "  model.train()\n",
        "  for data, target in train_loader:\n",
        "\n",
        "    data, target = data.to(device), target.to(device)\n",
        "\n",
        "    data = data.view(data.shape[0], -1)\n",
        "\n",
        "    optimizer.zero_grad()\n",
        "\n",
        "    output = model(data)\n",
        "\n",
        "    loss_value = loss(output, target)\n",
        "\n",
        "    loss_value.backward()\n",
        "\n",
        "    optimizer.step()\n",
        "\n",
        "    train_loss.append(loss_value.item())\n",
        "\n",
        "  print (\"Epoch:\", epoch, \"Training Loss: \", np.mean(train_loss))"
      ],
      "metadata": {
        "colab": {
          "base_uri": "https://localhost:8080/"
        },
        "id": "mehcDcJwFVZp",
        "outputId": "f3929616-4551-4246-ca8f-601f4aa1a5c5"
      },
      "execution_count": 107,
      "outputs": [
        {
          "output_type": "stream",
          "name": "stdout",
          "text": [
            "Epoch: 0 Training Loss:  0.24178626283506552\n",
            "Epoch: 1 Training Loss:  0.20305461174001296\n",
            "Epoch: 2 Training Loss:  0.18748830536256234\n",
            "Epoch: 3 Training Loss:  0.16939764230449994\n",
            "Epoch: 4 Training Loss:  0.15851584869995713\n",
            "Epoch: 5 Training Loss:  0.14813509132837255\n",
            "Epoch: 6 Training Loss:  0.14135003662109374\n",
            "Epoch: 7 Training Loss:  0.13241480752887824\n",
            "Epoch: 8 Training Loss:  0.13126647907868028\n",
            "Epoch: 9 Training Loss:  0.12394213820373019\n"
          ]
        }
      ]
    },
    {
      "cell_type": "markdown",
      "source": [
        "# Save & Load The Model:\n",
        "As now the model has been trained , we will save the model and load again for future use."
      ],
      "metadata": {
        "id": "wjPdS6FzpnI8"
      }
    },
    {
      "cell_type": "code",
      "source": [
        "print(\"printing our model: \\n\\n\", model)\n"
      ],
      "metadata": {
        "id": "LDWRZ4xfMXOw",
        "colab": {
          "base_uri": "https://localhost:8080/"
        },
        "outputId": "e306fd95-6468-467c-a17e-52b6018b89dd"
      },
      "execution_count": 108,
      "outputs": [
        {
          "output_type": "stream",
          "name": "stdout",
          "text": [
            "printing our model: \n",
            "\n",
            " Sequential(\n",
            "  (0): Linear(in_features=784, out_features=256, bias=True)\n",
            "  (1): ReLU()\n",
            "  (2): Dropout(p=0.2, inplace=False)\n",
            "  (3): Linear(in_features=256, out_features=64, bias=True)\n",
            "  (4): ReLU()\n",
            "  (5): Dropout(p=0.2, inplace=False)\n",
            "  (6): Linear(in_features=64, out_features=32, bias=True)\n",
            "  (7): ReLU()\n",
            "  (8): Dropout(p=0.2, inplace=False)\n",
            "  (9): Linear(in_features=32, out_features=10, bias=True)\n",
            ")\n"
          ]
        }
      ]
    },
    {
      "cell_type": "markdown",
      "source": [
        "To see the weights and biases of the model\n",
        "\n",
        "The parameters for PyTorch models are stored in a model's state_dict. state_dict containts the weights & biases of each of the layer , which can be accesed by state_dict().keys().\n",
        "\n",
        "Below we can see that , every layer's weight and biases have been printed out -"
      ],
      "metadata": {
        "id": "ebR2gabCpyLY"
      }
    },
    {
      "cell_type": "code",
      "source": [
        "print(\"Models layer keys: \\n\\n\", model.state_dict().keys())"
      ],
      "metadata": {
        "colab": {
          "base_uri": "https://localhost:8080/"
        },
        "id": "-2dNxY1jpuzV",
        "outputId": "70b0bf74-d741-4e79-ac87-559d8ebc2582"
      },
      "execution_count": 109,
      "outputs": [
        {
          "output_type": "stream",
          "name": "stdout",
          "text": [
            "Models layer keys: \n",
            "\n",
            " odict_keys(['0.weight', '0.bias', '3.weight', '3.bias', '6.weight', '6.bias', '9.weight', '9.bias'])\n"
          ]
        }
      ]
    },
    {
      "cell_type": "markdown",
      "source": [
        "# Weights and Bias Values"
      ],
      "metadata": {
        "id": "XMFFXxjQsmkQ"
      }
    },
    {
      "cell_type": "code",
      "source": [
        "for params, values in model.state_dict().items():\n",
        "    print(params, \":\", values)\n",
        "    break"
      ],
      "metadata": {
        "colab": {
          "base_uri": "https://localhost:8080/"
        },
        "id": "VeDCgQI9ski1",
        "outputId": "304e2e77-4c7a-43a3-edc2-6208c1b5dc46"
      },
      "execution_count": 110,
      "outputs": [
        {
          "output_type": "stream",
          "name": "stdout",
          "text": [
            "0.weight : tensor([[ 0.0349, -0.0043, -0.0057,  ...,  0.0188,  0.0100,  0.0073],\n",
            "        [-0.0158, -0.0011, -0.0023,  ..., -0.0206,  0.0304, -0.0233],\n",
            "        [-0.0259, -0.0173,  0.0187,  ...,  0.0158,  0.0196, -0.0012],\n",
            "        ...,\n",
            "        [ 0.0149,  0.0209,  0.0136,  ...,  0.0182,  0.0537,  0.0171],\n",
            "        [ 0.0120, -0.0070, -0.0152,  ...,  0.0267,  0.0261,  0.0423],\n",
            "        [ 0.0391,  0.0377,  0.0366,  ..., -0.0065,  0.0196,  0.0039]],\n",
            "       device='cuda:0')\n"
          ]
        }
      ]
    },
    {
      "cell_type": "markdown",
      "source": [
        "# Model's statedict can be saved using the **torch.save** which also accepts the models name as parameter as - model.pth"
      ],
      "metadata": {
        "id": "3NP-n9aOsuRf"
      }
    },
    {
      "cell_type": "code",
      "source": [
        "torch.save(model.state_dict(), 'model.pth')"
      ],
      "metadata": {
        "id": "DfAs_VwCspJd"
      },
      "execution_count": 116,
      "outputs": []
    },
    {
      "cell_type": "markdown",
      "source": [
        "# Saved model can also be loaded using the **torch.load()** using the saved model's path"
      ],
      "metadata": {
        "id": "fCWXMX9Fs92Y"
      }
    },
    {
      "cell_type": "code",
      "source": [
        "state_dict = torch.load('model.pth')\n",
        "print(state_dict.keys())"
      ],
      "metadata": {
        "colab": {
          "base_uri": "https://localhost:8080/"
        },
        "id": "2mkRhgPps9kY",
        "outputId": "fa55fee4-f5bf-46f6-95e8-c8da7122833d"
      },
      "execution_count": 117,
      "outputs": [
        {
          "output_type": "stream",
          "name": "stdout",
          "text": [
            "odict_keys(['0.weight', '0.bias', '3.weight', '3.bias', '6.weight', '6.bias', '9.weight', '9.bias'])\n"
          ]
        }
      ]
    },
    {
      "cell_type": "markdown",
      "source": [
        "# To load the state dict in to the new model, you do **model.load_state_dict(state_dict)**."
      ],
      "metadata": {
        "id": "mjsgbQ9MtuQ4"
      }
    },
    {
      "cell_type": "code",
      "source": [
        "model.load_state_dict(state_dict)"
      ],
      "metadata": {
        "colab": {
          "base_uri": "https://localhost:8080/"
        },
        "id": "wMd1jT0atMSj",
        "outputId": "3527488b-060d-4278-b81e-bb6d436125b6"
      },
      "execution_count": 118,
      "outputs": [
        {
          "output_type": "execute_result",
          "data": {
            "text/plain": [
              "<All keys matched successfully>"
            ]
          },
          "metadata": {},
          "execution_count": 118
        }
      ]
    },
    {
      "cell_type": "markdown",
      "source": [
        "# **Important Note**: Loading the state dict will work only if the new model architecture is exactly the same as the saved's model's architecture"
      ],
      "metadata": {
        "id": "YSdaWJnpt2wk"
      }
    },
    {
      "cell_type": "code",
      "source": [],
      "metadata": {
        "id": "7298hWN_uM-I"
      },
      "execution_count": null,
      "outputs": []
    }
  ]
}