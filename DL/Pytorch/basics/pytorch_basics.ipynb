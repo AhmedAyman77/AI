{
  "cells": [
    {
      "cell_type": "code",
      "execution_count": null,
      "metadata": {
        "id": "QSkwnqdEMvef"
      },
      "outputs": [],
      "source": [
        "import torch"
      ]
    },
    {
      "cell_type": "code",
      "execution_count": null,
      "metadata": {
        "colab": {
          "base_uri": "https://localhost:8080/"
        },
        "id": "7W5yrQyyNL_o",
        "outputId": "ae256c9a-eb80-4c16-9b81-79a6d8282205"
      },
      "outputs": [
        {
          "name": "stdout",
          "output_type": "stream",
          "text": [
            "tensor([[1, 2, 3],\n",
            "        [4, 5, 6]])\n"
          ]
        }
      ],
      "source": [
        "# create tensor\n",
        "tensor = torch.tensor([[1, 2, 3],[4,5,6]])\n",
        "print(tensor)"
      ]
    },
    {
      "cell_type": "code",
      "execution_count": null,
      "metadata": {
        "colab": {
          "base_uri": "https://localhost:8080/"
        },
        "id": "20RfCfZSNR-d",
        "outputId": "98257c9a-12c1-4cf1-9e4a-2aac54b23870"
      },
      "outputs": [
        {
          "data": {
            "text/plain": [
              "torch.Size([2, 3])"
            ]
          },
          "execution_count": 6,
          "metadata": {},
          "output_type": "execute_result"
        }
      ],
      "source": [
        "tensor.shape"
      ]
    },
    {
      "cell_type": "code",
      "execution_count": null,
      "metadata": {
        "colab": {
          "base_uri": "https://localhost:8080/"
        },
        "id": "0zJkAtOgNZnV",
        "outputId": "991e059e-73d3-4377-e0b7-3088c359ffad"
      },
      "outputs": [
        {
          "data": {
            "text/plain": [
              "2"
            ]
          },
          "execution_count": 8,
          "metadata": {},
          "output_type": "execute_result"
        }
      ],
      "source": [
        "# num of dim\n",
        "tensor.ndim"
      ]
    },
    {
      "cell_type": "code",
      "execution_count": null,
      "metadata": {
        "colab": {
          "base_uri": "https://localhost:8080/"
        },
        "id": "NK_wqZkVNcqL",
        "outputId": "0de5cf1d-e5d9-4237-9087-3cb2813b13f6"
      },
      "outputs": [
        {
          "data": {
            "text/plain": [
              "tensor([[1, 4],\n",
              "        [2, 5],\n",
              "        [3, 6]])"
            ]
          },
          "execution_count": 9,
          "metadata": {},
          "output_type": "execute_result"
        }
      ],
      "source": [
        "# transpose\n",
        "tensor.T"
      ]
    },
    {
      "cell_type": "code",
      "execution_count": null,
      "metadata": {
        "colab": {
          "base_uri": "https://localhost:8080/"
        },
        "id": "GMvnaOuLNgwg",
        "outputId": "4ac08b40-37b8-45ea-ec6e-3e6be408330f"
      },
      "outputs": [
        {
          "data": {
            "text/plain": [
              "tensor([[0., 0., 0., 0.],\n",
              "        [0., 0., 0., 0.],\n",
              "        [0., 0., 0., 0.]])"
            ]
          },
          "execution_count": 10,
          "metadata": {},
          "output_type": "execute_result"
        }
      ],
      "source": [
        "z = torch.zeros(3,4)\n",
        "z"
      ]
    },
    {
      "cell_type": "code",
      "execution_count": null,
      "metadata": {
        "colab": {
          "base_uri": "https://localhost:8080/"
        },
        "id": "UeiUlFBqNn7l",
        "outputId": "52ef6740-b12c-4643-feca-e81f2acfedd7"
      },
      "outputs": [
        {
          "name": "stdout",
          "output_type": "stream",
          "text": [
            "<class 'torch.Tensor'>\n",
            "<class 'numpy.ndarray'>\n"
          ]
        }
      ],
      "source": [
        "# numpy to tensor\n",
        "import numpy as np\n",
        "array = np.random.randn(3,4)\n",
        "tensor = torch.from_numpy(array)\n",
        "print(type(tensor))\n",
        "print(type(array))"
      ]
    },
    {
      "cell_type": "code",
      "execution_count": null,
      "metadata": {
        "colab": {
          "base_uri": "https://localhost:8080/"
        },
        "id": "pr1hvzM7N_e6",
        "outputId": "9e9db9de-ea76-4282-d85a-806c57c402ca"
      },
      "outputs": [
        {
          "name": "stdout",
          "output_type": "stream",
          "text": [
            "<class 'torch.Tensor'>\n",
            "<class 'numpy.ndarray'>\n"
          ]
        }
      ],
      "source": [
        "# tensor to numpy\n",
        "n = tensor.numpy()\n",
        "print(type(tensor))\n",
        "print(type(n))"
      ]
    },
    {
      "cell_type": "code",
      "execution_count": null,
      "metadata": {
        "colab": {
          "base_uri": "https://localhost:8080/"
        },
        "id": "OnUtmpYwOLoH",
        "outputId": "a5b5b5d4-8a4b-46db-fef4-7ee11f86fd93"
      },
      "outputs": [
        {
          "name": "stdout",
          "output_type": "stream",
          "text": [
            "torch.Size([2, 3])\n",
            "2\n",
            "tensor([[1, 2, 3],\n",
            "        [5, 6, 7]])\n",
            "**************************************************\n",
            "torch.Size([3, 2])\n",
            "2\n",
            "tensor([[1, 2],\n",
            "        [3, 5],\n",
            "        [6, 7]])\n"
          ]
        }
      ],
      "source": [
        "# resize\n",
        "x = torch.tensor([[1,2,3],[5,6,7]])\n",
        "print(x.shape)\n",
        "print(x.ndim)\n",
        "print(x)\n",
        "print('*'*50)\n",
        "x = x.view(3,2) # x.view(3,2)\n",
        "print(x.shape)\n",
        "print(x.ndim)\n",
        "print(x)"
      ]
    },
    {
      "cell_type": "markdown",
      "metadata": {
        "id": "Di1-fhE5O8gB"
      },
      "source": [
        "<h1>Autograd<h1>"
      ]
    },
    {
      "cell_type": "code",
      "execution_count": null,
      "metadata": {
        "colab": {
          "base_uri": "https://localhost:8080/"
        },
        "id": "tZVFY9wTOgE8",
        "outputId": "f3ef82ac-c09f-4aa4-9d55-2add00ff76a2"
      },
      "outputs": [
        {
          "name": "stdout",
          "output_type": "stream",
          "text": [
            "tensor([[1., 2.],\n",
            "        [3., 4.]], requires_grad=True)\n"
          ]
        }
      ],
      "source": [
        "a = torch.tensor([[1.0,2.0],[3.0,4.0]], requires_grad=True) # for remember all operations\n",
        "print(a)"
      ]
    },
    {
      "cell_type": "code",
      "execution_count": null,
      "metadata": {
        "colab": {
          "base_uri": "https://localhost:8080/"
        },
        "id": "WTbNHlpxQjaP",
        "outputId": "15a85b9f-a31e-49cb-9f11-31e20b300b4c"
      },
      "outputs": [
        {
          "name": "stdout",
          "output_type": "stream",
          "text": [
            "tensor(100., grad_fn=<SumBackward0>)\n"
          ]
        }
      ],
      "source": [
        "y = torch.sum(a**3)\n",
        "print(y)"
      ]
    },
    {
      "cell_type": "code",
      "execution_count": null,
      "metadata": {
        "colab": {
          "base_uri": "https://localhost:8080/"
        },
        "id": "lA5HIlS9Qo1t",
        "outputId": "404e856d-fb0b-4241-c182-26121e29fbb2"
      },
      "outputs": [
        {
          "name": "stdout",
          "output_type": "stream",
          "text": [
            "tensor([[ 3., 12.],\n",
            "        [27., 48.]])\n"
          ]
        }
      ],
      "source": [
        "y.backward() # compute gradient of y wrt a \"y must be a scale value\"\n",
        "print(a.grad.data) # print dy/da_ij\n",
        "\n",
        "'''\n",
        "a = [[1.0,2.0],\n",
        "     [3.0,4.0]]\n",
        "\n",
        "y = [1**3 , 2**3 , 3**3 , 4**3]\n",
        "\n",
        "sum(y) = 100\n",
        "\n",
        "Autograd:-\n",
        "\"requires_grad=True store all operation we did\"\n",
        "y = [1**3 , 2**3 , 3**3 , 4**3]\n",
        "\n",
        "dy/da_ij = [3*1**2 , 3*2**2 , 3*3**2 , 3*4**2]\n",
        "dy/da_ij = a.grad = [[ 3., 12.],\n",
        "                     [27., 48.]]\n",
        "'''"
      ]
    },
    {
      "cell_type": "markdown",
      "metadata": {
        "id": "PGDEnVbKS5q5"
      },
      "source": [
        "<h1>Simple Neaural Network Feedforward:<h1>"
      ]
    },
    {
      "cell_type": "code",
      "execution_count": null,
      "metadata": {
        "colab": {
          "base_uri": "https://localhost:8080/"
        },
        "id": "sSptgFp3Q9FX",
        "outputId": "52b3c00e-6599-4c23-ac60-27f382931e18"
      },
      "outputs": [
        {
          "data": {
            "text/plain": [
              "<torch._C.Generator at 0x7fddc2e08b10>"
            ]
          },
          "execution_count": 43,
          "metadata": {},
          "output_type": "execute_result"
        }
      ],
      "source": [
        "torch.manual_seed(5) # same random values every run"
      ]
    },
    {
      "cell_type": "code",
      "execution_count": null,
      "metadata": {
        "id": "dwQ8ie06T4-c"
      },
      "outputs": [],
      "source": [
        "x = torch.randn(3,5)\n",
        "w = torch.rand_like(x) # random values with x shape\n",
        "b = torch.randn(1,1)"
      ]
    },
    {
      "cell_type": "code",
      "execution_count": null,
      "metadata": {
        "id": "5ErpLk50UZLm"
      },
      "outputs": [],
      "source": [
        "def sigmoid(x):\n",
        "  return 1/1+torch.exp(-x)"
      ]
    },
    {
      "cell_type": "code",
      "execution_count": null,
      "metadata": {
        "colab": {
          "base_uri": "https://localhost:8080/"
        },
        "id": "AgvmYyxfUax0",
        "outputId": "df921352-2b39-45b6-d716-905a3d6edd8f"
      },
      "outputs": [
        {
          "data": {
            "text/plain": [
              "(torch.Size([3, 5]), torch.Size([3, 5]))"
            ]
          },
          "execution_count": 50,
          "metadata": {},
          "output_type": "execute_result"
        }
      ],
      "source": [
        "w.shape,x.shape"
      ]
    },
    {
      "cell_type": "code",
      "execution_count": null,
      "metadata": {
        "colab": {
          "base_uri": "https://localhost:8080/"
        },
        "id": "Ktg-dyH7Ud0j",
        "outputId": "2a955f46-28a8-4983-9bea-1b65b1a792d0"
      },
      "outputs": [
        {
          "name": "stdout",
          "output_type": "stream",
          "text": [
            "tensor([[-0.2833, -1.2427, -1.6905],\n",
            "        [-0.0105, -1.4191, -2.0373],\n",
            "        [ 0.2523, -0.4974, -1.4267]])\n"
          ]
        }
      ],
      "source": [
        "# x*w+b\n",
        "# h = torch.dot(w,x) + b  # error dot func. work with 1D array only\n",
        "\n",
        "h = torch.mm(w,x.T) + b\n",
        "print(h)"
      ]
    },
    {
      "cell_type": "markdown",
      "metadata": {
        "id": "jicNL6i1U4rn"
      },
      "source": [
        "<h1>Pytorch Broadcasting<h1>"
      ]
    },
    {
      "cell_type": "code",
      "execution_count": null,
      "metadata": {
        "colab": {
          "base_uri": "https://localhost:8080/"
        },
        "id": "hxbZl17GUzrS",
        "outputId": "d6da7f68-7ea3-4c85-934a-66ee2858c6d4"
      },
      "outputs": [
        {
          "name": "stdout",
          "output_type": "stream",
          "text": [
            "tensor([[2, 3, 4],\n",
            "        [6, 7, 8]])\n",
            "tensor([[1, 2, 3],\n",
            "        [4, 5, 6]])\n",
            "tensor([[1],\n",
            "        [2]])\n"
          ]
        }
      ],
      "source": [
        "a = torch.tensor([[1,2,3],\n",
        "                  [4,5,6]])\n",
        "b = torch.tensor([[1],\n",
        "                  [2]])\n",
        "z = a+b\n",
        "print(z)\n",
        "print(a)\n",
        "print(b)\n",
        "\n",
        "'''\n",
        "[1]   +  [1,2,3]\n",
        "[2]      [4,5,6]\n",
        "\n",
        "=\n",
        "[[1+1,2+1,3+1],\n",
        " [4+2,5+2,6+2]]\n",
        "'''"
      ]
    },
    {
      "cell_type": "markdown",
      "metadata": {
        "id": "Te8PIYGwOgET"
      },
      "source": [
        "<h1>Pytorch Dataset and Dataloaders:<h1>\n",
        "We ideally want our dataset preparation code to be decoupled from our model training code for better readability and modularity.\n",
        "\n",
        "PyTorch provides two data primitives which helps us to do this with ease:\n",
        "\n",
        "torch.utils.data.DataLoader\n",
        "torch.utils.data.Dataset\n",
        "\n",
        "What is Dataset?\n",
        "Dataset stores the samples and their corresponding labels (optionally)\n",
        "\n",
        "What is DataLoader?\n",
        "DataLoader wraps an iterable around the Dataset to enable easy access to the samples."
      ]
    },
    {
      "cell_type": "code",
      "execution_count": 4,
      "metadata": {
        "colab": {
          "base_uri": "https://localhost:8080/"
        },
        "id": "nU8OolXuVKH6",
        "outputId": "ce5a9618-8afb-4c67-ed1f-7cda80151f3f"
      },
      "outputs": [
        {
          "data": {
            "text/plain": [
              "tensor([ 0.,  1.,  2.,  3.,  4.,  5.,  6.,  7.,  8.,  9., 10., 11.],\n",
              "       dtype=torch.float16)"
            ]
          },
          "execution_count": 4,
          "metadata": {},
          "output_type": "execute_result"
        }
      ],
      "source": [
        "import torch\n",
        "from torch.utils.data import Dataset, DataLoader, TensorDataset\n",
        "\n",
        "x = torch.arange(12,dtype=torch.float16)\n",
        "x"
      ]
    },
    {
      "cell_type": "code",
      "execution_count": 5,
      "metadata": {
        "colab": {
          "base_uri": "https://localhost:8080/"
        },
        "id": "yGGsxDb7RyHa",
        "outputId": "bb19d2c9-491a-4c8c-ad23-ecd2ea3dce2e"
      },
      "outputs": [
        {
          "name": "stdout",
          "output_type": "stream",
          "text": [
            "tensor([0.], dtype=torch.float16)\n",
            "tensor([1.], dtype=torch.float16)\n",
            "tensor([2.], dtype=torch.float16)\n",
            "tensor([3.], dtype=torch.float16)\n",
            "tensor([4.], dtype=torch.float16)\n",
            "tensor([5.], dtype=torch.float16)\n",
            "tensor([6.], dtype=torch.float16)\n",
            "tensor([7.], dtype=torch.float16)\n",
            "tensor([8.], dtype=torch.float16)\n",
            "tensor([9.], dtype=torch.float16)\n",
            "tensor([10.], dtype=torch.float16)\n",
            "tensor([11.], dtype=torch.float16)\n"
          ]
        }
      ],
      "source": [
        "dataLoder = DataLoader(x)\n",
        "for item in dataLoder:\n",
        "  print(item)"
      ]
    },
    {
      "cell_type": "code",
      "execution_count": 6,
      "metadata": {
        "colab": {
          "base_uri": "https://localhost:8080/"
        },
        "id": "S9cnTXN1SQRq",
        "outputId": "1822ea1c-2ad7-4bc8-f4b6-4a223f77a639"
      },
      "outputs": [
        {
          "name": "stdout",
          "output_type": "stream",
          "text": [
            "tensor([ 6., 10.,  0.], dtype=torch.float16)\n",
            "tensor([1., 8., 7.], dtype=torch.float16)\n",
            "tensor([2., 9., 4.], dtype=torch.float16)\n",
            "tensor([11.,  5.,  3.], dtype=torch.float16)\n"
          ]
        }
      ],
      "source": [
        "dataLoder = DataLoader(x,batch_size=3,shuffle=True)\n",
        "for item in dataLoder:\n",
        "  print(item)"
      ]
    },
    {
      "cell_type": "markdown",
      "metadata": {
        "id": "uw_UUtfUSbq0"
      },
      "source": [
        "<h2>Data with input&output<h2>"
      ]
    },
    {
      "cell_type": "markdown",
      "metadata": {
        "id": "IQuatapeTDah"
      },
      "source": [
        "<h3>TensorDataset<h3>"
      ]
    },
    {
      "cell_type": "code",
      "execution_count": 7,
      "metadata": {
        "id": "fVxj_sWhSWoC"
      },
      "outputs": [],
      "source": [
        "from sklearn.datasets import make_classification\n",
        "X,y = make_classification(n_samples=10)"
      ]
    },
    {
      "cell_type": "code",
      "execution_count": 9,
      "metadata": {
        "colab": {
          "base_uri": "https://localhost:8080/"
        },
        "id": "-XiJ19dzSmPt",
        "outputId": "6e1e3c3e-8d36-416a-ada6-66d844722065"
      },
      "outputs": [
        {
          "data": {
            "text/plain": [
              "((10, 20), (10,))"
            ]
          },
          "execution_count": 9,
          "metadata": {},
          "output_type": "execute_result"
        }
      ],
      "source": [
        "X.shape,y.shape"
      ]
    },
    {
      "cell_type": "code",
      "execution_count": 13,
      "metadata": {
        "colab": {
          "base_uri": "https://localhost:8080/"
        },
        "id": "5fDRBMzySoEJ",
        "outputId": "1d9d01bc-25c7-4a4d-e02d-ce5285cc2f84"
      },
      "outputs": [
        {
          "name": "stdout",
          "output_type": "stream",
          "text": [
            "Batch: 0 \n",
            " X: tensor([[-0.3206,  0.9559, -1.2441, -0.3008, -0.2937,  0.9566, -0.3012, -0.0625,\n",
            "         -0.7609,  0.1129, -0.7771, -1.5993,  0.8045, -1.8477, -1.1654, -1.3536,\n",
            "         -0.7211, -0.2667,  0.1346, -0.5812],\n",
            "        [-0.5241,  1.1643,  0.5421, -0.2973,  0.3638,  1.3514,  2.0819, -1.5246,\n",
            "          0.9299,  0.3867, -1.2962,  0.7661, -1.8070, -0.4166, -0.4724,  1.8937,\n",
            "         -0.9993,  1.0828, -0.3907, -0.3249],\n",
            "        [-0.0210,  0.3220, -1.3694,  0.3390,  0.0448, -0.4181, -0.2536, -0.6808,\n",
            "         -0.5340,  0.3453,  1.3144,  0.8984, -0.5238, -0.9109, -0.0569, -0.4063,\n",
            "          0.5320, -2.2672, -0.0203, -1.7225],\n",
            "        [-1.2022, -0.1860, -1.8094,  0.0212,  0.4221, -0.2995, -0.0577,  0.8133,\n",
            "         -0.1584,  0.8549, -0.3459, -0.3330,  1.1024,  0.1859,  0.4311,  1.2836,\n",
            "         -0.7034, -1.0254, -0.3305, -0.2994],\n",
            "        [-0.2517,  0.0665, -0.4296,  0.9057,  0.3089, -1.3778, -0.1890,  0.2238,\n",
            "          2.2169,  1.8454,  0.7807,  2.6279, -1.3051, -1.0137, -0.2341, -0.7435,\n",
            "          0.8566,  0.9528, -1.3297,  0.1452]], dtype=torch.float64) , \n",
            " y: tensor([0, 1, 0, 0, 0])\n",
            "Batch: 1 \n",
            " X: tensor([[-0.4301, -0.1878,  1.5748,  0.7601,  1.8946, -0.0427, -1.8831, -1.2712,\n",
            "         -0.3124, -1.0721,  3.3963,  0.5880,  0.5979,  0.0075, -0.1491, -0.9672,\n",
            "          0.4846, -0.2990,  0.5375,  0.4796],\n",
            "        [ 0.6219,  0.5215, -1.1950,  0.5263, -0.4638,  1.3393, -0.8863,  1.0052,\n",
            "         -0.6871,  0.1403, -0.4259,  0.2784, -0.2569,  0.3273,  1.7398, -0.8214,\n",
            "         -1.2863, -0.2828,  0.1050,  0.3689],\n",
            "        [ 1.2314,  1.0264,  0.0340,  0.7531, -0.9304, -0.5050,  0.3749,  1.1868,\n",
            "         -1.8398, -1.3585,  0.0414, -0.1378, -1.7293,  0.1489,  1.7329, -0.1951,\n",
            "         -0.8739, -0.3879,  1.0289, -1.0641],\n",
            "        [-1.3354, -0.4567,  1.0041, -0.2143, -1.6104, -0.8952, -0.8069,  0.1572,\n",
            "          0.8461,  0.0779, -1.0106,  1.4679, -0.1644, -0.8772,  0.6624, -0.2067,\n",
            "          1.9886,  0.6433, -0.2374, -0.1384],\n",
            "        [ 0.4698, -0.7860,  1.6354, -0.9471,  0.8362, -0.2867,  0.5988,  0.7819,\n",
            "         -0.8196, -1.4741,  0.1926,  0.0320, -0.0149,  1.8127,  0.7833, -0.1201,\n",
            "         -0.7205, -0.5957,  0.8330,  0.1355]], dtype=torch.float64) , \n",
            " y: tensor([1, 0, 1, 1, 1])\n"
          ]
        }
      ],
      "source": [
        "dataSet = TensorDataset(torch.tensor(X),torch.tensor(y))\n",
        "dataLoder = DataLoader(dataSet,batch_size=5,shuffle=True)\n",
        "for i ,batch in enumerate(dataLoder):\n",
        "    print(f'Batch: {i} \\n X: {batch[0]} , \\n y: {batch[1]}')"
      ]
    },
    {
      "cell_type": "markdown",
      "metadata": {
        "id": "I2Wj6apGTMrU"
      },
      "source": [
        "<h3>Custom Dataset class<h3>\n",
        "The reason you may want to use Custom Dataset class:\n",
        "\n",
        "There are some special handling before you can get the data sample.\n",
        "\n",
        "Data should be read from database or disk and you only want to keep a few samples in memory rather than prefetch everything.\n",
        "\n",
        "Do augmentation that is common in image tasks.\n",
        "\n",
        "In PyTorch DataLoader expects its first argument can work with len() and with array index."
      ]
    },
    {
      "cell_type": "code",
      "execution_count": 14,
      "metadata": {
        "colab": {
          "base_uri": "https://localhost:8080/"
        },
        "id": "ZaLtjW6SSzIH",
        "outputId": "a08c666e-c692-4a28-f5d2-a2aa16a7c783"
      },
      "outputs": [
        {
          "name": "stdout",
          "output_type": "stream",
          "text": [
            "Batch: 0 \n",
            " X: tensor([[ 1.2314,  1.0264,  0.0340,  0.7531, -0.9304, -0.5050,  0.3749,  1.1868,\n",
            "         -1.8398, -1.3585,  0.0414, -0.1378, -1.7293,  0.1489,  1.7329, -0.1951,\n",
            "         -0.8739, -0.3879,  1.0289, -1.0641],\n",
            "        [-0.5241,  1.1643,  0.5421, -0.2973,  0.3638,  1.3514,  2.0819, -1.5246,\n",
            "          0.9299,  0.3867, -1.2962,  0.7661, -1.8070, -0.4166, -0.4724,  1.8937,\n",
            "         -0.9993,  1.0828, -0.3907, -0.3249],\n",
            "        [-1.3354, -0.4567,  1.0041, -0.2143, -1.6104, -0.8952, -0.8069,  0.1572,\n",
            "          0.8461,  0.0779, -1.0106,  1.4679, -0.1644, -0.8772,  0.6624, -0.2067,\n",
            "          1.9886,  0.6433, -0.2374, -0.1384],\n",
            "        [-0.4301, -0.1878,  1.5748,  0.7601,  1.8946, -0.0427, -1.8831, -1.2712,\n",
            "         -0.3124, -1.0721,  3.3963,  0.5880,  0.5979,  0.0075, -0.1491, -0.9672,\n",
            "          0.4846, -0.2990,  0.5375,  0.4796],\n",
            "        [ 0.4698, -0.7860,  1.6354, -0.9471,  0.8362, -0.2867,  0.5988,  0.7819,\n",
            "         -0.8196, -1.4741,  0.1926,  0.0320, -0.0149,  1.8127,  0.7833, -0.1201,\n",
            "         -0.7205, -0.5957,  0.8330,  0.1355]]) , \n",
            " y: tensor([1., 1., 1., 1., 1.])\n",
            "Batch: 1 \n",
            " X: tensor([[-0.3206,  0.9559, -1.2441, -0.3008, -0.2937,  0.9566, -0.3012, -0.0625,\n",
            "         -0.7609,  0.1129, -0.7771, -1.5993,  0.8045, -1.8477, -1.1654, -1.3536,\n",
            "         -0.7211, -0.2667,  0.1346, -0.5812],\n",
            "        [-0.2517,  0.0665, -0.4296,  0.9057,  0.3089, -1.3778, -0.1890,  0.2238,\n",
            "          2.2169,  1.8454,  0.7807,  2.6279, -1.3051, -1.0137, -0.2341, -0.7435,\n",
            "          0.8566,  0.9528, -1.3297,  0.1452],\n",
            "        [ 0.6219,  0.5215, -1.1950,  0.5263, -0.4638,  1.3393, -0.8863,  1.0052,\n",
            "         -0.6871,  0.1403, -0.4259,  0.2784, -0.2569,  0.3273,  1.7398, -0.8214,\n",
            "         -1.2863, -0.2828,  0.1050,  0.3689],\n",
            "        [-0.0210,  0.3220, -1.3694,  0.3390,  0.0448, -0.4181, -0.2536, -0.6808,\n",
            "         -0.5340,  0.3453,  1.3144,  0.8984, -0.5238, -0.9109, -0.0569, -0.4063,\n",
            "          0.5320, -2.2672, -0.0203, -1.7225],\n",
            "        [-1.2022, -0.1860, -1.8094,  0.0212,  0.4221, -0.2995, -0.0577,  0.8133,\n",
            "         -0.1584,  0.8549, -0.3459, -0.3330,  1.1024,  0.1859,  0.4311,  1.2836,\n",
            "         -0.7034, -1.0254, -0.3305, -0.2994]]) , \n",
            " y: tensor([0., 0., 0., 0., 0.])\n"
          ]
        }
      ],
      "source": [
        "class CustomDataSet(Dataset):\n",
        "  def __init__(self,x,y):\n",
        "    self.x = torch.tensor(x,dtype=torch.float32)\n",
        "    self.y = torch.tensor(y,dtype=torch.float32)\n",
        "\n",
        "  def __len__(self):\n",
        "    return len(self.x)\n",
        "\n",
        "  def __getitem__(self,idx):\n",
        "    return self.x[idx],self.y[idx]\n",
        "\n",
        "dataSet = CustomDataSet(X,y)\n",
        "dataLoder = DataLoader(dataSet,batch_size=5,shuffle=True)\n",
        "for i ,batch in enumerate(dataLoder):\n",
        "    print(f'Batch: {i} \\n X: {batch[0]} , \\n y: {batch[1]}')"
      ]
    },
    {
      "cell_type": "code",
      "execution_count": null,
      "metadata": {
        "id": "3UTadtlKT-9N"
      },
      "outputs": [],
      "source": []
    }
  ],
  "metadata": {
    "colab": {
      "provenance": []
    },
    "kernelspec": {
      "display_name": "Python 3",
      "name": "python3"
    },
    "language_info": {
      "name": "python"
    }
  },
  "nbformat": 4,
  "nbformat_minor": 0
}
