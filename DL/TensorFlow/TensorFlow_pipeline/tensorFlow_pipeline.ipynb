{
  "nbformat": 4,
  "nbformat_minor": 0,
  "metadata": {
    "colab": {
      "provenance": []
    },
    "kernelspec": {
      "name": "python3",
      "display_name": "Python 3"
    },
    "language_info": {
      "name": "python"
    }
  },
  "cells": [
    {
      "cell_type": "code",
      "execution_count": 52,
      "metadata": {
        "colab": {
          "base_uri": "https://localhost:8080/"
        },
        "id": "kCC5sUAinBKi",
        "outputId": "5b08c241-9657-485c-8258-03f10d79b284"
      },
      "outputs": [
        {
          "output_type": "stream",
          "name": "stdout",
          "text": [
            "Drive already mounted at /content/drive; to attempt to forcibly remount, call drive.mount(\"/content/drive\", force_remount=True).\n"
          ]
        }
      ],
      "source": [
        "import numpy as np\n",
        "import warnings\n",
        "from google.colab import drive\n",
        "drive.mount('/content/drive')\n",
        "warnings.filterwarnings(\"ignore\")"
      ]
    },
    {
      "cell_type": "markdown",
      "source": [
        "#daily_sales_numbers"
      ],
      "metadata": {
        "id": "3HVLLdLFtseJ"
      }
    },
    {
      "cell_type": "code",
      "source": [
        "import tensorflow as tf\n",
        "daily_sales_numbers = [21, 22, -108, 31, -1, 32, 34,31]\n",
        "\n",
        "# convert to tensorflow dataset\n",
        "tf_dataset = tf.data.Dataset.from_tensor_slices(daily_sales_numbers)\n",
        "tf_dataset"
      ],
      "metadata": {
        "colab": {
          "base_uri": "https://localhost:8080/"
        },
        "id": "NNwduRtLr2mw",
        "outputId": "eb91eea0-aa31-4954-9b24-93801ea247e4"
      },
      "execution_count": 53,
      "outputs": [
        {
          "output_type": "execute_result",
          "data": {
            "text/plain": [
              "<_TensorSliceDataset element_spec=TensorSpec(shape=(), dtype=tf.int32, name=None)>"
            ]
          },
          "metadata": {},
          "execution_count": 53
        }
      ]
    },
    {
      "cell_type": "code",
      "source": [
        "# iterate throw data\n",
        "\n",
        "for sales in tf_dataset:\n",
        "  print(sales.numpy())\n",
        "\n",
        "print('*'*50)\n",
        "\n",
        "for sales in tf_dataset.as_numpy_iterator():\n",
        "  print(sales)"
      ],
      "metadata": {
        "colab": {
          "base_uri": "https://localhost:8080/"
        },
        "id": "9xHT84lwsaIc",
        "outputId": "29506117-0401-4468-9175-b8b15059b288"
      },
      "execution_count": 54,
      "outputs": [
        {
          "output_type": "stream",
          "name": "stdout",
          "text": [
            "21\n",
            "22\n",
            "-108\n",
            "31\n",
            "-1\n",
            "32\n",
            "34\n",
            "31\n",
            "**************************************************\n",
            "21\n",
            "22\n",
            "-108\n",
            "31\n",
            "-1\n",
            "32\n",
            "34\n",
            "31\n"
          ]
        }
      ]
    },
    {
      "cell_type": "code",
      "source": [
        "# first n element\n",
        "for sales in tf_dataset.take(3):\n",
        "  print(sales.numpy())"
      ],
      "metadata": {
        "colab": {
          "base_uri": "https://localhost:8080/"
        },
        "id": "pNSoM6tVsqpN",
        "outputId": "869a2cf3-c62e-4c73-cbd6-a91ec77dac80"
      },
      "execution_count": 55,
      "outputs": [
        {
          "output_type": "stream",
          "name": "stdout",
          "text": [
            "21\n",
            "22\n",
            "-108\n"
          ]
        }
      ]
    },
    {
      "cell_type": "code",
      "source": [
        "# filter sales\n",
        "tf_dataset = tf_dataset.filter(lambda x: x>0)\n",
        "\n",
        "for sales in tf_dataset.as_numpy_iterator():\n",
        "  print(sales)"
      ],
      "metadata": {
        "colab": {
          "base_uri": "https://localhost:8080/"
        },
        "id": "TM-DfTF4s46N",
        "outputId": "495bbbde-af07-4f6b-fb72-ccd663e54ad0"
      },
      "execution_count": 56,
      "outputs": [
        {
          "output_type": "stream",
          "name": "stdout",
          "text": [
            "21\n",
            "22\n",
            "31\n",
            "32\n",
            "34\n",
            "31\n"
          ]
        }
      ]
    },
    {
      "cell_type": "code",
      "source": [
        "# shuffle\n",
        "tf_dataset = tf_dataset.shuffle(3)\n",
        "\n",
        "for sales in tf_dataset.as_numpy_iterator():\n",
        "  print(sales)"
      ],
      "metadata": {
        "colab": {
          "base_uri": "https://localhost:8080/"
        },
        "id": "OyMg1RogtJmB",
        "outputId": "2f0f2a8e-7fd5-483b-eba5-06102c75eb2d"
      },
      "execution_count": 57,
      "outputs": [
        {
          "output_type": "stream",
          "name": "stdout",
          "text": [
            "21\n",
            "31\n",
            "34\n",
            "32\n",
            "31\n",
            "22\n"
          ]
        }
      ]
    },
    {
      "cell_type": "code",
      "source": [
        "# Batch\n",
        "tf_dataset = tf_dataset.batch(2)\n",
        "\n",
        "for sales in tf_dataset.as_numpy_iterator():\n",
        "  print(sales)"
      ],
      "metadata": {
        "colab": {
          "base_uri": "https://localhost:8080/"
        },
        "id": "QbUWPpW2tUjS",
        "outputId": "36ddb753-6274-4f96-c382-74f1927bd461"
      },
      "execution_count": 58,
      "outputs": [
        {
          "output_type": "stream",
          "name": "stdout",
          "text": [
            "[21 22]\n",
            "[34 31]\n",
            "[32 31]\n"
          ]
        }
      ]
    },
    {
      "cell_type": "code",
      "source": [
        "# in one line\n",
        "tf_dataset = tf.data.Dataset.from_tensor_slices(daily_sales_numbers)\n",
        "tf_dataset = tf_dataset.filter(lambda x: x>0).shuffle(2).batch(2)\n",
        "\n",
        "for sales in tf_dataset.as_numpy_iterator():\n",
        "  print(sales)"
      ],
      "metadata": {
        "colab": {
          "base_uri": "https://localhost:8080/"
        },
        "id": "OBb4fojmteiY",
        "outputId": "00d3424c-8109-4b40-f4b5-0cc6c040ebf0"
      },
      "execution_count": 59,
      "outputs": [
        {
          "output_type": "stream",
          "name": "stdout",
          "text": [
            "[21 31]\n",
            "[22 34]\n",
            "[31 32]\n"
          ]
        }
      ]
    },
    {
      "cell_type": "markdown",
      "source": [
        "#images"
      ],
      "metadata": {
        "id": "tPx0pgeetwaB"
      }
    },
    {
      "cell_type": "code",
      "source": [
        "imgs_dataset = tf.data.Dataset.list_files('/content/drive/MyDrive/image_classification/test/*/*', shuffle=False)\n",
        "\n",
        "len_imgs = len(imgs_dataset)\n",
        "len_imgs"
      ],
      "metadata": {
        "colab": {
          "base_uri": "https://localhost:8080/"
        },
        "id": "K-GlvGrQto6X",
        "outputId": "c2cfd7c0-bfb3-4767-b476-24b43546f75b"
      },
      "execution_count": 60,
      "outputs": [
        {
          "output_type": "execute_result",
          "data": {
            "text/plain": [
              "140"
            ]
          },
          "metadata": {},
          "execution_count": 60
        }
      ]
    },
    {
      "cell_type": "code",
      "source": [
        "print(type(imgs_dataset))"
      ],
      "metadata": {
        "colab": {
          "base_uri": "https://localhost:8080/"
        },
        "id": "5lYTMvLQuLId",
        "outputId": "ee939c2d-ca9b-4df8-8dda-9177c87596fc"
      },
      "execution_count": 61,
      "outputs": [
        {
          "output_type": "stream",
          "name": "stdout",
          "text": [
            "<class 'tensorflow.python.data.ops.from_tensor_slices_op._TensorSliceDataset'>\n"
          ]
        }
      ]
    },
    {
      "cell_type": "code",
      "source": [
        "for img in imgs_dataset.take(5):\n",
        "  print(img)"
      ],
      "metadata": {
        "colab": {
          "base_uri": "https://localhost:8080/"
        },
        "id": "j62MEghsuWTG",
        "outputId": "86fd0f72-7ccb-4f61-a370-c659d6087190"
      },
      "execution_count": 62,
      "outputs": [
        {
          "output_type": "stream",
          "name": "stdout",
          "text": [
            "tf.Tensor(b'/content/drive/MyDrive/image_classification/test/cats/cat_1.jpg', shape=(), dtype=string)\n",
            "tf.Tensor(b'/content/drive/MyDrive/image_classification/test/cats/cat_106.jpg', shape=(), dtype=string)\n",
            "tf.Tensor(b'/content/drive/MyDrive/image_classification/test/cats/cat_109.jpg', shape=(), dtype=string)\n",
            "tf.Tensor(b'/content/drive/MyDrive/image_classification/test/cats/cat_113.jpg', shape=(), dtype=string)\n",
            "tf.Tensor(b'/content/drive/MyDrive/image_classification/test/cats/cat_114.jpg', shape=(), dtype=string)\n"
          ]
        }
      ]
    },
    {
      "cell_type": "code",
      "source": [
        "imgs_dataset = imgs_dataset.shuffle(200)\n",
        "\n",
        "for img in imgs_dataset.take(5):\n",
        "  print(img)"
      ],
      "metadata": {
        "colab": {
          "base_uri": "https://localhost:8080/"
        },
        "id": "RtTEsS4TuiZ0",
        "outputId": "f5de962d-573a-4049-ede2-d17ae8fc0395"
      },
      "execution_count": 63,
      "outputs": [
        {
          "output_type": "stream",
          "name": "stdout",
          "text": [
            "tf.Tensor(b'/content/drive/MyDrive/image_classification/test/dogs/dog_519.jpg', shape=(), dtype=string)\n",
            "tf.Tensor(b'/content/drive/MyDrive/image_classification/test/dogs/dog_75.jpg', shape=(), dtype=string)\n",
            "tf.Tensor(b'/content/drive/MyDrive/image_classification/test/dogs/dog_168.jpg', shape=(), dtype=string)\n",
            "tf.Tensor(b'/content/drive/MyDrive/image_classification/test/cats/cat_585.jpg', shape=(), dtype=string)\n",
            "tf.Tensor(b'/content/drive/MyDrive/image_classification/test/dogs/dog_196.jpg', shape=(), dtype=string)\n"
          ]
        }
      ]
    },
    {
      "cell_type": "code",
      "source": [
        "class_name = ['cat', 'dog']"
      ],
      "metadata": {
        "id": "_aoMgMLBusLV"
      },
      "execution_count": 64,
      "outputs": []
    },
    {
      "cell_type": "code",
      "source": [
        "train_size = int(len_imgs*0.8)\n",
        "train_dataset = imgs_dataset.take(train_size)\n",
        "test_dataset = imgs_dataset.skip(train_size)"
      ],
      "metadata": {
        "id": "i9PwaGZz0L_w"
      },
      "execution_count": 65,
      "outputs": []
    },
    {
      "cell_type": "code",
      "source": [
        "len(train_dataset), len(test_dataset)"
      ],
      "metadata": {
        "colab": {
          "base_uri": "https://localhost:8080/"
        },
        "id": "pRss9i4u0YQu",
        "outputId": "b7c9d982-9e71-4fbd-bb85-aa51100f8515"
      },
      "execution_count": 66,
      "outputs": [
        {
          "output_type": "execute_result",
          "data": {
            "text/plain": [
              "(112, 28)"
            ]
          },
          "metadata": {},
          "execution_count": 66
        }
      ]
    },
    {
      "cell_type": "code",
      "source": [
        "def get_lable(img_path):\n",
        "  return \"cat\" if tf.strings.split(img_path,'/')[-2] == \"cats\" else \"dog\"\n",
        "\n",
        "get_lable('/content/drive/MyDrive/image_classification/test/cats/cat_528.jpg')"
      ],
      "metadata": {
        "colab": {
          "base_uri": "https://localhost:8080/",
          "height": 35
        },
        "id": "29y_lDK30Zne",
        "outputId": "9eeac881-99e0-417f-a19c-4e1c14704dd5"
      },
      "execution_count": 67,
      "outputs": [
        {
          "output_type": "execute_result",
          "data": {
            "text/plain": [
              "'cat'"
            ],
            "application/vnd.google.colaboratory.intrinsic+json": {
              "type": "string"
            }
          },
          "metadata": {},
          "execution_count": 67
        }
      ]
    },
    {
      "cell_type": "code",
      "source": [
        "def process_img(img_path):\n",
        "  lable = get_lable(img_path)\n",
        "  img = tf.io.read_file(img_path)\n",
        "  img = tf.image.decode_jpeg(img)\n",
        "  img = tf.image.resize(img, [128, 128])\n",
        "  return img, lable"
      ],
      "metadata": {
        "id": "38tLMhG708HR"
      },
      "execution_count": 68,
      "outputs": []
    },
    {
      "cell_type": "code",
      "source": [
        "img, lable = process_img('/content/drive/MyDrive/image_classification/test/cats/cat_528.jpg')\n",
        "img.numpy()"
      ],
      "metadata": {
        "colab": {
          "base_uri": "https://localhost:8080/"
        },
        "id": "4GtGVPKb1aq7",
        "outputId": "4b6f3824-887c-485f-f079-3a0f2718d04f"
      },
      "execution_count": 69,
      "outputs": [
        {
          "output_type": "execute_result",
          "data": {
            "text/plain": [
              "array([[[ 50.34375 ,  34.34375 ,  18.34375 ],\n",
              "        [ 51.971558,  36.065308,  20.034058],\n",
              "        [ 60.59375 ,  45.4375  ,  29.15625 ],\n",
              "        ...,\n",
              "        [ 80.      ,  74.      ,  48.5625  ],\n",
              "        [ 79.      ,  73.      ,  49.      ],\n",
              "        [ 78.      ,  74.      ,  49.      ]],\n",
              "\n",
              "       [[ 50.34375 ,  34.34375 ,  18.34375 ],\n",
              "        [ 54.04297 ,  38.13672 ,  22.105469],\n",
              "        [ 60.904663,  45.748413,  29.467163],\n",
              "        ...,\n",
              "        [ 80.02966 ,  74.02966 ,  48.592163],\n",
              "        [ 79.003296,  73.003296,  49.003296],\n",
              "        [ 77.89453 ,  73.89453 ,  48.89453 ]],\n",
              "\n",
              "       [[ 50.34375 ,  34.34375 ,  18.34375 ],\n",
              "        [ 54.9375  ,  39.03125 ,  23.      ],\n",
              "        [ 61.15625 ,  46.      ,  29.71875 ],\n",
              "        ...,\n",
              "        [ 79.48694 ,  73.48694 ,  48.04944 ],\n",
              "        [ 79.03125 ,  73.03125 ,  49.03125 ],\n",
              "        [ 77.      ,  73.      ,  48.      ]],\n",
              "\n",
              "       ...,\n",
              "\n",
              "       [[178.6875  , 178.6875  , 170.6875  ],\n",
              "        [185.53284 , 185.53284 , 177.53284 ],\n",
              "        [180.89453 , 180.89453 , 172.89453 ],\n",
              "        ...,\n",
              "        [137.26172 , 132.26172 , 110.26172 ],\n",
              "        [135.      , 130.      , 108.      ],\n",
              "        [142.48047 , 137.48047 , 115.48047 ]],\n",
              "\n",
              "       [[184.      , 181.      , 172.      ],\n",
              "        [184.01501 , 181.10876 , 172.07751 ],\n",
              "        [187.26172 , 185.10547 , 175.82422 ],\n",
              "        ...,\n",
              "        [140.89453 , 135.45703 , 109.88989 ],\n",
              "        [135.89453 , 131.89453 , 106.89453 ],\n",
              "        [143.58704 , 139.58704 , 114.587036]],\n",
              "\n",
              "       [[177.72656 , 174.72656 , 165.72656 ],\n",
              "        [179.92969 , 177.02344 , 167.99219 ],\n",
              "        [183.30652 , 181.15027 , 171.86902 ],\n",
              "        ...,\n",
              "        [143.30652 , 137.86902 , 112.15027 ],\n",
              "        [141.03125 , 137.03125 , 112.03125 ],\n",
              "        [142.03516 , 138.03516 , 113.03516 ]]], dtype=float32)"
            ]
          },
          "metadata": {},
          "execution_count": 69
        }
      ]
    },
    {
      "cell_type": "code",
      "source": [
        "train_dataset = train_dataset.map(process_img)\n",
        "test_dataset = test_dataset.map(process_img)"
      ],
      "metadata": {
        "id": "fhiW87rk1p5p"
      },
      "execution_count": 70,
      "outputs": []
    },
    {
      "cell_type": "code",
      "source": [
        "for img, lable in train_dataset.take(1):\n",
        "  print(img)\n",
        "  print(lable)"
      ],
      "metadata": {
        "colab": {
          "base_uri": "https://localhost:8080/"
        },
        "id": "V_KSJ7q83CH1",
        "outputId": "ef325830-4a32-4fee-a787-99252d2bbf09"
      },
      "execution_count": 71,
      "outputs": [
        {
          "output_type": "stream",
          "name": "stdout",
          "text": [
            "tf.Tensor(\n",
            "[[[255. 255. 255.]\n",
            "  [255. 255. 255.]\n",
            "  [255. 255. 255.]\n",
            "  ...\n",
            "  [255. 255. 255.]\n",
            "  [255. 255. 255.]\n",
            "  [255. 255. 255.]]\n",
            "\n",
            " [[255. 255. 255.]\n",
            "  [255. 255. 255.]\n",
            "  [255. 255. 255.]\n",
            "  ...\n",
            "  [255. 255. 255.]\n",
            "  [255. 255. 255.]\n",
            "  [255. 255. 255.]]\n",
            "\n",
            " [[255. 255. 255.]\n",
            "  [255. 255. 255.]\n",
            "  [255. 255. 255.]\n",
            "  ...\n",
            "  [255. 255. 255.]\n",
            "  [255. 255. 255.]\n",
            "  [255. 255. 255.]]\n",
            "\n",
            " ...\n",
            "\n",
            " [[255. 255. 255.]\n",
            "  [255. 255. 255.]\n",
            "  [255. 255. 255.]\n",
            "  ...\n",
            "  [255. 255. 255.]\n",
            "  [255. 255. 255.]\n",
            "  [255. 255. 255.]]\n",
            "\n",
            " [[255. 255. 255.]\n",
            "  [255. 255. 255.]\n",
            "  [255. 255. 255.]\n",
            "  ...\n",
            "  [255. 255. 255.]\n",
            "  [255. 255. 255.]\n",
            "  [255. 255. 255.]]\n",
            "\n",
            " [[255. 255. 255.]\n",
            "  [255. 255. 255.]\n",
            "  [255. 255. 255.]\n",
            "  ...\n",
            "  [255. 255. 255.]\n",
            "  [255. 255. 255.]\n",
            "  [255. 255. 255.]]], shape=(128, 128, 3), dtype=float32)\n",
            "tf.Tensor(b'cat', shape=(), dtype=string)\n"
          ]
        }
      ]
    },
    {
      "cell_type": "code",
      "source": [
        "# scale\n",
        "def scale(image, label):\n",
        "    return image/255, label"
      ],
      "metadata": {
        "id": "jjJL_ba64mcR"
      },
      "execution_count": 72,
      "outputs": []
    },
    {
      "cell_type": "code",
      "source": [
        "train_dataset = train_dataset.map(scale)"
      ],
      "metadata": {
        "id": "ZXJNyZFk5Gbu"
      },
      "execution_count": 74,
      "outputs": []
    },
    {
      "cell_type": "code",
      "source": [
        "for image, label in train_dataset.take(1):\n",
        "    print(\"****Image: \",image.numpy())\n",
        "    print(\"****Label: \",label.numpy())"
      ],
      "metadata": {
        "colab": {
          "base_uri": "https://localhost:8080/"
        },
        "id": "2oW03TqS45AG",
        "outputId": "b074a852-e0af-4ed0-9de8-086546bb8cca"
      },
      "execution_count": 76,
      "outputs": [
        {
          "output_type": "stream",
          "name": "stdout",
          "text": [
            "****Image:  [[[3.49203438e-01 3.25674027e-01 2.75428921e-01]\n",
            "  [4.04532403e-01 3.73159856e-01 2.90557981e-01]\n",
            "  [4.40073520e-01 4.16544110e-01 2.84156710e-01]\n",
            "  ...\n",
            "  [7.22303927e-01 4.68995094e-01 1.46953508e-01]\n",
            "  [7.05390215e-01 4.78674561e-01 1.63233384e-01]\n",
            "  [6.86090708e-01 4.23345596e-01 1.17463239e-01]]\n",
            "\n",
            " [[3.90808821e-01 3.71200979e-01 2.91053921e-01]\n",
            "  [4.62745100e-01 4.36391324e-01 3.19374233e-01]\n",
            "  [4.93321091e-01 4.74396825e-01 3.07640165e-01]\n",
            "  ...\n",
            "  [7.26348042e-01 4.79289204e-01 1.14583336e-01]\n",
            "  [6.98039234e-01 4.35294122e-01 1.29105389e-01]\n",
            "  [6.86274529e-01 4.23529416e-01 1.17647059e-01]]\n",
            "\n",
            " [[4.08026963e-01 3.92340690e-01 2.94301480e-01]\n",
            "  [4.54779416e-01 4.31137025e-01 3.05985749e-01]\n",
            "  [5.00367641e-01 4.83787149e-01 3.09999228e-01]\n",
            "  ...\n",
            "  [7.55392134e-01 4.86397058e-01 1.29534319e-01]\n",
            "  [7.09926486e-01 4.55024511e-01 1.02083333e-01]\n",
            "  [6.91806436e-01 4.29061353e-01 1.23178996e-01]]\n",
            "\n",
            " ...\n",
            "\n",
            " [[4.07843143e-01 4.82352942e-01 1.72303915e-01]\n",
            "  [4.11887258e-01 4.86397058e-01 1.76593140e-01]\n",
            "  [4.11887258e-01 4.86397058e-01 1.76593140e-01]\n",
            "  ...\n",
            "  [0.00000000e+00 0.00000000e+00 0.00000000e+00]\n",
            "  [4.28921572e-04 9.57414250e-06 1.62377451e-02]\n",
            "  [8.16176459e-02 6.98529407e-02 4.74264696e-02]]\n",
            "\n",
            " [[4.00000006e-01 4.66666669e-01 1.92156866e-01]\n",
            "  [4.07843143e-01 4.82352942e-01 1.72549024e-01]\n",
            "  [3.93014699e-01 4.67524499e-01 1.57720596e-01]\n",
            "  ...\n",
            "  [0.00000000e+00 0.00000000e+00 0.00000000e+00]\n",
            "  [1.37580419e-02 2.15341598e-02 0.00000000e+00]\n",
            "  [3.71170342e-02 2.53523290e-02 3.85071989e-03]]\n",
            "\n",
            " [[3.85906875e-01 4.48651969e-01 2.01593131e-01]\n",
            "  [3.74142170e-01 4.60416675e-01 1.74142152e-01]\n",
            "  [3.54857922e-01 4.41132426e-01 1.54857919e-01]\n",
            "  ...\n",
            "  [3.98284337e-03 1.18259806e-02 0.00000000e+00]\n",
            "  [4.56495099e-02 4.56495099e-02 1.16364127e-02]\n",
            "  [1.25277653e-01 9.78266671e-02 6.82923570e-02]]]\n",
            "****Label:  b'cat'\n"
          ]
        }
      ]
    },
    {
      "cell_type": "code",
      "source": [],
      "metadata": {
        "id": "vvHVEGT548vY"
      },
      "execution_count": null,
      "outputs": []
    }
  ]
}