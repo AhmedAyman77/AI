{
  "cells": [
    {
      "cell_type": "code",
      "execution_count": 1,
      "metadata": {
        "colab": {
          "base_uri": "https://localhost:8080/"
        },
        "id": "6Jn28CujXkn4",
        "outputId": "2f099031-27a6-4e7f-e638-44b2aa8a066c"
      },
      "outputs": [
        {
          "name": "stdout",
          "output_type": "stream",
          "text": [
            "Mounted at /content/drive\n"
          ]
        }
      ],
      "source": [
        "import pandas as pd\n",
        "import numpy as np\n",
        "import matplotlib.pyplot as plt\n",
        "import seaborn as sns\n",
        "import tensorflow as tf\n",
        "import keras\n",
        "\n",
        "from keras.losses import BinaryCrossentropy\n",
        "from keras.optimizers import Adam\n",
        "from keras.metrics import Recall, Precision\n",
        "from sklearn.metrics import classification_report, confusion_matrix\n",
        "from keras.callbacks import ModelCheckpoint, EarlyStopping, ReduceLROnPlateau\n",
        "\n",
        "from google.colab import drive\n",
        "import warnings\n",
        "drive.mount('/content/drive')\n",
        "warnings.filterwarnings('ignore')"
      ]
    },
    {
      "cell_type": "code",
      "execution_count": 41,
      "metadata": {
        "colab": {
          "base_uri": "https://localhost:8080/"
        },
        "id": "iErGIPImZuLa",
        "outputId": "b2c6876b-4dd6-4e58-e673-f50fd9ca8cd7"
      },
      "outputs": [
        {
          "name": "stdout",
          "output_type": "stream",
          "text": [
            "Found 2376 files belonging to 2 classes.\n",
            "Using 1901 files for training.\n",
            "Found 2376 files belonging to 2 classes.\n",
            "Using 475 files for validation.\n",
            "Found 250 files belonging to 2 classes.\n"
          ]
        }
      ],
      "source": [
        "IMG_SIZE = 224\n",
        "BATCH_SIZE = 64\n",
        "\n",
        "\n",
        "\n",
        "train_data = tf.keras.preprocessing.image_dataset_from_directory(\n",
        "    directory='/content/drive/MyDrive/stroke_classification/Train',\n",
        "    validation_split=0.2,\n",
        "    subset='training',\n",
        "    seed=42,\n",
        "    image_size=(IMG_SIZE, IMG_SIZE),\n",
        "    batch_size=BATCH_SIZE\n",
        ")\n",
        "validation_data = tf.keras.preprocessing.image_dataset_from_directory(\n",
        "    directory='/content/drive/MyDrive/stroke_classification/Train',\n",
        "    validation_split=0.2,\n",
        "    subset='validation',\n",
        "    seed=42,\n",
        "    image_size=(IMG_SIZE, IMG_SIZE),\n",
        "    batch_size=BATCH_SIZE\n",
        ")\n",
        "test_data = tf.keras.preprocessing.image_dataset_from_directory(\n",
        "    directory='/content/drive/MyDrive/stroke_classification/Test',\n",
        "    seed=42,\n",
        "    image_size=(IMG_SIZE, IMG_SIZE),\n",
        "    batch_size=BATCH_SIZE,\n",
        "    shuffle=False\n",
        ")"
      ]
    },
    {
      "cell_type": "code",
      "execution_count": 3,
      "metadata": {
        "colab": {
          "base_uri": "https://localhost:8080/"
        },
        "id": "-q-tjqozhuM7",
        "outputId": "9930dd8a-06c9-4357-c667-e74b1e21f6f8"
      },
      "outputs": [
        {
          "data": {
            "text/plain": [
              "0"
            ]
          },
          "execution_count": 3,
          "metadata": {},
          "output_type": "execute_result"
        }
      ],
      "source": [
        "y_true = np.concatenate([y for x, y in test_data], axis=0)\n",
        "y_true[0]"
      ]
    },
    {
      "cell_type": "code",
      "execution_count": 4,
      "metadata": {
        "id": "2tX8lszxjNv4"
      },
      "outputs": [],
      "source": [
        "IMG_IND=224\n",
        "IMG_SHAPE = (IMG_IND,IMG_IND,3) # transfer learning accept only 3 channel\n",
        "LOSS = BinaryCrossentropy()\n",
        "SEED = 7"
      ]
    },
    {
      "cell_type": "code",
      "execution_count": 5,
      "metadata": {
        "id": "JDpxq4UgiPCo"
      },
      "outputs": [],
      "source": [
        "def callbacks(model_name):\n",
        "  CallBacks = []\n",
        "\n",
        "  best_model = ModelCheckpoint(filepath=f'{model_name}.keras',monitor='val_loss',verbose=1,save_best_only=True)\n",
        "  CallBacks.append(best_model)\n",
        "\n",
        "  early_stop = EarlyStopping(monitor='val_loss',patience=5,verbose=1)\n",
        "  CallBacks.append(early_stop)\n",
        "\n",
        "  reduce_lr = ReduceLROnPlateau(monitor='val_loss',factor=0.5,patience=3,min_lr=0.00001)\n",
        "  CallBacks.append(reduce_lr)\n",
        "\n",
        "  return CallBacks"
      ]
    },
    {
      "cell_type": "markdown",
      "metadata": {
        "id": "dBqIRWFDksyI"
      },
      "source": [
        "#DenseNet121"
      ]
    },
    {
      "cell_type": "code",
      "execution_count": 6,
      "metadata": {
        "colab": {
          "base_uri": "https://localhost:8080/"
        },
        "id": "qRu6CKbLkQAH",
        "outputId": "85f573e3-2ecc-4c14-b0ea-3741e8737c24"
      },
      "outputs": [
        {
          "name": "stdout",
          "output_type": "stream",
          "text": [
            "Downloading data from https://storage.googleapis.com/tensorflow/keras-applications/densenet/densenet121_weights_tf_dim_ordering_tf_kernels_notop.h5\n",
            "\u001b[1m29084464/29084464\u001b[0m \u001b[32m━━━━━━━━━━━━━━━━━━━━\u001b[0m\u001b[37m\u001b[0m \u001b[1m0s\u001b[0m 0us/step\n"
          ]
        }
      ],
      "source": [
        "optimizer = Adam(learning_rate=0.001)\n",
        "\n",
        "base_model = tf.keras.applications.DenseNet121(\n",
        "    include_top=False,\n",
        "    weights='imagenet',\n",
        "    input_shape=IMG_SHAPE,\n",
        ")\n",
        "\n",
        "\n",
        "for layer in base_model.layers[421:]:\n",
        "  layer.trainable = True\n",
        "\n",
        "x = base_model.output\n",
        "x = tf.keras.layers.GlobalAveragePooling2D()(x)\n",
        "x = tf.keras.layers.Dropout(0.5)(x)\n",
        "x = tf.keras.layers.Dense(1, activation='sigmoid')(x)\n",
        "\n",
        "denseNet_model = tf.keras.Model(inputs=base_model.input, outputs=x)"
      ]
    },
    {
      "cell_type": "code",
      "execution_count": 7,
      "metadata": {
        "id": "K3tJPLJbmPQI"
      },
      "outputs": [],
      "source": [
        "denseNet_model.compile(\n",
        "    optimizer=optimizer,\n",
        "    loss=LOSS,\n",
        "    metrics=['accuracy',Recall(),Precision()]\n",
        ")"
      ]
    },
    {
      "cell_type": "code",
      "execution_count": 8,
      "metadata": {
        "colab": {
          "base_uri": "https://localhost:8080/"
        },
        "id": "OKNV6znnndx6",
        "outputId": "0e3a896d-db0a-4d58-c36a-c016f9181fc1"
      },
      "outputs": [
        {
          "data": {
            "text/plain": [
              "430"
            ]
          },
          "execution_count": 8,
          "metadata": {},
          "output_type": "execute_result"
        }
      ],
      "source": [
        "len(denseNet_model.layers)"
      ]
    },
    {
      "cell_type": "code",
      "execution_count": 9,
      "metadata": {
        "colab": {
          "base_uri": "https://localhost:8080/"
        },
        "id": "LK9yOxoBoSyE",
        "outputId": "83b2c6fc-c254-4f01-ecad-633a989600e6"
      },
      "outputs": [
        {
          "name": "stdout",
          "output_type": "stream",
          "text": [
            "Epoch 1/10\n",
            "\u001b[1m30/30\u001b[0m \u001b[32m━━━━━━━━━━━━━━━━━━━━\u001b[0m\u001b[37m\u001b[0m \u001b[1m0s\u001b[0m 14s/step - accuracy: 0.6344 - loss: 0.7703 - precision: 0.5483 - recall: 0.5341 \n",
            "Epoch 1: val_loss improved from inf to 17.00776, saving model to DenseNet121.keras\n",
            "\u001b[1m30/30\u001b[0m \u001b[32m━━━━━━━━━━━━━━━━━━━━\u001b[0m\u001b[37m\u001b[0m \u001b[1m712s\u001b[0m 18s/step - accuracy: 0.6369 - loss: 0.7651 - precision: 0.5515 - recall: 0.5356 - val_accuracy: 0.4274 - val_loss: 17.0078 - val_precision: 0.4274 - val_recall: 1.0000 - learning_rate: 0.0010\n",
            "Epoch 2/10\n",
            "\u001b[1m30/30\u001b[0m \u001b[32m━━━━━━━━━━━━━━━━━━━━\u001b[0m\u001b[37m\u001b[0m \u001b[1m0s\u001b[0m 546ms/step - accuracy: 0.8345 - loss: 0.3762 - precision: 0.7959 - recall: 0.7881\n",
            "Epoch 2: val_loss improved from 17.00776 to 2.87454, saving model to DenseNet121.keras\n",
            "\u001b[1m30/30\u001b[0m \u001b[32m━━━━━━━━━━━━━━━━━━━━\u001b[0m\u001b[37m\u001b[0m \u001b[1m21s\u001b[0m 690ms/step - accuracy: 0.8354 - loss: 0.3747 - precision: 0.7971 - recall: 0.7891 - val_accuracy: 0.5874 - val_loss: 2.8745 - val_precision: 0.5113 - val_recall: 0.7833 - learning_rate: 0.0010\n",
            "Epoch 3/10\n",
            "\u001b[1m30/30\u001b[0m \u001b[32m━━━━━━━━━━━━━━━━━━━━\u001b[0m\u001b[37m\u001b[0m \u001b[1m0s\u001b[0m 556ms/step - accuracy: 0.9262 - loss: 0.1867 - precision: 0.9254 - recall: 0.8842\n",
            "Epoch 3: val_loss improved from 2.87454 to 2.04397, saving model to DenseNet121.keras\n",
            "\u001b[1m30/30\u001b[0m \u001b[32m━━━━━━━━━━━━━━━━━━━━\u001b[0m\u001b[37m\u001b[0m \u001b[1m41s\u001b[0m 689ms/step - accuracy: 0.9266 - loss: 0.1859 - precision: 0.9255 - recall: 0.8850 - val_accuracy: 0.7537 - val_loss: 2.0440 - val_precision: 0.6734 - val_recall: 0.8227 - learning_rate: 0.0010\n",
            "Epoch 4/10\n",
            "\u001b[1m30/30\u001b[0m \u001b[32m━━━━━━━━━━━━━━━━━━━━\u001b[0m\u001b[37m\u001b[0m \u001b[1m0s\u001b[0m 568ms/step - accuracy: 0.9252 - loss: 0.1889 - precision: 0.9109 - recall: 0.8936\n",
            "Epoch 4: val_loss did not improve from 2.04397\n",
            "\u001b[1m30/30\u001b[0m \u001b[32m━━━━━━━━━━━━━━━━━━━━\u001b[0m\u001b[37m\u001b[0m \u001b[1m40s\u001b[0m 657ms/step - accuracy: 0.9254 - loss: 0.1885 - precision: 0.9112 - recall: 0.8938 - val_accuracy: 0.6358 - val_loss: 14.9500 - val_precision: 1.0000 - val_recall: 0.1478 - learning_rate: 0.0010\n",
            "Epoch 5/10\n",
            "\u001b[1m30/30\u001b[0m \u001b[32m━━━━━━━━━━━━━━━━━━━━\u001b[0m\u001b[37m\u001b[0m \u001b[1m0s\u001b[0m 582ms/step - accuracy: 0.9726 - loss: 0.0698 - precision: 0.9605 - recall: 0.9699\n",
            "Epoch 5: val_loss did not improve from 2.04397\n",
            "\u001b[1m30/30\u001b[0m \u001b[32m━━━━━━━━━━━━━━━━━━━━\u001b[0m\u001b[37m\u001b[0m \u001b[1m21s\u001b[0m 671ms/step - accuracy: 0.9728 - loss: 0.0695 - precision: 0.9609 - recall: 0.9701 - val_accuracy: 0.7874 - val_loss: 2.7533 - val_precision: 0.8446 - val_recall: 0.6158 - learning_rate: 0.0010\n",
            "Epoch 6/10\n",
            "\u001b[1m30/30\u001b[0m \u001b[32m━━━━━━━━━━━━━━━━━━━━\u001b[0m\u001b[37m\u001b[0m \u001b[1m0s\u001b[0m 590ms/step - accuracy: 0.9897 - loss: 0.0326 - precision: 0.9857 - recall: 0.9884\n",
            "Epoch 6: val_loss improved from 2.04397 to 0.86920, saving model to DenseNet121.keras\n",
            "\u001b[1m30/30\u001b[0m \u001b[32m━━━━━━━━━━━━━━━━━━━━\u001b[0m\u001b[37m\u001b[0m \u001b[1m21s\u001b[0m 702ms/step - accuracy: 0.9896 - loss: 0.0327 - precision: 0.9856 - recall: 0.9883 - val_accuracy: 0.8842 - val_loss: 0.8692 - val_precision: 0.9353 - val_recall: 0.7833 - learning_rate: 0.0010\n",
            "Epoch 7/10\n",
            "\u001b[1m30/30\u001b[0m \u001b[32m━━━━━━━━━━━━━━━━━━━━\u001b[0m\u001b[37m\u001b[0m \u001b[1m0s\u001b[0m 567ms/step - accuracy: 0.9889 - loss: 0.0341 - precision: 0.9922 - recall: 0.9789\n",
            "Epoch 7: val_loss did not improve from 0.86920\n",
            "\u001b[1m30/30\u001b[0m \u001b[32m━━━━━━━━━━━━━━━━━━━━\u001b[0m\u001b[37m\u001b[0m \u001b[1m40s\u001b[0m 656ms/step - accuracy: 0.9890 - loss: 0.0340 - precision: 0.9922 - recall: 0.9790 - val_accuracy: 0.8484 - val_loss: 1.4493 - val_precision: 0.7549 - val_recall: 0.9557 - learning_rate: 0.0010\n",
            "Epoch 8/10\n",
            "\u001b[1m30/30\u001b[0m \u001b[32m━━━━━━━━━━━━━━━━━━━━\u001b[0m\u001b[37m\u001b[0m \u001b[1m0s\u001b[0m 580ms/step - accuracy: 0.9829 - loss: 0.0583 - precision: 0.9786 - recall: 0.9780\n",
            "Epoch 8: val_loss improved from 0.86920 to 0.75187, saving model to DenseNet121.keras\n",
            "\u001b[1m30/30\u001b[0m \u001b[32m━━━━━━━━━━━━━━━━━━━━\u001b[0m\u001b[37m\u001b[0m \u001b[1m21s\u001b[0m 701ms/step - accuracy: 0.9830 - loss: 0.0581 - precision: 0.9787 - recall: 0.9781 - val_accuracy: 0.9116 - val_loss: 0.7519 - val_precision: 0.8852 - val_recall: 0.9113 - learning_rate: 0.0010\n",
            "Epoch 9/10\n",
            "\u001b[1m30/30\u001b[0m \u001b[32m━━━━━━━━━━━━━━━━━━━━\u001b[0m\u001b[37m\u001b[0m \u001b[1m0s\u001b[0m 570ms/step - accuracy: 0.9897 - loss: 0.0331 - precision: 0.9853 - recall: 0.9890\n",
            "Epoch 9: val_loss improved from 0.75187 to 0.29084, saving model to DenseNet121.keras\n",
            "\u001b[1m30/30\u001b[0m \u001b[32m━━━━━━━━━━━━━━━━━━━━\u001b[0m\u001b[37m\u001b[0m \u001b[1m42s\u001b[0m 729ms/step - accuracy: 0.9896 - loss: 0.0334 - precision: 0.9851 - recall: 0.9888 - val_accuracy: 0.9221 - val_loss: 0.2908 - val_precision: 0.8705 - val_recall: 0.9606 - learning_rate: 0.0010\n",
            "Epoch 10/10\n",
            "\u001b[1m30/30\u001b[0m \u001b[32m━━━━━━━━━━━━━━━━━━━━\u001b[0m\u001b[37m\u001b[0m \u001b[1m0s\u001b[0m 585ms/step - accuracy: 0.9815 - loss: 0.0492 - precision: 0.9787 - recall: 0.9743\n",
            "Epoch 10: val_loss did not improve from 0.29084\n",
            "\u001b[1m30/30\u001b[0m \u001b[32m━━━━━━━━━━━━━━━━━━━━\u001b[0m\u001b[37m\u001b[0m \u001b[1m21s\u001b[0m 674ms/step - accuracy: 0.9814 - loss: 0.0494 - precision: 0.9787 - recall: 0.9741 - val_accuracy: 0.8674 - val_loss: 1.3299 - val_precision: 0.9730 - val_recall: 0.7094 - learning_rate: 0.0010\n"
          ]
        },
        {
          "data": {
            "text/plain": [
              "<keras.src.callbacks.history.History at 0x7ad27d7ac160>"
            ]
          },
          "execution_count": 9,
          "metadata": {},
          "output_type": "execute_result"
        }
      ],
      "source": [
        "call_backs = callbacks('DenseNet121')\n",
        "denseNet_model.fit(train_data,epochs=10,validation_data=validation_data,callbacks=call_backs)"
      ]
    },
    {
      "cell_type": "code",
      "execution_count": 10,
      "metadata": {
        "colab": {
          "base_uri": "https://localhost:8080/"
        },
        "id": "8okGGJUBstEo",
        "outputId": "4d2b7789-4f8f-4b6b-8133-8ef59f331c43"
      },
      "outputs": [
        {
          "name": "stdout",
          "output_type": "stream",
          "text": [
            "\u001b[1m4/4\u001b[0m \u001b[32m━━━━━━━━━━━━━━━━━━━━\u001b[0m\u001b[37m\u001b[0m \u001b[1m25s\u001b[0m 5s/step - accuracy: 0.9090 - loss: 0.4712 - precision: 0.5284 - recall: 0.7840\n"
          ]
        },
        {
          "data": {
            "text/plain": [
              "[0.48897889256477356,\n",
              " 0.9039999842643738,\n",
              " 0.9599999785423279,\n",
              " 0.8633093237876892]"
            ]
          },
          "execution_count": 10,
          "metadata": {},
          "output_type": "execute_result"
        }
      ],
      "source": [
        "best_denseNet = tf.keras.models.load_model('DenseNet121.keras')\n",
        "best_denseNet.evaluate(test_data,verbose=1)"
      ]
    },
    {
      "cell_type": "code",
      "execution_count": 11,
      "metadata": {
        "colab": {
          "base_uri": "https://localhost:8080/"
        },
        "id": "AGL9GT_2uXEf",
        "outputId": "984a436f-d7a9-492b-f973-1599b7e38504"
      },
      "outputs": [
        {
          "name": "stdout",
          "output_type": "stream",
          "text": [
            "\u001b[1m4/4\u001b[0m \u001b[32m━━━━━━━━━━━━━━━━━━━━\u001b[0m\u001b[37m\u001b[0m \u001b[1m18s\u001b[0m 3s/step\n",
            "              precision    recall  f1-score   support\n",
            "\n",
            "           0       0.95      0.85      0.90       125\n",
            "           1       0.86      0.96      0.91       125\n",
            "\n",
            "    accuracy                           0.90       250\n",
            "   macro avg       0.91      0.90      0.90       250\n",
            "weighted avg       0.91      0.90      0.90       250\n",
            "\n"
          ]
        }
      ],
      "source": [
        "y_pred = best_denseNet.predict(test_data)\n",
        "y_pred = np.round(y_pred)\n",
        "print(classification_report(y_true,y_pred))"
      ]
    },
    {
      "cell_type": "code",
      "execution_count": 12,
      "metadata": {
        "colab": {
          "base_uri": "https://localhost:8080/",
          "height": 472
        },
        "id": "58thdQ9nvAfQ",
        "outputId": "e9a631e9-bf88-462c-fcb2-b8d468e24157"
      },
      "outputs": [
        {
          "data": {
            "image/png": "[encoded data removed]",
            "text/plain": [
              "<Figure size 640x480 with 2 Axes>"
            ]
          },
          "metadata": {},
          "output_type": "display_data"
        }
      ],
      "source": [
        "cm = confusion_matrix(y_true, y_pred)\n",
        "sns.heatmap(cm, annot=True, fmt='d', cmap='Blues')\n",
        "plt.xlabel('Predicted')\n",
        "plt.ylabel('True')\n",
        "plt.title('Confusion Matrix')\n",
        "plt.show()"
      ]
    },
    {
      "cell_type": "code",
      "execution_count": 12,
      "metadata": {
        "id": "nXdeeJ87wZNV"
      },
      "outputs": [],
      "source": []
    },
    {
      "cell_type": "code",
      "execution_count": 12,
      "metadata": {
        "id": "mCqoGPUewZTA"
      },
      "outputs": [],
      "source": []
    },
    {
      "cell_type": "code",
      "execution_count": 12,
      "metadata": {
        "id": "zR7_HRuJwZWr"
      },
      "outputs": [],
      "source": []
    },
    {
      "cell_type": "markdown",
      "metadata": {
        "id": "0clzm0srvQ9c"
      },
      "source": [
        "## RESNet 50"
      ]
    },
    {
      "cell_type": "code",
      "execution_count": 13,
      "metadata": {
        "colab": {
          "base_uri": "https://localhost:8080/"
        },
        "id": "KVfnl5ISkAWB",
        "outputId": "2716ff19-889b-45c6-d65b-e9f17128cb0e"
      },
      "outputs": [
        {
          "name": "stdout",
          "output_type": "stream",
          "text": [
            "Downloading data from https://storage.googleapis.com/tensorflow/keras-applications/resnet/resnet50_weights_tf_dim_ordering_tf_kernels_notop.h5\n",
            "\u001b[1m94765736/94765736\u001b[0m \u001b[32m━━━━━━━━━━━━━━━━━━━━\u001b[0m\u001b[37m\u001b[0m \u001b[1m1s\u001b[0m 0us/step\n"
          ]
        }
      ],
      "source": [
        "base_model = tf.keras.applications.ResNet50(\n",
        "    include_top=False,\n",
        "    weights='imagenet',\n",
        "    input_shape=IMG_SHAPE,\n",
        ")\n",
        "\n",
        "for layer in base_model.layers[420:]:\n",
        "  layer.trainable = True\n",
        "\n",
        "x = base_model.output\n",
        "x = tf.keras.layers.GlobalAveragePooling2D()(x)\n",
        "x = tf.keras.layers.Dropout(0.5)(x)\n",
        "x = tf.keras.layers.Dense(1, activation='sigmoid')(x)\n",
        "\n",
        "RESNet_model = tf.keras.Model(inputs=base_model.input, outputs=x)"
      ]
    },
    {
      "cell_type": "code",
      "execution_count": 14,
      "metadata": {
        "id": "kUiaFFvVvsR7"
      },
      "outputs": [],
      "source": [
        "optimizer = Adam(learning_rate=0.001)\n",
        "\n",
        "RESNet_model.compile(\n",
        "    optimizer=optimizer,\n",
        "    loss=LOSS,\n",
        "    metrics=['accuracy',Recall(),Precision()]\n",
        ")"
      ]
    },
    {
      "cell_type": "code",
      "execution_count": 15,
      "metadata": {
        "colab": {
          "base_uri": "https://localhost:8080/"
        },
        "id": "yB9FXiGxv_y-",
        "outputId": "c73297d4-fcb3-46e6-ae5c-d5a0792374fa"
      },
      "outputs": [
        {
          "name": "stdout",
          "output_type": "stream",
          "text": [
            "Epoch 1/15\n",
            "\u001b[1m30/30\u001b[0m \u001b[32m━━━━━━━━━━━━━━━━━━━━\u001b[0m\u001b[37m\u001b[0m \u001b[1m0s\u001b[0m 2s/step - accuracy: 0.6292 - loss: 0.7871 - precision_1: 0.5058 - recall_1: 0.4802   \n",
            "Epoch 1: val_loss improved from inf to 319.71033, saving model to ResNet50.keras\n",
            "\u001b[1m30/30\u001b[0m \u001b[32m━━━━━━━━━━━━━━━━━━━━\u001b[0m\u001b[37m\u001b[0m \u001b[1m139s\u001b[0m 2s/step - accuracy: 0.6319 - loss: 0.7820 - precision_1: 0.5101 - recall_1: 0.4849 - val_accuracy: 0.4274 - val_loss: 319.7103 - val_precision_1: 0.4274 - val_recall_1: 1.0000 - learning_rate: 0.0010\n",
            "Epoch 2/15\n",
            "\u001b[1m30/30\u001b[0m \u001b[32m━━━━━━━━━━━━━━━━━━━━\u001b[0m\u001b[37m\u001b[0m \u001b[1m0s\u001b[0m 555ms/step - accuracy: 0.8424 - loss: 0.3742 - precision_1: 0.8250 - recall_1: 0.7716\n",
            "Epoch 2: val_loss improved from 319.71033 to 3.63175, saving model to ResNet50.keras\n",
            "\u001b[1m30/30\u001b[0m \u001b[32m━━━━━━━━━━━━━━━━━━━━\u001b[0m\u001b[37m\u001b[0m \u001b[1m58s\u001b[0m 827ms/step - accuracy: 0.8438 - loss: 0.3713 - precision_1: 0.8264 - recall_1: 0.7737 - val_accuracy: 0.8021 - val_loss: 3.6317 - val_precision_1: 0.7422 - val_recall_1: 0.8227 - learning_rate: 0.0010\n",
            "Epoch 3/15\n",
            "\u001b[1m30/30\u001b[0m \u001b[32m━━━━━━━━━━━━━━━━━━━━\u001b[0m\u001b[37m\u001b[0m \u001b[1m0s\u001b[0m 562ms/step - accuracy: 0.9385 - loss: 0.1505 - precision_1: 0.9301 - recall_1: 0.9143\n",
            "Epoch 3: val_loss did not improve from 3.63175\n",
            "\u001b[1m30/30\u001b[0m \u001b[32m━━━━━━━━━━━━━━━━━━━━\u001b[0m\u001b[37m\u001b[0m \u001b[1m35s\u001b[0m 626ms/step - accuracy: 0.9387 - loss: 0.1503 - precision_1: 0.9301 - recall_1: 0.9148 - val_accuracy: 0.5011 - val_loss: 12.5555 - val_precision_1: 0.4595 - val_recall_1: 0.9507 - learning_rate: 0.0010\n",
            "Epoch 4/15\n",
            "\u001b[1m30/30\u001b[0m \u001b[32m━━━━━━━━━━━━━━━━━━━━\u001b[0m\u001b[37m\u001b[0m \u001b[1m0s\u001b[0m 581ms/step - accuracy: 0.9638 - loss: 0.1195 - precision_1: 0.9524 - recall_1: 0.9553\n",
            "Epoch 4: val_loss improved from 3.63175 to 1.96194, saving model to ResNet50.keras\n",
            "\u001b[1m30/30\u001b[0m \u001b[32m━━━━━━━━━━━━━━━━━━━━\u001b[0m\u001b[37m\u001b[0m \u001b[1m34s\u001b[0m 1s/step - accuracy: 0.9639 - loss: 0.1189 - precision_1: 0.9525 - recall_1: 0.9553 - val_accuracy: 0.8274 - val_loss: 1.9619 - val_precision_1: 0.7553 - val_recall_1: 0.8818 - learning_rate: 0.0010\n",
            "Epoch 5/15\n",
            "\u001b[1m30/30\u001b[0m \u001b[32m━━━━━━━━━━━━━━━━━━━━\u001b[0m\u001b[37m\u001b[0m \u001b[1m0s\u001b[0m 549ms/step - accuracy: 0.9834 - loss: 0.0430 - precision_1: 0.9832 - recall_1: 0.9746\n",
            "Epoch 5: val_loss improved from 1.96194 to 1.01069, saving model to ResNet50.keras\n",
            "\u001b[1m30/30\u001b[0m \u001b[32m━━━━━━━━━━━━━━━━━━━━\u001b[0m\u001b[37m\u001b[0m \u001b[1m39s\u001b[0m 1s/step - accuracy: 0.9834 - loss: 0.0430 - precision_1: 0.9831 - recall_1: 0.9748 - val_accuracy: 0.8842 - val_loss: 1.0107 - val_precision_1: 0.8491 - val_recall_1: 0.8867 - learning_rate: 0.0010\n",
            "Epoch 6/15\n",
            "\u001b[1m30/30\u001b[0m \u001b[32m━━━━━━━━━━━━━━━━━━━━\u001b[0m\u001b[37m\u001b[0m \u001b[1m0s\u001b[0m 563ms/step - accuracy: 0.9838 - loss: 0.0410 - precision_1: 0.9800 - recall_1: 0.9770\n",
            "Epoch 6: val_loss did not improve from 1.01069\n",
            "\u001b[1m30/30\u001b[0m \u001b[32m━━━━━━━━━━━━━━━━━━━━\u001b[0m\u001b[37m\u001b[0m \u001b[1m29s\u001b[0m 624ms/step - accuracy: 0.9838 - loss: 0.0409 - precision_1: 0.9799 - recall_1: 0.9771 - val_accuracy: 0.7726 - val_loss: 2.6031 - val_precision_1: 0.6568 - val_recall_1: 0.9803 - learning_rate: 0.0010\n",
            "Epoch 7/15\n",
            "\u001b[1m30/30\u001b[0m \u001b[32m━━━━━━━━━━━━━━━━━━━━\u001b[0m\u001b[37m\u001b[0m \u001b[1m0s\u001b[0m 580ms/step - accuracy: 0.9860 - loss: 0.0377 - precision_1: 0.9935 - recall_1: 0.9700\n",
            "Epoch 7: val_loss did not improve from 1.01069\n",
            "\u001b[1m30/30\u001b[0m \u001b[32m━━━━━━━━━━━━━━━━━━━━\u001b[0m\u001b[37m\u001b[0m \u001b[1m21s\u001b[0m 642ms/step - accuracy: 0.9861 - loss: 0.0378 - precision_1: 0.9935 - recall_1: 0.9703 - val_accuracy: 0.8884 - val_loss: 1.2622 - val_precision_1: 0.8289 - val_recall_1: 0.9310 - learning_rate: 0.0010\n",
            "Epoch 8/15\n",
            "\u001b[1m30/30\u001b[0m \u001b[32m━━━━━━━━━━━━━━━━━━━━\u001b[0m\u001b[37m\u001b[0m \u001b[1m0s\u001b[0m 565ms/step - accuracy: 0.9831 - loss: 0.0529 - precision_1: 0.9775 - recall_1: 0.9786\n",
            "Epoch 8: val_loss did not improve from 1.01069\n",
            "\u001b[1m30/30\u001b[0m \u001b[32m━━━━━━━━━━━━━━━━━━━━\u001b[0m\u001b[37m\u001b[0m \u001b[1m19s\u001b[0m 628ms/step - accuracy: 0.9831 - loss: 0.0530 - precision_1: 0.9775 - recall_1: 0.9786 - val_accuracy: 0.5705 - val_loss: 9.8396 - val_precision_1: 0.4987 - val_recall_1: 0.9704 - learning_rate: 0.0010\n",
            "Epoch 9/15\n",
            "\u001b[1m30/30\u001b[0m \u001b[32m━━━━━━━━━━━━━━━━━━━━\u001b[0m\u001b[37m\u001b[0m \u001b[1m0s\u001b[0m 559ms/step - accuracy: 0.9883 - loss: 0.0283 - precision_1: 0.9914 - recall_1: 0.9783\n",
            "Epoch 9: val_loss improved from 1.01069 to 0.14993, saving model to ResNet50.keras\n",
            "\u001b[1m30/30\u001b[0m \u001b[32m━━━━━━━━━━━━━━━━━━━━\u001b[0m\u001b[37m\u001b[0m \u001b[1m33s\u001b[0m 1s/step - accuracy: 0.9884 - loss: 0.0281 - precision_1: 0.9914 - recall_1: 0.9786 - val_accuracy: 0.9516 - val_loss: 0.1499 - val_precision_1: 0.9286 - val_recall_1: 0.9606 - learning_rate: 5.0000e-04\n",
            "Epoch 10/15\n",
            "\u001b[1m30/30\u001b[0m \u001b[32m━━━━━━━━━━━━━━━━━━━━\u001b[0m\u001b[37m\u001b[0m \u001b[1m0s\u001b[0m 556ms/step - accuracy: 0.9987 - loss: 0.0049 - precision_1: 1.0000 - recall_1: 0.9968\n",
            "Epoch 10: val_loss improved from 0.14993 to 0.05222, saving model to ResNet50.keras\n",
            "\u001b[1m30/30\u001b[0m \u001b[32m━━━━━━━━━━━━━━━━━━━━\u001b[0m\u001b[37m\u001b[0m \u001b[1m41s\u001b[0m 1s/step - accuracy: 0.9987 - loss: 0.0049 - precision_1: 1.0000 - recall_1: 0.9969 - val_accuracy: 0.9789 - val_loss: 0.0522 - val_precision_1: 0.9849 - val_recall_1: 0.9655 - learning_rate: 5.0000e-04\n",
            "Epoch 11/15\n",
            "\u001b[1m30/30\u001b[0m \u001b[32m━━━━━━━━━━━━━━━━━━━━\u001b[0m\u001b[37m\u001b[0m \u001b[1m0s\u001b[0m 565ms/step - accuracy: 1.0000 - loss: 0.0015 - precision_1: 1.0000 - recall_1: 1.0000\n",
            "Epoch 11: val_loss improved from 0.05222 to 0.05087, saving model to ResNet50.keras\n",
            "\u001b[1m30/30\u001b[0m \u001b[32m━━━━━━━━━━━━━━━━━━━━\u001b[0m\u001b[37m\u001b[0m \u001b[1m43s\u001b[0m 1s/step - accuracy: 1.0000 - loss: 0.0015 - precision_1: 1.0000 - recall_1: 1.0000 - val_accuracy: 0.9832 - val_loss: 0.0509 - val_precision_1: 0.9803 - val_recall_1: 0.9803 - learning_rate: 5.0000e-04\n",
            "Epoch 12/15\n",
            "\u001b[1m30/30\u001b[0m \u001b[32m━━━━━━━━━━━━━━━━━━━━\u001b[0m\u001b[37m\u001b[0m \u001b[1m0s\u001b[0m 559ms/step - accuracy: 1.0000 - loss: 6.8613e-04 - precision_1: 1.0000 - recall_1: 1.0000\n",
            "Epoch 12: val_loss improved from 0.05087 to 0.04294, saving model to ResNet50.keras\n",
            "\u001b[1m30/30\u001b[0m \u001b[32m━━━━━━━━━━━━━━━━━━━━\u001b[0m\u001b[37m\u001b[0m \u001b[1m43s\u001b[0m 1s/step - accuracy: 1.0000 - loss: 6.8425e-04 - precision_1: 1.0000 - recall_1: 1.0000 - val_accuracy: 0.9853 - val_loss: 0.0429 - val_precision_1: 0.9851 - val_recall_1: 0.9803 - learning_rate: 5.0000e-04\n",
            "Epoch 13/15\n",
            "\u001b[1m30/30\u001b[0m \u001b[32m━━━━━━━━━━━━━━━━━━━━\u001b[0m\u001b[37m\u001b[0m \u001b[1m0s\u001b[0m 566ms/step - accuracy: 1.0000 - loss: 3.7167e-04 - precision_1: 1.0000 - recall_1: 1.0000\n",
            "Epoch 13: val_loss improved from 0.04294 to 0.04096, saving model to ResNet50.keras\n",
            "\u001b[1m30/30\u001b[0m \u001b[32m━━━━━━━━━━━━━━━━━━━━\u001b[0m\u001b[37m\u001b[0m \u001b[1m45s\u001b[0m 1s/step - accuracy: 1.0000 - loss: 3.7162e-04 - precision_1: 1.0000 - recall_1: 1.0000 - val_accuracy: 0.9874 - val_loss: 0.0410 - val_precision_1: 0.9900 - val_recall_1: 0.9803 - learning_rate: 5.0000e-04\n",
            "Epoch 14/15\n",
            "\u001b[1m30/30\u001b[0m \u001b[32m━━━━━━━━━━━━━━━━━━━━\u001b[0m\u001b[37m\u001b[0m \u001b[1m0s\u001b[0m 561ms/step - accuracy: 1.0000 - loss: 4.4330e-04 - precision_1: 1.0000 - recall_1: 1.0000\n",
            "Epoch 14: val_loss improved from 0.04096 to 0.03884, saving model to ResNet50.keras\n",
            "\u001b[1m30/30\u001b[0m \u001b[32m━━━━━━━━━━━━━━━━━━━━\u001b[0m\u001b[37m\u001b[0m \u001b[1m43s\u001b[0m 1s/step - accuracy: 1.0000 - loss: 4.4157e-04 - precision_1: 1.0000 - recall_1: 1.0000 - val_accuracy: 0.9874 - val_loss: 0.0388 - val_precision_1: 0.9900 - val_recall_1: 0.9803 - learning_rate: 5.0000e-04\n",
            "Epoch 15/15\n",
            "\u001b[1m30/30\u001b[0m \u001b[32m━━━━━━━━━━━━━━━━━━━━\u001b[0m\u001b[37m\u001b[0m \u001b[1m0s\u001b[0m 557ms/step - accuracy: 1.0000 - loss: 2.3143e-04 - precision_1: 1.0000 - recall_1: 1.0000\n",
            "Epoch 15: val_loss did not improve from 0.03884\n",
            "\u001b[1m30/30\u001b[0m \u001b[32m━━━━━━━━━━━━━━━━━━━━\u001b[0m\u001b[37m\u001b[0m \u001b[1m59s\u001b[0m 619ms/step - accuracy: 1.0000 - loss: 2.3157e-04 - precision_1: 1.0000 - recall_1: 1.0000 - val_accuracy: 0.9874 - val_loss: 0.0391 - val_precision_1: 0.9900 - val_recall_1: 0.9803 - learning_rate: 5.0000e-04\n"
          ]
        },
        {
          "data": {
            "text/plain": [
              "<keras.src.callbacks.history.History at 0x7ad1fe4a5d50>"
            ]
          },
          "execution_count": 15,
          "metadata": {},
          "output_type": "execute_result"
        }
      ],
      "source": [
        "call_backs = callbacks('ResNet50')\n",
        "RESNet_model.fit(train_data,epochs=15,validation_data=validation_data,callbacks=call_backs)"
      ]
    },
    {
      "cell_type": "code",
      "execution_count": 16,
      "metadata": {
        "colab": {
          "base_uri": "https://localhost:8080/"
        },
        "id": "d7zELEafyRsT",
        "outputId": "5566861c-dd89-492a-c604-124b508652cb"
      },
      "outputs": [
        {
          "name": "stdout",
          "output_type": "stream",
          "text": [
            "\u001b[1m4/4\u001b[0m \u001b[32m━━━━━━━━━━━━━━━━━━━━\u001b[0m\u001b[37m\u001b[0m \u001b[1m11s\u001b[0m 2s/step - accuracy: 0.9648 - loss: 0.1765 - precision_1: 0.6090 - recall_1: 0.7968\n"
          ]
        },
        {
          "data": {
            "text/plain": [
              "[0.18447524309158325,\n",
              " 0.9639999866485596,\n",
              " 0.9919999837875366,\n",
              " 0.939393937587738]"
            ]
          },
          "execution_count": 16,
          "metadata": {},
          "output_type": "execute_result"
        }
      ],
      "source": [
        "best_RESNet = tf.keras.models.load_model('ResNet50.keras')\n",
        "best_RESNet.evaluate(test_data,verbose=1)"
      ]
    },
    {
      "cell_type": "code",
      "execution_count": 17,
      "metadata": {
        "colab": {
          "base_uri": "https://localhost:8080/"
        },
        "id": "yYO00P3JyUjz",
        "outputId": "19f8f26f-6f6c-48b9-f690-5518919eae58"
      },
      "outputs": [
        {
          "name": "stdout",
          "output_type": "stream",
          "text": [
            "\u001b[1m4/4\u001b[0m \u001b[32m━━━━━━━━━━━━━━━━━━━━\u001b[0m\u001b[37m\u001b[0m \u001b[1m8s\u001b[0m 1s/step\n",
            "              precision    recall  f1-score   support\n",
            "\n",
            "           0       0.99      0.94      0.96       125\n",
            "           1       0.94      0.99      0.96       125\n",
            "\n",
            "    accuracy                           0.96       250\n",
            "   macro avg       0.97      0.96      0.96       250\n",
            "weighted avg       0.97      0.96      0.96       250\n",
            "\n"
          ]
        }
      ],
      "source": [
        "y_pred = best_RESNet.predict(test_data)\n",
        "y_pred = np.round(y_pred)\n",
        "print(classification_report(y_true,y_pred))"
      ]
    },
    {
      "cell_type": "code",
      "execution_count": 18,
      "metadata": {
        "colab": {
          "base_uri": "https://localhost:8080/",
          "height": 472
        },
        "id": "H4Nz5H2EyKZB",
        "outputId": "560349a1-ad13-46cb-fa0d-4cfaac94ac5f"
      },
      "outputs": [
        {
          "data": {
            "image/png": "[encoded data removed]",
            "text/plain": [
              "<Figure size 640x480 with 2 Axes>"
            ]
          },
          "metadata": {},
          "output_type": "display_data"
        }
      ],
      "source": [
        "cm = confusion_matrix(y_true, y_pred)\n",
        "sns.heatmap(cm, annot=True, fmt='d', cmap='Blues')\n",
        "plt.xlabel('Predicted')\n",
        "plt.ylabel('True')\n",
        "plt.title('Confusion Matrix')\n",
        "plt.show()"
      ]
    },
    {
      "cell_type": "code",
      "execution_count": 18,
      "metadata": {
        "id": "ANaLuJYMyKWT"
      },
      "outputs": [],
      "source": []
    },
    {
      "cell_type": "code",
      "execution_count": 18,
      "metadata": {
        "id": "g9kpiB8FyKS_"
      },
      "outputs": [],
      "source": []
    },
    {
      "cell_type": "markdown",
      "metadata": {
        "id": "C42qYlvoxnG8"
      },
      "source": [
        "##MobileNet model"
      ]
    },
    {
      "cell_type": "code",
      "execution_count": 19,
      "metadata": {
        "colab": {
          "base_uri": "https://localhost:8080/"
        },
        "id": "9NAwxVwaxmOa",
        "outputId": "8e17f621-e29d-45fa-9f6b-5869b777a272"
      },
      "outputs": [
        {
          "name": "stdout",
          "output_type": "stream",
          "text": [
            "Downloading data from https://storage.googleapis.com/tensorflow/keras-applications/mobilenet/mobilenet_1_0_224_tf_no_top.h5\n",
            "\u001b[1m17225924/17225924\u001b[0m \u001b[32m━━━━━━━━━━━━━━━━━━━━\u001b[0m\u001b[37m\u001b[0m \u001b[1m0s\u001b[0m 0us/step\n"
          ]
        }
      ],
      "source": [
        "base_model = tf.keras.applications.MobileNet(\n",
        "    include_top=False,\n",
        "    weights='imagenet',\n",
        "    input_shape=IMG_SHAPE,\n",
        ")\n",
        "\n",
        "for layer in base_model.layers[420:]:\n",
        "  layer.trainable = True\n",
        "\n",
        "x = base_model.output\n",
        "x = tf.keras.layers.GlobalAveragePooling2D()(x)\n",
        "x = tf.keras.layers.Dropout(0.5)(x)\n",
        "x = tf.keras.layers.Dense(1, activation='sigmoid')(x)\n",
        "\n",
        "MobileNet_model = tf.keras.Model(inputs=base_model.input, outputs=x)"
      ]
    },
    {
      "cell_type": "code",
      "execution_count": 20,
      "metadata": {
        "id": "q69dGgOixumQ"
      },
      "outputs": [],
      "source": [
        "optimizer = Adam(learning_rate=0.001)\n",
        "\n",
        "MobileNet_model.compile(\n",
        "    optimizer=optimizer,\n",
        "    loss=LOSS,\n",
        "    metrics=['accuracy',Recall(),Precision()]\n",
        ")"
      ]
    },
    {
      "cell_type": "code",
      "execution_count": 21,
      "metadata": {
        "colab": {
          "base_uri": "https://localhost:8080/"
        },
        "id": "HtuN7IQMxvGY",
        "outputId": "dbf1aa61-fba5-41ee-ac19-3ce5045e5b88"
      },
      "outputs": [
        {
          "name": "stdout",
          "output_type": "stream",
          "text": [
            "Epoch 1/15\n",
            "\u001b[1m30/30\u001b[0m \u001b[32m━━━━━━━━━━━━━━━━━━━━\u001b[0m\u001b[37m\u001b[0m \u001b[1m0s\u001b[0m 956ms/step - accuracy: 0.6500 - loss: 0.8609 - precision_2: 0.5591 - recall_2: 0.5508\n",
            "Epoch 1: val_loss improved from inf to 3.32730, saving model to MobileNet.keras\n",
            "\u001b[1m30/30\u001b[0m \u001b[32m━━━━━━━━━━━━━━━━━━━━\u001b[0m\u001b[37m\u001b[0m \u001b[1m78s\u001b[0m 1s/step - accuracy: 0.6527 - loss: 0.8533 - precision_2: 0.5624 - recall_2: 0.5540 - val_accuracy: 0.5726 - val_loss: 3.3273 - val_precision_2: 0.0000e+00 - val_recall_2: 0.0000e+00 - learning_rate: 0.0010\n",
            "Epoch 2/15\n",
            "\u001b[1m30/30\u001b[0m \u001b[32m━━━━━━━━━━━━━━━━━━━━\u001b[0m\u001b[37m\u001b[0m \u001b[1m0s\u001b[0m 244ms/step - accuracy: 0.8927 - loss: 0.2564 - precision_2: 0.8780 - recall_2: 0.8517\n",
            "Epoch 2: val_loss improved from 3.32730 to 2.95239, saving model to MobileNet.keras\n",
            "\u001b[1m30/30\u001b[0m \u001b[32m━━━━━━━━━━━━━━━━━━━━\u001b[0m\u001b[37m\u001b[0m \u001b[1m11s\u001b[0m 349ms/step - accuracy: 0.8934 - loss: 0.2547 - precision_2: 0.8786 - recall_2: 0.8527 - val_accuracy: 0.5726 - val_loss: 2.9524 - val_precision_2: 0.0000e+00 - val_recall_2: 0.0000e+00 - learning_rate: 0.0010\n",
            "Epoch 3/15\n",
            "\u001b[1m30/30\u001b[0m \u001b[32m━━━━━━━━━━━━━━━━━━━━\u001b[0m\u001b[37m\u001b[0m \u001b[1m0s\u001b[0m 233ms/step - accuracy: 0.9734 - loss: 0.0830 - precision_2: 0.9730 - recall_2: 0.9599\n",
            "Epoch 3: val_loss improved from 2.95239 to 2.27858, saving model to MobileNet.keras\n",
            "\u001b[1m30/30\u001b[0m \u001b[32m━━━━━━━━━━━━━━━━━━━━\u001b[0m\u001b[37m\u001b[0m \u001b[1m9s\u001b[0m 304ms/step - accuracy: 0.9734 - loss: 0.0828 - precision_2: 0.9730 - recall_2: 0.9601 - val_accuracy: 0.6147 - val_loss: 2.2786 - val_precision_2: 1.0000 - val_recall_2: 0.0985 - learning_rate: 0.0010\n",
            "Epoch 4/15\n",
            "\u001b[1m30/30\u001b[0m \u001b[32m━━━━━━━━━━━━━━━━━━━━\u001b[0m\u001b[37m\u001b[0m \u001b[1m0s\u001b[0m 315ms/step - accuracy: 0.9885 - loss: 0.0328 - precision_2: 0.9860 - recall_2: 0.9850\n",
            "Epoch 4: val_loss improved from 2.27858 to 1.68215, saving model to MobileNet.keras\n",
            "\u001b[1m30/30\u001b[0m \u001b[32m━━━━━━━━━━━━━━━━━━━━\u001b[0m\u001b[37m\u001b[0m \u001b[1m12s\u001b[0m 387ms/step - accuracy: 0.9886 - loss: 0.0326 - precision_2: 0.9861 - recall_2: 0.9851 - val_accuracy: 0.6716 - val_loss: 1.6821 - val_precision_2: 1.0000 - val_recall_2: 0.2315 - learning_rate: 0.0010\n",
            "Epoch 5/15\n",
            "\u001b[1m30/30\u001b[0m \u001b[32m━━━━━━━━━━━━━━━━━━━━\u001b[0m\u001b[37m\u001b[0m \u001b[1m0s\u001b[0m 262ms/step - accuracy: 0.9889 - loss: 0.0351 - precision_2: 0.9892 - recall_2: 0.9825\n",
            "Epoch 5: val_loss improved from 1.68215 to 0.19132, saving model to MobileNet.keras\n",
            "\u001b[1m30/30\u001b[0m \u001b[32m━━━━━━━━━━━━━━━━━━━━\u001b[0m\u001b[37m\u001b[0m \u001b[1m20s\u001b[0m 365ms/step - accuracy: 0.9888 - loss: 0.0352 - precision_2: 0.9891 - recall_2: 0.9823 - val_accuracy: 0.9179 - val_loss: 0.1913 - val_precision_2: 0.9713 - val_recall_2: 0.8325 - learning_rate: 0.0010\n",
            "Epoch 6/15\n",
            "\u001b[1m30/30\u001b[0m \u001b[32m━━━━━━━━━━━━━━━━━━━━\u001b[0m\u001b[37m\u001b[0m \u001b[1m0s\u001b[0m 266ms/step - accuracy: 0.9805 - loss: 0.0547 - precision_2: 0.9739 - recall_2: 0.9766\n",
            "Epoch 6: val_loss did not improve from 0.19132\n",
            "\u001b[1m30/30\u001b[0m \u001b[32m━━━━━━━━━━━━━━━━━━━━\u001b[0m\u001b[37m\u001b[0m \u001b[1m20s\u001b[0m 354ms/step - accuracy: 0.9806 - loss: 0.0546 - precision_2: 0.9740 - recall_2: 0.9768 - val_accuracy: 0.7263 - val_loss: 1.6300 - val_precision_2: 1.0000 - val_recall_2: 0.3596 - learning_rate: 0.0010\n",
            "Epoch 7/15\n",
            "\u001b[1m30/30\u001b[0m \u001b[32m━━━━━━━━━━━━━━━━━━━━\u001b[0m\u001b[37m\u001b[0m \u001b[1m0s\u001b[0m 284ms/step - accuracy: 0.9783 - loss: 0.0529 - precision_2: 0.9736 - recall_2: 0.9709\n",
            "Epoch 7: val_loss did not improve from 0.19132\n",
            "\u001b[1m30/30\u001b[0m \u001b[32m━━━━━━━━━━━━━━━━━━━━\u001b[0m\u001b[37m\u001b[0m \u001b[1m20s\u001b[0m 336ms/step - accuracy: 0.9783 - loss: 0.0529 - precision_2: 0.9736 - recall_2: 0.9710 - val_accuracy: 0.5916 - val_loss: 2.6965 - val_precision_2: 0.5113 - val_recall_2: 1.0000 - learning_rate: 0.0010\n",
            "Epoch 8/15\n",
            "\u001b[1m30/30\u001b[0m \u001b[32m━━━━━━━━━━━━━━━━━━━━\u001b[0m\u001b[37m\u001b[0m \u001b[1m0s\u001b[0m 241ms/step - accuracy: 0.9851 - loss: 0.0399 - precision_2: 0.9743 - recall_2: 0.9878\n",
            "Epoch 8: val_loss did not improve from 0.19132\n",
            "\u001b[1m30/30\u001b[0m \u001b[32m━━━━━━━━━━━━━━━━━━━━\u001b[0m\u001b[37m\u001b[0m \u001b[1m10s\u001b[0m 329ms/step - accuracy: 0.9852 - loss: 0.0399 - precision_2: 0.9745 - recall_2: 0.9877 - val_accuracy: 0.8947 - val_loss: 0.3718 - val_precision_2: 0.8024 - val_recall_2: 1.0000 - learning_rate: 0.0010\n",
            "Epoch 9/15\n",
            "\u001b[1m30/30\u001b[0m \u001b[32m━━━━━━━━━━━━━━━━━━━━\u001b[0m\u001b[37m\u001b[0m \u001b[1m0s\u001b[0m 252ms/step - accuracy: 0.9949 - loss: 0.0220 - precision_2: 0.9941 - recall_2: 0.9936\n",
            "Epoch 9: val_loss improved from 0.19132 to 0.09087, saving model to MobileNet.keras\n",
            "\u001b[1m30/30\u001b[0m \u001b[32m━━━━━━━━━━━━━━━━━━━━\u001b[0m\u001b[37m\u001b[0m \u001b[1m11s\u001b[0m 355ms/step - accuracy: 0.9950 - loss: 0.0217 - precision_2: 0.9941 - recall_2: 0.9937 - val_accuracy: 0.9684 - val_loss: 0.0909 - val_precision_2: 0.9608 - val_recall_2: 0.9655 - learning_rate: 5.0000e-04\n",
            "Epoch 10/15\n",
            "\u001b[1m30/30\u001b[0m \u001b[32m━━━━━━━━━━━━━━━━━━━━\u001b[0m\u001b[37m\u001b[0m \u001b[1m0s\u001b[0m 280ms/step - accuracy: 0.9997 - loss: 0.0031 - precision_2: 0.9993 - recall_2: 1.0000\n",
            "Epoch 10: val_loss improved from 0.09087 to 0.03699, saving model to MobileNet.keras\n",
            "\u001b[1m30/30\u001b[0m \u001b[32m━━━━━━━━━━━━━━━━━━━━\u001b[0m\u001b[37m\u001b[0m \u001b[1m20s\u001b[0m 346ms/step - accuracy: 0.9997 - loss: 0.0031 - precision_2: 0.9993 - recall_2: 1.0000 - val_accuracy: 0.9853 - val_loss: 0.0370 - val_precision_2: 0.9804 - val_recall_2: 0.9852 - learning_rate: 5.0000e-04\n",
            "Epoch 11/15\n",
            "\u001b[1m30/30\u001b[0m \u001b[32m━━━━━━━━━━━━━━━━━━━━\u001b[0m\u001b[37m\u001b[0m \u001b[1m0s\u001b[0m 242ms/step - accuracy: 1.0000 - loss: 0.0016 - precision_2: 1.0000 - recall_2: 1.0000\n",
            "Epoch 11: val_loss improved from 0.03699 to 0.02598, saving model to MobileNet.keras\n",
            "\u001b[1m30/30\u001b[0m \u001b[32m━━━━━━━━━━━━━━━━━━━━\u001b[0m\u001b[37m\u001b[0m \u001b[1m21s\u001b[0m 351ms/step - accuracy: 1.0000 - loss: 0.0015 - precision_2: 1.0000 - recall_2: 1.0000 - val_accuracy: 0.9853 - val_loss: 0.0260 - val_precision_2: 0.9804 - val_recall_2: 0.9852 - learning_rate: 5.0000e-04\n",
            "Epoch 12/15\n",
            "\u001b[1m30/30\u001b[0m \u001b[32m━━━━━━━━━━━━━━━━━━━━\u001b[0m\u001b[37m\u001b[0m \u001b[1m0s\u001b[0m 249ms/step - accuracy: 1.0000 - loss: 7.5090e-04 - precision_2: 1.0000 - recall_2: 1.0000\n",
            "Epoch 12: val_loss improved from 0.02598 to 0.01860, saving model to MobileNet.keras\n",
            "\u001b[1m30/30\u001b[0m \u001b[32m━━━━━━━━━━━━━━━━━━━━\u001b[0m\u001b[37m\u001b[0m \u001b[1m11s\u001b[0m 352ms/step - accuracy: 1.0000 - loss: 7.4946e-04 - precision_2: 1.0000 - recall_2: 1.0000 - val_accuracy: 0.9895 - val_loss: 0.0186 - val_precision_2: 0.9853 - val_recall_2: 0.9901 - learning_rate: 5.0000e-04\n",
            "Epoch 13/15\n",
            "\u001b[1m30/30\u001b[0m \u001b[32m━━━━━━━━━━━━━━━━━━━━\u001b[0m\u001b[37m\u001b[0m \u001b[1m0s\u001b[0m 283ms/step - accuracy: 1.0000 - loss: 5.2934e-04 - precision_2: 1.0000 - recall_2: 1.0000\n",
            "Epoch 13: val_loss improved from 0.01860 to 0.01684, saving model to MobileNet.keras\n",
            "\u001b[1m30/30\u001b[0m \u001b[32m━━━━━━━━━━━━━━━━━━━━\u001b[0m\u001b[37m\u001b[0m \u001b[1m21s\u001b[0m 387ms/step - accuracy: 1.0000 - loss: 5.2661e-04 - precision_2: 1.0000 - recall_2: 1.0000 - val_accuracy: 0.9937 - val_loss: 0.0168 - val_precision_2: 0.9950 - val_recall_2: 0.9901 - learning_rate: 5.0000e-04\n",
            "Epoch 14/15\n",
            "\u001b[1m30/30\u001b[0m \u001b[32m━━━━━━━━━━━━━━━━━━━━\u001b[0m\u001b[37m\u001b[0m \u001b[1m0s\u001b[0m 310ms/step - accuracy: 1.0000 - loss: 2.1587e-04 - precision_2: 1.0000 - recall_2: 1.0000\n",
            "Epoch 14: val_loss improved from 0.01684 to 0.01567, saving model to MobileNet.keras\n",
            "\u001b[1m30/30\u001b[0m \u001b[32m━━━━━━━━━━━━━━━━━━━━\u001b[0m\u001b[37m\u001b[0m \u001b[1m13s\u001b[0m 414ms/step - accuracy: 1.0000 - loss: 2.2067e-04 - precision_2: 1.0000 - recall_2: 1.0000 - val_accuracy: 0.9958 - val_loss: 0.0157 - val_precision_2: 1.0000 - val_recall_2: 0.9901 - learning_rate: 5.0000e-04\n",
            "Epoch 15/15\n",
            "\u001b[1m30/30\u001b[0m \u001b[32m━━━━━━━━━━━━━━━━━━━━\u001b[0m\u001b[37m\u001b[0m \u001b[1m0s\u001b[0m 245ms/step - accuracy: 1.0000 - loss: 2.0664e-04 - precision_2: 1.0000 - recall_2: 1.0000\n",
            "Epoch 15: val_loss improved from 0.01567 to 0.01517, saving model to MobileNet.keras\n",
            "\u001b[1m30/30\u001b[0m \u001b[32m━━━━━━━━━━━━━━━━━━━━\u001b[0m\u001b[37m\u001b[0m \u001b[1m11s\u001b[0m 353ms/step - accuracy: 1.0000 - loss: 2.0756e-04 - precision_2: 1.0000 - recall_2: 1.0000 - val_accuracy: 0.9958 - val_loss: 0.0152 - val_precision_2: 1.0000 - val_recall_2: 0.9901 - learning_rate: 5.0000e-04\n"
          ]
        },
        {
          "data": {
            "text/plain": [
              "<keras.src.callbacks.history.History at 0x7ad0b9cf47f0>"
            ]
          },
          "execution_count": 21,
          "metadata": {},
          "output_type": "execute_result"
        }
      ],
      "source": [
        "call_backs = callbacks('MobileNet')\n",
        "MobileNet_model.fit(train_data,epochs=15,validation_data=validation_data,callbacks=call_backs)"
      ]
    },
    {
      "cell_type": "code",
      "execution_count": 22,
      "metadata": {
        "colab": {
          "base_uri": "https://localhost:8080/"
        },
        "id": "EhjckUlsyjKg",
        "outputId": "b4b70574-dc24-43bf-f535-84c611d60322"
      },
      "outputs": [
        {
          "name": "stdout",
          "output_type": "stream",
          "text": [
            "\u001b[1m4/4\u001b[0m \u001b[32m━━━━━━━━━━━━━━━━━━━━\u001b[0m\u001b[37m\u001b[0m \u001b[1m9s\u001b[0m 2s/step - accuracy: 0.9690 - loss: 0.1593 - precision_2: 0.6197 - recall_2: 0.7968\n"
          ]
        },
        {
          "data": {
            "text/plain": [
              "[0.15379267930984497,\n",
              " 0.9679999947547913,\n",
              " 0.9919999837875366,\n",
              " 0.9465649127960205]"
            ]
          },
          "execution_count": 22,
          "metadata": {},
          "output_type": "execute_result"
        }
      ],
      "source": [
        "best_MobileNet = tf.keras.models.load_model('MobileNet.keras')\n",
        "best_MobileNet.evaluate(test_data,verbose=1)"
      ]
    },
    {
      "cell_type": "code",
      "execution_count": 23,
      "metadata": {
        "colab": {
          "base_uri": "https://localhost:8080/"
        },
        "id": "T77Ndijcyd4N",
        "outputId": "fc3b3358-0271-4bda-d56a-e26e0596717e"
      },
      "outputs": [
        {
          "name": "stderr",
          "output_type": "stream",
          "text": [
            "WARNING:tensorflow:5 out of the last 9 calls to <function TensorFlowTrainer.make_predict_function.<locals>.one_step_on_data_distributed at 0x7ad0bb490e50> triggered tf.function retracing. Tracing is expensive and the excessive number of tracings could be due to (1) creating @tf.function repeatedly in a loop, (2) passing tensors with different shapes, (3) passing Python objects instead of tensors. For (1), please define your @tf.function outside of the loop. For (2), @tf.function has reduce_retracing=True option that can avoid unnecessary retracing. For (3), please refer to https://www.tensorflow.org/guide/function#controlling_retracing and https://www.tensorflow.org/api_docs/python/tf/function for  more details.\n"
          ]
        },
        {
          "name": "stdout",
          "output_type": "stream",
          "text": [
            "\u001b[1m3/4\u001b[0m \u001b[32m━━━━━━━━━━━━━━━\u001b[0m\u001b[37m━━━━━\u001b[0m \u001b[1m0s\u001b[0m 51ms/step"
          ]
        },
        {
          "name": "stderr",
          "output_type": "stream",
          "text": [
            "WARNING:tensorflow:6 out of the last 12 calls to <function TensorFlowTrainer.make_predict_function.<locals>.one_step_on_data_distributed at 0x7ad0bb490e50> triggered tf.function retracing. Tracing is expensive and the excessive number of tracings could be due to (1) creating @tf.function repeatedly in a loop, (2) passing tensors with different shapes, (3) passing Python objects instead of tensors. For (1), please define your @tf.function outside of the loop. For (2), @tf.function has reduce_retracing=True option that can avoid unnecessary retracing. For (3), please refer to https://www.tensorflow.org/guide/function#controlling_retracing and https://www.tensorflow.org/api_docs/python/tf/function for  more details.\n"
          ]
        },
        {
          "name": "stdout",
          "output_type": "stream",
          "text": [
            "\u001b[1m4/4\u001b[0m \u001b[32m━━━━━━━━━━━━━━━━━━━━\u001b[0m\u001b[37m\u001b[0m \u001b[1m5s\u001b[0m 690ms/step\n",
            "              precision    recall  f1-score   support\n",
            "\n",
            "           0       0.99      0.94      0.97       125\n",
            "           1       0.95      0.99      0.97       125\n",
            "\n",
            "    accuracy                           0.97       250\n",
            "   macro avg       0.97      0.97      0.97       250\n",
            "weighted avg       0.97      0.97      0.97       250\n",
            "\n"
          ]
        }
      ],
      "source": [
        "y_pred = best_MobileNet.predict(test_data)\n",
        "y_pred = np.round(y_pred)\n",
        "print(classification_report(y_true,y_pred))"
      ]
    },
    {
      "cell_type": "code",
      "execution_count": 24,
      "metadata": {
        "colab": {
          "base_uri": "https://localhost:8080/",
          "height": 472
        },
        "id": "QUY28TznyhfX",
        "outputId": "b5103604-08f4-4506-b55b-c9e0ad6310d1"
      },
      "outputs": [
        {
          "data": {
            "image/png": "[encoded data removed]",
            "text/plain": [
              "<Figure size 640x480 with 2 Axes>"
            ]
          },
          "metadata": {},
          "output_type": "display_data"
        }
      ],
      "source": [
        "cm = confusion_matrix(y_true, y_pred)\n",
        "sns.heatmap(cm, annot=True, fmt='d', cmap='Blues')\n",
        "plt.xlabel('Predicted')\n",
        "plt.ylabel('True')\n",
        "plt.title('Confusion Matrix')\n",
        "plt.show()"
      ]
    },
    {
      "cell_type": "code",
      "execution_count": 24,
      "metadata": {
        "id": "v3mU0G3ayneb"
      },
      "outputs": [],
      "source": []
    },
    {
      "cell_type": "code",
      "execution_count": 24,
      "metadata": {
        "id": "Bo2cRp8nynIw"
      },
      "outputs": [],
      "source": []
    },
    {
      "cell_type": "markdown",
      "metadata": {
        "id": "awv_qJmnyn5L"
      },
      "source": [
        "## Xception"
      ]
    },
    {
      "cell_type": "code",
      "execution_count": 25,
      "metadata": {
        "colab": {
          "base_uri": "https://localhost:8080/"
        },
        "id": "NX2nJmIDylec",
        "outputId": "eaaf5d83-5c45-48cd-aebf-846277a36e8d"
      },
      "outputs": [
        {
          "name": "stdout",
          "output_type": "stream",
          "text": [
            "Downloading data from https://storage.googleapis.com/tensorflow/keras-applications/xception/xception_weights_tf_dim_ordering_tf_kernels_notop.h5\n",
            "\u001b[1m83683744/83683744\u001b[0m \u001b[32m━━━━━━━━━━━━━━━━━━━━\u001b[0m\u001b[37m\u001b[0m \u001b[1m0s\u001b[0m 0us/step\n"
          ]
        }
      ],
      "source": [
        "base_model = tf.keras.applications.xception.Xception(\n",
        "    include_top=False,\n",
        "    weights='imagenet',\n",
        "    input_shape=IMG_SHAPE,\n",
        ")\n",
        "\n",
        "for layer in base_model.layers[420:]:\n",
        "  layer.trainable = True\n",
        "\n",
        "x = base_model.output\n",
        "x = tf.keras.layers.GlobalAveragePooling2D()(x)\n",
        "x = tf.keras.layers.Dropout(0.5)(x)\n",
        "x = tf.keras.layers.Dense(1, activation='sigmoid')(x)\n",
        "\n",
        "Xception_model = tf.keras.Model(inputs=base_model.input, outputs=x)"
      ]
    },
    {
      "cell_type": "code",
      "execution_count": 26,
      "metadata": {
        "id": "kLbEXIS7ywHJ"
      },
      "outputs": [],
      "source": [
        "optimizer = Adam(learning_rate=0.001)\n",
        "\n",
        "Xception_model.compile(\n",
        "    optimizer=optimizer,\n",
        "    loss=LOSS,\n",
        "    metrics=['accuracy',Recall(),Precision()]\n",
        ")"
      ]
    },
    {
      "cell_type": "code",
      "execution_count": 27,
      "metadata": {
        "colab": {
          "base_uri": "https://localhost:8080/"
        },
        "id": "6GNeKMBiywEd",
        "outputId": "ab14823d-c5f9-4a70-ced2-f669e7341d26"
      },
      "outputs": [
        {
          "name": "stdout",
          "output_type": "stream",
          "text": [
            "Epoch 1/15\n",
            "\u001b[1m30/30\u001b[0m \u001b[32m━━━━━━━━━━━━━━━━━━━━\u001b[0m\u001b[37m\u001b[0m \u001b[1m0s\u001b[0m 2s/step - accuracy: 0.6643 - loss: 0.5965 - precision_3: 0.5898 - recall_3: 0.4488   \n",
            "Epoch 1: val_loss improved from inf to 0.89747, saving model to xception.keras\n",
            "\u001b[1m30/30\u001b[0m \u001b[32m━━━━━━━━━━━━━━━━━━━━\u001b[0m\u001b[37m\u001b[0m \u001b[1m184s\u001b[0m 4s/step - accuracy: 0.6669 - loss: 0.5938 - precision_3: 0.5935 - recall_3: 0.4536 - val_accuracy: 0.7137 - val_loss: 0.8975 - val_precision_3: 0.7965 - val_recall_3: 0.4433 - learning_rate: 0.0010\n",
            "Epoch 2/15\n",
            "\u001b[1m30/30\u001b[0m \u001b[32m━━━━━━━━━━━━━━━━━━━━\u001b[0m\u001b[37m\u001b[0m \u001b[1m0s\u001b[0m 889ms/step - accuracy: 0.8916 - loss: 0.2383 - precision_3: 0.8619 - recall_3: 0.8562\n",
            "Epoch 2: val_loss improved from 0.89747 to 0.81050, saving model to xception.keras\n",
            "\u001b[1m30/30\u001b[0m \u001b[32m━━━━━━━━━━━━━━━━━━━━\u001b[0m\u001b[37m\u001b[0m \u001b[1m86s\u001b[0m 2s/step - accuracy: 0.8927 - loss: 0.2362 - precision_3: 0.8633 - recall_3: 0.8577 - val_accuracy: 0.8421 - val_loss: 0.8105 - val_precision_3: 0.8556 - val_recall_3: 0.7586 - learning_rate: 0.0010\n",
            "Epoch 3/15\n",
            "\u001b[1m30/30\u001b[0m \u001b[32m━━━━━━━━━━━━━━━━━━━━\u001b[0m\u001b[37m\u001b[0m \u001b[1m0s\u001b[0m 898ms/step - accuracy: 0.9663 - loss: 0.0896 - precision_3: 0.9567 - recall_3: 0.9567\n",
            "Epoch 3: val_loss did not improve from 0.81050\n",
            "\u001b[1m30/30\u001b[0m \u001b[32m━━━━━━━━━━━━━━━━━━━━\u001b[0m\u001b[37m\u001b[0m \u001b[1m67s\u001b[0m 1s/step - accuracy: 0.9661 - loss: 0.0900 - precision_3: 0.9567 - recall_3: 0.9563 - val_accuracy: 0.6695 - val_loss: 2.2816 - val_precision_3: 0.9423 - val_recall_3: 0.2414 - learning_rate: 0.0010\n",
            "Epoch 4/15\n",
            "\u001b[1m30/30\u001b[0m \u001b[32m━━━━━━━━━━━━━━━━━━━━\u001b[0m\u001b[37m\u001b[0m \u001b[1m0s\u001b[0m 917ms/step - accuracy: 0.9831 - loss: 0.0594 - precision_3: 0.9784 - recall_3: 0.9793\n",
            "Epoch 4: val_loss improved from 0.81050 to 0.78493, saving model to xception.keras\n",
            "\u001b[1m30/30\u001b[0m \u001b[32m━━━━━━━━━━━━━━━━━━━━\u001b[0m\u001b[37m\u001b[0m \u001b[1m53s\u001b[0m 1s/step - accuracy: 0.9830 - loss: 0.0596 - precision_3: 0.9784 - recall_3: 0.9790 - val_accuracy: 0.7516 - val_loss: 0.7849 - val_precision_3: 0.8244 - val_recall_3: 0.5320 - learning_rate: 0.0010\n",
            "Epoch 5/15\n",
            "\u001b[1m30/30\u001b[0m \u001b[32m━━━━━━━━━━━━━━━━━━━━\u001b[0m\u001b[37m\u001b[0m \u001b[1m0s\u001b[0m 881ms/step - accuracy: 0.9659 - loss: 0.0924 - precision_3: 0.9522 - recall_3: 0.9632\n",
            "Epoch 5: val_loss did not improve from 0.78493\n",
            "\u001b[1m30/30\u001b[0m \u001b[32m━━━━━━━━━━━━━━━━━━━━\u001b[0m\u001b[37m\u001b[0m \u001b[1m67s\u001b[0m 970ms/step - accuracy: 0.9662 - loss: 0.0917 - precision_3: 0.9527 - recall_3: 0.9634 - val_accuracy: 0.7453 - val_loss: 1.1427 - val_precision_3: 1.0000 - val_recall_3: 0.4039 - learning_rate: 0.0010\n",
            "Epoch 6/15\n",
            "\u001b[1m30/30\u001b[0m \u001b[32m━━━━━━━━━━━━━━━━━━━━\u001b[0m\u001b[37m\u001b[0m \u001b[1m0s\u001b[0m 931ms/step - accuracy: 0.9922 - loss: 0.0226 - precision_3: 0.9872 - recall_3: 0.9931\n",
            "Epoch 6: val_loss did not improve from 0.78493\n",
            "\u001b[1m30/30\u001b[0m \u001b[32m━━━━━━━━━━━━━━━━━━━━\u001b[0m\u001b[37m\u001b[0m \u001b[1m42s\u001b[0m 1s/step - accuracy: 0.9921 - loss: 0.0228 - precision_3: 0.9870 - recall_3: 0.9930 - val_accuracy: 0.7453 - val_loss: 2.2193 - val_precision_3: 0.9881 - val_recall_3: 0.4089 - learning_rate: 0.0010\n",
            "Epoch 7/15\n",
            "\u001b[1m30/30\u001b[0m \u001b[32m━━━━━━━━━━━━━━━━━━━━\u001b[0m\u001b[37m\u001b[0m \u001b[1m0s\u001b[0m 899ms/step - accuracy: 0.9808 - loss: 0.0602 - precision_3: 0.9780 - recall_3: 0.9718\n",
            "Epoch 7: val_loss improved from 0.78493 to 0.14647, saving model to xception.keras\n",
            "\u001b[1m30/30\u001b[0m \u001b[32m━━━━━━━━━━━━━━━━━━━━\u001b[0m\u001b[37m\u001b[0m \u001b[1m59s\u001b[0m 2s/step - accuracy: 0.9808 - loss: 0.0602 - precision_3: 0.9780 - recall_3: 0.9719 - val_accuracy: 0.9432 - val_loss: 0.1465 - val_precision_3: 0.9681 - val_recall_3: 0.8966 - learning_rate: 0.0010\n",
            "Epoch 8/15\n",
            "\u001b[1m30/30\u001b[0m \u001b[32m━━━━━━━━━━━━━━━━━━━━\u001b[0m\u001b[37m\u001b[0m \u001b[1m0s\u001b[0m 889ms/step - accuracy: 0.9907 - loss: 0.0235 - precision_3: 0.9853 - recall_3: 0.9908\n",
            "Epoch 8: val_loss improved from 0.14647 to 0.04610, saving model to xception.keras\n",
            "\u001b[1m30/30\u001b[0m \u001b[32m━━━━━━━━━━━━━━━━━━━━\u001b[0m\u001b[37m\u001b[0m \u001b[1m78s\u001b[0m 2s/step - accuracy: 0.9908 - loss: 0.0233 - precision_3: 0.9855 - recall_3: 0.9909 - val_accuracy: 0.9811 - val_loss: 0.0461 - val_precision_3: 0.9619 - val_recall_3: 0.9951 - learning_rate: 0.0010\n",
            "Epoch 9/15\n",
            "\u001b[1m30/30\u001b[0m \u001b[32m━━━━━━━━━━━━━━━━━━━━\u001b[0m\u001b[37m\u001b[0m \u001b[1m0s\u001b[0m 890ms/step - accuracy: 0.9993 - loss: 0.0070 - precision_3: 0.9989 - recall_3: 0.9993\n",
            "Epoch 9: val_loss did not improve from 0.04610\n",
            "\u001b[1m30/30\u001b[0m \u001b[32m━━━━━━━━━━━━━━━━━━━━\u001b[0m\u001b[37m\u001b[0m \u001b[1m66s\u001b[0m 978ms/step - accuracy: 0.9992 - loss: 0.0071 - precision_3: 0.9988 - recall_3: 0.9992 - val_accuracy: 0.9684 - val_loss: 0.1377 - val_precision_3: 0.9434 - val_recall_3: 0.9852 - learning_rate: 0.0010\n",
            "Epoch 10/15\n",
            "\u001b[1m30/30\u001b[0m \u001b[32m━━━━━━━━━━━━━━━━━━━━\u001b[0m\u001b[37m\u001b[0m \u001b[1m0s\u001b[0m 931ms/step - accuracy: 0.9973 - loss: 0.0095 - precision_3: 0.9966 - recall_3: 0.9968\n",
            "Epoch 10: val_loss did not improve from 0.04610\n",
            "\u001b[1m30/30\u001b[0m \u001b[32m━━━━━━━━━━━━━━━━━━━━\u001b[0m\u001b[37m\u001b[0m \u001b[1m42s\u001b[0m 1s/step - accuracy: 0.9973 - loss: 0.0095 - precision_3: 0.9966 - recall_3: 0.9968 - val_accuracy: 0.9537 - val_loss: 0.1781 - val_precision_3: 1.0000 - val_recall_3: 0.8916 - learning_rate: 0.0010\n",
            "Epoch 11/15\n",
            "\u001b[1m30/30\u001b[0m \u001b[32m━━━━━━━━━━━━━━━━━━━━\u001b[0m\u001b[37m\u001b[0m \u001b[1m0s\u001b[0m 898ms/step - accuracy: 0.9991 - loss: 0.0037 - precision_3: 0.9994 - recall_3: 0.9984\n",
            "Epoch 11: val_loss did not improve from 0.04610\n",
            "\u001b[1m30/30\u001b[0m \u001b[32m━━━━━━━━━━━━━━━━━━━━\u001b[0m\u001b[37m\u001b[0m \u001b[1m40s\u001b[0m 987ms/step - accuracy: 0.9991 - loss: 0.0038 - precision_3: 0.9994 - recall_3: 0.9984 - val_accuracy: 0.7768 - val_loss: 0.9099 - val_precision_3: 1.0000 - val_recall_3: 0.4778 - learning_rate: 0.0010\n",
            "Epoch 12/15\n",
            "\u001b[1m30/30\u001b[0m \u001b[32m━━━━━━━━━━━━━━━━━━━━\u001b[0m\u001b[37m\u001b[0m \u001b[1m0s\u001b[0m 922ms/step - accuracy: 0.9987 - loss: 0.0029 - precision_3: 0.9989 - recall_3: 0.9978\n",
            "Epoch 12: val_loss did not improve from 0.04610\n",
            "\u001b[1m30/30\u001b[0m \u001b[32m━━━━━━━━━━━━━━━━━━━━\u001b[0m\u001b[37m\u001b[0m \u001b[1m41s\u001b[0m 995ms/step - accuracy: 0.9987 - loss: 0.0029 - precision_3: 0.9989 - recall_3: 0.9978 - val_accuracy: 0.9663 - val_loss: 0.1227 - val_precision_3: 1.0000 - val_recall_3: 0.9212 - learning_rate: 5.0000e-04\n",
            "Epoch 13/15\n",
            "\u001b[1m30/30\u001b[0m \u001b[32m━━━━━━━━━━━━━━━━━━━━\u001b[0m\u001b[37m\u001b[0m \u001b[1m0s\u001b[0m 904ms/step - accuracy: 1.0000 - loss: 0.0013 - precision_3: 1.0000 - recall_3: 1.0000\n",
            "Epoch 13: val_loss improved from 0.04610 to 0.03013, saving model to xception.keras\n",
            "\u001b[1m30/30\u001b[0m \u001b[32m━━━━━━━━━━━━━━━━━━━━\u001b[0m\u001b[37m\u001b[0m \u001b[1m54s\u001b[0m 1s/step - accuracy: 1.0000 - loss: 0.0013 - precision_3: 1.0000 - recall_3: 1.0000 - val_accuracy: 0.9958 - val_loss: 0.0301 - val_precision_3: 1.0000 - val_recall_3: 0.9901 - learning_rate: 5.0000e-04\n",
            "Epoch 14/15\n",
            "\u001b[1m30/30\u001b[0m \u001b[32m━━━━━━━━━━━━━━━━━━━━\u001b[0m\u001b[37m\u001b[0m \u001b[1m0s\u001b[0m 887ms/step - accuracy: 1.0000 - loss: 6.5289e-04 - precision_3: 1.0000 - recall_3: 1.0000\n",
            "Epoch 14: val_loss did not improve from 0.03013\n",
            "\u001b[1m30/30\u001b[0m \u001b[32m━━━━━━━━━━━━━━━━━━━━\u001b[0m\u001b[37m\u001b[0m \u001b[1m68s\u001b[0m 976ms/step - accuracy: 1.0000 - loss: 6.6556e-04 - precision_3: 1.0000 - recall_3: 1.0000 - val_accuracy: 0.9916 - val_loss: 0.0364 - val_precision_3: 1.0000 - val_recall_3: 0.9803 - learning_rate: 5.0000e-04\n",
            "Epoch 15/15\n",
            "\u001b[1m30/30\u001b[0m \u001b[32m━━━━━━━━━━━━━━━━━━━━\u001b[0m\u001b[37m\u001b[0m \u001b[1m0s\u001b[0m 929ms/step - accuracy: 1.0000 - loss: 2.3764e-04 - precision_3: 1.0000 - recall_3: 1.0000\n",
            "Epoch 15: val_loss improved from 0.03013 to 0.02196, saving model to xception.keras\n",
            "\u001b[1m30/30\u001b[0m \u001b[32m━━━━━━━━━━━━━━━━━━━━\u001b[0m\u001b[37m\u001b[0m \u001b[1m47s\u001b[0m 2s/step - accuracy: 1.0000 - loss: 2.4272e-04 - precision_3: 1.0000 - recall_3: 1.0000 - val_accuracy: 0.9979 - val_loss: 0.0220 - val_precision_3: 1.0000 - val_recall_3: 0.9951 - learning_rate: 5.0000e-04\n"
          ]
        },
        {
          "data": {
            "text/plain": [
              "<keras.src.callbacks.history.History at 0x7ace9247a8f0>"
            ]
          },
          "execution_count": 27,
          "metadata": {},
          "output_type": "execute_result"
        }
      ],
      "source": [
        "call_backs = callbacks('xception')\n",
        "Xception_model.fit(train_data,epochs=15,validation_data=validation_data,callbacks=call_backs)"
      ]
    },
    {
      "cell_type": "code",
      "execution_count": 28,
      "metadata": {
        "colab": {
          "base_uri": "https://localhost:8080/"
        },
        "id": "luyxFsqTywB6",
        "outputId": "1b32f658-ff9e-422b-959b-29c4e5bde4c0"
      },
      "outputs": [
        {
          "name": "stdout",
          "output_type": "stream",
          "text": [
            "\u001b[1m4/4\u001b[0m \u001b[32m━━━━━━━━━━━━━━━━━━━━\u001b[0m\u001b[37m\u001b[0m \u001b[1m22s\u001b[0m 6s/step - accuracy: 0.9774 - loss: 0.0797 - precision_3: 0.6456 - recall_3: 0.7968\n"
          ]
        },
        {
          "data": {
            "text/plain": [
              "[0.0969008207321167, 0.9760000109672546, 0.9919999837875366, 0.961240291595459]"
            ]
          },
          "execution_count": 28,
          "metadata": {},
          "output_type": "execute_result"
        }
      ],
      "source": [
        "best_Xception = tf.keras.models.load_model('xception.keras')\n",
        "best_Xception.evaluate(test_data,verbose=1)"
      ]
    },
    {
      "cell_type": "code",
      "execution_count": 29,
      "metadata": {
        "colab": {
          "base_uri": "https://localhost:8080/"
        },
        "id": "1AK9fxjpyv_K",
        "outputId": "67e95a50-345b-4fde-ec0b-94ea86499722"
      },
      "outputs": [
        {
          "name": "stdout",
          "output_type": "stream",
          "text": [
            "\u001b[1m4/4\u001b[0m \u001b[32m━━━━━━━━━━━━━━━━━━━━\u001b[0m\u001b[37m\u001b[0m \u001b[1m6s\u001b[0m 944ms/step\n",
            "              precision    recall  f1-score   support\n",
            "\n",
            "           0       0.99      0.96      0.98       125\n",
            "           1       0.96      0.99      0.98       125\n",
            "\n",
            "    accuracy                           0.98       250\n",
            "   macro avg       0.98      0.98      0.98       250\n",
            "weighted avg       0.98      0.98      0.98       250\n",
            "\n"
          ]
        }
      ],
      "source": [
        "y_pred = best_Xception.predict(test_data)\n",
        "y_pred = np.round(y_pred)\n",
        "print(classification_report(y_true,y_pred))"
      ]
    },
    {
      "cell_type": "code",
      "execution_count": 30,
      "metadata": {
        "colab": {
          "base_uri": "https://localhost:8080/",
          "height": 472
        },
        "id": "IgKvTWzpy1G1",
        "outputId": "38387dbc-7708-4ffa-d2b1-1e3eb796392a"
      },
      "outputs": [
        {
          "data": {
            "image/png": "[encoded data removed]",
            "text/plain": [
              "<Figure size 640x480 with 2 Axes>"
            ]
          },
          "metadata": {},
          "output_type": "display_data"
        }
      ],
      "source": [
        "cm = confusion_matrix(y_true, y_pred)\n",
        "sns.heatmap(cm, annot=True, fmt='d', cmap='Blues')\n",
        "plt.xlabel('Predicted')\n",
        "plt.ylabel('True')\n",
        "plt.title('Confusion Matrix')\n",
        "plt.show()"
      ]
    },
    {
      "cell_type": "code",
      "execution_count": 30,
      "metadata": {
        "id": "1h4nGOttzJ4t"
      },
      "outputs": [],
      "source": []
    },
    {
      "cell_type": "code",
      "execution_count": 30,
      "metadata": {
        "id": "iYBxyF7c1UBU"
      },
      "outputs": [],
      "source": []
    },
    {
      "cell_type": "code",
      "execution_count": 30,
      "metadata": {
        "id": "oeBC2pLb1UEO"
      },
      "outputs": [],
      "source": []
    },
    {
      "cell_type": "code",
      "execution_count": null,
      "metadata": {
        "id": "EATIiEecqFwr"
      },
      "outputs": [],
      "source": []
    }
  ],
  "metadata": {
    "accelerator": "GPU",
    "colab": {
      "gpuType": "T4",
      "provenance": []
    },
    "kernelspec": {
      "display_name": "Python 3",
      "name": "python3"
    },
    "language_info": {
      "name": "python"
    }
  },
  "nbformat": 4,
  "nbformat_minor": 0
}
