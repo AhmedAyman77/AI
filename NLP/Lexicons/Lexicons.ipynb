{
  "nbformat": 4,
  "nbformat_minor": 0,
  "metadata": {
    "colab": {
      "provenance": []
    },
    "kernelspec": {
      "name": "python3",
      "display_name": "Python 3"
    },
    "language_info": {
      "name": "python"
    }
  },
  "cells": [
    {
      "cell_type": "code",
      "execution_count": 2,
      "metadata": {
        "colab": {
          "base_uri": "https://localhost:8080/"
        },
        "id": "bbGCiVODAdHr",
        "outputId": "2f334751-80e5-49b8-e761-1f719805884f"
      },
      "outputs": [
        {
          "output_type": "stream",
          "name": "stderr",
          "text": [
            "[nltk_data] Downloading package wordnet to /root/nltk_data...\n"
          ]
        },
        {
          "output_type": "execute_result",
          "data": {
            "text/plain": [
              "True"
            ]
          },
          "metadata": {},
          "execution_count": 2
        }
      ],
      "source": [
        "import nltk\n",
        "nltk.download('wordnet')"
      ]
    },
    {
      "cell_type": "code",
      "source": [
        "from nltk.corpus import wordnet\n",
        "syns = wordnet.synsets(\"program\")\n",
        "syns"
      ],
      "metadata": {
        "colab": {
          "base_uri": "https://localhost:8080/"
        },
        "id": "JnEGMEGQDQ7F",
        "outputId": "898a043f-5de6-4cc3-ea7b-c3f1f50593ca"
      },
      "execution_count": 4,
      "outputs": [
        {
          "output_type": "execute_result",
          "data": {
            "text/plain": [
              "[Synset('plan.n.01'),\n",
              " Synset('program.n.02'),\n",
              " Synset('broadcast.n.02'),\n",
              " Synset('platform.n.02'),\n",
              " Synset('program.n.05'),\n",
              " Synset('course_of_study.n.01'),\n",
              " Synset('program.n.07'),\n",
              " Synset('program.n.08'),\n",
              " Synset('program.v.01'),\n",
              " Synset('program.v.02')]"
            ]
          },
          "metadata": {},
          "execution_count": 4
        }
      ]
    },
    {
      "cell_type": "code",
      "source": [
        "syns[0]"
      ],
      "metadata": {
        "colab": {
          "base_uri": "https://localhost:8080/"
        },
        "id": "wCw48z24Dq8x",
        "outputId": "683aab39-329a-4c77-e3f9-607613e1ae6d"
      },
      "execution_count": 7,
      "outputs": [
        {
          "output_type": "execute_result",
          "data": {
            "text/plain": [
              "Synset('plan.n.01')"
            ]
          },
          "metadata": {},
          "execution_count": 7
        }
      ]
    },
    {
      "cell_type": "code",
      "source": [
        "syns[0].name()"
      ],
      "metadata": {
        "colab": {
          "base_uri": "https://localhost:8080/",
          "height": 35
        },
        "id": "NPS343VDDwya",
        "outputId": "706b1bc5-db6d-41a4-8a3b-6db101b7c07c"
      },
      "execution_count": 8,
      "outputs": [
        {
          "output_type": "execute_result",
          "data": {
            "text/plain": [
              "'plan.n.01'"
            ],
            "application/vnd.google.colaboratory.intrinsic+json": {
              "type": "string"
            }
          },
          "metadata": {},
          "execution_count": 8
        }
      ]
    },
    {
      "cell_type": "code",
      "source": [
        "syns[0].lemmas()"
      ],
      "metadata": {
        "colab": {
          "base_uri": "https://localhost:8080/"
        },
        "id": "wlzqDLaFDzUo",
        "outputId": "f32c1996-9faa-476a-c213-45dee84a8c1c"
      },
      "execution_count": 9,
      "outputs": [
        {
          "output_type": "execute_result",
          "data": {
            "text/plain": [
              "[Lemma('plan.n.01.plan'),\n",
              " Lemma('plan.n.01.program'),\n",
              " Lemma('plan.n.01.programme')]"
            ]
          },
          "metadata": {},
          "execution_count": 9
        }
      ]
    },
    {
      "cell_type": "code",
      "source": [
        "syns[0].lemmas()[0].name()"
      ],
      "metadata": {
        "colab": {
          "base_uri": "https://localhost:8080/",
          "height": 35
        },
        "id": "oi5lOUouD3ir",
        "outputId": "3ea2e95a-4915-4a4b-ad28-6e258ea2fbf0"
      },
      "execution_count": 10,
      "outputs": [
        {
          "output_type": "execute_result",
          "data": {
            "text/plain": [
              "'plan'"
            ],
            "application/vnd.google.colaboratory.intrinsic+json": {
              "type": "string"
            }
          },
          "metadata": {},
          "execution_count": 10
        }
      ]
    },
    {
      "cell_type": "code",
      "source": [
        "syns[0].definition()"
      ],
      "metadata": {
        "colab": {
          "base_uri": "https://localhost:8080/",
          "height": 35
        },
        "id": "OPg2btyKD6Qm",
        "outputId": "722bb164-e19d-43f7-9437-93a2c7cb06b4"
      },
      "execution_count": 11,
      "outputs": [
        {
          "output_type": "execute_result",
          "data": {
            "text/plain": [
              "'a series of steps to be carried out or goals to be accomplished'"
            ],
            "application/vnd.google.colaboratory.intrinsic+json": {
              "type": "string"
            }
          },
          "metadata": {},
          "execution_count": 11
        }
      ]
    },
    {
      "cell_type": "code",
      "source": [
        "synonyms = []\n",
        "antonyms = []\n",
        "\n",
        "for syn in wordnet.synsets(\"good\"):\n",
        "    for l in syn.lemmas():\n",
        "        synonyms.append(l.name())\n",
        "        if l.antonyms():\n",
        "            antonyms.append(l.antonyms()[0].name())\n",
        "\n",
        "print(set(synonyms))\n",
        "print('------------------------------------')\n",
        "print(set(antonyms))"
      ],
      "metadata": {
        "colab": {
          "base_uri": "https://localhost:8080/"
        },
        "id": "5PeWtx1fEBjH",
        "outputId": "58c22b4d-5861-47da-b317-68f6ec77f9f8"
      },
      "execution_count": 14,
      "outputs": [
        {
          "output_type": "stream",
          "name": "stdout",
          "text": [
            "{'honorable', 'practiced', 'upright', 'sound', 'full', 'well', 'skillful', 'safe', 'commodity', 'adept', 'beneficial', 'dependable', 'estimable', 'ripe', 'just', 'serious', 'in_force', 'expert', 'proficient', 'unspoiled', 'goodness', 'effective', 'honest', 'salutary', 'secure', 'unspoilt', 'soundly', 'thoroughly', 'right', 'near', 'trade_good', 'respectable', 'in_effect', 'undecomposed', 'dear', 'good', 'skilful'}\n",
            "------------------------------------\n",
            "{'bad', 'evilness', 'badness', 'ill', 'evil'}\n"
          ]
        }
      ]
    },
    {
      "cell_type": "code",
      "source": [],
      "metadata": {
        "id": "opXbUjevErd9"
      },
      "execution_count": null,
      "outputs": []
    }
  ]
}