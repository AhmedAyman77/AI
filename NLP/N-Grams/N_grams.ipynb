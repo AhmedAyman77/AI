{
  "nbformat": 4,
  "nbformat_minor": 0,
  "metadata": {
    "colab": {
      "provenance": []
    },
    "kernelspec": {
      "name": "python3",
      "display_name": "Python 3"
    },
    "language_info": {
      "name": "python"
    }
  },
  "cells": [
    {
      "cell_type": "code",
      "execution_count": 1,
      "metadata": {
        "id": "gB6oHT9XAd7k"
      },
      "outputs": [],
      "source": [
        "import nltk\n",
        "from nltk.util import ngrams\n"
      ]
    },
    {
      "cell_type": "code",
      "source": [
        "x = \"moses supposes his toeses are roses but moses supposes erroneously\"\n",
        "nltk.download('punkt')\n",
        "tokens = nltk.word_tokenize(x)"
      ],
      "metadata": {
        "colab": {
          "base_uri": "https://localhost:8080/"
        },
        "id": "AURXA1uFB2nN",
        "outputId": "834512b8-8893-4a7d-f64a-36c8fdff98ec"
      },
      "execution_count": 4,
      "outputs": [
        {
          "output_type": "stream",
          "name": "stderr",
          "text": [
            "[nltk_data] Downloading package punkt to /root/nltk_data...\n",
            "[nltk_data]   Unzipping tokenizers/punkt.zip.\n"
          ]
        }
      ]
    },
    {
      "cell_type": "code",
      "source": [
        "biGrams1 = nltk.bigrams(tokens)\n",
        "biGrams2 = ngrams(tokens, 2)\n",
        "\n",
        "for i in biGrams1:\n",
        "    print(i)\n",
        "print('========================')\n",
        "for i in biGrams2:\n",
        "    print(i)"
      ],
      "metadata": {
        "colab": {
          "base_uri": "https://localhost:8080/"
        },
        "id": "2eytMU93CEul",
        "outputId": "da08e4f1-aeed-4691-adfb-df4b1cd9715a"
      },
      "execution_count": 6,
      "outputs": [
        {
          "output_type": "stream",
          "name": "stdout",
          "text": [
            "('moses', 'supposes')\n",
            "('supposes', 'his')\n",
            "('his', 'toeses')\n",
            "('toeses', 'are')\n",
            "('are', 'roses')\n",
            "('roses', 'but')\n",
            "('but', 'moses')\n",
            "('moses', 'supposes')\n",
            "('supposes', 'erroneously')\n",
            "========================\n",
            "('moses', 'supposes')\n",
            "('supposes', 'his')\n",
            "('his', 'toeses')\n",
            "('toeses', 'are')\n",
            "('are', 'roses')\n",
            "('roses', 'but')\n",
            "('but', 'moses')\n",
            "('moses', 'supposes')\n",
            "('supposes', 'erroneously')\n"
          ]
        }
      ]
    },
    {
      "cell_type": "code",
      "source": [
        "biGrams1 = nltk.trigrams(tokens)\n",
        "biGrams2 = ngrams(tokens, 3)\n",
        "\n",
        "for i in biGrams1:\n",
        "    print(i)\n",
        "print('========================')\n",
        "for i in biGrams2:\n",
        "    print(i)"
      ],
      "metadata": {
        "colab": {
          "base_uri": "https://localhost:8080/"
        },
        "id": "_xkBBifCCln1",
        "outputId": "f96224a1-9db7-4b7d-fab6-1faa10ef6783"
      },
      "execution_count": 7,
      "outputs": [
        {
          "output_type": "stream",
          "name": "stdout",
          "text": [
            "('moses', 'supposes', 'his')\n",
            "('supposes', 'his', 'toeses')\n",
            "('his', 'toeses', 'are')\n",
            "('toeses', 'are', 'roses')\n",
            "('are', 'roses', 'but')\n",
            "('roses', 'but', 'moses')\n",
            "('but', 'moses', 'supposes')\n",
            "('moses', 'supposes', 'erroneously')\n",
            "========================\n",
            "('moses', 'supposes', 'his')\n",
            "('supposes', 'his', 'toeses')\n",
            "('his', 'toeses', 'are')\n",
            "('toeses', 'are', 'roses')\n",
            "('are', 'roses', 'but')\n",
            "('roses', 'but', 'moses')\n",
            "('but', 'moses', 'supposes')\n",
            "('moses', 'supposes', 'erroneously')\n"
          ]
        }
      ]
    },
    {
      "cell_type": "code",
      "source": [
        "biGrams = ngrams(tokens, 4)\n",
        "\n",
        "for i in biGrams:\n",
        "    print(i)"
      ],
      "metadata": {
        "colab": {
          "base_uri": "https://localhost:8080/"
        },
        "id": "YYoI6MN0CuKp",
        "outputId": "0ff19302-9121-4acf-aac0-3c13761f17bf"
      },
      "execution_count": 8,
      "outputs": [
        {
          "output_type": "stream",
          "name": "stdout",
          "text": [
            "('moses', 'supposes', 'his', 'toeses')\n",
            "('supposes', 'his', 'toeses', 'are')\n",
            "('his', 'toeses', 'are', 'roses')\n",
            "('toeses', 'are', 'roses', 'but')\n",
            "('are', 'roses', 'but', 'moses')\n",
            "('roses', 'but', 'moses', 'supposes')\n",
            "('but', 'moses', 'supposes', 'erroneously')\n"
          ]
        }
      ]
    },
    {
      "cell_type": "code",
      "source": [
        "biGrams = ngrams(tokens, 12) # number of grams greater than number of tokens\n",
        "for i in biGrams:\n",
        "    print(i)"
      ],
      "metadata": {
        "id": "NRJlYyvMCz3E"
      },
      "execution_count": 10,
      "outputs": []
    },
    {
      "cell_type": "code",
      "source": [],
      "metadata": {
        "id": "p3V5FMSbC1uG"
      },
      "execution_count": null,
      "outputs": []
    }
  ]
}