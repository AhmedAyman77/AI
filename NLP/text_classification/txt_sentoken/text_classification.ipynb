{
  "nbformat": 4,
  "nbformat_minor": 0,
  "metadata": {
    "colab": {
      "provenance": []
    },
    "kernelspec": {
      "name": "python3",
      "display_name": "Python 3"
    },
    "language_info": {
      "name": "python"
    }
  },
  "cells": [
    {
      "cell_type": "code",
      "execution_count": null,
      "metadata": {
        "colab": {
          "base_uri": "https://localhost:8080/"
        },
        "id": "5fgXZZuPzi7D",
        "outputId": "9159675a-2849-4885-d5ec-d3885cef4cae"
      },
      "outputs": [
        {
          "output_type": "stream",
          "name": "stdout",
          "text": [
            "Drive already mounted at /content/drive; to attempt to forcibly remount, call drive.mount(\"/content/drive\", force_remount=True).\n"
          ]
        }
      ],
      "source": [
        "import pandas as pd\n",
        "import warnings\n",
        "from sklearn.datasets import load_files\n",
        "from google.colab import drive\n",
        "drive.mount('/content/drive')\n",
        "warnings.filterwarnings('ignore')"
      ]
    },
    {
      "cell_type": "code",
      "source": [
        "df = load_files(r'/content/drive/MyDrive/Notebooks/txt_sentoken')\n",
        "\n",
        "data , target = df.data , df.target\n",
        "target_names = df.target_names"
      ],
      "metadata": {
        "id": "M6YSVRvt20WM"
      },
      "execution_count": null,
      "outputs": []
    },
    {
      "cell_type": "code",
      "source": [
        "data[:2], target[:2]"
      ],
      "metadata": {
        "colab": {
          "base_uri": "https://localhost:8080/"
        },
        "id": "m60cv7b85Pr1",
        "outputId": "b2e6a0b0-17f9-4f43-9138-691f5923c9f9"
      },
      "execution_count": null,
      "outputs": [
        {
          "output_type": "execute_result",
          "data": {
            "text/plain": [
              "([b\"arnold schwarzenegger has been an icon for action enthusiasts , since the late 80's , but lately his films have been very sloppy and the one-liners are getting worse . \\nit's hard seeing arnold as mr . freeze in batman and robin , especially when he says tons of ice jokes , but hey he got 15 million , what's it matter to him ? \\nonce again arnold has signed to do another expensive blockbuster , that can't compare with the likes of the terminator series , true lies and even eraser . \\nin this so called dark thriller , the devil ( gabriel byrne ) has come upon earth , to impregnate a woman ( robin tunney ) which happens every 1000 years , and basically destroy the world , but apparently god has chosen one man , and that one man is jericho cane ( arnold himself ) . \\nwith the help of a trusty sidekick ( kevin pollack ) , they will stop at nothing to let the devil take over the world ! \\nparts of this are actually so absurd , that they would fit right in with dogma . \\nyes , the film is that weak , but it's better than the other blockbuster right now ( sleepy hollow ) , but it makes the world is not enough look like a 4 star film . \\nanyway , this definitely doesn't seem like an arnold movie . \\nit just wasn't the type of film you can see him doing . \\nsure he gave us a few chuckles with his well known one-liners , but he seemed confused as to where his character and the film was going . \\nit's understandable , especially when the ending had to be changed according to some sources . \\naside form that , he still walked through it , much like he has in the past few films . \\ni'm sorry to say this arnold but maybe these are the end of your action days . \\nspeaking of action , where was it in this film ? \\nthere was hardly any explosions or fights . \\nthe devil made a few places explode , but arnold wasn't kicking some devil butt . \\nthe ending was changed to make it more spiritual , which undoubtedly ruined the film . \\ni was at least hoping for a cool ending if nothing else occurred , but once again i was let down . \\ni also don't know why the film took so long and cost so much . \\nthere was really no super affects at all , unless you consider an invisible devil , who was in it for 5 minutes tops , worth the overpriced budget . \\nthe budget should have gone into a better script , where at least audiences could be somewhat entertained instead of facing boredom . \\nit's pitiful to see how scripts like these get bought and made into a movie . \\ndo they even read these things anymore ? \\nit sure doesn't seem like it . \\nthankfully gabriel's performance gave some light to this poor film . \\nwhen he walks down the street searching for robin tunney , you can't help but feel that he looked like a devil . \\nthe guy is creepy looking anyway ! \\nwhen it's all over , you're just glad it's the end of the movie . \\ndon't bother to see this , if you're expecting a solid action flick , because it's neither solid nor does it have action . \\nit's just another movie that we are suckered in to seeing , due to a strategic marketing campaign . \\nsave your money and see the world is not enough for an entertaining experience . \\n\",\n",
              "  b\"good films are hard to find these days . \\ngreat films are beyond rare . \\nproof of life , russell crowe's one-two punch of a deft kidnap and rescue thriller , is one of those rare gems . \\na taut drama laced with strong and subtle acting , an intelligent script , and masterful directing , together it delivers something virtually unheard of in the film industry these days , genuine motivation in a story that rings true . \\nconsider the strange coincidence of russell crowe's character in proof of life making the moves on a distraught wife played by meg ryan's character in the film -- all while the real russell crowe was hitching up with married woman meg ryan in the outside world . \\ni haven't seen this much chemistry between actors since mcqueen and mcgraw teamed up in peckinpah's masterpiece , the getaway . \\nbut enough with the gossip , let's get to the review . \\nthe film revolves around the kidnapping of peter bowman ( david morse ) , an american engineer working in south america who is kidnapped during a mass ambush of civilians by anti-government soldiers . \\nupon discovering his identity , the rebel soldiers decide to ransom him for $6 million . \\nthe only problem is that the company peter bowman works for is being auctioned off , and no one will step forward with the money . \\nwith no choice available to her , bowman's wife alice ( ryan ) hires terry thorne ( crowe ) , a highly skilled negotiator and rescue operative , to arrange the return of her husband . \\nbut when things go wrong -- as they always do in these situations -- terry and his team ( which includes the most surprising casting choice of the year : david caruso ) take matters into their own hands . \\nthe film is notable in that it takes this very simple story line and creates a complex and intelligent character-driven vehicle filled with well-written dialogue , shades of motivation , and convincing acting by all the actors . \\nthe script is based on both a book ( the long march to freedom ) and a magazine article pertaining to kidnap/ransom situations , and the story has been sharply pieced together by tony gilroy , screenwriter of the devil's advocate and dolores claiborne . \\nthe biggest surprise for me was not the chemistry between crowe and ryan , but that between crowe and david caruso . \\ndug out from b-movie hell , caruso pulls off a gutsy performance as crowe's right hand gun while providing most of the film's humor . \\nryan cries a lot and smokes too many cigarettes , david morse ends up getting everyone at the guerilla camp to hate him , and crowe provides another memorable acting turn as the stoic , gunslinger character of terry thorne . \\nthe most memorable pieces of the film lie in its action scenes . \\nthe bulk of those scenes , which bookend the movie , work extremely well as establishment and closure devices for all of the story's characters . \\nthe scenes are skillfully crafted and executed with amazing accuracy and poise . \\ndirector taylor hackford mixes both his old-school style of filmmaking with the dizziness of a lars von trier film . \\nproof of life is a thinking man's action movie . \\nit is a film about the choices men and women make in the face of love and war , and the sacrifices one makes for those choices -- the sacrifices that help you sleep at night . \\n\"],\n",
              " array([0, 1]))"
            ]
          },
          "metadata": {},
          "execution_count": 5
        }
      ]
    },
    {
      "cell_type": "code",
      "source": [
        "target_names"
      ],
      "metadata": {
        "colab": {
          "base_uri": "https://localhost:8080/"
        },
        "id": "qqIHyYxp7MlN",
        "outputId": "534476b6-657d-42c7-f505-4e7b8a306116"
      },
      "execution_count": null,
      "outputs": [
        {
          "output_type": "execute_result",
          "data": {
            "text/plain": [
              "['neg', 'pos']"
            ]
          },
          "metadata": {},
          "execution_count": 6
        }
      ]
    },
    {
      "cell_type": "code",
      "source": [
        "# convert data to list of string\n",
        "data = [doc.decode('utf-8') for doc in data]"
      ],
      "metadata": {
        "id": "zL-grfa68qy8"
      },
      "execution_count": null,
      "outputs": []
    },
    {
      "cell_type": "code",
      "source": [
        "import re\n",
        "import spacy\n",
        "\n",
        "nlp = spacy.load('en_core_web_sm')\n",
        "\n",
        "def clean_txt(text):\n",
        "  # tolower\n",
        "  text = text.lower()\n",
        "\n",
        "  # remove any non alphanumeric\n",
        "  text = re.sub(r'[^a-zA-Z0-9\\s]', ' ', text)\n",
        "\n",
        "  # remove any sigle character\n",
        "  text = re.sub(r'\\s+[a-zA-Z]\\s+', ' ', text)\n",
        "\n",
        "  # remove extra spaces\n",
        "  text = re.sub(r'\\s+', ' ', text)\n",
        "\n",
        "  doc = nlp(text)\n",
        "\n",
        "  txt = [token.lemma_ for token in doc if not token.is_stop and not token.is_punct]\n",
        "\n",
        "  return \" \".join(txt)"
      ],
      "metadata": {
        "id": "cikOTJ_T7O9i"
      },
      "execution_count": null,
      "outputs": []
    },
    {
      "cell_type": "code",
      "source": [
        "data[0]"
      ],
      "metadata": {
        "colab": {
          "base_uri": "https://localhost:8080/",
          "height": 105
        },
        "id": "xTc3Budg8T2m",
        "outputId": "70c05a84-cf95-4874-ea20-6cc10a739812"
      },
      "execution_count": null,
      "outputs": [
        {
          "output_type": "execute_result",
          "data": {
            "text/plain": [
              "\"arnold schwarzenegger has been an icon for action enthusiasts , since the late 80's , but lately his films have been very sloppy and the one-liners are getting worse . \\nit's hard seeing arnold as mr . freeze in batman and robin , especially when he says tons of ice jokes , but hey he got 15 million , what's it matter to him ? \\nonce again arnold has signed to do another expensive blockbuster , that can't compare with the likes of the terminator series , true lies and even eraser . \\nin this so called dark thriller , the devil ( gabriel byrne ) has come upon earth , to impregnate a woman ( robin tunney ) which happens every 1000 years , and basically destroy the world , but apparently god has chosen one man , and that one man is jericho cane ( arnold himself ) . \\nwith the help of a trusty sidekick ( kevin pollack ) , they will stop at nothing to let the devil take over the world ! \\nparts of this are actually so absurd , that they would fit right in with dogma . \\nyes , the film is that weak , but it's better than the other blockbuster right now ( sleepy hollow ) , but it makes the world is not enough look like a 4 star film . \\nanyway , this definitely doesn't seem like an arnold movie . \\nit just wasn't the type of film you can see him doing . \\nsure he gave us a few chuckles with his well known one-liners , but he seemed confused as to where his character and the film was going . \\nit's understandable , especially when the ending had to be changed according to some sources . \\naside form that , he still walked through it , much like he has in the past few films . \\ni'm sorry to say this arnold but maybe these are the end of your action days . \\nspeaking of action , where was it in this film ? \\nthere was hardly any explosions or fights . \\nthe devil made a few places explode , but arnold wasn't kicking some devil butt . \\nthe ending was changed to make it more spiritual , which undoubtedly ruined the film . \\ni was at least hoping for a cool ending if nothing else occurred , but once again i was let down . \\ni also don't know why the film took so long and cost so much . \\nthere was really no super affects at all , unless you consider an invisible devil , who was in it for 5 minutes tops , worth the overpriced budget . \\nthe budget should have gone into a better script , where at least audiences could be somewhat entertained instead of facing boredom . \\nit's pitiful to see how scripts like these get bought and made into a movie . \\ndo they even read these things anymore ? \\nit sure doesn't seem like it . \\nthankfully gabriel's performance gave some light to this poor film . \\nwhen he walks down the street searching for robin tunney , you can't help but feel that he looked like a devil . \\nthe guy is creepy looking anyway ! \\nwhen it's all over , you're just glad it's the end of the movie . \\ndon't bother to see this , if you're expecting a solid action flick , because it's neither solid nor does it have action . \\nit's just another movie that we are suckered in to seeing , due to a strategic marketing campaign . \\nsave your money and see the world is not enough for an entertaining experience . \\n\""
            ],
            "application/vnd.google.colaboratory.intrinsic+json": {
              "type": "string"
            }
          },
          "metadata": {},
          "execution_count": 23
        }
      ]
    },
    {
      "cell_type": "code",
      "source": [
        "clean_txt(data[0])"
      ],
      "metadata": {
        "colab": {
          "base_uri": "https://localhost:8080/",
          "height": 105
        },
        "id": "TFhdDr0_8PGt",
        "outputId": "a3cccba9-4736-4fb8-86b8-96979f0bbd57"
      },
      "execution_count": null,
      "outputs": [
        {
          "output_type": "execute_result",
          "data": {
            "text/plain": [
              "'arnold schwarzenegger icon action enthusiast late 80 lately film sloppy liner get bad hard see arnold mr freeze batman robin especially say ton ice joke hey get 15 million matter arnold sign expensive blockbuster compare like terminator series true lie eraser call dark thriller devil gabriel byrne come earth impregnate woman robin tunney happen 1000 year basically destroy world apparently god choose man man jericho cane arnold help trusty sidekick kevin pollack stop let devil world part actually absurd fit right dogma yes film weak well blockbuster right sleepy hollow make world look like 4 star film definitely doesn like arnold movie wasn type film sure give chuckle know liner confused character film go understandable especially ending change accord source aside form walk like past film m sorry arnold maybe end action day speak action film hardly explosion fight devil place explode arnold wasn kick devil butt ending change spiritual undoubtedly ruin film hope cool ending occur let don know film take long cost super affect consider invisible devil 5 minute top worth overpriced budget budget go well script audience somewhat entertained instead face boredom pitiful script like buy movie read thing anymore sure doesn like thankfully gabriel performance give light poor film walk street search robin tunney help feel look like devil guy creepy look glad end movie don bother expect solid action flick solid action movie suckere see strategic marketing campaign save money world entertaining experience'"
            ],
            "application/vnd.google.colaboratory.intrinsic+json": {
              "type": "string"
            }
          },
          "metadata": {},
          "execution_count": 24
        }
      ]
    },
    {
      "cell_type": "code",
      "source": [
        "df = pd.DataFrame({'text': data, 'target': target})\n",
        "df.head()"
      ],
      "metadata": {
        "colab": {
          "base_uri": "https://localhost:8080/",
          "height": 206
        },
        "id": "u4uArx5g8Ycj",
        "outputId": "35086235-8a89-44f3-9b91-375b8389e56b"
      },
      "execution_count": null,
      "outputs": [
        {
          "output_type": "execute_result",
          "data": {
            "text/plain": [
              "                                                text  target\n",
              "0  arnold schwarzenegger has been an icon for act...       0\n",
              "1  good films are hard to find these days . \\ngre...       1\n",
              "2  quaid stars as a man who has taken up the prof...       1\n",
              "3  we could paraphrase michelle pfieffer's charac...       0\n",
              "4  kolya is one of the richest films i've seen in...       1"
            ],
            "text/html": [
              "\n",
              "  <div id=\"df-8b169e77-d219-4d52-9074-6346f3fc2ca4\" class=\"colab-df-container\">\n",
              "    <div>\n",
              "<style scoped>\n",
              "    .dataframe tbody tr th:only-of-type {\n",
              "        vertical-align: middle;\n",
              "    }\n",
              "\n",
              "    .dataframe tbody tr th {\n",
              "        vertical-align: top;\n",
              "    }\n",
              "\n",
              "    .dataframe thead th {\n",
              "        text-align: right;\n",
              "    }\n",
              "</style>\n",
              "<table border=\"1\" class=\"dataframe\">\n",
              "  <thead>\n",
              "    <tr style=\"text-align: right;\">\n",
              "      <th></th>\n",
              "      <th>text</th>\n",
              "      <th>target</th>\n",
              "    </tr>\n",
              "  </thead>\n",
              "  <tbody>\n",
              "    <tr>\n",
              "      <th>0</th>\n",
              "      <td>arnold schwarzenegger has been an icon for act...</td>\n",
              "      <td>0</td>\n",
              "    </tr>\n",
              "    <tr>\n",
              "      <th>1</th>\n",
              "      <td>good films are hard to find these days . \\ngre...</td>\n",
              "      <td>1</td>\n",
              "    </tr>\n",
              "    <tr>\n",
              "      <th>2</th>\n",
              "      <td>quaid stars as a man who has taken up the prof...</td>\n",
              "      <td>1</td>\n",
              "    </tr>\n",
              "    <tr>\n",
              "      <th>3</th>\n",
              "      <td>we could paraphrase michelle pfieffer's charac...</td>\n",
              "      <td>0</td>\n",
              "    </tr>\n",
              "    <tr>\n",
              "      <th>4</th>\n",
              "      <td>kolya is one of the richest films i've seen in...</td>\n",
              "      <td>1</td>\n",
              "    </tr>\n",
              "  </tbody>\n",
              "</table>\n",
              "</div>\n",
              "    <div class=\"colab-df-buttons\">\n",
              "\n",
              "  <div class=\"colab-df-container\">\n",
              "    <button class=\"colab-df-convert\" onclick=\"convertToInteractive('df-8b169e77-d219-4d52-9074-6346f3fc2ca4')\"\n",
              "            title=\"Convert this dataframe to an interactive table.\"\n",
              "            style=\"display:none;\">\n",
              "\n",
              "  <svg xmlns=\"http://www.w3.org/2000/svg\" height=\"24px\" viewBox=\"0 -960 960 960\">\n",
              "    <path d=\"M120-120v-720h720v720H120Zm60-500h600v-160H180v160Zm220 220h160v-160H400v160Zm0 220h160v-160H400v160ZM180-400h160v-160H180v160Zm440 0h160v-160H620v160ZM180-180h160v-160H180v160Zm440 0h160v-160H620v160Z\"/>\n",
              "  </svg>\n",
              "    </button>\n",
              "\n",
              "  <style>\n",
              "    .colab-df-container {\n",
              "      display:flex;\n",
              "      gap: 12px;\n",
              "    }\n",
              "\n",
              "    .colab-df-convert {\n",
              "      background-color: #E8F0FE;\n",
              "      border: none;\n",
              "      border-radius: 50%;\n",
              "      cursor: pointer;\n",
              "      display: none;\n",
              "      fill: #1967D2;\n",
              "      height: 32px;\n",
              "      padding: 0 0 0 0;\n",
              "      width: 32px;\n",
              "    }\n",
              "\n",
              "    .colab-df-convert:hover {\n",
              "      background-color: #E2EBFA;\n",
              "      box-shadow: 0px 1px 2px rgba(60, 64, 67, 0.3), 0px 1px 3px 1px rgba(60, 64, 67, 0.15);\n",
              "      fill: #174EA6;\n",
              "    }\n",
              "\n",
              "    .colab-df-buttons div {\n",
              "      margin-bottom: 4px;\n",
              "    }\n",
              "\n",
              "    [theme=dark] .colab-df-convert {\n",
              "      background-color: #3B4455;\n",
              "      fill: #D2E3FC;\n",
              "    }\n",
              "\n",
              "    [theme=dark] .colab-df-convert:hover {\n",
              "      background-color: #434B5C;\n",
              "      box-shadow: 0px 1px 3px 1px rgba(0, 0, 0, 0.15);\n",
              "      filter: drop-shadow(0px 1px 2px rgba(0, 0, 0, 0.3));\n",
              "      fill: #FFFFFF;\n",
              "    }\n",
              "  </style>\n",
              "\n",
              "    <script>\n",
              "      const buttonEl =\n",
              "        document.querySelector('#df-8b169e77-d219-4d52-9074-6346f3fc2ca4 button.colab-df-convert');\n",
              "      buttonEl.style.display =\n",
              "        google.colab.kernel.accessAllowed ? 'block' : 'none';\n",
              "\n",
              "      async function convertToInteractive(key) {\n",
              "        const element = document.querySelector('#df-8b169e77-d219-4d52-9074-6346f3fc2ca4');\n",
              "        const dataTable =\n",
              "          await google.colab.kernel.invokeFunction('convertToInteractive',\n",
              "                                                    [key], {});\n",
              "        if (!dataTable) return;\n",
              "\n",
              "        const docLinkHtml = 'Like what you see? Visit the ' +\n",
              "          '<a target=\"_blank\" href=https://colab.research.google.com/notebooks/data_table.ipynb>data table notebook</a>'\n",
              "          + ' to learn more about interactive tables.';\n",
              "        element.innerHTML = '';\n",
              "        dataTable['output_type'] = 'display_data';\n",
              "        await google.colab.output.renderOutput(dataTable, element);\n",
              "        const docLink = document.createElement('div');\n",
              "        docLink.innerHTML = docLinkHtml;\n",
              "        element.appendChild(docLink);\n",
              "      }\n",
              "    </script>\n",
              "  </div>\n",
              "\n",
              "\n",
              "<div id=\"df-dda5d40d-52ad-4144-8587-19d96c6fcaee\">\n",
              "  <button class=\"colab-df-quickchart\" onclick=\"quickchart('df-dda5d40d-52ad-4144-8587-19d96c6fcaee')\"\n",
              "            title=\"Suggest charts\"\n",
              "            style=\"display:none;\">\n",
              "\n",
              "<svg xmlns=\"http://www.w3.org/2000/svg\" height=\"24px\"viewBox=\"0 0 24 24\"\n",
              "     width=\"24px\">\n",
              "    <g>\n",
              "        <path d=\"M19 3H5c-1.1 0-2 .9-2 2v14c0 1.1.9 2 2 2h14c1.1 0 2-.9 2-2V5c0-1.1-.9-2-2-2zM9 17H7v-7h2v7zm4 0h-2V7h2v10zm4 0h-2v-4h2v4z\"/>\n",
              "    </g>\n",
              "</svg>\n",
              "  </button>\n",
              "\n",
              "<style>\n",
              "  .colab-df-quickchart {\n",
              "      --bg-color: #E8F0FE;\n",
              "      --fill-color: #1967D2;\n",
              "      --hover-bg-color: #E2EBFA;\n",
              "      --hover-fill-color: #174EA6;\n",
              "      --disabled-fill-color: #AAA;\n",
              "      --disabled-bg-color: #DDD;\n",
              "  }\n",
              "\n",
              "  [theme=dark] .colab-df-quickchart {\n",
              "      --bg-color: #3B4455;\n",
              "      --fill-color: #D2E3FC;\n",
              "      --hover-bg-color: #434B5C;\n",
              "      --hover-fill-color: #FFFFFF;\n",
              "      --disabled-bg-color: #3B4455;\n",
              "      --disabled-fill-color: #666;\n",
              "  }\n",
              "\n",
              "  .colab-df-quickchart {\n",
              "    background-color: var(--bg-color);\n",
              "    border: none;\n",
              "    border-radius: 50%;\n",
              "    cursor: pointer;\n",
              "    display: none;\n",
              "    fill: var(--fill-color);\n",
              "    height: 32px;\n",
              "    padding: 0;\n",
              "    width: 32px;\n",
              "  }\n",
              "\n",
              "  .colab-df-quickchart:hover {\n",
              "    background-color: var(--hover-bg-color);\n",
              "    box-shadow: 0 1px 2px rgba(60, 64, 67, 0.3), 0 1px 3px 1px rgba(60, 64, 67, 0.15);\n",
              "    fill: var(--button-hover-fill-color);\n",
              "  }\n",
              "\n",
              "  .colab-df-quickchart-complete:disabled,\n",
              "  .colab-df-quickchart-complete:disabled:hover {\n",
              "    background-color: var(--disabled-bg-color);\n",
              "    fill: var(--disabled-fill-color);\n",
              "    box-shadow: none;\n",
              "  }\n",
              "\n",
              "  .colab-df-spinner {\n",
              "    border: 2px solid var(--fill-color);\n",
              "    border-color: transparent;\n",
              "    border-bottom-color: var(--fill-color);\n",
              "    animation:\n",
              "      spin 1s steps(1) infinite;\n",
              "  }\n",
              "\n",
              "  @keyframes spin {\n",
              "    0% {\n",
              "      border-color: transparent;\n",
              "      border-bottom-color: var(--fill-color);\n",
              "      border-left-color: var(--fill-color);\n",
              "    }\n",
              "    20% {\n",
              "      border-color: transparent;\n",
              "      border-left-color: var(--fill-color);\n",
              "      border-top-color: var(--fill-color);\n",
              "    }\n",
              "    30% {\n",
              "      border-color: transparent;\n",
              "      border-left-color: var(--fill-color);\n",
              "      border-top-color: var(--fill-color);\n",
              "      border-right-color: var(--fill-color);\n",
              "    }\n",
              "    40% {\n",
              "      border-color: transparent;\n",
              "      border-right-color: var(--fill-color);\n",
              "      border-top-color: var(--fill-color);\n",
              "    }\n",
              "    60% {\n",
              "      border-color: transparent;\n",
              "      border-right-color: var(--fill-color);\n",
              "    }\n",
              "    80% {\n",
              "      border-color: transparent;\n",
              "      border-right-color: var(--fill-color);\n",
              "      border-bottom-color: var(--fill-color);\n",
              "    }\n",
              "    90% {\n",
              "      border-color: transparent;\n",
              "      border-bottom-color: var(--fill-color);\n",
              "    }\n",
              "  }\n",
              "</style>\n",
              "\n",
              "  <script>\n",
              "    async function quickchart(key) {\n",
              "      const quickchartButtonEl =\n",
              "        document.querySelector('#' + key + ' button');\n",
              "      quickchartButtonEl.disabled = true;  // To prevent multiple clicks.\n",
              "      quickchartButtonEl.classList.add('colab-df-spinner');\n",
              "      try {\n",
              "        const charts = await google.colab.kernel.invokeFunction(\n",
              "            'suggestCharts', [key], {});\n",
              "      } catch (error) {\n",
              "        console.error('Error during call to suggestCharts:', error);\n",
              "      }\n",
              "      quickchartButtonEl.classList.remove('colab-df-spinner');\n",
              "      quickchartButtonEl.classList.add('colab-df-quickchart-complete');\n",
              "    }\n",
              "    (() => {\n",
              "      let quickchartButtonEl =\n",
              "        document.querySelector('#df-dda5d40d-52ad-4144-8587-19d96c6fcaee button');\n",
              "      quickchartButtonEl.style.display =\n",
              "        google.colab.kernel.accessAllowed ? 'block' : 'none';\n",
              "    })();\n",
              "  </script>\n",
              "</div>\n",
              "\n",
              "    </div>\n",
              "  </div>\n"
            ],
            "application/vnd.google.colaboratory.intrinsic+json": {
              "type": "dataframe",
              "variable_name": "df",
              "summary": "{\n  \"name\": \"df\",\n  \"rows\": 2000,\n  \"fields\": [\n    {\n      \"column\": \"text\",\n      \"properties\": {\n        \"dtype\": \"string\",\n        \"num_unique_values\": 2000,\n        \"samples\": [\n          \"apollo 13 is simply one of the most dramatic film this summer ( apart from swashbuckling braveheart ) . \\ndirector ( and former actor ) ron howard ( splash , backdraft , far & away ) , most noted for his dramatic film making , displays again his brilliance in creating drama and suspense in apollo 13 . \\nbeing the second largest box office hit in the us this summer ( with more than us$150 million in the states alone ) , this film is his most successful effort yet . \\nperhaps one of the most appealing feature of this film is the pool of talented actors such as tom hanks ( gump himself ) , kevin bacon ( footloose , tremors , a few good men etc . ) , gary sinise ( forrest gump ) , bill paxton ( aliens , true lies , boxing helena ) and ed harris ( the abyss , just cause ) . . \\nall of whom gave good performances in their respective roles . \\napollo 13 was the second worst accident ever to occur in the history of us spaceflight ( the worst being the challenger accident ) . \\njim lovell ( hanks ) , the mission commander , together with his crew , fred haise ( paxton ) and last minute replacement tom swigert ( bacon ) are put to the ultimate test when part of their command module explodes on the third day of the mission , more than three quarters way to the moon . \\nsuspense and drama ensue as the three men are left in space with their spaceship out of control and the problem of surviving the journey home . . . \\nif they ever reach it . \\ned harris and gary sinise who play , respectively , the man in charge of the entire mission control and the astronaut who was supposed to fly but was diagnosed with measles , both delve into their roles superbly . \\naudiences are shown the chaotic and worrisome state of the entire ground control crew , as they frantically attempt to come up with ideas on how to save the astronauts from hurtling into space . \\nalso , there are quite a number of real news footages which were broadcast during the accident which took the entire us nation into 5 days of drama in 1970 . \\nthe special effects by digital domain are up to standard and the music suits the suspense and drama very well , thanks to film-music maestro james horner . \\nwatch out for the launching sequence , it is simply one of the most breathtaking scenes of the film . \\na bad point though : apollo 13 features much technical jargon and many physics concepts in its script . \\nthose who consider themselves `scientifically illiterate' might have a slight problem understanding what caused this and what caused that during the course of the show . \\nthis is however , just a minor point , just forget all those technical bullshit and immerse yourselves into the drama and suspense throughout the film . \\nyou should enjoy it . \\n\",\n          \"_dirty_work_ has a premise of deliciously mean-spirited potential . \\nmitch weaver ( norm macdonald ) and his lifelong best friend sam mckenna ( artie lange ) are losers in life : they were constantly picked on in school , and now they cannot hold regular jobs . \\nbut as the trailer goes , \\\" there is one thing mitch weaver is good at--revenge . \\\" \\nso he and sam parlay their unmatched skill in getting-even schemes into a marketable revenge-for-hire business called dirty work inc . \\nthis should be the groundwork for a wonderfully wicked black comedy , but for a film called _dirty_work_ , what ensues is rather clean of spirit . \\nin fact , what makes mitch and sam start up their business is not a giddy desire to give bullies a taste of their own medicine , but rather a more sappy reason : sam's father ( jack warden ) needs a heart transplant , and in order for him to move at the top of the recipient list , his compulsively betting doctor ( chevy chase ) asks the guys for $50 , 000 to pay off his bookie . \\nso for all the scheming that goes on , beneath every underhanded plot is--gasp ! --a \\nheart , which undercuts the inherent nastiness of the premise . \\nnot that there isn't a lot of nastiness on display--there is , but of a different sort . \\nthere are frequent sexual references , most prominently in the form of prostitutes and sam's impotent father's ongoing lust for them . \\nand for a film rated pg-13 , director bob saget ( yes , that bob saget , of _full_house_ and _america's_funniest_home_videos_ fame ) and writers frank sebastiano , fred wolf , and macdonald himself , stretch the boundaries of good taste rather far--arguably a bit too much so ( was not one , but two separate instances of sodomy between animals really necessary ? ) . \\nbut the issue , of course , is not so much of taste as it is humor--as in , is it funny or not ? \\nthe answer is a resounding no . \\nit's not that macdonald isn't a funny guy . \\nhe was one of the more consistently funny performers on _saturday_night_live_ before his much-talked-about firing , and his dry brand of smartass wit translates well to the big screen ; it also doesn't hurt that he's a natural , likable screen presence . \\nhe is able to give some of his lines a nice acid touch , but , for the most part , the oneliners , as written , are flat , and the broad slapstick gags just don't work ( one running gag has him being literally tossed out of buildings--a real riot ) . \\nstill , macdonald's few shining moments are just about the only moments the film has . \\nthe late chris farley , as hysterical as he ever was , is amusing in a cameo role , but , as a whole , the supporting players are amateurish and seemingly free from any directorial guidance . \\nsaget tries to juice up the proceedings with kitschy cameos by gary coleman , adam sandler , and john goodman , but their minimal novelty value cannot prevent _dirty_work_ from sputtering to the end of its brief 81-minute running time . \\nthe film closes on a sad note of desperation , an indulgent reel of outtakes from which only those involved in the production would derive any amusement . \\ncome to think of it , i cannot imagine anyone but those involved in the production to find much amusement in the entirety of _dirty_work_ . \\n\",\n          \"while it was part of former yugoslavia , my country , croatia , used to be almost completely ignored by western films in general . \\nwords \\\" croatia \\\" and \\\" croatians \\\" were unheard , even in movies whose plots actually took place on croatian locations . \\nthe rare exception was the dogs of war , 1980 adaptation of frederick forsyth's bestselling novel , yet that rare occasion only added insult to the injury , by mentioning croatians in most unflattering context . \\nin a single line they are referred as a bunch of mean people , probably terrorists , who happen to remove parts of arm dealers' stomachs when they are unsatisfied with the quality of merchandise . \\nsame line also illustrates the milieu where the movie takes place - dark and violent world of shady international deals with the blurred boundaries between business , politics and crime . \\nthe movie protagonist , shannon ( christopher walken ) is a mercenary who spent the best years of his life fighting numerous little wars all over the globe . \\nhis latest job is a intelligence mission for powerful mining corporation that demands information about political climate in west african nation of zangaro . \\nshannon arrives in that country only to find oppressive regime of president kimba , bloodthirsty madman whose brutality crushed any opposition and scared almost any westerners away . \\nafter being arrested and tortured by kimba's secret police , shannon leaves country with a help of british journalist north ( colin blakely ) . \\nupon return , he is approached by mining company again , but this time they want him to plan and execute the coup d'etat against kimba . \\nshannon reluctantly agrees and assembles small group of his surviving mercenary friends who begin meticulous preparation for another small war . \\nthing that separates the dogs of war from conventional action movies , especially those made in 1980s , is its authenticity , almost close to documentary . \\nit shouldn't surprise anyone , because the author of the novel , frederick forsyth , made reputation by blending fiction with real life , thus creating interesting , exciting yet very believable plots for his books . \\nthose plots were also responsible for few very successful 1970s thrillers , and one of them , zinnemman's the day of the jackal , is now considered a classic in that genre . \\nthis one deals with soldiers of fortune , ancient tradition that was resurrected in great turmoil of 1960s and 1970s and filled the void left by vanishing colonial empires . \\nunlike wild geese , that used it as a pretext for conventional action adventure , script by george malko and gary de vore ( author whose death last year became real life mystery ) is serious , and instead of action puts emphasis on characters and prosaic details of their work . \\nthe movie doesn't try to romanticise the mercenary profession nor glorify mercenaries as some kind of superheroes ; they are simply shown as deadly yet expendable tool of powerful forces with questionable agenda . \\nchristopher walken played in many movies , yet very rarely we can see him in a leading role . \\nhis performance in this film perhaps isn't breathtaking , yet adequate . \\nhis notoriously expressionless face is perfect illustration of the disillusioned , world- weary man whose alienation from the \\\" normal \\\" way of life becomes complete and only remaining ideal is loyalty to the shrinking circle of friends . \\nalthough the movie doesn't lack capable actors , their roles are miniature compared with walken's , and only colin blakely as cynical reporter has opportunity to portray his character . \\nhowever , those who look familiar faces would find them plenty in the dogs of war - tom berenger , paul freeman , jo beth williams , victoria tennant ( in brief cameo ) , and biggest surprise is ed o'neill ( of married with children fame ) as shannon's reluctant colleague . \\nthis was the first major production for john irvin , and it shows why he earned the reputation of capable , yet second class director . \\nwith the good script he can make very good movie , with the bad script he can make real mess . \\nluckily , the dogs of war had a good script . \\nirvin's direction was very ascetic and it gave the movie almost documentary feel . \\nthe only distraction is dramatic music of geoffrey burgon , used on the wrong places . \\nin the final battle scene , where we can see mercenaries at work , irvin shows us that modern warfare means superior firepower and tactics , unlike 1980s ramboesque fantasies that rely on macho superheroes . \\nunfortunately , by making battle realistic irvin made it somewhat less attractive and his sloppy editing also didn't help . \\nbut , despite those shortcomings , this movie remains interesting and rare combination of action thriller and gritty , realistic political drama . \\n\"\n        ],\n        \"semantic_type\": \"\",\n        \"description\": \"\"\n      }\n    },\n    {\n      \"column\": \"target\",\n      \"properties\": {\n        \"dtype\": \"number\",\n        \"std\": 0,\n        \"min\": 0,\n        \"max\": 1,\n        \"num_unique_values\": 2,\n        \"samples\": [\n          1,\n          0\n        ],\n        \"semantic_type\": \"\",\n        \"description\": \"\"\n      }\n    }\n  ]\n}"
            }
          },
          "metadata": {},
          "execution_count": 25
        }
      ]
    },
    {
      "cell_type": "code",
      "source": [
        "df.shape"
      ],
      "metadata": {
        "colab": {
          "base_uri": "https://localhost:8080/"
        },
        "id": "zoxrFEwX9xqF",
        "outputId": "2f6b7958-8e61-4ecf-9eee-6d96ca315e57"
      },
      "execution_count": null,
      "outputs": [
        {
          "output_type": "execute_result",
          "data": {
            "text/plain": [
              "(2000, 2)"
            ]
          },
          "metadata": {},
          "execution_count": 27
        }
      ]
    },
    {
      "cell_type": "code",
      "source": [
        "df.target.value_counts()"
      ],
      "metadata": {
        "id": "a91UQQa891nl",
        "colab": {
          "base_uri": "https://localhost:8080/",
          "height": 178
        },
        "outputId": "4752c1ba-73b5-43c2-93f8-feb41cba6794"
      },
      "execution_count": 30,
      "outputs": [
        {
          "output_type": "execute_result",
          "data": {
            "text/plain": [
              "target\n",
              "0    1000\n",
              "1    1000\n",
              "Name: count, dtype: int64"
            ],
            "text/html": [
              "<div>\n",
              "<style scoped>\n",
              "    .dataframe tbody tr th:only-of-type {\n",
              "        vertical-align: middle;\n",
              "    }\n",
              "\n",
              "    .dataframe tbody tr th {\n",
              "        vertical-align: top;\n",
              "    }\n",
              "\n",
              "    .dataframe thead th {\n",
              "        text-align: right;\n",
              "    }\n",
              "</style>\n",
              "<table border=\"1\" class=\"dataframe\">\n",
              "  <thead>\n",
              "    <tr style=\"text-align: right;\">\n",
              "      <th></th>\n",
              "      <th>count</th>\n",
              "    </tr>\n",
              "    <tr>\n",
              "      <th>target</th>\n",
              "      <th></th>\n",
              "    </tr>\n",
              "  </thead>\n",
              "  <tbody>\n",
              "    <tr>\n",
              "      <th>0</th>\n",
              "      <td>1000</td>\n",
              "    </tr>\n",
              "    <tr>\n",
              "      <th>1</th>\n",
              "      <td>1000</td>\n",
              "    </tr>\n",
              "  </tbody>\n",
              "</table>\n",
              "</div><br><label><b>dtype:</b> int64</label>"
            ]
          },
          "metadata": {},
          "execution_count": 30
        }
      ]
    },
    {
      "cell_type": "code",
      "source": [
        "df['cleaned_text'] = df['text'].apply(clean_txt)\n",
        "df.head()"
      ],
      "metadata": {
        "id": "4ZZJVOyI9rcw",
        "colab": {
          "base_uri": "https://localhost:8080/",
          "height": 206
        },
        "outputId": "394f2d5a-2b63-4ff1-e9c9-20b24ff63c16"
      },
      "execution_count": 28,
      "outputs": [
        {
          "output_type": "execute_result",
          "data": {
            "text/plain": [
              "                                                text  target  \\\n",
              "0  arnold schwarzenegger has been an icon for act...       0   \n",
              "1  good films are hard to find these days . \\ngre...       1   \n",
              "2  quaid stars as a man who has taken up the prof...       1   \n",
              "3  we could paraphrase michelle pfieffer's charac...       0   \n",
              "4  kolya is one of the richest films i've seen in...       1   \n",
              "\n",
              "                                        cleaned_text  \n",
              "0  arnold schwarzenegger icon action enthusiast l...  \n",
              "1  good film hard find day great film rare proof ...  \n",
              "2  quaid star man take proffesion dragonslayer fe...  \n",
              "3  paraphrase michelle pfieffer character dangero...  \n",
              "4  kolya rich film ve see time zdenek sverak play...  "
            ],
            "text/html": [
              "\n",
              "  <div id=\"df-b7eba899-23af-4a4f-87a3-dbcd59aceeb9\" class=\"colab-df-container\">\n",
              "    <div>\n",
              "<style scoped>\n",
              "    .dataframe tbody tr th:only-of-type {\n",
              "        vertical-align: middle;\n",
              "    }\n",
              "\n",
              "    .dataframe tbody tr th {\n",
              "        vertical-align: top;\n",
              "    }\n",
              "\n",
              "    .dataframe thead th {\n",
              "        text-align: right;\n",
              "    }\n",
              "</style>\n",
              "<table border=\"1\" class=\"dataframe\">\n",
              "  <thead>\n",
              "    <tr style=\"text-align: right;\">\n",
              "      <th></th>\n",
              "      <th>text</th>\n",
              "      <th>target</th>\n",
              "      <th>cleaned_text</th>\n",
              "    </tr>\n",
              "  </thead>\n",
              "  <tbody>\n",
              "    <tr>\n",
              "      <th>0</th>\n",
              "      <td>arnold schwarzenegger has been an icon for act...</td>\n",
              "      <td>0</td>\n",
              "      <td>arnold schwarzenegger icon action enthusiast l...</td>\n",
              "    </tr>\n",
              "    <tr>\n",
              "      <th>1</th>\n",
              "      <td>good films are hard to find these days . \\ngre...</td>\n",
              "      <td>1</td>\n",
              "      <td>good film hard find day great film rare proof ...</td>\n",
              "    </tr>\n",
              "    <tr>\n",
              "      <th>2</th>\n",
              "      <td>quaid stars as a man who has taken up the prof...</td>\n",
              "      <td>1</td>\n",
              "      <td>quaid star man take proffesion dragonslayer fe...</td>\n",
              "    </tr>\n",
              "    <tr>\n",
              "      <th>3</th>\n",
              "      <td>we could paraphrase michelle pfieffer's charac...</td>\n",
              "      <td>0</td>\n",
              "      <td>paraphrase michelle pfieffer character dangero...</td>\n",
              "    </tr>\n",
              "    <tr>\n",
              "      <th>4</th>\n",
              "      <td>kolya is one of the richest films i've seen in...</td>\n",
              "      <td>1</td>\n",
              "      <td>kolya rich film ve see time zdenek sverak play...</td>\n",
              "    </tr>\n",
              "  </tbody>\n",
              "</table>\n",
              "</div>\n",
              "    <div class=\"colab-df-buttons\">\n",
              "\n",
              "  <div class=\"colab-df-container\">\n",
              "    <button class=\"colab-df-convert\" onclick=\"convertToInteractive('df-b7eba899-23af-4a4f-87a3-dbcd59aceeb9')\"\n",
              "            title=\"Convert this dataframe to an interactive table.\"\n",
              "            style=\"display:none;\">\n",
              "\n",
              "  <svg xmlns=\"http://www.w3.org/2000/svg\" height=\"24px\" viewBox=\"0 -960 960 960\">\n",
              "    <path d=\"M120-120v-720h720v720H120Zm60-500h600v-160H180v160Zm220 220h160v-160H400v160Zm0 220h160v-160H400v160ZM180-400h160v-160H180v160Zm440 0h160v-160H620v160ZM180-180h160v-160H180v160Zm440 0h160v-160H620v160Z\"/>\n",
              "  </svg>\n",
              "    </button>\n",
              "\n",
              "  <style>\n",
              "    .colab-df-container {\n",
              "      display:flex;\n",
              "      gap: 12px;\n",
              "    }\n",
              "\n",
              "    .colab-df-convert {\n",
              "      background-color: #E8F0FE;\n",
              "      border: none;\n",
              "      border-radius: 50%;\n",
              "      cursor: pointer;\n",
              "      display: none;\n",
              "      fill: #1967D2;\n",
              "      height: 32px;\n",
              "      padding: 0 0 0 0;\n",
              "      width: 32px;\n",
              "    }\n",
              "\n",
              "    .colab-df-convert:hover {\n",
              "      background-color: #E2EBFA;\n",
              "      box-shadow: 0px 1px 2px rgba(60, 64, 67, 0.3), 0px 1px 3px 1px rgba(60, 64, 67, 0.15);\n",
              "      fill: #174EA6;\n",
              "    }\n",
              "\n",
              "    .colab-df-buttons div {\n",
              "      margin-bottom: 4px;\n",
              "    }\n",
              "\n",
              "    [theme=dark] .colab-df-convert {\n",
              "      background-color: #3B4455;\n",
              "      fill: #D2E3FC;\n",
              "    }\n",
              "\n",
              "    [theme=dark] .colab-df-convert:hover {\n",
              "      background-color: #434B5C;\n",
              "      box-shadow: 0px 1px 3px 1px rgba(0, 0, 0, 0.15);\n",
              "      filter: drop-shadow(0px 1px 2px rgba(0, 0, 0, 0.3));\n",
              "      fill: #FFFFFF;\n",
              "    }\n",
              "  </style>\n",
              "\n",
              "    <script>\n",
              "      const buttonEl =\n",
              "        document.querySelector('#df-b7eba899-23af-4a4f-87a3-dbcd59aceeb9 button.colab-df-convert');\n",
              "      buttonEl.style.display =\n",
              "        google.colab.kernel.accessAllowed ? 'block' : 'none';\n",
              "\n",
              "      async function convertToInteractive(key) {\n",
              "        const element = document.querySelector('#df-b7eba899-23af-4a4f-87a3-dbcd59aceeb9');\n",
              "        const dataTable =\n",
              "          await google.colab.kernel.invokeFunction('convertToInteractive',\n",
              "                                                    [key], {});\n",
              "        if (!dataTable) return;\n",
              "\n",
              "        const docLinkHtml = 'Like what you see? Visit the ' +\n",
              "          '<a target=\"_blank\" href=https://colab.research.google.com/notebooks/data_table.ipynb>data table notebook</a>'\n",
              "          + ' to learn more about interactive tables.';\n",
              "        element.innerHTML = '';\n",
              "        dataTable['output_type'] = 'display_data';\n",
              "        await google.colab.output.renderOutput(dataTable, element);\n",
              "        const docLink = document.createElement('div');\n",
              "        docLink.innerHTML = docLinkHtml;\n",
              "        element.appendChild(docLink);\n",
              "      }\n",
              "    </script>\n",
              "  </div>\n",
              "\n",
              "\n",
              "<div id=\"df-1c580ea1-fcc3-45e8-a7d6-0fd0fd72a0cc\">\n",
              "  <button class=\"colab-df-quickchart\" onclick=\"quickchart('df-1c580ea1-fcc3-45e8-a7d6-0fd0fd72a0cc')\"\n",
              "            title=\"Suggest charts\"\n",
              "            style=\"display:none;\">\n",
              "\n",
              "<svg xmlns=\"http://www.w3.org/2000/svg\" height=\"24px\"viewBox=\"0 0 24 24\"\n",
              "     width=\"24px\">\n",
              "    <g>\n",
              "        <path d=\"M19 3H5c-1.1 0-2 .9-2 2v14c0 1.1.9 2 2 2h14c1.1 0 2-.9 2-2V5c0-1.1-.9-2-2-2zM9 17H7v-7h2v7zm4 0h-2V7h2v10zm4 0h-2v-4h2v4z\"/>\n",
              "    </g>\n",
              "</svg>\n",
              "  </button>\n",
              "\n",
              "<style>\n",
              "  .colab-df-quickchart {\n",
              "      --bg-color: #E8F0FE;\n",
              "      --fill-color: #1967D2;\n",
              "      --hover-bg-color: #E2EBFA;\n",
              "      --hover-fill-color: #174EA6;\n",
              "      --disabled-fill-color: #AAA;\n",
              "      --disabled-bg-color: #DDD;\n",
              "  }\n",
              "\n",
              "  [theme=dark] .colab-df-quickchart {\n",
              "      --bg-color: #3B4455;\n",
              "      --fill-color: #D2E3FC;\n",
              "      --hover-bg-color: #434B5C;\n",
              "      --hover-fill-color: #FFFFFF;\n",
              "      --disabled-bg-color: #3B4455;\n",
              "      --disabled-fill-color: #666;\n",
              "  }\n",
              "\n",
              "  .colab-df-quickchart {\n",
              "    background-color: var(--bg-color);\n",
              "    border: none;\n",
              "    border-radius: 50%;\n",
              "    cursor: pointer;\n",
              "    display: none;\n",
              "    fill: var(--fill-color);\n",
              "    height: 32px;\n",
              "    padding: 0;\n",
              "    width: 32px;\n",
              "  }\n",
              "\n",
              "  .colab-df-quickchart:hover {\n",
              "    background-color: var(--hover-bg-color);\n",
              "    box-shadow: 0 1px 2px rgba(60, 64, 67, 0.3), 0 1px 3px 1px rgba(60, 64, 67, 0.15);\n",
              "    fill: var(--button-hover-fill-color);\n",
              "  }\n",
              "\n",
              "  .colab-df-quickchart-complete:disabled,\n",
              "  .colab-df-quickchart-complete:disabled:hover {\n",
              "    background-color: var(--disabled-bg-color);\n",
              "    fill: var(--disabled-fill-color);\n",
              "    box-shadow: none;\n",
              "  }\n",
              "\n",
              "  .colab-df-spinner {\n",
              "    border: 2px solid var(--fill-color);\n",
              "    border-color: transparent;\n",
              "    border-bottom-color: var(--fill-color);\n",
              "    animation:\n",
              "      spin 1s steps(1) infinite;\n",
              "  }\n",
              "\n",
              "  @keyframes spin {\n",
              "    0% {\n",
              "      border-color: transparent;\n",
              "      border-bottom-color: var(--fill-color);\n",
              "      border-left-color: var(--fill-color);\n",
              "    }\n",
              "    20% {\n",
              "      border-color: transparent;\n",
              "      border-left-color: var(--fill-color);\n",
              "      border-top-color: var(--fill-color);\n",
              "    }\n",
              "    30% {\n",
              "      border-color: transparent;\n",
              "      border-left-color: var(--fill-color);\n",
              "      border-top-color: var(--fill-color);\n",
              "      border-right-color: var(--fill-color);\n",
              "    }\n",
              "    40% {\n",
              "      border-color: transparent;\n",
              "      border-right-color: var(--fill-color);\n",
              "      border-top-color: var(--fill-color);\n",
              "    }\n",
              "    60% {\n",
              "      border-color: transparent;\n",
              "      border-right-color: var(--fill-color);\n",
              "    }\n",
              "    80% {\n",
              "      border-color: transparent;\n",
              "      border-right-color: var(--fill-color);\n",
              "      border-bottom-color: var(--fill-color);\n",
              "    }\n",
              "    90% {\n",
              "      border-color: transparent;\n",
              "      border-bottom-color: var(--fill-color);\n",
              "    }\n",
              "  }\n",
              "</style>\n",
              "\n",
              "  <script>\n",
              "    async function quickchart(key) {\n",
              "      const quickchartButtonEl =\n",
              "        document.querySelector('#' + key + ' button');\n",
              "      quickchartButtonEl.disabled = true;  // To prevent multiple clicks.\n",
              "      quickchartButtonEl.classList.add('colab-df-spinner');\n",
              "      try {\n",
              "        const charts = await google.colab.kernel.invokeFunction(\n",
              "            'suggestCharts', [key], {});\n",
              "      } catch (error) {\n",
              "        console.error('Error during call to suggestCharts:', error);\n",
              "      }\n",
              "      quickchartButtonEl.classList.remove('colab-df-spinner');\n",
              "      quickchartButtonEl.classList.add('colab-df-quickchart-complete');\n",
              "    }\n",
              "    (() => {\n",
              "      let quickchartButtonEl =\n",
              "        document.querySelector('#df-1c580ea1-fcc3-45e8-a7d6-0fd0fd72a0cc button');\n",
              "      quickchartButtonEl.style.display =\n",
              "        google.colab.kernel.accessAllowed ? 'block' : 'none';\n",
              "    })();\n",
              "  </script>\n",
              "</div>\n",
              "\n",
              "    </div>\n",
              "  </div>\n"
            ],
            "application/vnd.google.colaboratory.intrinsic+json": {
              "type": "dataframe",
              "variable_name": "df",
              "summary": "{\n  \"name\": \"df\",\n  \"rows\": 2000,\n  \"fields\": [\n    {\n      \"column\": \"text\",\n      \"properties\": {\n        \"dtype\": \"string\",\n        \"num_unique_values\": 2000,\n        \"samples\": [\n          \"apollo 13 is simply one of the most dramatic film this summer ( apart from swashbuckling braveheart ) . \\ndirector ( and former actor ) ron howard ( splash , backdraft , far & away ) , most noted for his dramatic film making , displays again his brilliance in creating drama and suspense in apollo 13 . \\nbeing the second largest box office hit in the us this summer ( with more than us$150 million in the states alone ) , this film is his most successful effort yet . \\nperhaps one of the most appealing feature of this film is the pool of talented actors such as tom hanks ( gump himself ) , kevin bacon ( footloose , tremors , a few good men etc . ) , gary sinise ( forrest gump ) , bill paxton ( aliens , true lies , boxing helena ) and ed harris ( the abyss , just cause ) . . \\nall of whom gave good performances in their respective roles . \\napollo 13 was the second worst accident ever to occur in the history of us spaceflight ( the worst being the challenger accident ) . \\njim lovell ( hanks ) , the mission commander , together with his crew , fred haise ( paxton ) and last minute replacement tom swigert ( bacon ) are put to the ultimate test when part of their command module explodes on the third day of the mission , more than three quarters way to the moon . \\nsuspense and drama ensue as the three men are left in space with their spaceship out of control and the problem of surviving the journey home . . . \\nif they ever reach it . \\ned harris and gary sinise who play , respectively , the man in charge of the entire mission control and the astronaut who was supposed to fly but was diagnosed with measles , both delve into their roles superbly . \\naudiences are shown the chaotic and worrisome state of the entire ground control crew , as they frantically attempt to come up with ideas on how to save the astronauts from hurtling into space . \\nalso , there are quite a number of real news footages which were broadcast during the accident which took the entire us nation into 5 days of drama in 1970 . \\nthe special effects by digital domain are up to standard and the music suits the suspense and drama very well , thanks to film-music maestro james horner . \\nwatch out for the launching sequence , it is simply one of the most breathtaking scenes of the film . \\na bad point though : apollo 13 features much technical jargon and many physics concepts in its script . \\nthose who consider themselves `scientifically illiterate' might have a slight problem understanding what caused this and what caused that during the course of the show . \\nthis is however , just a minor point , just forget all those technical bullshit and immerse yourselves into the drama and suspense throughout the film . \\nyou should enjoy it . \\n\",\n          \"_dirty_work_ has a premise of deliciously mean-spirited potential . \\nmitch weaver ( norm macdonald ) and his lifelong best friend sam mckenna ( artie lange ) are losers in life : they were constantly picked on in school , and now they cannot hold regular jobs . \\nbut as the trailer goes , \\\" there is one thing mitch weaver is good at--revenge . \\\" \\nso he and sam parlay their unmatched skill in getting-even schemes into a marketable revenge-for-hire business called dirty work inc . \\nthis should be the groundwork for a wonderfully wicked black comedy , but for a film called _dirty_work_ , what ensues is rather clean of spirit . \\nin fact , what makes mitch and sam start up their business is not a giddy desire to give bullies a taste of their own medicine , but rather a more sappy reason : sam's father ( jack warden ) needs a heart transplant , and in order for him to move at the top of the recipient list , his compulsively betting doctor ( chevy chase ) asks the guys for $50 , 000 to pay off his bookie . \\nso for all the scheming that goes on , beneath every underhanded plot is--gasp ! --a \\nheart , which undercuts the inherent nastiness of the premise . \\nnot that there isn't a lot of nastiness on display--there is , but of a different sort . \\nthere are frequent sexual references , most prominently in the form of prostitutes and sam's impotent father's ongoing lust for them . \\nand for a film rated pg-13 , director bob saget ( yes , that bob saget , of _full_house_ and _america's_funniest_home_videos_ fame ) and writers frank sebastiano , fred wolf , and macdonald himself , stretch the boundaries of good taste rather far--arguably a bit too much so ( was not one , but two separate instances of sodomy between animals really necessary ? ) . \\nbut the issue , of course , is not so much of taste as it is humor--as in , is it funny or not ? \\nthe answer is a resounding no . \\nit's not that macdonald isn't a funny guy . \\nhe was one of the more consistently funny performers on _saturday_night_live_ before his much-talked-about firing , and his dry brand of smartass wit translates well to the big screen ; it also doesn't hurt that he's a natural , likable screen presence . \\nhe is able to give some of his lines a nice acid touch , but , for the most part , the oneliners , as written , are flat , and the broad slapstick gags just don't work ( one running gag has him being literally tossed out of buildings--a real riot ) . \\nstill , macdonald's few shining moments are just about the only moments the film has . \\nthe late chris farley , as hysterical as he ever was , is amusing in a cameo role , but , as a whole , the supporting players are amateurish and seemingly free from any directorial guidance . \\nsaget tries to juice up the proceedings with kitschy cameos by gary coleman , adam sandler , and john goodman , but their minimal novelty value cannot prevent _dirty_work_ from sputtering to the end of its brief 81-minute running time . \\nthe film closes on a sad note of desperation , an indulgent reel of outtakes from which only those involved in the production would derive any amusement . \\ncome to think of it , i cannot imagine anyone but those involved in the production to find much amusement in the entirety of _dirty_work_ . \\n\",\n          \"while it was part of former yugoslavia , my country , croatia , used to be almost completely ignored by western films in general . \\nwords \\\" croatia \\\" and \\\" croatians \\\" were unheard , even in movies whose plots actually took place on croatian locations . \\nthe rare exception was the dogs of war , 1980 adaptation of frederick forsyth's bestselling novel , yet that rare occasion only added insult to the injury , by mentioning croatians in most unflattering context . \\nin a single line they are referred as a bunch of mean people , probably terrorists , who happen to remove parts of arm dealers' stomachs when they are unsatisfied with the quality of merchandise . \\nsame line also illustrates the milieu where the movie takes place - dark and violent world of shady international deals with the blurred boundaries between business , politics and crime . \\nthe movie protagonist , shannon ( christopher walken ) is a mercenary who spent the best years of his life fighting numerous little wars all over the globe . \\nhis latest job is a intelligence mission for powerful mining corporation that demands information about political climate in west african nation of zangaro . \\nshannon arrives in that country only to find oppressive regime of president kimba , bloodthirsty madman whose brutality crushed any opposition and scared almost any westerners away . \\nafter being arrested and tortured by kimba's secret police , shannon leaves country with a help of british journalist north ( colin blakely ) . \\nupon return , he is approached by mining company again , but this time they want him to plan and execute the coup d'etat against kimba . \\nshannon reluctantly agrees and assembles small group of his surviving mercenary friends who begin meticulous preparation for another small war . \\nthing that separates the dogs of war from conventional action movies , especially those made in 1980s , is its authenticity , almost close to documentary . \\nit shouldn't surprise anyone , because the author of the novel , frederick forsyth , made reputation by blending fiction with real life , thus creating interesting , exciting yet very believable plots for his books . \\nthose plots were also responsible for few very successful 1970s thrillers , and one of them , zinnemman's the day of the jackal , is now considered a classic in that genre . \\nthis one deals with soldiers of fortune , ancient tradition that was resurrected in great turmoil of 1960s and 1970s and filled the void left by vanishing colonial empires . \\nunlike wild geese , that used it as a pretext for conventional action adventure , script by george malko and gary de vore ( author whose death last year became real life mystery ) is serious , and instead of action puts emphasis on characters and prosaic details of their work . \\nthe movie doesn't try to romanticise the mercenary profession nor glorify mercenaries as some kind of superheroes ; they are simply shown as deadly yet expendable tool of powerful forces with questionable agenda . \\nchristopher walken played in many movies , yet very rarely we can see him in a leading role . \\nhis performance in this film perhaps isn't breathtaking , yet adequate . \\nhis notoriously expressionless face is perfect illustration of the disillusioned , world- weary man whose alienation from the \\\" normal \\\" way of life becomes complete and only remaining ideal is loyalty to the shrinking circle of friends . \\nalthough the movie doesn't lack capable actors , their roles are miniature compared with walken's , and only colin blakely as cynical reporter has opportunity to portray his character . \\nhowever , those who look familiar faces would find them plenty in the dogs of war - tom berenger , paul freeman , jo beth williams , victoria tennant ( in brief cameo ) , and biggest surprise is ed o'neill ( of married with children fame ) as shannon's reluctant colleague . \\nthis was the first major production for john irvin , and it shows why he earned the reputation of capable , yet second class director . \\nwith the good script he can make very good movie , with the bad script he can make real mess . \\nluckily , the dogs of war had a good script . \\nirvin's direction was very ascetic and it gave the movie almost documentary feel . \\nthe only distraction is dramatic music of geoffrey burgon , used on the wrong places . \\nin the final battle scene , where we can see mercenaries at work , irvin shows us that modern warfare means superior firepower and tactics , unlike 1980s ramboesque fantasies that rely on macho superheroes . \\nunfortunately , by making battle realistic irvin made it somewhat less attractive and his sloppy editing also didn't help . \\nbut , despite those shortcomings , this movie remains interesting and rare combination of action thriller and gritty , realistic political drama . \\n\"\n        ],\n        \"semantic_type\": \"\",\n        \"description\": \"\"\n      }\n    },\n    {\n      \"column\": \"target\",\n      \"properties\": {\n        \"dtype\": \"number\",\n        \"std\": 0,\n        \"min\": 0,\n        \"max\": 1,\n        \"num_unique_values\": 2,\n        \"samples\": [\n          1,\n          0\n        ],\n        \"semantic_type\": \"\",\n        \"description\": \"\"\n      }\n    },\n    {\n      \"column\": \"cleaned_text\",\n      \"properties\": {\n        \"dtype\": \"string\",\n        \"num_unique_values\": 1998,\n        \"samples\": [\n          \"wong kar wei fall angel purely visceral level exciting film ve see long unfortunately wong interested experiment camera create tangible character audience root ordinarily sink movie case fall angel shot film exciting look wong interesting thing camera doesn allow pyrotechnic completely case year dismal knock contain shot foot enter shoe ugh movie follow pair lose soul struggle find meaning life didn know go time fact wasn halfway movie able distinguish character constantly move camera doesn allow audience associate character keep distance people suppose order add feeling alienation feel character fall angel refreshing change pace hollywood film bother try different visual level fact d far fall angel challenging visually mainstream hollywood film ve see sure director like robert rodriguez enjoy turn violence operatic orgy death filmmaker like wong actually assault sense image truly worth celebrate wong wish legendary filmmaker need work incorporate actual story awesome image far instance fall angel ask people couple second couple impossible track let audience know right away character introduce card scorsese mean street point wong kar wei prove film movie maker watch let hope hone storytelle skill movie\",\n          \"david cronenberg present strange tale crawl impressively twist head science fiction film release year millenium tackle issue play important role future story unfold near future line reality virtual reality blur world future unfriendly place scared inhabitant hide virtual reality fantasy game escape uncertainty real world allegra geller jennifer jason leigh lead game designer world test new virtual reality game existenz focus group begin attack fanatic assassin employ bizarre organic gun flee young marketing trainee ted pikul jude law suddenly assign bodyguard unfortunately pod organic gaming device contain copy existenz game program damage inspect talk te accept gameport body play game event lead result game lead pair strange adventure world individuality doesn exist player force perform character unknown plot reality action impossible determine game perspective don intend reveal film premise structure computer game task character complete win game release matrix dark city existenz similarity parallel connect film existenz move different direction premise combination dazzle special effect brilliantly coordinate action sequence intelligent sophisticated plot matrix rare entertain science fiction experience dark frightening idea hide sparkling facade existenz completely different atmosphere resemble dark city dark entertaining existenz opportunity potential enormous possibility explore engaging begin start falter watch film leave theatre hour existenz complete failure actor unreal plot dialogue silly unfinished relationship unexplained event follow minute lift film complete different level explain past event silly dialogue unreal performance scene jet film fail issue probably well write character story game designer spend rest life virtual world face real life great possibility create magnificent character jennifer jason leigh stretches cronenberg script limit fail advantage virtual reality comparison real world show existenz world dream fantasy world worth sacrifice life cold dark place player force interrelate unreal character eat mutate creature murder doesn look like place worth think david cronenberg creator fly videodrome dead zone hard guess existenz violent gory film regular murder innocent people audience enjoy autopsy head mutate amfibium scene like trademark cronenberg film flow blood foul creature way film crucial failure impossible cronenbergto create beautiful world time space problem everyday life exist place bloom blossom green forest clear water place worth sacrifice life lack dimensionality film loose possibility stay afloat interesting scene amusing performance especially willem dafoe interesting important thought depict different way movie film audience confused character detach everyday existence long able difference real world alternative reality create matrix despite dark disturbing thought end light end tunnel existenz time experience end blood gore madness frightening forecast tomorrow\"\n        ],\n        \"semantic_type\": \"\",\n        \"description\": \"\"\n      }\n    }\n  ]\n}"
            }
          },
          "metadata": {},
          "execution_count": 28
        }
      ]
    },
    {
      "cell_type": "code",
      "source": [
        "df.isna().sum()"
      ],
      "metadata": {
        "id": "2h6OJrTN9wFH",
        "colab": {
          "base_uri": "https://localhost:8080/",
          "height": 178
        },
        "outputId": "d0635891-f75e-4312-82a4-5d44a4b66443"
      },
      "execution_count": 29,
      "outputs": [
        {
          "output_type": "execute_result",
          "data": {
            "text/plain": [
              "text            0\n",
              "target          0\n",
              "cleaned_text    0\n",
              "dtype: int64"
            ],
            "text/html": [
              "<div>\n",
              "<style scoped>\n",
              "    .dataframe tbody tr th:only-of-type {\n",
              "        vertical-align: middle;\n",
              "    }\n",
              "\n",
              "    .dataframe tbody tr th {\n",
              "        vertical-align: top;\n",
              "    }\n",
              "\n",
              "    .dataframe thead th {\n",
              "        text-align: right;\n",
              "    }\n",
              "</style>\n",
              "<table border=\"1\" class=\"dataframe\">\n",
              "  <thead>\n",
              "    <tr style=\"text-align: right;\">\n",
              "      <th></th>\n",
              "      <th>0</th>\n",
              "    </tr>\n",
              "  </thead>\n",
              "  <tbody>\n",
              "    <tr>\n",
              "      <th>text</th>\n",
              "      <td>0</td>\n",
              "    </tr>\n",
              "    <tr>\n",
              "      <th>target</th>\n",
              "      <td>0</td>\n",
              "    </tr>\n",
              "    <tr>\n",
              "      <th>cleaned_text</th>\n",
              "      <td>0</td>\n",
              "    </tr>\n",
              "  </tbody>\n",
              "</table>\n",
              "</div><br><label><b>dtype:</b> int64</label>"
            ]
          },
          "metadata": {},
          "execution_count": 29
        }
      ]
    },
    {
      "cell_type": "code",
      "source": [
        "X = df['cleaned_text']\n",
        "y = df['target']"
      ],
      "metadata": {
        "id": "UNyI0lrq_Azc"
      },
      "execution_count": 31,
      "outputs": []
    },
    {
      "cell_type": "code",
      "source": [
        "from sklearn.model_selection import train_test_split\n",
        "X_train,X_test,y_train,y_test = train_test_split(X,y,test_size=0.2,random_state=42,stratify=y)"
      ],
      "metadata": {
        "id": "ywzQQt8O-5rO"
      },
      "execution_count": 32,
      "outputs": []
    },
    {
      "cell_type": "code",
      "source": [
        "from sklearn.feature_extraction.text import TfidfVectorizer\n",
        "tfidf = TfidfVectorizer()\n",
        "X_train_tfidf = tfidf.fit_transform(X_train)\n",
        "X_test_tfidf = tfidf.transform(X_test)"
      ],
      "metadata": {
        "id": "X24_-cVh_Lxb"
      },
      "execution_count": 33,
      "outputs": []
    },
    {
      "cell_type": "code",
      "source": [
        "from sklearn.linear_model import LogisticRegression\n",
        "from sklearn.svm import SVC,LinearSVC\n",
        "from sklearn.naive_bayes import MultinomialNB\n",
        "from sklearn.ensemble import RandomForestClassifier\n",
        "from sklearn.model_selection import GridSearchCV\n",
        "from sklearn.metrics import accuracy_score\n",
        "\n",
        "\n",
        "estimators = {\n",
        "    'lr' : LogisticRegression(),\n",
        "    'svc' : SVC(),\n",
        "    'lsvc' : LinearSVC(),\n",
        "    'mnb' : MultinomialNB(),\n",
        "    'rfc' : RandomForestClassifier()\n",
        "}\n",
        "\n",
        "params = {\n",
        "    'lr' : {'C' : [0.01,0.1,1,10,100]},\n",
        "    'svc' : {'C' : [0.01,0.1,1,10,100]},\n",
        "    'lsvc' : {'C' : [0.01,0.1,1,10,100]},\n",
        "    'mnb' : {},\n",
        "    'rfc' : {'n_estimators' : [10,100,1000]}\n",
        "}\n",
        "\n",
        "best_estimator = {}\n",
        "\n",
        "for estimator_name, estimator in estimators.items():\n",
        "  grid = GridSearchCV(estimator,params[estimator_name],cv=5)\n",
        "  grid.fit(X_train_tfidf,y_train)\n",
        "  print(estimator_name)\n",
        "  print(accuracy_score(y_test,grid.predict(X_test_tfidf)))\n",
        "  best_estimator[estimator_name] = grid.best_estimator_"
      ],
      "metadata": {
        "colab": {
          "base_uri": "https://localhost:8080/"
        },
        "id": "XMEF1qWn_QOd",
        "outputId": "ecb3b8c1-b0b9-4ad0-a469-2b4d6dfccaec"
      },
      "execution_count": 34,
      "outputs": [
        {
          "output_type": "stream",
          "name": "stdout",
          "text": [
            "lr\n",
            "0.8325\n",
            "svc\n",
            "0.825\n",
            "lsvc\n",
            "0.8425\n",
            "mnb\n",
            "0.8\n",
            "rfc\n",
            "0.8225\n"
          ]
        }
      ]
    },
    {
      "cell_type": "code",
      "source": [
        "from sklearn.metrics import classification_report,confusion_matrix\n",
        "\n",
        "best_model = best_estimator['lsvc']\n",
        "\n",
        "y_pred = best_model.predict(X_test_tfidf)\n",
        "\n",
        "print(classification_report(y_test,y_pred))"
      ],
      "metadata": {
        "colab": {
          "base_uri": "https://localhost:8080/"
        },
        "id": "dpmEAL77AcF2",
        "outputId": "c19d8c5c-f9ce-4102-8e65-e890cfc3a0af"
      },
      "execution_count": 36,
      "outputs": [
        {
          "output_type": "stream",
          "name": "stdout",
          "text": [
            "              precision    recall  f1-score   support\n",
            "\n",
            "           0       0.85      0.82      0.84       200\n",
            "           1       0.83      0.86      0.85       200\n",
            "\n",
            "    accuracy                           0.84       400\n",
            "   macro avg       0.84      0.84      0.84       400\n",
            "weighted avg       0.84      0.84      0.84       400\n",
            "\n"
          ]
        }
      ]
    },
    {
      "cell_type": "code",
      "source": [
        "import matplotlib.pyplot as plt\n",
        "import seaborn as sns\n",
        "from sklearn.metrics import confusion_matrix\n",
        "\n",
        "cm = confusion_matrix(y_test, y_pred)\n",
        "\n",
        "plt.figure(figsize=(8, 6))\n",
        "sns.heatmap(cm, annot=True, fmt='d', cmap='Blues', xticklabels=target_names, yticklabels=target_names)\n",
        "plt.xlabel('Predicted')\n",
        "plt.ylabel('True')\n",
        "plt.title('Confusion Matrix')\n",
        "plt.show()"
      ],
      "metadata": {
        "colab": {
          "base_uri": "https://localhost:8080/",
          "height": 564
        },
        "id": "fRU2tQmHCm7X",
        "outputId": "be6876f3-632b-4bb2-fb15-73476e3b28f7"
      },
      "execution_count": 37,
      "outputs": [
        {
          "output_type": "display_data",
          "data": {
            "text/plain": [
              "<Figure size 800x600 with 2 Axes>"
            ],
            "image/png": "[encoded data removed]"
          },
          "metadata": {}
        }
      ]
    },
    {
      "cell_type": "code",
      "source": [],
      "metadata": {
        "id": "Z9TTxLUpDCW1"
      },
      "execution_count": null,
      "outputs": []
    }
  ]
}