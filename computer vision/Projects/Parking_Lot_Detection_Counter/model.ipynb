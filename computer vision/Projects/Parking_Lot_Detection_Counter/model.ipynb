{
 "cells": [
  {
   "cell_type": "code",
   "execution_count": 17,
   "metadata": {},
   "outputs": [],
   "source": [
    "import numpy as np\n",
    "import cv2\n",
    "import os\n",
    "import pickle"
   ]
  },
  {
   "cell_type": "code",
   "execution_count": 3,
   "metadata": {},
   "outputs": [],
   "source": [
    "os.chdir('../../../../')"
   ]
  },
  {
   "cell_type": "code",
   "execution_count": 5,
   "metadata": {},
   "outputs": [],
   "source": [
    "PATH = './data/parking/clf-data/'\n",
    "CATEGORIES = ['empty/','not_empty/']\n",
    "\n",
    "data = []\n",
    "label = []\n",
    "\n",
    "for id, category in enumerate(CATEGORIES):\n",
    "    FOLDER_PATH = os.path.join(PATH,category)\n",
    "    \n",
    "    for img_name in os.listdir(FOLDER_PATH):\n",
    "        IMG_PATH = os.path.join(FOLDER_PATH,img_name)\n",
    "        img = cv2.imread(IMG_PATH)\n",
    "        img = cv2.resize(img,(15,15))\n",
    "        data.append(img.flatten())\n",
    "        label.append(id)\n",
    "\n",
    "data = np.array(data)\n",
    "label = np.array(label)"
   ]
  },
  {
   "cell_type": "code",
   "execution_count": 8,
   "metadata": {},
   "outputs": [],
   "source": [
    "from sklearn.model_selection import train_test_split\n",
    "\n",
    "X_train, X_test, y_train, y_test = train_test_split(data, label, test_size=0.2, stratify=label)"
   ]
  },
  {
   "cell_type": "code",
   "execution_count": 14,
   "metadata": {},
   "outputs": [
    {
     "name": "stdout",
     "output_type": "stream",
     "text": [
      "Best Parameters for SVC is {'C': 1, 'kernel': 'rbf'}\n",
      "Best Score for SVC is 1.0\n",
      "Best Parameters for DTC is {'criterion': 'entropy', 'max_depth': 20}\n",
      "Best Score for DTC is 0.9948690570210077\n",
      "Best Parameters for RFC is {'criterion': 'gini', 'max_depth': 10, 'n_estimators': 50}\n",
      "Best Score for RFC is 1.0\n"
     ]
    }
   ],
   "source": [
    "from sklearn.model_selection import GridSearchCV\n",
    "from sklearn.svm import SVC\n",
    "from sklearn.tree import DecisionTreeClassifier\n",
    "from sklearn.ensemble import RandomForestClassifier\n",
    "from sklearn.linear_model import LogisticRegression\n",
    "\n",
    "models = {\n",
    "    'SVC':{\n",
    "        'classifier':SVC(),\n",
    "        'params': {\n",
    "            'C':[0.1,1,10,100],\n",
    "            'kernel':['linear','rbf'],\n",
    "        }\n",
    "    },\n",
    "\n",
    "    'DTC':{\n",
    "        'classifier':DecisionTreeClassifier(),\n",
    "        'params':{\n",
    "            'criterion':['gini','entropy'],\n",
    "            'max_depth':[5,10,20,50]\n",
    "        }\n",
    "    },\n",
    "\n",
    "    'RFC':{\n",
    "        'classifier':RandomForestClassifier(),\n",
    "        'params':{\n",
    "            'n_estimators':[10,50,100],\n",
    "            'criterion':['gini','entropy'],\n",
    "            'max_depth':[5,10,20,50]\n",
    "        }\n",
    "    },\n",
    "}\n",
    "\n",
    "best_estimator = {}\n",
    "for model_name, model_params in models.items():\n",
    "    model = GridSearchCV(estimator=model_params['classifier'],param_grid=model_params['params'],cv=5,scoring='accuracy')\n",
    "    model.fit(X_train,y_train)\n",
    "    print(f'Best Parameters for {model_name} is {model.best_params_}')\n",
    "    print(f'Best Score for {model_name} is {model.best_score_}')\n",
    "    best_estimator[model_name] = model.best_estimator_"
   ]
  },
  {
   "cell_type": "code",
   "execution_count": 15,
   "metadata": {},
   "outputs": [
    {
     "name": "stdout",
     "output_type": "stream",
     "text": [
      "              precision    recall  f1-score   support\n",
      "\n",
      "           0       1.00      1.00      1.00       609\n",
      "           1       1.00      1.00      1.00       609\n",
      "\n",
      "    accuracy                           1.00      1218\n",
      "   macro avg       1.00      1.00      1.00      1218\n",
      "weighted avg       1.00      1.00      1.00      1218\n",
      "\n"
     ]
    }
   ],
   "source": [
    "from sklearn.metrics import classification_report\n",
    "best_model = best_estimator['SVC']\n",
    "y_pred = best_model.predict(X_test)\n",
    "print(classification_report(y_test, y_pred))"
   ]
  },
  {
   "cell_type": "code",
   "execution_count": 16,
   "metadata": {},
   "outputs": [
    {
     "data": {
      "image/png": "[encoded data removed]",
      "text/plain": [
       "<Figure size 800x600 with 2 Axes>"
      ]
     },
     "metadata": {},
     "output_type": "display_data"
    }
   ],
   "source": [
    "import matplotlib.pyplot as plt\n",
    "import seaborn as sns\n",
    "from sklearn.metrics import confusion_matrix\n",
    "\n",
    "# plot confusion confusion_matrix\n",
    "cm = confusion_matrix(y_test, y_pred)\n",
    "\n",
    "# رسم مصفوفة الالتباس\n",
    "plt.figure(figsize=(8, 6))\n",
    "sns.heatmap(cm, annot=True, fmt='d', cmap='Blues', xticklabels=['Empty', 'Not Empty'], yticklabels=['Empty', 'Not Empty'])\n",
    "plt.xlabel('Predicted Label')\n",
    "plt.ylabel('True Label')\n",
    "plt.title('Confusion Matrix')\n",
    "plt.show()"
   ]
  },
  {
   "cell_type": "code",
   "execution_count": null,
   "metadata": {},
   "outputs": [],
   "source": [
    "pickle.dump(best_model, open('model.pkl', 'wb'))"
   ]
  },
  {
   "cell_type": "code",
   "execution_count": null,
   "metadata": {},
   "outputs": [],
   "source": []
  }
 ],
 "metadata": {
  "kernelspec": {
   "display_name": "Python 3",
   "language": "python",
   "name": "python3"
  },
  "language_info": {
   "codemirror_mode": {
    "name": "ipython",
    "version": 3
   },
   "file_extension": ".py",
   "mimetype": "text/x-python",
   "name": "python",
   "nbconvert_exporter": "python",
   "pygments_lexer": "ipython3",
   "version": "3.11.6"
  },
  "orig_nbformat": 4
 },
 "nbformat": 4,
 "nbformat_minor": 2
}
