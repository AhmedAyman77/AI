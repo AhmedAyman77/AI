{
 "cells": [
  {
   "cell_type": "code",
   "execution_count": 2,
   "metadata": {},
   "outputs": [],
   "source": [
    "import cv2\n",
    "import os\n",
    "os.chdir('./data')"
   ]
  },
  {
   "cell_type": "code",
   "execution_count": 3,
   "metadata": {},
   "outputs": [
    {
     "name": "stdout",
     "output_type": "stream",
     "text": [
      "threshold: 10\n",
      "nonmaxSuppression: True\n",
      "neighborhood: 2\n",
      "Total Keypoints with nonmaxSuppression: 3233\n"
     ]
    },
    {
     "name": "stderr",
     "output_type": "stream",
     "text": [
      "QSocketNotifier: Can only be used with threads started with QThread\n"
     ]
    }
   ],
   "source": [
    "img = cv2.imread('house.jpg',0)\n",
    "\n",
    "# Initiate FAST object with default values\n",
    "fast = cv2.FastFeatureDetector_create() # threshold, nonmaxSuppression, type\n",
    "\n",
    "# find and draw the keyPoints \"corners\"\n",
    "kp = fast.detect(img,None) # img, mask\n",
    "img2 = cv2.drawKeypoints(img, kp, None, color=(255,0,0)) # img, keypoints, output image, color\n",
    "\n",
    "print(f\"threshold: {fast.getThreshold()}\")\n",
    "print(f\"nonmaxSuppression: {fast.getNonmaxSuppression()}\")\n",
    "print(f\"neighborhood: {fast.getType()}\")\n",
    "print(f\"Total Keypoints with nonmaxSuppression: {len(kp)}\")\n",
    "\n",
    "cv2.imshow('img2', img2)\n",
    "# cv2.waitKey(0)\n",
    "# cv2.destroyAllWindows()\n",
    "\n",
    "fast.setNonmaxSuppression(0)\n",
    "kp = fast.detect(img,None)\n",
    "img3 = cv2.drawKeypoints(img, kp, None, color=(255,0,0))\n",
    "cv2.imshow('img3', img3)\n",
    "cv2.waitKey(0)\n",
    "cv2.destroyAllWindows()"
   ]
  }
 ],
 "metadata": {
  "kernelspec": {
   "display_name": "Python 3",
   "language": "python",
   "name": "python3"
  },
  "language_info": {
   "codemirror_mode": {
    "name": "ipython",
    "version": 3
   },
   "file_extension": ".py",
   "mimetype": "text/x-python",
   "name": "python",
   "nbconvert_exporter": "python",
   "pygments_lexer": "ipython3",
   "version": "3.11.6"
  },
  "orig_nbformat": 4
 },
 "nbformat": 4,
 "nbformat_minor": 2
}
