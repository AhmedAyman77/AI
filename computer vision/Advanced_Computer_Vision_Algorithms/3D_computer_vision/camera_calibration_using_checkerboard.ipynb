{
 "cells": [
  {
   "cell_type": "code",
   "execution_count": 1,
   "metadata": {},
   "outputs": [],
   "source": [
    "import numpy as np\n",
    "import cv2\n",
    "import os\n",
    "os.chdir('./data/')"
   ]
  },
  {
   "cell_type": "markdown",
   "metadata": {},
   "source": [
    "<h1>Create checkerboard imge</h1>"
   ]
  },
  {
   "cell_type": "code",
   "execution_count": 2,
   "metadata": {},
   "outputs": [],
   "source": [
    "def create_checkerboard(file_name, square_size_cm):\n",
    "    rows, cols = 8, 8\n",
    "    px_per_cm = 100 # 100 pixel for cm\n",
    "\n",
    "    square_size_px = int(square_size_cm * px_per_cm)\n",
    "    checkerboard = np.zeros((rows * square_size_px, cols * square_size_px), dtype=np.uint8)\n",
    "\n",
    "    for i in range(rows):\n",
    "        for j in range(cols):\n",
    "            if (i + j) % 2 == 0:\n",
    "                checkerboard[i * square_size_px:(i + 1) * square_size_px, j * square_size_px:(j + 1) * square_size_px] = 255\n",
    "                cv2.imshow(\"Checkerboard\", checkerboard)\n",
    "                cv2.waitKey(0)\n",
    "    \n",
    "    cv2.destroyAllWindows()            \n",
    "    cv2.imwrite(file_name, checkerboard)"
   ]
  },
  {
   "cell_type": "code",
   "execution_count": 3,
   "metadata": {},
   "outputs": [
    {
     "name": "stderr",
     "output_type": "stream",
     "text": [
      "qt.qpa.plugin: Could not find the Qt platform plugin \"wayland\" in \"/home/ahmedcr7/.local/lib/python3.11/site-packages/cv2/qt/plugins\"\n"
     ]
    }
   ],
   "source": [
    "create_checkerboard(\"checkerboard.png\", 2)"
   ]
  },
  {
   "cell_type": "markdown",
   "metadata": {},
   "source": [
    "<h1>Collect images for calibration</h1>"
   ]
  },
  {
   "cell_type": "code",
   "execution_count": 67,
   "metadata": {},
   "outputs": [
    {
     "name": "stdout",
     "output_type": "stream",
     "text": [
      "directory already exists\n"
     ]
    }
   ],
   "source": [
    "# Corners of the checkerboard\n",
    "CHESS_BOARD_DIMENSIONS = (7, 7)\n",
    "num_of_saved_images = 0\n",
    "SQUARE_SIZE = 25 # mm\n",
    "\n",
    "image_path = \"chess_board_images/\"\n",
    "\n",
    "check_dir = os.path.isdir(image_path)\n",
    "if check_dir:\n",
    "    print(\"directory already exists\")\n",
    "else:\n",
    "    os.mkdir(image_path)\n",
    "    print(\"directory created\")"
   ]
  },
  {
   "cell_type": "code",
   "execution_count": 23,
   "metadata": {},
   "outputs": [],
   "source": [
    "criteria = (cv2.TERM_CRITERIA_EPS + cv2.TERM_CRITERIA_MAX_ITER, 30, 0.001)"
   ]
  },
  {
   "cell_type": "code",
   "execution_count": 24,
   "metadata": {},
   "outputs": [],
   "source": [
    "def detect_checker_board(image,gray_image,criteria,board_dim):\n",
    "    ret, corners = cv2.findChessboardCorners(gray_image, board_dim)\n",
    "    if ret:\n",
    "        improve_corners = cv2.cornerSubPix(gray_image,corners,(3,3),(-1,-1),criteria) # gray_image, corners, window_size, zero_zone, criteria\n",
    "        image = cv2.drawChessboardCorners(image, board_dim, improve_corners, ret)\n",
    "    \n",
    "    return image,ret"
   ]
  },
  {
   "cell_type": "code",
   "execution_count": 25,
   "metadata": {},
   "outputs": [],
   "source": [
    "cap = cv2.VideoCapture(0)\n",
    "\n",
    "while True:\n",
    "    ret, frame = cap.read()\n",
    "    if not ret:\n",
    "        break\n",
    "    \n",
    "    frame = cv2.resize(frame,(940,880))\n",
    "    copy_frame = frame.copy()\n",
    "    gray = cv2.cvtColor(frame,cv2.COLOR_BGR2GRAY)\n",
    "\n",
    "    image, board_detection = detect_checker_board(frame,gray,criteria,CHESS_BOARD_DIMENSIONS)\n",
    "\n",
    "    cv2.putText(frame,f\"saved_images : {num_of_saved_images}\",(30,40),cv2.FONT_HERSHEY_COMPLEX,1.4,(0,255,0),2,cv2.LINE_AA)\n",
    "\n",
    "    cv2.imshow('frame',frame)\n",
    "    cv2.imshow('copy_frame',copy_frame)\n",
    "\n",
    "    key = cv2.waitKey(1)\n",
    "    if key == 27:\n",
    "        break\n",
    "    \n",
    "    if key == ord('s') and board_detection:\n",
    "        num_of_saved_images += 1\n",
    "        cv2.imwrite(f\"./chess_board_images/image_{num_of_saved_images}.png\",copy_frame)\n",
    "\n",
    "cap.release()\n",
    "cv2.destroyAllWindows()"
   ]
  },
  {
   "cell_type": "markdown",
   "metadata": {},
   "source": [
    "<h1>extract intrinsic and extrinsic parameters using checkerboard</h1>"
   ]
  },
  {
   "cell_type": "code",
   "execution_count": 66,
   "metadata": {},
   "outputs": [
    {
     "data": {
      "text/plain": [
       "array([[  0.,   0.,   0.],\n",
       "       [ 20.,   0.,   0.],\n",
       "       [ 40.,   0.,   0.],\n",
       "       [ 60.,   0.,   0.],\n",
       "       [ 80.,   0.,   0.],\n",
       "       [100.,   0.,   0.],\n",
       "       [120.,   0.,   0.],\n",
       "       [  0.,  20.,   0.],\n",
       "       [ 20.,  20.,   0.],\n",
       "       [ 40.,  20.,   0.],\n",
       "       [ 60.,  20.,   0.],\n",
       "       [ 80.,  20.,   0.],\n",
       "       [100.,  20.,   0.],\n",
       "       [120.,  20.,   0.],\n",
       "       [  0.,  40.,   0.],\n",
       "       [ 20.,  40.,   0.],\n",
       "       [ 40.,  40.,   0.],\n",
       "       [ 60.,  40.,   0.],\n",
       "       [ 80.,  40.,   0.],\n",
       "       [100.,  40.,   0.],\n",
       "       [120.,  40.,   0.],\n",
       "       [  0.,  60.,   0.],\n",
       "       [ 20.,  60.,   0.],\n",
       "       [ 40.,  60.,   0.],\n",
       "       [ 60.,  60.,   0.],\n",
       "       [ 80.,  60.,   0.],\n",
       "       [100.,  60.,   0.],\n",
       "       [120.,  60.,   0.],\n",
       "       [  0.,  80.,   0.],\n",
       "       [ 20.,  80.,   0.],\n",
       "       [ 40.,  80.,   0.],\n",
       "       [ 60.,  80.,   0.],\n",
       "       [ 80.,  80.,   0.],\n",
       "       [100.,  80.,   0.],\n",
       "       [120.,  80.,   0.],\n",
       "       [  0., 100.,   0.],\n",
       "       [ 20., 100.,   0.],\n",
       "       [ 40., 100.,   0.],\n",
       "       [ 60., 100.,   0.],\n",
       "       [ 80., 100.,   0.],\n",
       "       [100., 100.,   0.],\n",
       "       [120., 100.,   0.],\n",
       "       [  0., 120.,   0.],\n",
       "       [ 20., 120.,   0.],\n",
       "       [ 40., 120.,   0.],\n",
       "       [ 60., 120.,   0.],\n",
       "       [ 80., 120.,   0.],\n",
       "       [100., 120.,   0.],\n",
       "       [120., 120.,   0.]], dtype=float32)"
      ]
     },
     "execution_count": 66,
     "metadata": {},
     "output_type": "execute_result"
    }
   ],
   "source": [
    "# # how get the chessboard corners\n",
    "\n",
    "# # 49 num of corners   3 is x,y,z\n",
    "# obj = np.zeros((7*7,3), np.float32)\n",
    "# mesh_grid = np.mgrid[0:7,0:7].T.reshape(-1,2)# shape (49,2)\n",
    "# obj[:,:2] = mesh_grid\n",
    "\n",
    "# # multiply every coordinate by 20 mm to get the real world coordinates\n",
    "# obj *= 20\n",
    "# obj"
   ]
  },
  {
   "cell_type": "code",
   "execution_count": 68,
   "metadata": {},
   "outputs": [
    {
     "name": "stdout",
     "output_type": "stream",
     "text": [
      "directory created\n"
     ]
    }
   ],
   "source": [
    "calibration_data_path = 'calibration_data'\n",
    "\n",
    "check_dir = os.path.isdir(calibration_data_path)\n",
    "\n",
    "if check_dir:\n",
    "    print(\"directory already exists\")\n",
    "\n",
    "else:\n",
    "    os.mkdir(calibration_data_path)\n",
    "    print(\"directory created\")"
   ]
  },
  {
   "cell_type": "code",
   "execution_count": 72,
   "metadata": {},
   "outputs": [
    {
     "name": "stdout",
     "output_type": "stream",
     "text": [
      "[[  0.   0.   0.]\n",
      " [ 25.   0.   0.]\n",
      " [ 50.   0.   0.]\n",
      " [ 75.   0.   0.]\n",
      " [100.   0.   0.]\n",
      " [125.   0.   0.]\n",
      " [150.   0.   0.]\n",
      " [  0.  25.   0.]\n",
      " [ 25.  25.   0.]\n",
      " [ 50.  25.   0.]\n",
      " [ 75.  25.   0.]\n",
      " [100.  25.   0.]\n",
      " [125.  25.   0.]\n",
      " [150.  25.   0.]\n",
      " [  0.  50.   0.]\n",
      " [ 25.  50.   0.]\n",
      " [ 50.  50.   0.]\n",
      " [ 75.  50.   0.]\n",
      " [100.  50.   0.]\n",
      " [125.  50.   0.]\n",
      " [150.  50.   0.]\n",
      " [  0.  75.   0.]\n",
      " [ 25.  75.   0.]\n",
      " [ 50.  75.   0.]\n",
      " [ 75.  75.   0.]\n",
      " [100.  75.   0.]\n",
      " [125.  75.   0.]\n",
      " [150.  75.   0.]\n",
      " [  0. 100.   0.]\n",
      " [ 25. 100.   0.]\n",
      " [ 50. 100.   0.]\n",
      " [ 75. 100.   0.]\n",
      " [100. 100.   0.]\n",
      " [125. 100.   0.]\n",
      " [150. 100.   0.]\n",
      " [  0. 125.   0.]\n",
      " [ 25. 125.   0.]\n",
      " [ 50. 125.   0.]\n",
      " [ 75. 125.   0.]\n",
      " [100. 125.   0.]\n",
      " [125. 125.   0.]\n",
      " [150. 125.   0.]\n",
      " [  0. 150.   0.]\n",
      " [ 25. 150.   0.]\n",
      " [ 50. 150.   0.]\n",
      " [ 75. 150.   0.]\n",
      " [100. 150.   0.]\n",
      " [125. 150.   0.]\n",
      " [150. 150.   0.]]\n"
     ]
    }
   ],
   "source": [
    "obj_3D = np.zeros((CHESS_BOARD_DIMENSIONS[0]*CHESS_BOARD_DIMENSIONS[1],3), np.float32) # 7*7*3\n",
    "# get real world coordinates of chess board corners\n",
    "obj_3D[:,:2] = np.mgrid[0:CHESS_BOARD_DIMENSIONS[0],0:CHESS_BOARD_DIMENSIONS[1]].T.reshape(-1,2)\n",
    "# real distance between corners\n",
    "obj_3D *= SQUARE_SIZE\n",
    "print(obj_3D)\n",
    "\n",
    "obj_3D_points = [] # 3D points in real world space\n",
    "img_2D_points = [] # 2D points in image plane\n",
    "\n",
    "\n",
    "images = os.listdir(image_path)\n",
    "for Image in images:\n",
    "    PATH = os.path.join(image_path,Image)\n",
    "\n",
    "    img = cv2.imread(PATH)\n",
    "    gray = cv2.cvtColor(img,cv2.COLOR_BGR2GRAY)\n",
    "    ret, corners = cv2.findChessboardCorners(gray, CHESS_BOARD_DIMENSIONS, None)\n",
    "    if ret == True:\n",
    "        obj_3D_points.append(obj_3D)\n",
    "        improve_corners = cv2.cornerSubPix(gray,corners,(11,11),(-1,-1),criteria)\n",
    "        img_2D_points.append(improve_corners)\n",
    "\n",
    "        img = cv2.drawChessboardCorners(img,CHESS_BOARD_DIMENSIONS,improve_corners,ret)\n",
    "    cv2.imshow('img',img)\n",
    "    cv2.waitKey(0)\n",
    "\n",
    "cv2.destroyAllWindows()"
   ]
  },
  {
   "cell_type": "code",
   "execution_count": 74,
   "metadata": {},
   "outputs": [],
   "source": [
    "RError, mtx, dist, RVecs, TVecs = cv2.calibrateCamera(obj_3D_points, img_2D_points, gray.shape[::-1], None, None) # real world points, image points, image shape, camera matrix, distortion coefficients\n",
    "np.savez(\n",
    "    f\"{calibration_data_path}/MultiMatrix\",\n",
    "    cam_matrix=mtx,\n",
    "    dist_coeffs=dist,\n",
    "    rvecs=RVecs,\n",
    "    tvecs=TVecs)"
   ]
  },
  {
   "cell_type": "markdown",
   "metadata": {},
   "source": [
    "<h3>Load the Multi_Matrix</h3>"
   ]
  },
  {
   "cell_type": "code",
   "execution_count": 76,
   "metadata": {},
   "outputs": [
    {
     "name": "stdout",
     "output_type": "stream",
     "text": [
      "[[731.12850269   0.         410.04394907]\n",
      " [  0.         904.13035128 446.38632799]\n",
      " [  0.           0.           1.        ]]\n",
      "[[-0.00981295 -0.74078757 -0.00354336 -0.01916192  0.60649542]]\n",
      "[[[-0.09547118]\n",
      "  [ 0.19873483]\n",
      "  [ 1.46920487]]\n",
      "\n",
      " [[ 0.28075432]\n",
      "  [ 1.20660571]\n",
      "  [ 1.42607179]]\n",
      "\n",
      " [[-0.46151178]\n",
      "  [ 1.2663048 ]\n",
      "  [ 1.3980455 ]]\n",
      "\n",
      " [[ 0.2118138 ]\n",
      "  [ 0.61805336]\n",
      "  [ 1.35006007]]\n",
      "\n",
      " [[-0.08414572]\n",
      "  [ 0.04420779]\n",
      "  [ 0.90402126]]\n",
      "\n",
      " [[-0.2568581 ]\n",
      "  [-0.61709611]\n",
      "  [ 0.22028387]]\n",
      "\n",
      " [[-0.5896251 ]\n",
      "  [ 0.1404878 ]\n",
      "  [ 0.29767216]]\n",
      "\n",
      " [[ 0.39386409]\n",
      "  [ 0.28481143]\n",
      "  [-0.06939852]]\n",
      "\n",
      " [[-0.04042072]\n",
      "  [ 0.3093176 ]\n",
      "  [ 1.40182229]]\n",
      "\n",
      " [[-0.17542522]\n",
      "  [ 0.51575994]\n",
      "  [ 1.51628604]]]\n",
      "[[[  64.66486459]\n",
      "  [-102.6416511 ]\n",
      "  [ 232.34412613]]\n",
      "\n",
      " [[ 223.96515359]\n",
      "  [ -11.38079323]\n",
      "  [ 312.19750661]]\n",
      "\n",
      " [[ 248.10753331]\n",
      "  [  -9.53508693]\n",
      "  [ 436.80479998]]\n",
      "\n",
      " [[ -44.63421643]\n",
      "  [  -9.2439647 ]\n",
      "  [ 568.06970546]]\n",
      "\n",
      " [[ -11.81756783]\n",
      "  [ -82.67822216]\n",
      "  [ 281.35362499]]\n",
      "\n",
      " [[-149.12262149]\n",
      "  [ -55.32653395]\n",
      "  [ 391.6976243 ]]\n",
      "\n",
      " [[ 230.18093828]\n",
      "  [  56.03604113]\n",
      "  [ 805.00190921]]\n",
      "\n",
      " [[-180.1124305 ]\n",
      "  [  30.43304217]\n",
      "  [ 453.46396202]]\n",
      "\n",
      " [[   9.12261133]\n",
      "  [ -76.66117997]\n",
      "  [ 272.46879633]]\n",
      "\n",
      " [[  95.24878951]\n",
      "  [ -14.16655103]\n",
      "  [ 374.22720902]]]\n"
     ]
    }
   ],
   "source": [
    "data = np.load('./calibration_data/MultiMatrix.npz')\n",
    "cam_matrix = data['cam_matrix']\n",
    "dist_matrix = data['dist_coeffs']\n",
    "rvecs = data['rvecs']\n",
    "tvecs = data['tvecs']\n",
    "\n",
    "print(cam_matrix)\n",
    "print(dist_matrix)\n",
    "print(rvecs)\n",
    "print(tvecs)"
   ]
  }
 ],
 "metadata": {
  "kernelspec": {
   "display_name": "Python 3",
   "language": "python",
   "name": "python3"
  },
  "language_info": {
   "codemirror_mode": {
    "name": "ipython",
    "version": 3
   },
   "file_extension": ".py",
   "mimetype": "text/x-python",
   "name": "python",
   "nbconvert_exporter": "python",
   "pygments_lexer": "ipython3",
   "version": "3.11.6"
  },
  "orig_nbformat": 4
 },
 "nbformat": 4,
 "nbformat_minor": 2
}
