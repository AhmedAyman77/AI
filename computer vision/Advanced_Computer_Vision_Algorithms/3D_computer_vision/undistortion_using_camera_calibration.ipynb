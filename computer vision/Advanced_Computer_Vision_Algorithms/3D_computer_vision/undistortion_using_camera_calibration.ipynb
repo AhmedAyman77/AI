{
 "cells": [
  {
   "cell_type": "code",
   "execution_count": 3,
   "metadata": {},
   "outputs": [],
   "source": [
    "import cv2\n",
    "import os\n",
    "import numpy as np"
   ]
  },
  {
   "cell_type": "code",
   "execution_count": null,
   "metadata": {},
   "outputs": [],
   "source": [
    "os.chdir('./data/')"
   ]
  },
  {
   "cell_type": "code",
   "execution_count": 18,
   "metadata": {},
   "outputs": [],
   "source": [
    "def remove_distortion(cam_matrix,dist_coeff):\n",
    "    img = cv2.imread('./distortion.jpg')\n",
    "    img = cv2.resize(img,(1920,1080))\n",
    "\n",
    "    height, width = img.shape[:2]\n",
    "\n",
    "    # function helps optimize the camera matrix\n",
    "    # this function returns a new camera matrix and a region of interest that will contain the undistorted part of the image\n",
    "    new_cam_matrix, roi = cv2.getOptimalNewCameraMatrix(cam_matrix,dist_coeff,(width,height),1,(width,height)) # old_cam_matrix, dist_coeff, image_size, alpha, new_image_size\n",
    "    print(new_cam_matrix)\n",
    "\n",
    "    img_undistorted = cv2.undistort(img,cam_matrix,dist_coeff,None,new_cam_matrix) # img, old_cam_matrix, dist_coeff, new_cam_matrix\n",
    "    # x,y,w,h = roi\n",
    "    # img_undistorted = img_undistorted[y:y+h,x:x+w]\n",
    "\n",
    "    cv2.line(img,(1769,103),(1780,922),(255,255,255),2)\n",
    "    cv2.line(img_undistorted,(1769,103),(1780,922),(255,255,255),2)\n",
    "\n",
    "    cv2.imshow('original',img)\n",
    "    cv2.imshow('undistorted',img_undistorted)\n",
    "    cv2.waitKey(0)\n",
    "    cv2.destroyAllWindows()"
   ]
  },
  {
   "cell_type": "code",
   "execution_count": 4,
   "metadata": {},
   "outputs": [
    {
     "name": "stdout",
     "output_type": "stream",
     "text": [
      "[[731.12850269   0.         410.04394907]\n",
      " [  0.         904.13035128 446.38632799]\n",
      " [  0.           0.           1.        ]]\n",
      "[[-0.00981295 -0.74078757 -0.00354336 -0.01916192  0.60649542]]\n",
      "[[[-0.09547118]\n",
      "  [ 0.19873483]\n",
      "  [ 1.46920487]]\n",
      "\n",
      " [[ 0.28075432]\n",
      "  [ 1.20660571]\n",
      "  [ 1.42607179]]\n",
      "\n",
      " [[-0.46151178]\n",
      "  [ 1.2663048 ]\n",
      "  [ 1.3980455 ]]\n",
      "\n",
      " [[ 0.2118138 ]\n",
      "  [ 0.61805336]\n",
      "  [ 1.35006007]]\n",
      "\n",
      " [[-0.08414572]\n",
      "  [ 0.04420779]\n",
      "  [ 0.90402126]]\n",
      "\n",
      " [[-0.2568581 ]\n",
      "  [-0.61709611]\n",
      "  [ 0.22028387]]\n",
      "\n",
      " [[-0.5896251 ]\n",
      "  [ 0.1404878 ]\n",
      "  [ 0.29767216]]\n",
      "\n",
      " [[ 0.39386409]\n",
      "  [ 0.28481143]\n",
      "  [-0.06939852]]\n",
      "\n",
      " [[-0.04042072]\n",
      "  [ 0.3093176 ]\n",
      "  [ 1.40182229]]\n",
      "\n",
      " [[-0.17542522]\n",
      "  [ 0.51575994]\n",
      "  [ 1.51628604]]]\n",
      "[[[  64.66486459]\n",
      "  [-102.6416511 ]\n",
      "  [ 232.34412613]]\n",
      "\n",
      " [[ 223.96515359]\n",
      "  [ -11.38079323]\n",
      "  [ 312.19750661]]\n",
      "\n",
      " [[ 248.10753331]\n",
      "  [  -9.53508693]\n",
      "  [ 436.80479998]]\n",
      "\n",
      " [[ -44.63421643]\n",
      "  [  -9.2439647 ]\n",
      "  [ 568.06970546]]\n",
      "\n",
      " [[ -11.81756783]\n",
      "  [ -82.67822216]\n",
      "  [ 281.35362499]]\n",
      "\n",
      " [[-149.12262149]\n",
      "  [ -55.32653395]\n",
      "  [ 391.6976243 ]]\n",
      "\n",
      " [[ 230.18093828]\n",
      "  [  56.03604113]\n",
      "  [ 805.00190921]]\n",
      "\n",
      " [[-180.1124305 ]\n",
      "  [  30.43304217]\n",
      "  [ 453.46396202]]\n",
      "\n",
      " [[   9.12261133]\n",
      "  [ -76.66117997]\n",
      "  [ 272.46879633]]\n",
      "\n",
      " [[  95.24878951]\n",
      "  [ -14.16655103]\n",
      "  [ 374.22720902]]]\n"
     ]
    }
   ],
   "source": [
    "data = np.load('./calibration_data/MultiMatrix.npz')\n",
    "cam_matrix = data['cam_matrix']\n",
    "dist_matrix = data['dist_coeffs']\n",
    "rvecs = data['rvecs']\n",
    "tvecs = data['tvecs']\n",
    "\n",
    "print(cam_matrix)\n",
    "print(dist_matrix)\n",
    "print(rvecs)\n",
    "print(tvecs)"
   ]
  },
  {
   "cell_type": "code",
   "execution_count": 19,
   "metadata": {},
   "outputs": [
    {
     "name": "stdout",
     "output_type": "stream",
     "text": [
      "[[988.52803887   0.         634.71959508]\n",
      " [  0.         737.28227873 448.10209376]\n",
      " [  0.           0.           1.        ]]\n"
     ]
    }
   ],
   "source": [
    "remove_distortion(cam_matrix,dist_matrix)"
   ]
  },
  {
   "cell_type": "markdown",
   "metadata": {},
   "source": [
    "<h1>Why it does not work well</h1>\n",
    "\n",
    "\n",
    "<h4>The undistortion process works best when applied to an image captured using the same camera for which the camera matrix (cam_matrix) and distortion coefficients (dist) were calculated, as these parameters are specific to that camera.</h4>"
   ]
  }
 ],
 "metadata": {
  "kernelspec": {
   "display_name": "Python 3",
   "language": "python",
   "name": "python3"
  },
  "language_info": {
   "codemirror_mode": {
    "name": "ipython",
    "version": 3
   },
   "file_extension": ".py",
   "mimetype": "text/x-python",
   "name": "python",
   "nbconvert_exporter": "python",
   "pygments_lexer": "ipython3",
   "version": "3.11.6"
  },
  "orig_nbformat": 4
 },
 "nbformat": 4,
 "nbformat_minor": 2
}
