{
 "cells": [
  {
   "cell_type": "code",
   "execution_count": 7,
   "metadata": {},
   "outputs": [],
   "source": [
    "import cv2\n",
    "import cvzone\n",
    "import numpy as np\n",
    "from cvzone.FaceMeshModule import FaceMeshDetector"
   ]
  },
  {
   "cell_type": "markdown",
   "metadata": {},
   "source": [
    "<h1>Calculate distance between camera and object</h1>\n",
    "<h3>Distance:</h3>\n",
    "<h4>d = (W*f)/w</h4>\n",
    "<p>where W is the width real of the object \"every human face has a fixed distance between 2 eyes we will take it as a width\"</p>\n",
    "<p>f is the focal length of the camera</p>\n",
    "<p>w is the width of the object in the frame \"in pixels\"</p>\n",
    "\n",
    "<h3>focal length f:</h3>\n",
    "<h4>f = (w*d)/W</h4>\n",
    "<p>d is the distance between the camera and the object</p>"
   ]
  },
  {
   "cell_type": "code",
   "execution_count": 6,
   "metadata": {},
   "outputs": [
    {
     "name": "stderr",
     "output_type": "stream",
     "text": [
      "I0000 00:00:1731714089.690827   10513 gl_context_egl.cc:85] Successfully initialized EGL. Major : 1 Minor: 5\n",
      "I0000 00:00:1731714089.693410   11792 gl_context.cc:357] GL version: 3.2 (OpenGL ES 3.2 Mesa 23.2.1-1ubuntu3.1), renderer: Mesa Intel(R) UHD Graphics 620 (KBL GT2)\n",
      "W0000 00:00:1731714089.704130   11786 inference_feedback_manager.cc:114] Feedback manager requires a model with a single signature inference. Disabling support for feedback tensors.\n",
      "W0000 00:00:1731714089.721641   11783 inference_feedback_manager.cc:114] Feedback manager requires a model with a single signature inference. Disabling support for feedback tensors.\n"
     ]
    }
   ],
   "source": [
    "cap = cv2.VideoCapture(0)\n",
    "detector = FaceMeshDetector(maxFaces=1)\n",
    "\n",
    "while True:\n",
    "    ret, frame = cap.read()\n",
    "    if not ret:\n",
    "        break\n",
    "    \n",
    "    img, faces = detector.findFaceMesh(frame,draw=False)\n",
    "    if faces:\n",
    "        face = faces[0]\n",
    "        point_left = face[145]\n",
    "        point_right = face[374]\n",
    "        cv2.line(frame, point_left,point_right,(0,200,0),3)\n",
    "        cv2.circle(frame,point_left,5,(255,0,0),-1)\n",
    "        cv2.circle(frame,point_right,5,(255,0,0),-1)\n",
    "\n",
    "        # calculate distance between eyes in pixels\n",
    "        w,_ = detector.findDistance(point_right,point_left)\n",
    "\n",
    "        # the real distance\n",
    "        W = 6.3\n",
    "        # d = 50\n",
    "        # f = (w*d)/W\n",
    "        # print(f)# will take f as 638\n",
    "\n",
    "        f = 638\n",
    "        d = (W*f)/w\n",
    "        cvzone.putTextRect(img,f\"depth {int(d)}cm\",(face[10][0]-100,face[10][1]-50),scale=2)\n",
    "        \n",
    "    cv2.imshow(\"frame\",frame)\n",
    "    if cv2.waitKey(1) == 27:\n",
    "        break\n",
    "\n",
    "cap.release()\n",
    "cv2.destroyAllWindows()"
   ]
  },
  {
   "cell_type": "markdown",
   "metadata": {},
   "source": [
    "<h1>change text scale based on distance</h1>"
   ]
  },
  {
   "cell_type": "code",
   "execution_count": 33,
   "metadata": {},
   "outputs": [
    {
     "name": "stderr",
     "output_type": "stream",
     "text": [
      "I0000 00:00:1731715025.402579   10513 gl_context_egl.cc:85] Successfully initialized EGL. Major : 1 Minor: 5\n",
      "I0000 00:00:1731715025.404537   12785 gl_context.cc:357] GL version: 3.2 (OpenGL ES 3.2 Mesa 23.2.1-1ubuntu3.1), renderer: Mesa Intel(R) UHD Graphics 620 (KBL GT2)\n",
      "W0000 00:00:1731715025.413306   12778 inference_feedback_manager.cc:114] Feedback manager requires a model with a single signature inference. Disabling support for feedback tensors.\n",
      "W0000 00:00:1731715025.432947   12775 inference_feedback_manager.cc:114] Feedback manager requires a model with a single signature inference. Disabling support for feedback tensors.\n"
     ]
    }
   ],
   "source": [
    "cap = cv2.VideoCapture(0)\n",
    "detector = FaceMeshDetector(maxFaces=1)\n",
    "texts = [\n",
    "    'welcome',\n",
    "    'My name is Ahmed']\n",
    "\n",
    "sen = 25\n",
    "\n",
    "while True:\n",
    "    ret, frame = cap.read()\n",
    "    if not ret:\n",
    "        break\n",
    "    \n",
    "    img_text = np.zeros_like(frame)\n",
    "    \n",
    "    img, faces = detector.findFaceMesh(frame,draw=False)\n",
    "    if faces:\n",
    "        face = faces[0]\n",
    "        point_left = face[145]\n",
    "        point_right = face[374]\n",
    "        # cv2.line(frame, point_left,point_right,(0,200,0),3)\n",
    "        # cv2.circle(frame,point_left,5,(255,0,0),-1)\n",
    "        # cv2.circle(frame,point_right,5,(255,0,0),-1)\n",
    "\n",
    "        # calculate distance between eyes in pixels\n",
    "        w,_ = detector.findDistance(point_right,point_left)\n",
    "\n",
    "        # the real distance\n",
    "        W = 6.3\n",
    "        # d = 50\n",
    "        # f = (w*d)/W\n",
    "        # print(f)# will take f as 638\n",
    "\n",
    "        f = 638\n",
    "        d = (W*f)/w\n",
    "        cvzone.putTextRect(img,f\"depth {int(d)}cm\",(face[10][0]-100,face[10][1]-50),scale=2)\n",
    "\n",
    "        for i, text in enumerate(texts):\n",
    "            single_hight = 20+int((int(d/sen)*sen)/4)\n",
    "            scale = 0.4+(int(d/sen)*sen)/75\n",
    "            cv2.putText(img_text, text, (50, 50+(i*single_hight)), cv2.FONT_HERSHEY_SIMPLEX, scale, (255, 255, 255), 3)\n",
    "        \n",
    "    img_stack = cvzone.stackImages([img_text,frame],2,1)\n",
    "    \n",
    "    # cv2.imshow('frame',frame)\n",
    "    # cv2.imshow('img_text',img_text)\n",
    "    cv2.imshow('img_stack',img_stack)\n",
    "    if cv2.waitKey(1) == 27:\n",
    "        break\n",
    "\n",
    "cap.release()\n",
    "cv2.destroyAllWindows()"
   ]
  }
 ],
 "metadata": {
  "kernelspec": {
   "display_name": "Python 3",
   "language": "python",
   "name": "python3"
  },
  "language_info": {
   "codemirror_mode": {
    "name": "ipython",
    "version": 3
   },
   "file_extension": ".py",
   "mimetype": "text/x-python",
   "name": "python",
   "nbconvert_exporter": "python",
   "pygments_lexer": "ipython3",
   "version": "3.11.6"
  },
  "orig_nbformat": 4
 },
 "nbformat": 4,
 "nbformat_minor": 2
}
