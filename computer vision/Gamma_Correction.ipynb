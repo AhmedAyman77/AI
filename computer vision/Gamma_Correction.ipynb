{
 "cells": [
  {
   "cell_type": "code",
   "execution_count": 1,
   "metadata": {},
   "outputs": [],
   "source": [
    "import numpy as np\n",
    "import matplotlib.pyplot as plt\n",
    "import cv2\n",
    "import os"
   ]
  },
  {
   "cell_type": "code",
   "execution_count": 2,
   "metadata": {},
   "outputs": [],
   "source": [
    "os.chdir('../data')"
   ]
  },
  {
   "cell_type": "code",
   "execution_count": 35,
   "metadata": {},
   "outputs": [],
   "source": [
    "'''\n",
    "explain function\n",
    "\n",
    "LUT Creation: We create a table that holds the corrected pixel values for each possible intensity level (from 0 to 255).\n",
    "i represents the pixel intensity values (from 0 to 255).\n",
    "i / 255.0 scales the pixel intensity into the range [0, 1].\n",
    "Raising it to the power of gamma adjusts the intensity according to the gamma value. This controls the non-linear mapping:\n",
    "Gamma > 1: Darkens the image (compresses brighter areas more than darker areas).\n",
    "Gamma < 1: Brightens the image (compresses darker areas more than brighter areas).\n",
    "The result is scaled back to [0, 255] by multiplying by 255.\n",
    "\n",
    ".astype(\"uint8\") ensures the table values are in the correct unsigned 8-bit integer format, which is the format used for pixel values in images.\n",
    "Applying the LUT\n",
    "\n",
    "'''\n",
    "def gamma_correction(image, gamma):\n",
    "    # Create a look-up table (LUT) for gamma correction\n",
    "    \n",
    "    table = np.array([((i / 255.0) ** gamma) * 255 for i in range(256)]).astype(\"uint8\")\n",
    "    \n",
    "    # Apply the LUT to the image to get the gamma-corrected result\n",
    "    return cv2.LUT(image, table)"
   ]
  },
  {
   "cell_type": "code",
   "execution_count": 36,
   "metadata": {},
   "outputs": [],
   "source": [
    "image = cv2.imread('./sunFlower.jpg')\n",
    "\n",
    "# When the gamma value is set to 1, the image remains unchanged.\n",
    "# When gamma is greater than 1, the image becomes darker.\n",
    "# When gamma is less than 1, the image becomes brighter.\n",
    "gamma_corrected_image = gamma_correction(image, 3)\n",
    "\n",
    "cv2.imshow('Original Image', image)\n",
    "cv2.imshow('Gamma Corrected Image', gamma_corrected_image)\n",
    "\n",
    "cv2.waitKey(0)\n",
    "cv2.destroyAllWindows()"
   ]
  }
 ],
 "metadata": {
  "kernelspec": {
   "display_name": "Python 3",
   "language": "python",
   "name": "python3"
  },
  "language_info": {
   "codemirror_mode": {
    "name": "ipython",
    "version": 3
   },
   "file_extension": ".py",
   "mimetype": "text/x-python",
   "name": "python",
   "nbconvert_exporter": "python",
   "pygments_lexer": "ipython3",
   "version": "3.11.6"
  },
  "orig_nbformat": 4
 },
 "nbformat": 4,
 "nbformat_minor": 2
}
