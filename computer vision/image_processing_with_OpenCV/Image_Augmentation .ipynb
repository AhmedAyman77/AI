{
 "cells": [
  {
   "cell_type": "code",
   "execution_count": 1,
   "metadata": {},
   "outputs": [],
   "source": [
    "import imgaug.augmenters as iaa\n",
    "import cv2\n",
    "import glob\n",
    "import os\n",
    "os.chdir('./data')"
   ]
  },
  {
   "cell_type": "code",
   "execution_count": 2,
   "metadata": {},
   "outputs": [
    {
     "name": "stdout",
     "output_type": "stream",
     "text": [
      "./car2.jpg\n",
      "./car3.jpg\n",
      "./car4.jpg\n",
      "./car1.jpg\n"
     ]
    }
   ],
   "source": [
    "imgs_paths = glob.glob(\"./*.jpg\")\n",
    "\n",
    "imgs = []\n",
    "for img_path in imgs_paths:\n",
    "    if img_path.split('/')[1][:3] == 'car':\n",
    "        img = cv2.imread(img_path)\n",
    "        imgs.append(img)\n",
    "        print(img_path)"
   ]
  },
  {
   "cell_type": "code",
   "execution_count": 3,
   "metadata": {},
   "outputs": [],
   "source": [
    "augmentation = iaa.Sequential([\n",
    "    # flip\n",
    "    iaa.Fliplr(0.5), # horizontal flip 50%\n",
    "    iaa.Flipud(1), # vertical flip 100%\n",
    "\n",
    "\n",
    "    # affine\n",
    "    iaa.Affine(\n",
    "        translate_percent={'x':(-0.2,0.2), 'y':(-0.2,0.2)}, # move on x/y axis by range from (-0.2,0.2) in both axis\n",
    "        rotate=(-30,30),\n",
    "        scale=(0.5,2) # zoom in/out\n",
    "    ),\n",
    "\n",
    "    # multiply\n",
    "    # Multiply X with 0.8 and y with 1.4\n",
    "    iaa.Multiply((0.8,1.4)), # darker, lighter\n",
    "\n",
    "    # LinearContrast\n",
    "    iaa.LinearContrast((0.6,1.4)), # improve pixels\n",
    "\n",
    "    # apply GaussianBlur on 50% of the images\n",
    "    iaa.Sometimes(\n",
    "        0.5,\n",
    "        iaa.GaussianBlur((0.0,3.0))\n",
    "    )\n",
    "])"
   ]
  },
  {
   "cell_type": "code",
   "execution_count": 4,
   "metadata": {},
   "outputs": [],
   "source": [
    "augmented_images = augmentation(images=imgs)"
   ]
  },
  {
   "cell_type": "code",
   "execution_count": 5,
   "metadata": {},
   "outputs": [
    {
     "name": "stderr",
     "output_type": "stream",
     "text": [
      "qt.qpa.plugin: Could not find the Qt platform plugin \"wayland\" in \"/home/ahmedcr7/.local/lib/python3.11/site-packages/cv2/qt/plugins\"\n"
     ]
    }
   ],
   "source": [
    "for augmented_image in augmented_images:\n",
    "    cv2.imshow('img',augmented_image)\n",
    "    cv2.waitKey(0)\n",
    "    cv2.destroyAllWindows()"
   ]
  }
 ],
 "metadata": {
  "kernelspec": {
   "display_name": "Python 3",
   "language": "python",
   "name": "python3"
  },
  "language_info": {
   "codemirror_mode": {
    "name": "ipython",
    "version": 3
   },
   "file_extension": ".py",
   "mimetype": "text/x-python",
   "name": "python",
   "nbconvert_exporter": "python",
   "pygments_lexer": "ipython3",
   "version": "3.11.6"
  },
  "orig_nbformat": 4
 },
 "nbformat": 4,
 "nbformat_minor": 2
}
