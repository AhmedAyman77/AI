{
 "cells": [
  {
   "cell_type": "code",
   "execution_count": 1,
   "metadata": {},
   "outputs": [],
   "source": [
    "import cv2\n",
    "import matplotlib.pyplot as plt\n",
    "import numpy as np\n",
    "import os\n",
    "os.chdir('./data/')"
   ]
  },
  {
   "cell_type": "code",
   "execution_count": 2,
   "metadata": {},
   "outputs": [],
   "source": [
    "img1 = cv2.imread('cat_375.jpg', 1)\n",
    "img2 = cv2.imread('_.jpeg', 1)"
   ]
  },
  {
   "cell_type": "markdown",
   "metadata": {},
   "source": [
    "<h3>separate rgb from img<h3>\n"
   ]
  },
  {
   "cell_type": "code",
   "execution_count": 3,
   "metadata": {},
   "outputs": [
    {
     "name": "stdout",
     "output_type": "stream",
     "text": [
      "[[244 244 245 ...  39  39  40]\n",
      " [244 243 246 ...  39  39  40]\n",
      " [244 242 245 ...  40  40  41]\n",
      " ...\n",
      " [  3   3   3 ...   4   4   4]\n",
      " [  2   2   2 ...   5   5   5]\n",
      " [  2   2   2 ...   5   5   5]]\n"
     ]
    },
    {
     "name": "stderr",
     "output_type": "stream",
     "text": [
      "QSocketNotifier: Can only be used with threads started with QThread\n"
     ]
    }
   ],
   "source": [
    "B, G, R = cv2.split(img2)\n",
    "\n",
    "print(B)\n",
    "cv2.imshow('B', G)\n",
    "\n",
    "cv2.waitKey(0)\n",
    "cv2.destroyAllWindows()"
   ]
  },
  {
   "cell_type": "markdown",
   "metadata": {},
   "source": [
    "<h3>concatenate RGB<h3>\n"
   ]
  },
  {
   "cell_type": "code",
   "execution_count": 4,
   "metadata": {},
   "outputs": [],
   "source": [
    "img2 = cv2.merge([B, G, R])\n",
    "\n",
    "cv2.imshow('RGB', img2)\n",
    "\n",
    "cv2.waitKey(0)\n",
    "cv2.destroyAllWindows()"
   ]
  },
  {
   "cell_type": "markdown",
   "metadata": {},
   "source": [
    "<h3>copy head to new place<h3>\n"
   ]
  },
  {
   "cell_type": "code",
   "execution_count": 5,
   "metadata": {},
   "outputs": [],
   "source": [
    "head = img2[22:198, 219:356]\n",
    "img2[0:0+head.shape[0],0:0+head.shape[1]] = head\n",
    "\n",
    "\n",
    "cv2.imshow('img2', img2)\n",
    "cv2.waitKey(0)\n",
    "cv2.destroyAllWindows()"
   ]
  },
  {
   "cell_type": "markdown",
   "metadata": {},
   "source": [
    "<h3>merge 2 images<h3>\n"
   ]
  },
  {
   "cell_type": "code",
   "execution_count": 6,
   "metadata": {},
   "outputs": [],
   "source": [
    "img1 = cv2.imread('cat_375.jpg', 1)\n",
    "img2 = cv2.imread('_.jpeg', 1)"
   ]
  },
  {
   "cell_type": "code",
   "execution_count": 7,
   "metadata": {},
   "outputs": [
    {
     "name": "stdout",
     "output_type": "stream",
     "text": [
      "(720, 1080, 3)\n"
     ]
    },
    {
     "data": {
      "text/plain": [
       "(690, 552, 3)"
      ]
     },
     "execution_count": 7,
     "metadata": {},
     "output_type": "execute_result"
    }
   ],
   "source": [
    "print(img1.shape)\n",
    "img2.shape"
   ]
  },
  {
   "cell_type": "code",
   "execution_count": 8,
   "metadata": {},
   "outputs": [],
   "source": [
    "img1 = cv2.resize(img1, (512, 512))\n",
    "img2 = cv2.resize(img2, (512, 512))\n",
    "dst = cv2.add(img1, img2)\n",
    "cv2.imshow('dst', dst)\n",
    "cv2.waitKey(0)\n",
    "cv2.destroyAllWindows()"
   ]
  },
  {
   "cell_type": "code",
   "execution_count": 9,
   "metadata": {},
   "outputs": [],
   "source": [
    "# handle weight\n",
    "\n",
    "# img1, weight1, img2, weight2, gamma \"brightness\"\n",
    "dst = cv2.addWeighted(img1, 0.7, img2, 0.3, 0)\n",
    "cv2.imshow('dst', dst)\n",
    "cv2.waitKey(0)\n",
    "cv2.destroyAllWindows()"
   ]
  },
  {
   "cell_type": "markdown",
   "metadata": {},
   "source": [
    "<h1>Bitwise Operations<h1>\n",
    "<h4>working with binary images<h4>"
   ]
  },
  {
   "cell_type": "code",
   "execution_count": 10,
   "metadata": {},
   "outputs": [],
   "source": [
    "img1 = np.zeros((512, 512, 3), np.uint8)\n",
    "img1 = cv2.rectangle(img1,(200,0), (300,100), (255,255,255),-1)\n",
    "\n",
    "img2 = np.full((512, 512, 3), 255, np.uint8)  # white image\n",
    "img2 = cv2.rectangle(img2, (0, 0), (250, 512), (0, 0, 0), -1)\n",
    "\n",
    "cv2.imshow(\"img1\", img1)\n",
    "cv2.imshow(\"img2\", img2)\n",
    "\n",
    "\n",
    "# Bitwise AND\n",
    "bitwise_and = cv2.bitwise_and(img2, img1)\n",
    "cv2.imshow(\"bitwise_and\", bitwise_and)\n",
    "\n",
    "# Bitwise OR\n",
    "bitwise_or = cv2.bitwise_or(img2, img1)\n",
    "cv2.imshow(\"bitwise_or\", bitwise_or)\n",
    "\n",
    "# Bitwise XOR\n",
    "bitwise_xor = cv2.bitwise_xor(img2, img1)\n",
    "cv2.imshow(\"bitwise_xor\", bitwise_xor)\n",
    "\n",
    "# Bitwise NOT\n",
    "img2_bitwise_not = cv2.bitwise_not(img2)\n",
    "cv2.imshow(\"bitwise_not\", img2_bitwise_not)\n",
    "img1_bitwise_not = cv2.bitwise_not(img1)\n",
    "cv2.imshow(\"bitwise_not\", img1_bitwise_not)\n",
    "\n",
    "cv2.waitKey(0)\n",
    "cv2.destroyAllWindows()"
   ]
  },
  {
   "cell_type": "markdown",
   "metadata": {},
   "source": [
    "<h1>control BGR<h1>\n"
   ]
  },
  {
   "cell_type": "code",
   "execution_count": 11,
   "metadata": {},
   "outputs": [
    {
     "name": "stdout",
     "output_type": "stream",
     "text": [
      "11\n",
      "26\n",
      "41\n",
      "52\n",
      "65\n",
      "76\n",
      "86\n",
      "94\n",
      "102\n",
      "110\n",
      "117\n",
      "127\n",
      "137\n",
      "147\n",
      "157\n",
      "166\n",
      "176\n",
      "183\n",
      "190\n",
      "196\n",
      "203\n",
      "208\n",
      "213\n",
      "218\n",
      "223\n",
      "1\n"
     ]
    }
   ],
   "source": [
    "def nothing(x):\n",
    "    print(x)\n",
    "\n",
    "img = np.zeros((300,512,3),np.uint8)\n",
    "cv2.namedWindow('image')\n",
    "\n",
    "cv2.createTrackbar('B','image',0,255,nothing)\n",
    "cv2.createTrackbar('G','image',0,255,nothing)\n",
    "cv2.createTrackbar('R','image',0,255,nothing)\n",
    "\n",
    "switch = \"0 : OFF \\n1 : ON\"\n",
    "cv2.createTrackbar(switch,'image',0,1,nothing)\n",
    "\n",
    "while True:\n",
    "    cv2.imshow('image',img)\n",
    "    # wait 1 millisecond and check if any key is pressed if yes break if no continue\n",
    "    k = cv2.waitKey(1)\n",
    "    if k == 27:\n",
    "        break\n",
    "\n",
    "    b = cv2.getTrackbarPos('B','image')\n",
    "    g = cv2.getTrackbarPos('G','image')\n",
    "    r = cv2.getTrackbarPos('R','image')\n",
    "    s = cv2.getTrackbarPos(switch,'image')\n",
    "\n",
    "    if s==0:\n",
    "        img[:,:] = 0\n",
    "    else:\n",
    "        img[:,:] = [b,g,r]\n",
    "\n",
    "cv2.destroyAllWindows()"
   ]
  }
 ],
 "metadata": {
  "kernelspec": {
   "display_name": "Python 3",
   "language": "python",
   "name": "python3"
  },
  "language_info": {
   "codemirror_mode": {
    "name": "ipython",
    "version": 3
   },
   "file_extension": ".py",
   "mimetype": "text/x-python",
   "name": "python",
   "nbconvert_exporter": "python",
   "pygments_lexer": "ipython3",
   "version": "3.11.6"
  },
  "orig_nbformat": 4
 },
 "nbformat": 4,
 "nbformat_minor": 2
}
