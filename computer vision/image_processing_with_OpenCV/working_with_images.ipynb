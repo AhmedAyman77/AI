{
 "cells": [
  {
   "cell_type": "code",
   "execution_count": 1,
   "metadata": {},
   "outputs": [],
   "source": [
    "import cv2\n",
    "import matplotlib.pyplot as plt\n",
    "import numpy as np\n",
    "import os\n",
    "os.chdir('./data/')"
   ]
  },
  {
   "cell_type": "code",
   "execution_count": 3,
   "metadata": {},
   "outputs": [
    {
     "name": "stdout",
     "output_type": "stream",
     "text": [
      "[[ 56  56  56 ...  76  76  76]\n",
      " [ 56  56  56 ...  76  76  76]\n",
      " [ 56  56  56 ...  77  77  77]\n",
      " ...\n",
      " [150 151 151 ... 113 113 112]\n",
      " [147 151 153 ... 113 112 112]\n",
      " [145 150 153 ... 112 112 112]]\n"
     ]
    }
   ],
   "source": [
    "# show grayScale img\n",
    "img = cv2.imread('cat_375.jpg',0)\n",
    "print(img)"
   ]
  },
  {
   "cell_type": "code",
   "execution_count": 4,
   "metadata": {},
   "outputs": [
    {
     "name": "stderr",
     "output_type": "stream",
     "text": [
      "QSocketNotifier: Can only be used with threads started with QThread\n"
     ]
    }
   ],
   "source": [
    "cv2.imshow('cat',img)\n",
    "k = cv2.waitKey(0)\n",
    "\n",
    "if k == 27:  # if i click on esc button \"27 == esc\"\n",
    "    cv2.destroyAllWindows()\n",
    "elif k == ord('s'):\n",
    "    cv2.imwrite('cat_copy.png',img)\n",
    "    cv2.destroyAllWindows()"
   ]
  },
  {
   "cell_type": "code",
   "execution_count": 5,
   "metadata": {},
   "outputs": [],
   "source": [
    "# i can choose how many seconds i want the image appear then close it\n",
    "cv2.imshow('image', img)\n",
    "cv2.waitKey(5000)          # this mean open the img 5 seconds\n",
    "cv2.destroyAllWindows()    # then close it"
   ]
  },
  {
   "cell_type": "code",
   "execution_count": 6,
   "metadata": {},
   "outputs": [
    {
     "name": "stdout",
     "output_type": "stream",
     "text": [
      "[[[ 29  60  59]\n",
      "  [ 29  60  59]\n",
      "  [ 28  60  59]\n",
      "  ...\n",
      "  [ 41  84  75]\n",
      "  [ 41  84  75]\n",
      "  [ 41  84  75]]\n",
      "\n",
      " [[ 29  60  59]\n",
      "  [ 29  60  59]\n",
      "  [ 28  60  59]\n",
      "  ...\n",
      "  [ 41  84  75]\n",
      "  [ 41  84  75]\n",
      "  [ 41  84  75]]\n",
      "\n",
      " [[ 29  60  59]\n",
      "  [ 29  60  59]\n",
      "  [ 28  60  59]\n",
      "  ...\n",
      "  [ 42  85  76]\n",
      "  [ 42  85  76]\n",
      "  [ 42  85  76]]\n",
      "\n",
      " ...\n",
      "\n",
      " [[122 145 171]\n",
      "  [123 146 172]\n",
      "  [124 145 172]\n",
      "  ...\n",
      "  [106 110 121]\n",
      "  [106 110 121]\n",
      "  [105 109 120]]\n",
      "\n",
      " [[119 142 168]\n",
      "  [123 146 172]\n",
      "  [126 147 174]\n",
      "  ...\n",
      "  [106 110 121]\n",
      "  [105 109 120]\n",
      "  [105 109 120]]\n",
      "\n",
      " [[117 140 166]\n",
      "  [122 145 171]\n",
      "  [126 147 174]\n",
      "  ...\n",
      "  [105 109 120]\n",
      "  [105 109 120]\n",
      "  [105 109 120]]]\n"
     ]
    }
   ],
   "source": [
    "# show colored img\n",
    "img = cv2.imread('cat_375.jpg', 1)\n",
    "print(img)"
   ]
  },
  {
   "cell_type": "code",
   "execution_count": 7,
   "metadata": {},
   "outputs": [],
   "source": [
    "# i can choose how many seconds i want the image appear then close it\n",
    "cv2.imshow('image', img)\n",
    "cv2.waitKey(5000)          # this mean open the img 5 seconds\n",
    "cv2.destroyAllWindows()    # then close it"
   ]
  }
 ],
 "metadata": {
  "kernelspec": {
   "display_name": "Python 3",
   "language": "python",
   "name": "python3"
  },
  "language_info": {
   "codemirror_mode": {
    "name": "ipython",
    "version": 3
   },
   "file_extension": ".py",
   "mimetype": "text/x-python",
   "name": "python",
   "nbconvert_exporter": "python",
   "pygments_lexer": "ipython3",
   "version": "3.11.6"
  },
  "orig_nbformat": 4
 },
 "nbformat": 4,
 "nbformat_minor": 2
}
