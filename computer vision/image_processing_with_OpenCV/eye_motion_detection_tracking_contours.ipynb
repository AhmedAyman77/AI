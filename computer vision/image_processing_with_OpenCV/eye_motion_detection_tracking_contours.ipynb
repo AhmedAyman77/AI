{
 "cells": [
  {
   "cell_type": "code",
   "execution_count": 1,
   "metadata": {},
   "outputs": [],
   "source": [
    "import cv2\n",
    "import os\n",
    "os.chdir('./data')"
   ]
  },
  {
   "cell_type": "code",
   "execution_count": 2,
   "metadata": {},
   "outputs": [
    {
     "name": "stderr",
     "output_type": "stream",
     "text": [
      "QSocketNotifier: Can only be used with threads started with QThread\n"
     ]
    }
   ],
   "source": [
    "cap = cv2.VideoCapture('video.mp4')\n",
    "\n",
    "while True:\n",
    "    ret, frame = cap.read()\n",
    "    if ret == False:\n",
    "        break\n",
    "\n",
    "    frame = cv2.resize(frame,(640,480))\n",
    "    gray = cv2.cvtColor(frame,cv2.COLOR_BGR2GRAY)\n",
    "    r,c = gray.shape\n",
    "    blur = cv2.GaussianBlur(gray,(7,7),0)\n",
    "\n",
    "    _, threshold = cv2.threshold(blur,3,255,cv2.THRESH_BINARY_INV)\n",
    "    contours,_ = cv2.findContours(threshold,cv2.RETR_TREE,cv2.CHAIN_APPROX_SIMPLE)\n",
    "    contours = sorted(contours,key=lambda x: cv2.contourArea(x),reverse=True)\n",
    "\n",
    "    for cnt in contours:\n",
    "        (x,y,w,h) = cv2.boundingRect(cnt)\n",
    "\n",
    "        cv2.rectangle(frame,(x,y),(x+w,y+h),(0,255,0),2)\n",
    "        cv2.line(frame,(x+(w//2),0),(x+(w//2),r),(0,255,255),2)\n",
    "        cv2.line(frame,(0,y+(h//2)),(c,y+(h//2)),(255,0,255),2)\n",
    "        break\n",
    "\n",
    "    cv2.imshow(\"frame\",frame)\n",
    "    # cv2.imshow('gray',gray)\n",
    "    # cv2.imshow('gray',blur)\n",
    "    # cv2.imshow(\"threshold\",threshold)\n",
    "    if cv2.waitKey(1) & 0xFF == ord('q'):\n",
    "        break\n",
    "\n",
    "cap.release()\n",
    "cv2.destroyAllWindows()"
   ]
  }
 ],
 "metadata": {
  "kernelspec": {
   "display_name": "Python 3",
   "language": "python",
   "name": "python3"
  },
  "language_info": {
   "codemirror_mode": {
    "name": "ipython",
    "version": 3
   },
   "file_extension": ".py",
   "mimetype": "text/x-python",
   "name": "python",
   "nbconvert_exporter": "python",
   "pygments_lexer": "ipython3",
   "version": "3.11.6"
  },
  "orig_nbformat": 4
 },
 "nbformat": 4,
 "nbformat_minor": 2
}
