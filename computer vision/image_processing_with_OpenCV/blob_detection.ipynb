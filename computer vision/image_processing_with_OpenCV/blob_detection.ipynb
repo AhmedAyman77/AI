{
 "cells": [
  {
   "cell_type": "code",
   "execution_count": 4,
   "metadata": {},
   "outputs": [],
   "source": [
    "import cv2\n",
    "import os\n",
    "os.chdir('./data/')"
   ]
  },
  {
   "cell_type": "code",
   "execution_count": 14,
   "metadata": {},
   "outputs": [],
   "source": [
    "img = cv2.imread('sunFlower.jpg',0)\n",
    "\n",
    "params = cv2.SimpleBlobDetector_Params()\n",
    "\n",
    "# define threshold\n",
    "params.minThreshold = 0\n",
    "params.maxThreshold = 255\n",
    "\n",
    "params.filterByArea = True\n",
    "params.minArea = 100\n",
    "params.maxArea = 1000\n",
    "\n",
    "# if i want the black color\n",
    "params.filterByColor = False\n",
    "params.blobColor = 0\n",
    "\n",
    "# if i want the white color\n",
    "# params.filterByColor = True\n",
    "# params.blobColor = 255\n",
    "\n",
    "params.filterByCircularity = True\n",
    "params.minCircularity = 0.1\n",
    "params.maxCircularity = 1\n",
    "\n",
    "\n",
    "params.filterByConvexity = True\n",
    "params.minConvexity = 0.1\n",
    "params.maxConvexity = 1\n",
    "\n",
    "params.filterByInertia = True\n",
    "params.minInertiaRatio = 0.1\n",
    "params.maxInertiaRatio = 1\n",
    "\n",
    "\n",
    "detector = cv2.SimpleBlobDetector_create(params)\n",
    "\n",
    "keypoints = detector.detect(img)\n",
    "\n",
    "res = cv2.drawKeypoints(img,keypoints,None,color=(0,255,0),flags=cv2.DRAW_MATCHES_FLAGS_DRAW_RICH_KEYPOINTS)\n",
    "\n",
    "cv2.imshow('res',res)\n",
    "cv2.waitKey(0)\n",
    "cv2.destroyAllWindows()"
   ]
  },
  {
   "cell_type": "markdown",
   "metadata": {},
   "source": []
  }
 ],
 "metadata": {
  "kernelspec": {
   "display_name": "Python 3",
   "language": "python",
   "name": "python3"
  },
  "language_info": {
   "codemirror_mode": {
    "name": "ipython",
    "version": 3
   },
   "file_extension": ".py",
   "mimetype": "text/x-python",
   "name": "python",
   "nbconvert_exporter": "python",
   "pygments_lexer": "ipython3",
   "version": "3.11.6"
  },
  "orig_nbformat": 4
 },
 "nbformat": 4,
 "nbformat_minor": 2
}
