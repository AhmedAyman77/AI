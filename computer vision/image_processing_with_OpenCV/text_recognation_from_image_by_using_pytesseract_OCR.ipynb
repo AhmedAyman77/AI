{
 "cells": [
  {
   "cell_type": "code",
   "execution_count": 39,
   "metadata": {},
   "outputs": [],
   "source": [
    "import cv2\n",
    "import pytesseract\n",
    "from pytesseract import Output\n",
    "import re"
   ]
  },
  {
   "cell_type": "code",
   "execution_count": null,
   "metadata": {},
   "outputs": [],
   "source": [
    "import os\n",
    "os.chdir('./data')"
   ]
  },
  {
   "cell_type": "markdown",
   "metadata": {},
   "source": [
    "<h1>get text from image</h1>"
   ]
  },
  {
   "cell_type": "code",
   "execution_count": 3,
   "metadata": {},
   "outputs": [
    {
     "name": "stdout",
     "output_type": "stream",
     "text": [
      "ee Se TOUS ESSER Uw mC ertlipeipdibeg Dy Quer ge\n",
      "ved\n",
      "\n",
      "ner the screen, the greater the precision of de\n",
      "in the printed product, Half tones made W\n",
      "Screen having 65 lines to the inch are conride\n",
      "_ e0arse, Those having 150 lines to the inch are ¢\n",
      "sidered fine, ane\n",
      "Photogrammetry: se6 AERIAL PHOTOGRAPHY. |\n",
      "Photography, science and art concerned with\n",
      "forming and the fixing of an image on &\n",
      "plate made sensitive to the effects of light.\n",
      "earliest known form of camera is the camer:\n",
      "scura, (see camera) or pinhole camera, the p\n",
      "ples of which were set forth in unpublished n\n",
      "scripts of Leonardo da Vinci. Leonardo exp!\n",
      "\n",
      "facing the hole, of an inverted image of an.\n",
      " € §£ tt Q\n",
      "\n",
      "td baka ennam 'T\n",
      "\n"
     ]
    },
    {
     "name": "stderr",
     "output_type": "stream",
     "text": [
      "qt.qpa.plugin: Could not find the Qt platform plugin \"wayland\" in \"/home/ahmedcr7/.local/lib/python3.11/site-packages/cv2/qt/plugins\"\n"
     ]
    }
   ],
   "source": [
    "img = cv2.imread('book_page.jpg')\n",
    "\n",
    "img = cv2.resize(img,(720,720))\n",
    "\n",
    "gray = cv2.cvtColor(img, cv2.COLOR_BGR2GRAY)\n",
    "\n",
    "ad_threshold = cv2.adaptiveThreshold(gray, 255, cv2.ADAPTIVE_THRESH_GAUSSIAN_C, cv2.THRESH_BINARY, 41, 15)\n",
    "\n",
    "config = '--psm 3'\n",
    "'''\n",
    "1- automatic page segmentation with OSD (Orientation and Script Detection)\n",
    "2- automatic page segmentation, but no OSD, or OCR.\n",
    "3- fully automatic page segmentation, but no OSD. (Default)\n",
    "4- assume a single column of text of variable sizes.\n",
    "5- assume a single uniform block of vertically aligned text.\n",
    "6- assume a single uniform block of text.\n",
    "7- treat the image as a single text line.\n",
    "8- treat the image as a single word.\n",
    "9- treat the image as a single word in a circle.\n",
    "10- treat the image as a single character.\n",
    "'''\n",
    "\n",
    "text = pytesseract.image_to_string(ad_threshold,config=config)\n",
    "\n",
    "print(text)\n",
    "\n",
    "cv2.imshow('img',img)\n",
    "cv2.imshow('ad_threshold',ad_threshold)\n",
    "cv2.waitKey(0)\n",
    "cv2.destroyAllWindows()"
   ]
  },
  {
   "cell_type": "markdown",
   "metadata": {},
   "source": [
    "<h1>Draw box on each character</h1>"
   ]
  },
  {
   "cell_type": "code",
   "execution_count": 25,
   "metadata": {},
   "outputs": [
    {
     "name": "stdout",
     "output_type": "stream",
     "text": [
      "['A', 'h', 'm', 'e', 'd', 'A', 'y', 'm', 'a', 'n', 'c', 'o', 'm', 'p', 'u', 't', 'e', 'r', 'v', 'i', 's', 'i', 'o', 'n', 'a', 'n', 'd', 'i', 'm', 'a', 'g', 'e', 'p', 'r', 'o', 'c', 'e', 's', 's', 'i', 'n', 'g', '0', '1', '2', '3', '4', '5', '6', '7', '8', '9', '1', '0', '1', '1', '1', '2', '1', '3']\n"
     ]
    }
   ],
   "source": [
    "img = cv2.imread('white_image.jpg')\n",
    "\n",
    "# Use pytesseract to get bounding box data for each character\n",
    "data = pytesseract.image_to_boxes(img, output_type=Output.DICT)\n",
    "\n",
    "# print(data['char'])\n",
    "\n",
    "# Loop through each character and draw a rectangle around it\n",
    "print(data['char'])\n",
    "\n",
    "for i in range(len(data['char'])):\n",
    "    # Get the bounding box of each character\n",
    "    x = data['left'][i]\n",
    "    y = data['top'][i]\n",
    "    w = data['right'][i]\n",
    "    h = data['bottom'][i]\n",
    "\n",
    "    # Adjust for OpenCV's coordinate system (top-left origin)\n",
    "    height, width, _ = img.shape\n",
    "    y = height - y  # pytesseract's origin is bottom-left\n",
    "    h = height - h\n",
    "\n",
    "    # Draw rectangle around each character\n",
    "    cv2.rectangle(img, (x, y), (w, h), (0, 255, 0), 1)\n",
    "\n",
    "    # putText\n",
    "    cv2.putText(img, data['char'][i], (x, y-20), cv2.FONT_HERSHEY_SIMPLEX, 1, (0,0,255), 2)\n",
    "\n",
    "# Show the output image\n",
    "cv2.imshow('Image with character bounding boxes', img)\n",
    "cv2.waitKey(0)\n",
    "cv2.destroyAllWindows()"
   ]
  },
  {
   "cell_type": "markdown",
   "metadata": {},
   "source": [
    "<h1>Draw box on each word<h1>"
   ]
  },
  {
   "cell_type": "code",
   "execution_count": 40,
   "metadata": {},
   "outputs": [
    {
     "name": "stdout",
     "output_type": "stream",
     "text": [
      "{'level': [1, 2, 3, 4, 5, 5, 2, 3, 4, 5, 5, 5, 5, 5, 2, 3, 4, 5], 'page_num': [1, 1, 1, 1, 1, 1, 1, 1, 1, 1, 1, 1, 1, 1, 1, 1, 1, 1], 'block_num': [0, 1, 1, 1, 1, 1, 2, 2, 2, 2, 2, 2, 2, 2, 3, 3, 3, 3], 'par_num': [0, 0, 1, 1, 1, 1, 0, 1, 1, 1, 1, 1, 1, 1, 0, 1, 1, 1], 'line_num': [0, 0, 0, 1, 1, 1, 0, 0, 1, 1, 1, 1, 1, 1, 0, 0, 1, 1], 'word_num': [0, 0, 0, 0, 1, 2, 0, 0, 0, 1, 2, 3, 4, 5, 0, 0, 0, 1], 'left': [0, 220, 220, 220, 220, 340, 22, 22, 22, 22, 185, 289, 362, 473, 122, 122, 122, 122], 'top': [0, 198, 198, 198, 198, 198, 297, 297, 297, 298, 297, 298, 297, 297, 398, 398, 398, 398], 'width': [740, 220, 220, 220, 102, 100, 613, 613, 613, 147, 84, 53, 91, 162, 357, 357, 357, 357], 'height': [740, 31, 31, 31, 24, 31, 32, 32, 32, 31, 25, 24, 32, 32, 24, 24, 24, 24], 'conf': [-1, -1, -1, -1, 95, 95, -1, -1, -1, 96, 95, 96, 96, 96, -1, -1, -1, 57], 'text': ['', '', '', '', 'Ahmed', 'Ayman', '', '', '', 'computer', 'vision', 'and', 'image', 'processing', '', '', '', '012345678910111213']}\n",
      "['', '', '', '', 'Ahmed', 'Ayman', '', '', '', 'computer', 'vision', 'and', 'image', 'processing', '', '', '', '012345678910111213']\n"
     ]
    }
   ],
   "source": [
    "img = cv2.imread('white_image.jpg')\n",
    "\n",
    "# Use pytesseract to get bounding box data for each character\n",
    "data = pytesseract.image_to_data(img, output_type=Output.DICT)\n",
    "\n",
    "print(data)\n",
    "\n",
    "print(data['text'])\n",
    "\n",
    "for i in range(len(data['text'])):\n",
    "    if int(data['conf'][i]) > 0:  # Filter out weak detections\n",
    "\n",
    "        # Get the bounding box of each character\n",
    "        x = data['left'][i]\n",
    "        y = data['top'][i]\n",
    "        w = data['width'][i]\n",
    "        h = data['height'][i]\n",
    "\n",
    "        # Draw rectangle around each character\n",
    "        cv2.rectangle(img, (x, y), (x+w, y+h), (0, 255, 0), 1)\n",
    "\n",
    "        # putText\n",
    "        cv2.putText(img, data['text'][i], (x, y-20), cv2.FONT_HERSHEY_SIMPLEX, 1, (0,0,255), 2)\n",
    "\n",
    "# Show the output image\n",
    "cv2.imshow('Image with character bounding boxes', img)\n",
    "cv2.waitKey(0)\n",
    "cv2.destroyAllWindows()"
   ]
  },
  {
   "cell_type": "markdown",
   "metadata": {},
   "source": [
    "<h1>draw box on digits only</h1>"
   ]
  },
  {
   "cell_type": "code",
   "execution_count": 43,
   "metadata": {},
   "outputs": [
    {
     "name": "stdout",
     "output_type": "stream",
     "text": [
      "{'level': [1, 2, 3, 4, 5, 5, 2, 3, 4, 5, 5, 5, 5, 5, 2, 3, 4, 5], 'page_num': [1, 1, 1, 1, 1, 1, 1, 1, 1, 1, 1, 1, 1, 1, 1, 1, 1, 1], 'block_num': [0, 1, 1, 1, 1, 1, 2, 2, 2, 2, 2, 2, 2, 2, 3, 3, 3, 3], 'par_num': [0, 0, 1, 1, 1, 1, 0, 1, 1, 1, 1, 1, 1, 1, 0, 1, 1, 1], 'line_num': [0, 0, 0, 1, 1, 1, 0, 0, 1, 1, 1, 1, 1, 1, 0, 0, 1, 1], 'word_num': [0, 0, 0, 0, 1, 2, 0, 0, 0, 1, 2, 3, 4, 5, 0, 0, 0, 1], 'left': [0, 220, 220, 220, 220, 340, 22, 22, 22, 22, 185, 289, 362, 473, 122, 122, 122, 122], 'top': [0, 198, 198, 198, 198, 198, 297, 297, 297, 298, 297, 298, 297, 297, 398, 398, 398, 398], 'width': [740, 220, 220, 220, 102, 100, 613, 613, 613, 147, 84, 53, 91, 162, 357, 357, 357, 357], 'height': [740, 31, 31, 31, 24, 31, 32, 32, 32, 31, 25, 24, 32, 32, 24, 24, 24, 24], 'conf': [-1, -1, -1, -1, 95, 95, -1, -1, -1, 96, 95, 96, 96, 96, -1, -1, -1, 57], 'text': ['', '', '', '', 'Ahmed', 'Ayman', '', '', '', 'computer', 'vision', 'and', 'image', 'processing', '', '', '', '012345678910111213']}\n",
      "['', '', '', '', 'Ahmed', 'Ayman', '', '', '', 'computer', 'vision', 'and', 'image', 'processing', '', '', '', '012345678910111213']\n"
     ]
    }
   ],
   "source": [
    "img = cv2.imread('white_image.jpg')\n",
    "\n",
    "# Use pytesseract to get bounding box data for each character\n",
    "data = pytesseract.image_to_data(img, output_type=Output.DICT)\n",
    "\n",
    "print(data)\n",
    "\n",
    "print(data['text'])\n",
    "\n",
    "for i in range(len(data['text'])):\n",
    "    if re.fullmatch(r'\\d+', data['text'][i]):\n",
    "        # Get the bounding box of each character\n",
    "        x = data['left'][i]\n",
    "        y = data['top'][i]\n",
    "        w = data['width'][i]\n",
    "        h = data['height'][i]\n",
    "\n",
    "        # Draw rectangle around each character\n",
    "        cv2.rectangle(img, (x, y), (x+w, y+h), (0, 255, 0), 1)\n",
    "\n",
    "        # putText\n",
    "        cv2.putText(img, data['text'][i], (x, y-20), cv2.FONT_HERSHEY_SIMPLEX, 1, (0,0,255), 2)\n",
    "\n",
    "# Show the output image\n",
    "cv2.imshow('Image with character bounding boxes', img)\n",
    "cv2.waitKey(0)\n",
    "cv2.destroyAllWindows()"
   ]
  }
 ],
 "metadata": {
  "kernelspec": {
   "display_name": "Python 3",
   "language": "python",
   "name": "python3"
  },
  "language_info": {
   "codemirror_mode": {
    "name": "ipython",
    "version": 3
   },
   "file_extension": ".py",
   "mimetype": "text/x-python",
   "name": "python",
   "nbconvert_exporter": "python",
   "pygments_lexer": "ipython3",
   "version": "3.11.6"
  },
  "orig_nbformat": 4
 },
 "nbformat": 4,
 "nbformat_minor": 2
}
