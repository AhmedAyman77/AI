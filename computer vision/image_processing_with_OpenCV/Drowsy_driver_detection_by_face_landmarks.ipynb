{
 "cells": [
  {
   "cell_type": "code",
   "execution_count": 7,
   "metadata": {},
   "outputs": [],
   "source": [
    "import cv2\n",
    "import os\n",
    "from scipy.spatial import distance as dist\n",
    "from imutils import face_utils # for face detection\n",
    "import imutils\n",
    "import dlib\n",
    "import datetime\n",
    "import playsound\n",
    "os.chdir('./data/')"
   ]
  },
  {
   "cell_type": "code",
   "execution_count": 8,
   "metadata": {},
   "outputs": [],
   "source": [
    "ALARM_ON = False\n",
    "MODEL_PATH = '../../../../dlib/shape_predictor_68_face_landmarks.dat'\n",
    "ALARM_PATH = 'assets_alarm.mp3'"
   ]
  },
  {
   "cell_type": "code",
   "execution_count": 9,
   "metadata": {},
   "outputs": [],
   "source": [
    "'''\n",
    "calculate the distance between eyes landmarks\n",
    "\n",
    "the landmarks are:\n",
    "  1 2\n",
    "0     3\n",
    "  5 4\n",
    "'''\n",
    "\n",
    "def eye_aspect_ratio(eye):\n",
    "    A = dist.euclidean(eye[1], eye[5])\n",
    "    B = dist.euclidean(eye[2], eye[4])\n",
    "    C = dist.euclidean(eye[0], eye[3])\n",
    "    EAR = (A + B) / (2.0 * C)\n",
    "    return EAR"
   ]
  },
  {
   "cell_type": "code",
   "execution_count": 19,
   "metadata": {},
   "outputs": [
    {
     "name": "stderr",
     "output_type": "stream",
     "text": [
      "[ WARN:0@1736.662] global ./modules/videoio/src/cap_gstreamer.cpp (1405) open OpenCV | GStreamer warning: Cannot query video position: status=0, value=-1, duration=-1\n"
     ]
    }
   ],
   "source": [
    "def detect():\n",
    "    THRESH = 0.25 # threshold for the eye aspect ratio\n",
    "    FRAME_CHECK = 30 # after 30 frames without a blink, we will say that the person is drowsy\n",
    "    Detect = dlib.get_frontal_face_detector()\n",
    "    Predict = dlib.shape_predictor(MODEL_PATH)\n",
    "\n",
    "    (LStart, LEnd) = face_utils.FACIAL_LANDMARKS_IDXS[\"left_eye\"] # get landmarks for the left eye\n",
    "    (RStart, REnd) = face_utils.FACIAL_LANDMARKS_IDXS[\"right_eye\"] # get landmarks for the right eye\n",
    "\n",
    "    cap = cv2.VideoCapture(0)\n",
    "    flag = 0\n",
    "    while True:\n",
    "        ret, frame = cap.read()\n",
    "        if ret == False:\n",
    "            break\n",
    "        \n",
    "        frame = imutils.resize(frame, width=650, height=650)\n",
    "        gray = cv2.cvtColor(frame, cv2.COLOR_BGR2GRAY)\n",
    "        faces = Detect(gray, 0)\n",
    "\n",
    "        for face in faces:\n",
    "            landmarks = Predict(gray, face)\n",
    "            landmarks = face_utils.shape_to_np(landmarks) # convert from list to numpy array\n",
    "\n",
    "            left_eye = landmarks[LStart:LEnd]\n",
    "            right_eye = landmarks[RStart:REnd]\n",
    "\n",
    "            left_EAR = eye_aspect_ratio(left_eye)\n",
    "            right_EAR = eye_aspect_ratio(right_eye)\n",
    "            EAR = (left_EAR + right_EAR) / 2.0  # Take the average of the two eyes\n",
    "\n",
    "            left_eye_hull = cv2.convexHull(left_eye)\n",
    "            right_eye_hull = cv2.convexHull(right_eye)\n",
    "\n",
    "            cv2.drawContours(frame, [left_eye_hull], -1, (0, 255, 0), 1)\n",
    "            cv2.drawContours(frame, [right_eye_hull], -1, (0, 255, 0), 1)\n",
    "\n",
    "            if EAR < THRESH:\n",
    "                flag += 1\n",
    "                if flag >= FRAME_CHECK:\n",
    "                    if ALARM_ON == False:\n",
    "                        ALARM_ON = True\n",
    "                    \n",
    "                    cv2.putText(frame, \"Drowsy!!!\", (10, 30), cv2.FONT_HERSHEY_SIMPLEX, 0.7, (0, 0, 255), 2)\n",
    "                    playsound.playsound(ALARM_PATH,ALARM_ON)\n",
    "            \n",
    "            else:\n",
    "                flag = 0\n",
    "                ALARM_ON = False\n",
    "                cv2.putText(frame, \"Safe\", (10, 30), cv2.FONT_HERSHEY_SIMPLEX, 0.7, (0, 255, 0), 2)\n",
    "        \n",
    "        cv2.imshow(\"Frame\", frame)\n",
    "        key = cv2.waitKey(1) & 0xFF\n",
    "        if key == ord(\"q\"):\n",
    "                break\n",
    "        \n",
    "\n",
    "    cap.release()\n",
    "    cv2.destroyAllWindows()\n",
    "\n",
    "if __name__ == '__main__':\n",
    "    detect()"
   ]
  }
 ],
 "metadata": {
  "kernelspec": {
   "display_name": "Python 3",
   "language": "python",
   "name": "python3"
  },
  "language_info": {
   "codemirror_mode": {
    "name": "ipython",
    "version": 3
   },
   "file_extension": ".py",
   "mimetype": "text/x-python",
   "name": "python",
   "nbconvert_exporter": "python",
   "pygments_lexer": "ipython3",
   "version": "3.11.6"
  },
  "orig_nbformat": 4
 },
 "nbformat": 4,
 "nbformat_minor": 2
}
