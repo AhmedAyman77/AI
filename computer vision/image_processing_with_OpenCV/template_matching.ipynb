{
 "cells": [
  {
   "cell_type": "code",
   "execution_count": 1,
   "metadata": {},
   "outputs": [],
   "source": [
    "import numpy as np\n",
    "import cv2\n",
    "import os\n",
    "import matplotlib.pyplot as plt\n",
    "os.chdir('./data/')"
   ]
  },
  {
   "cell_type": "code",
   "execution_count": 2,
   "metadata": {},
   "outputs": [
    {
     "name": "stderr",
     "output_type": "stream",
     "text": [
      "QSocketNotifier: Can only be used with threads started with QThread\n"
     ]
    },
    {
     "name": "stdout",
     "output_type": "stream",
     "text": [
      "[[-0.04579445 -0.05652492 -0.06648497 ... -0.03645343 -0.04250703\n",
      "  -0.04600871]\n",
      " [-0.05764326 -0.06674007 -0.0748834  ... -0.04700657 -0.0533596\n",
      "  -0.05717555]\n",
      " [-0.06839699 -0.07611303 -0.083072   ... -0.05250782 -0.05857146\n",
      "  -0.06253739]\n",
      " ...\n",
      " [ 0.20929514  0.20547152  0.20410967 ...  0.03421906  0.03980565\n",
      "   0.04212079]\n",
      " [ 0.22026825  0.21815291  0.21576296 ...  0.01616212  0.01847479\n",
      "   0.01706865]\n",
      " [ 0.23066394  0.22214247  0.220605   ... -0.00583315 -0.00240289\n",
      "  -0.00405298]]\n",
      "(array([61]), array([200]))\n"
     ]
    }
   ],
   "source": [
    "img = cv2.imread('messi5.jpg')\n",
    "gray = cv2.cvtColor(img, cv2.COLOR_BGR2GRAY)\n",
    "template = gray[61:140,200:265]\n",
    "\n",
    "h,w = template.shape\n",
    "res = cv2.matchTemplate(gray,template,cv2.TM_CCOEFF_NORMED)\n",
    "cv2.imshow(\"res\",res)\n",
    "print(res)\n",
    "\n",
    "threshold = 0.99\n",
    "loc = np.where(res>=threshold)\n",
    "print(loc)\n",
    "\n",
    "for pt in zip(*loc[::-1]): # zip(loc[1],loc[0])\n",
    "    cv2.rectangle(img, pt, (pt[0] + w, pt[1] + h), (0,0,255), 2)\n",
    "\n",
    "cv2.imshow('img',img)\n",
    "cv2.waitKey(0)\n",
    "cv2.destroyAllWindows()"
   ]
  }
 ],
 "metadata": {
  "kernelspec": {
   "display_name": "Python 3",
   "language": "python",
   "name": "python3"
  },
  "language_info": {
   "codemirror_mode": {
    "name": "ipython",
    "version": 3
   },
   "file_extension": ".py",
   "mimetype": "text/x-python",
   "name": "python",
   "nbconvert_exporter": "python",
   "pygments_lexer": "ipython3",
   "version": "3.11.6"
  },
  "orig_nbformat": 4
 },
 "nbformat": 4,
 "nbformat_minor": 2
}
