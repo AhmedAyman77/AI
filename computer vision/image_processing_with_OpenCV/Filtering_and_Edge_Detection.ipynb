{
 "cells": [
  {
   "cell_type": "code",
   "execution_count": 1,
   "metadata": {},
   "outputs": [],
   "source": [
    "import cv2\n",
    "import matplotlib.pyplot as plt\n",
    "import numpy as np\n",
    "import os\n",
    "os.chdir('./data')"
   ]
  },
  {
   "cell_type": "markdown",
   "metadata": {},
   "source": [
    "<h1>Smoothing or Blurring Images</h1>\n",
    "<h3>remove noise from images</h3>\n",
    "<h3>blur images</h3>"
   ]
  },
  {
   "cell_type": "code",
   "execution_count": 2,
   "metadata": {},
   "outputs": [
    {
     "name": "stderr",
     "output_type": "stream",
     "text": [
      "QSocketNotifier: Can only be used with threads started with QThread\n"
     ]
    }
   ],
   "source": [
    "img = cv2.imread('lena.jpg')\n",
    "\n",
    "# remove noise\n",
    "averaging = cv2.blur(img,(5,5)) # img, filter size \"more size more blur\"\n",
    "# averaging = cv2.blur(img,(11,11))\n",
    "\n",
    "GBlur = cv2.GaussianBlur(img,(5,5),0)# img, filter size \"more size more blur\", sigmaX\n",
    "\n",
    "# for salt&paper imgs\n",
    "median = cv2.medianBlur(img,5) # img, filter size \"more size more blur\"\n",
    "\n",
    "# focus on edges\n",
    "bilateral_filter = cv2.bilateralFilter(img,9,75,75) # img, diameter, sigmaColor, sigmaSpace\n",
    "\n",
    "cv2.imshow(\"img\",img)\n",
    "cv2.imshow('averaging',averaging)\n",
    "cv2.imshow('GBlur',GBlur)\n",
    "cv2.imshow('median',median)\n",
    "cv2.imshow('bilateral_filter',bilateral_filter)\n",
    "\n",
    "cv2.waitKey(0)\n",
    "cv2.destroyAllWindows()"
   ]
  },
  {
   "cell_type": "markdown",
   "metadata": {},
   "source": [
    "<h1>Edge Detection</h1>\n",
    "<h3>laplacian<h3>\n",
    "<h4>depend on the amount of change in the x and y axis.</h4>\n",
    "<h3>sobel x</h3>\n",
    "<h4>depend on the amount of change in the x axis.</h4>\n",
    "<h3>sobel y</h3>\n",
    "<h4>depend on the amount of change in the y axis.</h4>\n",
    "<h3>canny edge detection</h3>\n",
    "<h4>it is the combination of the above three methods</h4>\n",
    "<p>1- convert image to grayScale by equation y = 0.299*R + 0.587*G + 0.114*B<p>\n",
    "<p>2- apply gaussian blur to reduce noise for removing the noise</p>\n",
    "<p>3- use sopleX^2, sopleY^2 and combine them to get the edge</p>\n",
    "<p>4- apply non maximum suppression to get the edge</p>\n",
    "<p>5- apply threshold to get the connect edges and ignore other</p>"
   ]
  },
  {
   "cell_type": "code",
   "execution_count": 4,
   "metadata": {},
   "outputs": [],
   "source": [
    "img = cv2.imread('sudoku.png')\n",
    "\n",
    "# img, dtype, ksize \"should be odd and the best value is 3\"\n",
    "lap = cv2.Laplacian(img, cv2.CV_64F, ksize=3)\n",
    "# remove noises\n",
    "lap = np.uint8(np.absolute(lap))\n",
    "\n",
    "# img, dtype, dx, dy\n",
    "Sobel_X = cv2.Sobel(img, cv2.CV_64F, 1, 0)\n",
    "Sobel_Y = cv2.Sobel(img, cv2.CV_64F, 0, 1)\n",
    "Sobel_X = np.uint8(np.absolute(Sobel_X))\n",
    "Sobel_Y = np.uint8(np.absolute(Sobel_Y))\n",
    "\n",
    "sobel_combined = cv2.bitwise_or(Sobel_X, Sobel_Y)\n",
    "\n",
    "# img, minVal, maxVal\n",
    "canny = cv2.Canny(img,100,200)\n",
    "\n",
    "\n",
    "\n",
    "cv2.imshow('img',img)\n",
    "cv2.imshow('lap',lap)\n",
    "cv2.imshow('sopleX',Sobel_X)\n",
    "cv2.imshow('sopleY',Sobel_Y)\n",
    "cv2.imshow('sopleCombined',sobel_combined)\n",
    "cv2.imshow('canny',canny)\n",
    "\n",
    "cv2.waitKey(0)\n",
    "cv2.destroyAllWindows()"
   ]
  }
 ],
 "metadata": {
  "kernelspec": {
   "display_name": "Python 3",
   "language": "python",
   "name": "python3"
  },
  "language_info": {
   "codemirror_mode": {
    "name": "ipython",
    "version": 3
   },
   "file_extension": ".py",
   "mimetype": "text/x-python",
   "name": "python",
   "nbconvert_exporter": "python",
   "pygments_lexer": "ipython3",
   "version": "3.11.6"
  },
  "orig_nbformat": 4
 },
 "nbformat": 4,
 "nbformat_minor": 2
}
