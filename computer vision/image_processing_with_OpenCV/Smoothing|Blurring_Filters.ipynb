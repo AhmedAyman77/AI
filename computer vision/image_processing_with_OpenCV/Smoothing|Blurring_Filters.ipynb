{
 "cells": [
  {
   "cell_type": "code",
   "execution_count": 1,
   "metadata": {},
   "outputs": [],
   "source": [
    "import cv2\n",
    "import matplotlib.pyplot as plt\n",
    "import numpy as np\n",
    "import os"
   ]
  },
  {
   "cell_type": "code",
   "execution_count": 2,
   "metadata": {},
   "outputs": [],
   "source": [
    "os.chdir('../../data/')"
   ]
  },
  {
   "cell_type": "markdown",
   "metadata": {},
   "source": [
    "# **Smoothing or Blurring Images**\n",
    "\n",
    "Image smoothing or blurring is a preprocessing technique used to reduce noise and enhance image quality by suppressing unwanted high-frequency details. This step is crucial in various computer vision tasks, such as edge detection and object recognition, as it helps focus on the most important features of an image.\n",
    "\n",
    "---\n",
    "\n",
    "## **Why Blur an Image?**\n",
    "- **Remove Noise**: Reduces random variations (noise) in pixel intensity.\n",
    "- **Prepare for Processing**: Makes subsequent steps, like edge detection or segmentation, more effective.\n",
    "- **Improve Visual Quality**: Creates a cleaner and smoother representation of the image.\n",
    "\n",
    "---\n",
    "\n",
    "## **Common Blurring Techniques**\n",
    "\n",
    "### 1. **Averaging**\n",
    "- its a Noise Reduction Filter.\n",
    "- Computes the average of all pixel intensities in the kernel (filter) region and replaces the center pixel with this average.\n",
    "- Results in a smooth, uniform appearance but can blur edges.\n",
    "- **Function**: `cv2.blur(src, ksize)`\n",
    "  - `src`: Input image.\n",
    "  - `ksize`: Kernel size (e.g., (5, 5)).\n",
    "\n",
    "### 2. **Gaussian Blur**\n",
    "- Uses a Gaussian kernel to apply a weighted average, where pixels closer to the center have higher weights.\n",
    "- Preserves edges better than simple averaging.\n",
    "- Commonly used for noise reduction in edge detection tasks (e.g., Canny edge detection).\n",
    "- **Function**: `cv2.GaussianBlur(src, ksize, sigmaX)`\n",
    "  - `sigmaX`: Standard deviation of the Gaussian kernel in the x-direction.\n",
    "\n",
    "### 3. **Median Blur**\n",
    "- Replaces the center pixel value with the median of all pixel values in the kernel region.\n",
    "- Very effective in removing salt-and-pepper noise while preserving edges.\n",
    "- **Function**: `cv2.medianBlur(src, ksize)`\n",
    "  - `ksize`: Kernel size (must be an odd integer, e.g., 3, 5, 7).\n",
    "\n",
    "### 4. **Bilateral Filter**\n",
    "- Reduces noise while preserving sharp edges by combining spatial and intensity information.\n",
    "- Pixels are weighted based on their spatial distance and intensity difference.\n",
    "- Useful for applications like image smoothing in facial recognition.\n",
    "- **Function**: `cv2.bilateralFilter(src, d, sigmaColor, sigmaSpace)`\n",
    "  - `d`: Diameter of the pixel neighborhood.\n",
    "  - `sigmaColor`: Filter sigma in the color space (how similar pixel intensities should be).\n",
    "  - `sigmaSpace`: Filter sigma in the coordinate space (how far pixels can influence each other).\n",
    "\n",
    "---\n",
    "\n",
    "## **Comparison of Techniques**\n",
    "\n",
    "| Technique        | Noise Reduction | Edge Preservation | Use Case                          |\n",
    "|-------------------|-----------------|-------------------|------------------------------------|\n",
    "| Averaging         | Moderate        | Poor              | Basic smoothing                   |\n",
    "| Gaussian Blur     | Good            | Moderate          | Preprocessing for edge detection  |\n",
    "| Median Blur       | Excellent       | Good              | Removing salt-and-pepper noise    |\n",
    "| Bilateral Filter  | Excellent       | Excellent         | Smoothing with edge preservation  |\n",
    "\n",
    "---\n",
    "\n",
    "## **When to Use Each Technique**\n",
    "- **Averaging**: When simplicity and computational efficiency are priorities.\n",
    "- **Gaussian Blur**: When smooth noise reduction is needed, and you want to avoid over-blurring edges.\n",
    "- **Median Blur**: When dealing with images with salt-and-pepper noise.\n",
    "- **Bilateral Filter**: When you want to smooth an image but preserve important edge details.\n"
   ]
  },
  {
   "cell_type": "code",
   "execution_count": 3,
   "metadata": {},
   "outputs": [
    {
     "name": "stderr",
     "output_type": "stream",
     "text": [
      "qt.qpa.plugin: Could not find the Qt platform plugin \"wayland\" in \"/home/ahmedcr7/.local/lib/python3.11/site-packages/cv2/qt/plugins\"\n"
     ]
    }
   ],
   "source": [
    "img = cv2.imread('lena.jpg')\n",
    "\n",
    "averaging = cv2.blur(img,(5,5))\n",
    "\n",
    "GBlur = cv2.GaussianBlur(img,(5,5),0)\n",
    "\n",
    "median = cv2.medianBlur(img,5)\n",
    "\n",
    "bilateral_filter = cv2.bilateralFilter(img,9,75,75)\n",
    "\n",
    "cv2.imshow(\"img\",img)\n",
    "cv2.imshow('averaging',averaging)\n",
    "cv2.imshow('GBlur',GBlur)\n",
    "cv2.imshow('median',median)\n",
    "cv2.imshow('bilateral_filter',bilateral_filter)\n",
    "\n",
    "cv2.waitKey(0)\n",
    "cv2.destroyAllWindows()"
   ]
  }
 ],
 "metadata": {
  "kernelspec": {
   "display_name": "Python 3",
   "language": "python",
   "name": "python3"
  },
  "language_info": {
   "codemirror_mode": {
    "name": "ipython",
    "version": 3
   },
   "file_extension": ".py",
   "mimetype": "text/x-python",
   "name": "python",
   "nbconvert_exporter": "python",
   "pygments_lexer": "ipython3",
   "version": "3.11.6"
  },
  "orig_nbformat": 4
 },
 "nbformat": 4,
 "nbformat_minor": 2
}
