{
 "cells": [
  {
   "cell_type": "code",
   "execution_count": 1,
   "metadata": {},
   "outputs": [],
   "source": [
    "import cv2\n",
    "import os"
   ]
  },
  {
   "cell_type": "code",
   "execution_count": 2,
   "metadata": {},
   "outputs": [],
   "source": [
    "os.chdir('../../data/')"
   ]
  },
  {
   "cell_type": "markdown",
   "metadata": {},
   "source": [
    "# ORB (Oriented FAST and Rotated BRIEF)\n",
    "\n",
    "ORB (Oriented FAST and Rotated BRIEF) is a fast and efficient feature detection and description algorithm. It is widely used in computer vision for tasks such as object detection, image registration, and image stitching. ORB is designed to be computationally efficient and robust to changes in rotation and scale.\n",
    "\n",
    "---\n",
    "\n",
    "## Key Concepts\n",
    "\n",
    "1. **Feature Detection**:\n",
    "   - ORB uses the **FAST (Features from Accelerated Segment Test)** algorithm to detect keypoints in the image. \n",
    "   - FAST is known for its speed, but it is not invariant to rotation. ORB addresses this by computing an orientation for each keypoint.\n",
    "\n",
    "2. **Orientation Assignment**:\n",
    "   - ORB computes the orientation of keypoints by analyzing the intensity differences around them. This makes ORB rotation invariant.\n",
    "\n",
    "3. **Feature Description**:\n",
    "   - ORB uses **BRIEF (Binary Robust Independent Elementary Features)** to describe keypoints. \n",
    "   - BRIEF is a binary descriptor that is efficient to compute and compare but is not scale or rotation invariant.\n",
    "   - ORB enhances BRIEF by adding rotation invariance and resistance to noise.\n",
    "\n",
    "4. **Matching**:\n",
    "   - ORB descriptors are binary, enabling fast and efficient matching using the **Hamming distance**.\n",
    "\n",
    "---\n",
    "\n",
    "## Advantages of ORB\n",
    "\n",
    "1. **Speed**:\n",
    "   - ORB is significantly faster than SIFT or SURF, making it suitable for real-time applications.\n",
    "\n",
    "2. **Free and Open-Source**:\n",
    "   - ORB is patent-free, unlike SIFT and SURF, which are patented algorithms.\n",
    "\n",
    "3. **Robustness**:\n",
    "   - ORB is invariant to rotation and scale, making it reliable under transformations.\n",
    "\n",
    "4. **Efficiency**:\n",
    "   - Uses binary descriptors, which are computationally less expensive than floating-point descriptors used by SIFT and SURF.\n",
    "\n",
    "---\n",
    "\n",
    "## Applications\n",
    "\n",
    "- Object detection and recognition\n",
    "- Image registration and alignment\n",
    "- Image stitching for panoramas\n",
    "- Visual Simultaneous Localization and Mapping (SLAM)\n",
    "- Augmented reality\n"
   ]
  },
  {
   "cell_type": "code",
   "execution_count": 7,
   "metadata": {},
   "outputs": [],
   "source": [
    "img1 = cv2.imread('template.jpg')\n",
    "img2 = cv2.imread('IMG.jpg')\n",
    "\n",
    "\n",
    "orb = cv2.ORB.create()\n",
    "\n",
    "# get keypoints and descriptors\n",
    "kp1, des1 = orb.detectAndCompute(img1, None)\n",
    "kp2, des2 = orb.detectAndCompute(img2, None)\n",
    "\n",
    "\n",
    "# draw keypoints\n",
    "img1 = cv2.drawKeypoints(img1, kp1, None)\n",
    "img2 = cv2.drawKeypoints(img2, kp2, None)\n",
    "\n",
    "\n",
    "# brute force matching\n",
    "bf = cv2.BFMatcher(cv2.NORM_HAMMING, crossCheck=True) # cv2.NORM_HAMMING best arg for orb, crossCheck always true \"best value for best matches\"\n",
    "\n",
    "matches = bf.match(des1, des2)\n",
    "matches = sorted(matches, key=lambda x: x.distance) # sort by strongest match\n",
    "\n",
    "img = cv2.drawMatches(img1, kp1, img2, kp2, matches[:5], None, flags=2)\n",
    "\n",
    "cv2.imshow('ORB', img)\n",
    "cv2.waitKey(0)\n",
    "cv2.destroyAllWindows()"
   ]
  }
 ],
 "metadata": {
  "kernelspec": {
   "display_name": "Python 3",
   "language": "python",
   "name": "python3"
  },
  "language_info": {
   "codemirror_mode": {
    "name": "ipython",
    "version": 3
   },
   "file_extension": ".py",
   "mimetype": "text/x-python",
   "name": "python",
   "nbconvert_exporter": "python",
   "pygments_lexer": "ipython3",
   "version": "3.11.6"
  },
  "orig_nbformat": 4
 },
 "nbformat": 4,
 "nbformat_minor": 2
}
