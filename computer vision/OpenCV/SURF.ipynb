{
 "cells": [
  {
   "cell_type": "code",
   "execution_count": 1,
   "metadata": {},
   "outputs": [],
   "source": [
    "import cv2\n",
    "import numpy as np\n",
    "import matplotlib.pyplot as plt\n",
    "import os"
   ]
  },
  {
   "cell_type": "code",
   "execution_count": 2,
   "metadata": {},
   "outputs": [],
   "source": [
    "os.chdir('../../data/')"
   ]
  },
  {
   "cell_type": "code",
   "execution_count": 3,
   "metadata": {},
   "outputs": [],
   "source": [
    "def SURF():\n",
    "    gray_img = cv2.imread('car3.jpg',0)\n",
    "\n",
    "    hessian_threshold = 3000\n",
    "    surf = cv2.xfeatures2d.SURF_create(hessian_threshold)\n",
    "    # kp, des = surf.detectAndCompute(gray_img, None)\n",
    "    key_points = surf.detect(gray_img, None)\n",
    "    img = cv2.drawKeypoints(gray_img, key_points, None)\n",
    "\n",
    "    cv2.imshow('SURF', img)\n",
    "    cv2.waitKey(0)\n",
    "    cv2.destroyAllWindows()"
   ]
  },
  {
   "cell_type": "code",
   "execution_count": 4,
   "metadata": {},
   "outputs": [
    {
     "ename": "AttributeError",
     "evalue": "module 'cv2.xfeatures2d' has no attribute 'SURF_create'",
     "output_type": "error",
     "traceback": [
      "\u001b[0;31m---------------------------------------------------------------------------\u001b[0m",
      "\u001b[0;31mAttributeError\u001b[0m                            Traceback (most recent call last)",
      "\u001b[1;32m/home/ahmedcr7/Programming/Python/AI/computer vision/Image_Processing/Image_Registration/SURF.ipynb Cell 4\u001b[0m line \u001b[0;36m2\n\u001b[1;32m      <a href='vscode-notebook-cell:/home/ahmedcr7/Programming/Python/AI/computer%20vision/Image_Processing/Image_Registration/SURF.ipynb#W3sZmlsZQ%3D%3D?line=0'>1</a>\u001b[0m \u001b[39mif\u001b[39;00m \u001b[39m__name__\u001b[39m \u001b[39m==\u001b[39m \u001b[39m\"\u001b[39m\u001b[39m__main__\u001b[39m\u001b[39m\"\u001b[39m:\n\u001b[0;32m----> <a href='vscode-notebook-cell:/home/ahmedcr7/Programming/Python/AI/computer%20vision/Image_Processing/Image_Registration/SURF.ipynb#W3sZmlsZQ%3D%3D?line=1'>2</a>\u001b[0m     SURF()\n",
      "\u001b[1;32m/home/ahmedcr7/Programming/Python/AI/computer vision/Image_Processing/Image_Registration/SURF.ipynb Cell 4\u001b[0m line \u001b[0;36m5\n\u001b[1;32m      <a href='vscode-notebook-cell:/home/ahmedcr7/Programming/Python/AI/computer%20vision/Image_Processing/Image_Registration/SURF.ipynb#W3sZmlsZQ%3D%3D?line=1'>2</a>\u001b[0m gray_img \u001b[39m=\u001b[39m cv2\u001b[39m.\u001b[39mimread(\u001b[39m'\u001b[39m\u001b[39mcar3.jpg\u001b[39m\u001b[39m'\u001b[39m,\u001b[39m0\u001b[39m)\n\u001b[1;32m      <a href='vscode-notebook-cell:/home/ahmedcr7/Programming/Python/AI/computer%20vision/Image_Processing/Image_Registration/SURF.ipynb#W3sZmlsZQ%3D%3D?line=3'>4</a>\u001b[0m hessian_threshold \u001b[39m=\u001b[39m \u001b[39m3000\u001b[39m\n\u001b[0;32m----> <a href='vscode-notebook-cell:/home/ahmedcr7/Programming/Python/AI/computer%20vision/Image_Processing/Image_Registration/SURF.ipynb#W3sZmlsZQ%3D%3D?line=4'>5</a>\u001b[0m surf \u001b[39m=\u001b[39m cv2\u001b[39m.\u001b[39;49mxfeatures2d\u001b[39m.\u001b[39;49mSURF_create(hessian_threshold)\n\u001b[1;32m      <a href='vscode-notebook-cell:/home/ahmedcr7/Programming/Python/AI/computer%20vision/Image_Processing/Image_Registration/SURF.ipynb#W3sZmlsZQ%3D%3D?line=5'>6</a>\u001b[0m \u001b[39m# kp, des = surf.detectAndCompute(gray_img, None)\u001b[39;00m\n\u001b[1;32m      <a href='vscode-notebook-cell:/home/ahmedcr7/Programming/Python/AI/computer%20vision/Image_Processing/Image_Registration/SURF.ipynb#W3sZmlsZQ%3D%3D?line=6'>7</a>\u001b[0m key_points \u001b[39m=\u001b[39m surf\u001b[39m.\u001b[39mdetect(gray_img, \u001b[39mNone\u001b[39;00m)\n",
      "\u001b[0;31mAttributeError\u001b[0m: module 'cv2.xfeatures2d' has no attribute 'SURF_create'"
     ]
    }
   ],
   "source": [
    "if __name__ == \"__main__\":\n",
    "    SURF()"
   ]
  }
 ],
 "metadata": {
  "kernelspec": {
   "display_name": "Python 3",
   "language": "python",
   "name": "python3"
  },
  "language_info": {
   "codemirror_mode": {
    "name": "ipython",
    "version": 3
   },
   "file_extension": ".py",
   "mimetype": "text/x-python",
   "name": "python",
   "nbconvert_exporter": "python",
   "pygments_lexer": "ipython3",
   "version": "3.11.6"
  },
  "orig_nbformat": 4
 },
 "nbformat": 4,
 "nbformat_minor": 2
}
