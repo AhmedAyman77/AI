{
 "cells": [
  {
   "cell_type": "code",
   "execution_count": 1,
   "metadata": {},
   "outputs": [],
   "source": [
    "import cv2\n",
    "import os\n",
    "os.chdir('./data')"
   ]
  },
  {
   "cell_type": "code",
   "execution_count": 2,
   "metadata": {},
   "outputs": [
    {
     "name": "stderr",
     "output_type": "stream",
     "text": [
      "QSocketNotifier: Can only be used with threads started with QThread\n"
     ]
    }
   ],
   "source": [
    "\n",
    "img = cv2.imread('shapes.jpg')\n",
    "gray = cv2.cvtColor(img, cv2.COLOR_BGR2GRAY)\n",
    "_,thresh = cv2.threshold(gray, 240, 255, cv2.THRESH_BINARY)\n",
    "contours, _ = cv2.findContours(thresh, cv2.RETR_TREE, cv2.CHAIN_APPROX_SIMPLE)\n",
    "\n",
    "for contour in contours:\n",
    "    # This line simplifies the contour shape by approximating it with fewer points based on a specified accuracy.\n",
    "    approx_contour = cv2.approxPolyDP(contour, 0.01 * cv2.arcLength(contour, True), True) # contour, accuracy (contour,closed or open shapes), closed or open shapes\n",
    "    cv2.drawContours(img, [approx_contour], 0, (0, 0, 0), 10)\n",
    "\n",
    "    # get the x and y of the current contour\n",
    "    x = approx_contour.ravel()[0]\n",
    "    y = approx_contour.ravel()[1]\n",
    "\n",
    "    if len(approx_contour) == 3:\n",
    "        cv2.putText(img, \"Triangle\", (x-4, y-4), cv2.FONT_HERSHEY_COMPLEX, 0.5, (0, 0, 0))\n",
    "    \n",
    "    elif len(approx_contour) == 4:\n",
    "        X,Y,w,h = cv2.boundingRect(approx_contour)\n",
    "        aspect_ratio = float(w)/h\n",
    "        if aspect_ratio >= 0.95 and aspect_ratio <= 1.05:\n",
    "            cv2.putText(img, \"Square\", (x-4, y-4), cv2.FONT_HERSHEY_COMPLEX, 0.5, (0, 0, 0))\n",
    "        else:\n",
    "            cv2.putText(img, \"Rectangle\", (x-4,y-4), cv2.FONT_HERSHEY_COMPLEX, 0.5, (0, 0, 0))\n",
    "    \n",
    "    elif len(approx_contour) == 5:\n",
    "        cv2.putText(img, \"Pentagon\", (x-4, y-4), cv2.FONT_HERSHEY_COMPLEX, 0.5, (0, 0, 0))\n",
    "    \n",
    "    elif len(approx_contour) == 10:\n",
    "        cv2.putText(img, \"Star\", (x-4, y-4), cv2.FONT_HERSHEY_COMPLEX, 0.5, (0, 0, 0))\n",
    "\n",
    "    else:\n",
    "        cv2.putText(img, \"Circle\", (x-4, y-4), cv2.FONT_HERSHEY_COMPLEX, 0.5, (0, 0, 0))\n",
    "\n",
    "cv2.imshow(\"shapes\", img)\n",
    "cv2.waitKey(0)\n",
    "cv2.destroyAllWindows()"
   ]
  }
 ],
 "metadata": {
  "kernelspec": {
   "display_name": "Python 3",
   "language": "python",
   "name": "python3"
  },
  "language_info": {
   "codemirror_mode": {
    "name": "ipython",
    "version": 3
   },
   "file_extension": ".py",
   "mimetype": "text/x-python",
   "name": "python",
   "nbconvert_exporter": "python",
   "pygments_lexer": "ipython3",
   "version": "3.11.6"
  },
  "orig_nbformat": 4
 },
 "nbformat": 4,
 "nbformat_minor": 2
}
