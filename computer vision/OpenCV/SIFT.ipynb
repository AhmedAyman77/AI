{
 "cells": [
  {
   "cell_type": "code",
   "execution_count": 1,
   "metadata": {},
   "outputs": [],
   "source": [
    "import cv2\n",
    "import os\n",
    "import numpy as np\n",
    "import matplotlib.pyplot as plt"
   ]
  },
  {
   "cell_type": "code",
   "execution_count": 2,
   "metadata": {},
   "outputs": [],
   "source": [
    "os.chdir('../../data')"
   ]
  },
  {
   "cell_type": "markdown",
   "metadata": {},
   "source": [
    "### SIFT (Scale-Invariant Feature Transform) Explanation\n",
    "\n",
    "**SIFT** is a feature detection and description algorithm used in computer vision to extract distinctive and invariant features from images.\n"
   ]
  },
  {
   "cell_type": "code",
   "execution_count": 3,
   "metadata": {},
   "outputs": [
    {
     "name": "stderr",
     "output_type": "stream",
     "text": [
      "qt.qpa.plugin: Could not find the Qt platform plugin \"wayland\" in \"/home/ahmedcr7/.local/lib/python3.11/site-packages/cv2/qt/plugins\"\n"
     ]
    }
   ],
   "source": [
    "img = cv2.imread('house.jpg')\n",
    "gray = cv2.cvtColor(img,cv2.COLOR_BGR2BGRA)\n",
    "\n",
    "sift = cv2.SIFT_create()\n",
    "kp = sift.detect(gray)\n",
    "# res = cv2.drawKeypoints(gray,kp,img)\n",
    "res = cv2.drawKeypoints(gray,kp,img,flags=cv2.DRAW_MATCHES_FLAGS_DRAW_RICH_KEYPOINTS)\n",
    "\n",
    "cv2.imshow('res',res)\n",
    "cv2.waitKey(0)\n",
    "cv2.destroyAllWindows()"
   ]
  },
  {
   "cell_type": "code",
   "execution_count": 4,
   "metadata": {},
   "outputs": [
    {
     "name": "stdout",
     "output_type": "stream",
     "text": [
      "[[  1.   3.   2. ...   0.   0.   1.]\n",
      " [  0.   0.   6. ...   0.   0.   0.]\n",
      " [  0.   1.  32. ...   0.   1.   0.]\n",
      " ...\n",
      " [ 14.  13.  79. ...   0.   0.   0.]\n",
      " [  0.   0.   0. ...   0.   0.   0.]\n",
      " [158.   1.   0. ...   0.   0.   2.]]\n"
     ]
    }
   ],
   "source": [
    "sift = cv2.SIFT_create()\n",
    "kp, des = sift.detectAndCompute(gray,None)\n",
    "res = cv2.drawKeypoints(gray,kp,img)\n",
    "\n",
    "print(des) # every column is a descriptor for a keypoint\n",
    "cv2.imshow('res',res)\n",
    "cv2.waitKey(0)\n",
    "cv2.destroyAllWindows()"
   ]
  }
 ],
 "metadata": {
  "kernelspec": {
   "display_name": "Python 3",
   "language": "python",
   "name": "python3"
  },
  "language_info": {
   "codemirror_mode": {
    "name": "ipython",
    "version": 3
   },
   "file_extension": ".py",
   "mimetype": "text/x-python",
   "name": "python",
   "nbconvert_exporter": "python",
   "pygments_lexer": "ipython3",
   "version": "3.11.6"
  },
  "orig_nbformat": 4
 },
 "nbformat": 4,
 "nbformat_minor": 2
}
