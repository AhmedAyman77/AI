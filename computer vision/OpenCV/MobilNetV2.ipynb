{
  "nbformat": 4,
  "nbformat_minor": 0,
  "metadata": {
    "colab": {
      "provenance": []
    },
    "kernelspec": {
      "name": "python3",
      "display_name": "Python 3"
    },
    "language_info": {
      "name": "python"
    }
  },
  "cells": [
    {
      "cell_type": "code",
      "execution_count": null,
      "metadata": {
        "colab": {
          "base_uri": "https://localhost:8080/"
        },
        "id": "flvadwVCGmFA",
        "outputId": "f412b3d8-6cb5-4eb2-c9bb-756f9e94bd31"
      },
      "outputs": [
        {
          "output_type": "stream",
          "name": "stdout",
          "text": [
            "Drive already mounted at /content/drive; to attempt to forcibly remount, call drive.mount(\"/content/drive\", force_remount=True).\n"
          ]
        }
      ],
      "source": [
        "from google.colab import drive\n",
        "drive.mount('/content/drive')"
      ]
    },
    {
      "cell_type": "code",
      "source": [
        "import tensorflow as tf\n",
        "from imutils import paths\n",
        "import numpy as np\n",
        "import matplotlib.pyplot as plt\n",
        "import os"
      ],
      "metadata": {
        "id": "BttwVvR0L62T"
      },
      "execution_count": null,
      "outputs": []
    },
    {
      "cell_type": "code",
      "source": [
        "BATCH_SIZE = 32\n",
        "EPOCHS = 20\n",
        "IMG_HEIGHT = 224\n",
        "IMG_WIDTH = 224\n",
        "\n",
        "FOLDER_PATH = '/content/drive/MyDrive/New_Masks_Dataset/'\n",
        "\n",
        "CATEGORIES = ['Mask','Non Mask']"
      ],
      "metadata": {
        "id": "GMfD6lF_Q5lp"
      },
      "execution_count": null,
      "outputs": []
    },
    {
      "cell_type": "code",
      "source": [
        "test_data,train_data,valid_data = [],[],[]\n",
        "test_label,train_label,valid_label = [],[],[]\n",
        "\n",
        "for i in ['Test/','Train/','Validation/']:\n",
        "  for category in CATEGORIES:\n",
        "    path = os.path.join(FOLDER_PATH,i,category)\n",
        "    for img in os.listdir(path):\n",
        "      # process image for mobilenet\n",
        "\n",
        "      img_path = os.path.join(path,img)\n",
        "      img = tf.keras.preprocessing.image.load_img(img_path,target_size=(IMG_HEIGHT,IMG_WIDTH)) # for mobilenet size must be 224,224\n",
        "      img_array = tf.keras.preprocessing.image.img_to_array(img)\n",
        "      img_array = np.expand_dims(img_array,0) # remove extra dim\n",
        "      img = tf.keras.applications.mobilenet_v2.preprocess_input(img_array) # process image for mobilenet \"make img in range -1 to 1\"\n",
        "\n",
        "      if i == 'Test/':\n",
        "        test_data.append(img)\n",
        "        test_label.append(CATEGORIES.index(category)) # label ecode\n",
        "\n",
        "      elif i == 'Train/':\n",
        "        train_data.append(img)\n",
        "        train_label.append(CATEGORIES.index(category))\n",
        "\n",
        "      elif i == 'Validation/':\n",
        "        valid_data.append(img)\n",
        "        valid_label.append(CATEGORIES.index(category))"
      ],
      "metadata": {
        "id": "YojNY0MARLrV"
      },
      "execution_count": null,
      "outputs": []
    },
    {
      "cell_type": "code",
      "source": [
        "# convert label from label to one hot encode\n",
        "train_label = tf.keras.utils.to_categorical(train_label,num_classes=2)\n",
        "test_label = tf.keras.utils.to_categorical(test_label,num_classes=2)\n",
        "valid_label = tf.keras.utils.to_categorical(valid_label,num_classes=2)\n",
        "\n",
        "train_data = np.array(train_data, dtype=np.float32)\n",
        "test_data = np.array(test_data, dtype=np.float32)\n",
        "valid_data = np.array(valid_data, dtype=np.float32)\n",
        "\n",
        "train_label = np.array(train_label)\n",
        "test_label = np.array(test_label)\n",
        "valid_label = np.array(valid_label)"
      ],
      "metadata": {
        "id": "Z2YBnMJISehM"
      },
      "execution_count": null,
      "outputs": []
    },
    {
      "cell_type": "code",
      "source": [
        "train_data = train_data.reshape(train_data.shape[0],IMG_HEIGHT,IMG_WIDTH,3)\n",
        "test_data = test_data.reshape(test_data.shape[0],IMG_HEIGHT,IMG_WIDTH,3)\n",
        "valid_data = valid_data.reshape(valid_data.shape[0],IMG_HEIGHT,IMG_WIDTH,3)\n",
        "print(train_data.shape)\n",
        "print(test_data.shape)\n",
        "print(valid_data.shape)"
      ],
      "metadata": {
        "colab": {
          "base_uri": "https://localhost:8080/"
        },
        "id": "wlkSi36cedH7",
        "outputId": "5ce767cc-25db-4e6f-a8d9-8b1f1eab6891"
      },
      "execution_count": null,
      "outputs": [
        {
          "output_type": "stream",
          "name": "stdout",
          "text": [
            "(600, 224, 224, 3)\n",
            "(101, 224, 224, 3)\n",
            "(319, 224, 224, 3)\n"
          ]
        }
      ]
    },
    {
      "cell_type": "code",
      "source": [
        "# data augmentetion\n",
        "\n",
        "aug = tf.keras.preprocessing.image.ImageDataGenerator(\n",
        "    rotation_range=20,\n",
        "    zoom_range=0.1,\n",
        "    width_shift_range=0.1,\n",
        "    height_shift_range=0.1,\n",
        "    shear_range=0.1,\n",
        "    horizontal_flip=True,\n",
        "    fill_mode=\"nearest\"\n",
        "    )"
      ],
      "metadata": {
        "id": "IOS7LLkLVbuF"
      },
      "execution_count": null,
      "outputs": []
    },
    {
      "cell_type": "code",
      "source": [
        "base_model = tf.keras.applications.MobileNetV2(input_shape=(IMG_HEIGHT,IMG_WIDTH,3),include_top=False,weights='imagenet')\n",
        "\n",
        "base_model.trainable = False\n",
        "\n",
        "model = tf.keras.Sequential([\n",
        "    base_model,\n",
        "    tf.keras.layers.GlobalAveragePooling2D(),\n",
        "    tf.keras.layers.Flatten(),\n",
        "    tf.keras.layers.Dense(128,activation='relu'),\n",
        "    tf.keras.layers.Dropout(0.2),\n",
        "    tf.keras.layers.Dense(2,activation='softmax')\n",
        "])\n",
        "\n",
        "optimizer = tf.keras.optimizers.Adam(learning_rate=0.0001)\n",
        "model.compile(optimizer=optimizer,loss='categorical_crossentropy',metrics=['accuracy'])"
      ],
      "metadata": {
        "id": "Xc0Rk4gAWQJM"
      },
      "execution_count": null,
      "outputs": []
    },
    {
      "cell_type": "code",
      "source": [
        "history = model.fit(aug.flow(train_data,train_label,batch_size=BATCH_SIZE),validation_data=(valid_data,valid_label),epochs=EPOCHS)"
      ],
      "metadata": {
        "colab": {
          "base_uri": "https://localhost:8080/"
        },
        "id": "ZWoOPZuVZ2Zf",
        "outputId": "61a1d7ac-151b-4023-acc3-4166ce3d46e7"
      },
      "execution_count": null,
      "outputs": [
        {
          "output_type": "stream",
          "name": "stdout",
          "text": [
            "Epoch 1/20\n"
          ]
        },
        {
          "output_type": "stream",
          "name": "stderr",
          "text": [
            "/usr/local/lib/python3.10/dist-packages/keras/src/trainers/data_adapters/py_dataset_adapter.py:121: UserWarning: Your `PyDataset` class should call `super().__init__(**kwargs)` in its constructor. `**kwargs` can include `workers`, `use_multiprocessing`, `max_queue_size`. Do not pass these arguments to `fit()`, as they will be ignored.\n",
            "  self._warn_if_super_not_called()\n"
          ]
        },
        {
          "output_type": "stream",
          "name": "stdout",
          "text": [
            "\u001b[1m19/19\u001b[0m \u001b[32m━━━━━━━━━━━━━━━━━━━━\u001b[0m\u001b[37m\u001b[0m \u001b[1m64s\u001b[0m 3s/step - accuracy: 0.4832 - loss: 0.9375 - val_accuracy: 0.8433 - val_loss: 0.3822\n",
            "Epoch 2/20\n",
            "\u001b[1m19/19\u001b[0m \u001b[32m━━━━━━━━━━━━━━━━━━━━\u001b[0m\u001b[37m\u001b[0m \u001b[1m55s\u001b[0m 3s/step - accuracy: 0.8771 - loss: 0.3371 - val_accuracy: 0.9561 - val_loss: 0.1999\n",
            "Epoch 3/20\n",
            "\u001b[1m19/19\u001b[0m \u001b[32m━━━━━━━━━━━━━━━━━━━━\u001b[0m\u001b[37m\u001b[0m \u001b[1m81s\u001b[0m 3s/step - accuracy: 0.9495 - loss: 0.1824 - val_accuracy: 0.9718 - val_loss: 0.1345\n",
            "Epoch 4/20\n",
            "\u001b[1m19/19\u001b[0m \u001b[32m━━━━━━━━━━━━━━━━━━━━\u001b[0m\u001b[37m\u001b[0m \u001b[1m54s\u001b[0m 3s/step - accuracy: 0.9822 - loss: 0.1031 - val_accuracy: 0.9749 - val_loss: 0.1086\n",
            "Epoch 5/20\n",
            "\u001b[1m19/19\u001b[0m \u001b[32m━━━━━━━━━━━━━━━━━━━━\u001b[0m\u001b[37m\u001b[0m \u001b[1m47s\u001b[0m 2s/step - accuracy: 0.9804 - loss: 0.0942 - val_accuracy: 0.9781 - val_loss: 0.0966\n",
            "Epoch 6/20\n",
            "\u001b[1m19/19\u001b[0m \u001b[32m━━━━━━━━━━━━━━━━━━━━\u001b[0m\u001b[37m\u001b[0m \u001b[1m54s\u001b[0m 3s/step - accuracy: 0.9939 - loss: 0.0706 - val_accuracy: 0.9781 - val_loss: 0.0826\n",
            "Epoch 7/20\n",
            "\u001b[1m19/19\u001b[0m \u001b[32m━━━━━━━━━━━━━━━━━━━━\u001b[0m\u001b[37m\u001b[0m \u001b[1m75s\u001b[0m 2s/step - accuracy: 0.9942 - loss: 0.0526 - val_accuracy: 0.9781 - val_loss: 0.0771\n",
            "Epoch 8/20\n",
            "\u001b[1m19/19\u001b[0m \u001b[32m━━━━━━━━━━━━━━━━━━━━\u001b[0m\u001b[37m\u001b[0m \u001b[1m47s\u001b[0m 2s/step - accuracy: 0.9923 - loss: 0.0492 - val_accuracy: 0.9812 - val_loss: 0.0706\n",
            "Epoch 9/20\n",
            "\u001b[1m19/19\u001b[0m \u001b[32m━━━━━━━━━━━━━━━━━━━━\u001b[0m\u001b[37m\u001b[0m \u001b[1m83s\u001b[0m 2s/step - accuracy: 0.9888 - loss: 0.0457 - val_accuracy: 0.9781 - val_loss: 0.0677\n",
            "Epoch 10/20\n",
            "\u001b[1m19/19\u001b[0m \u001b[32m━━━━━━━━━━━━━━━━━━━━\u001b[0m\u001b[37m\u001b[0m \u001b[1m54s\u001b[0m 3s/step - accuracy: 0.9937 - loss: 0.0316 - val_accuracy: 0.9781 - val_loss: 0.0635\n",
            "Epoch 11/20\n",
            "\u001b[1m19/19\u001b[0m \u001b[32m━━━━━━━━━━━━━━━━━━━━\u001b[0m\u001b[37m\u001b[0m \u001b[1m79s\u001b[0m 2s/step - accuracy: 0.9988 - loss: 0.0350 - val_accuracy: 0.9781 - val_loss: 0.0686\n",
            "Epoch 12/20\n",
            "\u001b[1m19/19\u001b[0m \u001b[32m━━━━━━━━━━━━━━━━━━━━\u001b[0m\u001b[37m\u001b[0m \u001b[1m47s\u001b[0m 2s/step - accuracy: 0.9952 - loss: 0.0225 - val_accuracy: 0.9781 - val_loss: 0.0612\n",
            "Epoch 13/20\n",
            "\u001b[1m19/19\u001b[0m \u001b[32m━━━━━━━━━━━━━━━━━━━━\u001b[0m\u001b[37m\u001b[0m \u001b[1m45s\u001b[0m 2s/step - accuracy: 0.9988 - loss: 0.0272 - val_accuracy: 0.9781 - val_loss: 0.0596\n",
            "Epoch 14/20\n",
            "\u001b[1m19/19\u001b[0m \u001b[32m━━━━━━━━━━━━━━━━━━━━\u001b[0m\u001b[37m\u001b[0m \u001b[1m91s\u001b[0m 3s/step - accuracy: 0.9982 - loss: 0.0218 - val_accuracy: 0.9812 - val_loss: 0.0577\n",
            "Epoch 15/20\n",
            "\u001b[1m19/19\u001b[0m \u001b[32m━━━━━━━━━━━━━━━━━━━━\u001b[0m\u001b[37m\u001b[0m \u001b[1m46s\u001b[0m 2s/step - accuracy: 0.9915 - loss: 0.0288 - val_accuracy: 0.9749 - val_loss: 0.0633\n",
            "Epoch 16/20\n",
            "\u001b[1m19/19\u001b[0m \u001b[32m━━━━━━━━━━━━━━━━━━━━\u001b[0m\u001b[37m\u001b[0m \u001b[1m46s\u001b[0m 2s/step - accuracy: 0.9963 - loss: 0.0215 - val_accuracy: 0.9781 - val_loss: 0.0567\n",
            "Epoch 17/20\n",
            "\u001b[1m19/19\u001b[0m \u001b[32m━━━━━━━━━━━━━━━━━━━━\u001b[0m\u001b[37m\u001b[0m \u001b[1m53s\u001b[0m 3s/step - accuracy: 0.9959 - loss: 0.0190 - val_accuracy: 0.9781 - val_loss: 0.0574\n",
            "Epoch 18/20\n",
            "\u001b[1m19/19\u001b[0m \u001b[32m━━━━━━━━━━━━━━━━━━━━\u001b[0m\u001b[37m\u001b[0m \u001b[1m54s\u001b[0m 3s/step - accuracy: 0.9976 - loss: 0.0187 - val_accuracy: 0.9781 - val_loss: 0.0556\n",
            "Epoch 19/20\n",
            "\u001b[1m19/19\u001b[0m \u001b[32m━━━━━━━━━━━━━━━━━━━━\u001b[0m\u001b[37m\u001b[0m \u001b[1m75s\u001b[0m 2s/step - accuracy: 0.9937 - loss: 0.0259 - val_accuracy: 0.9749 - val_loss: 0.0590\n",
            "Epoch 20/20\n",
            "\u001b[1m19/19\u001b[0m \u001b[32m━━━━━━━━━━━━━━━━━━━━\u001b[0m\u001b[37m\u001b[0m \u001b[1m46s\u001b[0m 2s/step - accuracy: 0.9954 - loss: 0.0214 - val_accuracy: 0.9812 - val_loss: 0.0534\n"
          ]
        }
      ]
    },
    {
      "cell_type": "code",
      "source": [
        "for layer in model.layers:\n",
        "  print(layer,layer.trainable)"
      ],
      "metadata": {
        "colab": {
          "base_uri": "https://localhost:8080/"
        },
        "id": "nqzNIgrkaCpq",
        "outputId": "823e215c-787f-40f5-ba6f-663b56ab2c26"
      },
      "execution_count": null,
      "outputs": [
        {
          "output_type": "stream",
          "name": "stdout",
          "text": [
            "<Functional name=mobilenetv2_1.00_224, built=True> False\n",
            "<GlobalAveragePooling2D name=global_average_pooling2d_1, built=True> True\n",
            "<Flatten name=flatten_1, built=True> True\n",
            "<Dense name=dense_2, built=True> True\n",
            "<Dropout name=dropout_1, built=True> True\n",
            "<Dense name=dense_3, built=True> True\n"
          ]
        }
      ]
    },
    {
      "cell_type": "code",
      "source": [
        "model.evaluate(test_data,test_label)"
      ],
      "metadata": {
        "colab": {
          "base_uri": "https://localhost:8080/"
        },
        "id": "s1mcj2sqaUja",
        "outputId": "e843b925-eab6-4a3b-88e5-694363216ac4"
      },
      "execution_count": null,
      "outputs": [
        {
          "output_type": "stream",
          "name": "stdout",
          "text": [
            "\u001b[1m4/4\u001b[0m \u001b[32m━━━━━━━━━━━━━━━━━━━━\u001b[0m\u001b[37m\u001b[0m \u001b[1m6s\u001b[0m 1s/step - accuracy: 0.9746 - loss: 0.0301\n"
          ]
        },
        {
          "output_type": "execute_result",
          "data": {
            "text/plain": [
              "[0.03627835959196091, 0.9702970385551453]"
            ]
          },
          "metadata": {},
          "execution_count": 30
        }
      ]
    },
    {
      "cell_type": "code",
      "source": [
        "predict = model.predict(test_data)\n",
        "predict_idx = np.argmax(predict,axis=1)"
      ],
      "metadata": {
        "colab": {
          "base_uri": "https://localhost:8080/"
        },
        "id": "sxaF3IRgaXui",
        "outputId": "e0751556-3b6f-432c-dceb-44b938ffa5a0"
      },
      "execution_count": null,
      "outputs": [
        {
          "output_type": "stream",
          "name": "stdout",
          "text": [
            "\u001b[1m4/4\u001b[0m \u001b[32m━━━━━━━━━━━━━━━━━━━━\u001b[0m\u001b[37m\u001b[0m \u001b[1m8s\u001b[0m 2s/step\n"
          ]
        }
      ]
    },
    {
      "cell_type": "code",
      "source": [
        "test_label = np.argmax(test_label,axis=1)"
      ],
      "metadata": {
        "id": "doSgSBsmmM7q"
      },
      "execution_count": null,
      "outputs": []
    },
    {
      "cell_type": "code",
      "source": [
        "from sklearn.metrics import classification_report\n",
        "print(classification_report(test_label,predict_idx))"
      ],
      "metadata": {
        "colab": {
          "base_uri": "https://localhost:8080/"
        },
        "id": "3nBYnZiJaiBc",
        "outputId": "d3933b6f-3612-4933-f6b3-b9370b049605"
      },
      "execution_count": null,
      "outputs": [
        {
          "output_type": "stream",
          "name": "stdout",
          "text": [
            "              precision    recall  f1-score   support\n",
            "\n",
            "           0       0.96      0.98      0.97        50\n",
            "           1       0.98      0.96      0.97        51\n",
            "\n",
            "    accuracy                           0.97       101\n",
            "   macro avg       0.97      0.97      0.97       101\n",
            "weighted avg       0.97      0.97      0.97       101\n",
            "\n"
          ]
        }
      ]
    },
    {
      "cell_type": "code",
      "source": [
        "model.save('/content/drive/MyDrive/New_Masks_Dataset/mask_detector.keras', save_format='h5')"
      ],
      "metadata": {
        "colab": {
          "base_uri": "https://localhost:8080/"
        },
        "id": "vGmY8v4XasIU",
        "outputId": "1fd56840-99ba-49d4-ff11-833a77e650d0"
      },
      "execution_count": null,
      "outputs": [
        {
          "output_type": "stream",
          "name": "stderr",
          "text": [
            "WARNING:absl:The `save_format` argument is deprecated in Keras 3. We recommend removing this argument as it can be inferred from the file path. Received: save_format=h5\n"
          ]
        }
      ]
    },
    {
      "cell_type": "code",
      "source": [
        "from sklearn.metrics import confusion_matrix\n",
        "import seaborn as sns\n",
        "\n",
        "cm = confusion_matrix(test_label, predict_idx)\n",
        "\n",
        "plt.figure(figsize=(8, 6))\n",
        "sns.heatmap(cm, annot=True, fmt='d', cmap='Blues', xticklabels=CATEGORIES, yticklabels=CATEGORIES)\n",
        "plt.xlabel('Predicted')\n",
        "plt.ylabel('True')\n",
        "plt.title('Confusion Matrix')\n",
        "plt.show()"
      ],
      "metadata": {
        "colab": {
          "base_uri": "https://localhost:8080/",
          "height": 564
        },
        "id": "ieOkZM-Za62S",
        "outputId": "534564ee-9892-4267-f2ca-f83f79943f88"
      },
      "execution_count": null,
      "outputs": [
        {
          "output_type": "display_data",
          "data": {
            "text/plain": [
              "<Figure size 800x600 with 2 Axes>"
            ],
            "image/png": "[encoded data removed]"
          },
          "metadata": {}
        }
      ]
    },
    {
      "cell_type": "code",
      "source": [
        "plt.plot(history.history['accuracy'])\n",
        "plt.plot(history.history['val_accuracy'])\n",
        "plt.title('Model accuracy')\n",
        "plt.ylabel('Accuracy')\n",
        "plt.xlabel('Epoch')\n",
        "plt.legend(['Train', 'Validation'], loc='upper left')\n",
        "plt.show()\n",
        "\n",
        "plt.plot(history.history['loss'])\n",
        "plt.plot(history.history['val_loss'])\n",
        "plt.title('Model loss')\n",
        "plt.ylabel('Loss')\n",
        "plt.xlabel('Epoch')\n",
        "plt.legend(['Train', 'Validation'], loc='upper left')\n",
        "plt.show()"
      ],
      "metadata": {
        "colab": {
          "base_uri": "https://localhost:8080/",
          "height": 927
        },
        "id": "sWtnagF6bBp7",
        "outputId": "2bb15af2-ae60-4fd2-871d-b5fb5172abd5"
      },
      "execution_count": null,
      "outputs": [
        {
          "output_type": "display_data",
          "data": {
            "text/plain": [
              "<Figure size 640x480 with 1 Axes>"
            ],
            "image/png": "[encoded data removed]"
          },
          "metadata": {}
        },
        {
          "output_type": "display_data",
          "data": {
            "text/plain": [
              "<Figure size 640x480 with 1 Axes>"
            ],
            "image/png": "[encoded data removed]"
          },
          "metadata": {}
        }
      ]
    },
    {
      "cell_type": "code",
      "source": [],
      "metadata": {
        "id": "lLrqbSlanOC9"
      },
      "execution_count": null,
      "outputs": []
    }
  ]
}