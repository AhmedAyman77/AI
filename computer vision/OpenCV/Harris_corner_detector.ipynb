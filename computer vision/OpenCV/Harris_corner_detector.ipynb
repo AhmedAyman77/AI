{
 "cells": [
  {
   "cell_type": "code",
   "execution_count": 2,
   "metadata": {},
   "outputs": [],
   "source": [
    "import cv2\n",
    "import numpy as np\n",
    "import os"
   ]
  },
  {
   "cell_type": "code",
   "execution_count": 3,
   "metadata": {},
   "outputs": [],
   "source": [
    "os.chdir('../../data/')"
   ]
  },
  {
   "cell_type": "markdown",
   "metadata": {},
   "source": [
    "### Harris Corner Detector Explanation\n",
    "\n",
    "The **Harris Corner Detection** algorithm is a method for detecting corners in an image."
   ]
  },
  {
   "cell_type": "code",
   "execution_count": 9,
   "metadata": {},
   "outputs": [],
   "source": [
    "img = cv2.imread('chess-board.jpg')\n",
    "\n",
    "img = cv2.resize(img,(500,500))\n",
    "\n",
    "cv2.imshow('img',img)\n",
    "\n",
    "gray = cv2.cvtColor(img,cv2.COLOR_BGR2GRAY)\n",
    "\n",
    "gray = np.float32(gray) # harris corner detector works well with float32 images\n",
    "\n",
    "# get corners\n",
    "dst = cv2.cornerHarris(gray,2,3,0.04) # img, blockSize, ksize, k \"0.04 or 0.06\"\n",
    "\n",
    "dst = cv2.dilate(dst,None)\n",
    "\n",
    "# get strong corners\n",
    "img[dst > (0.01*dst.max())] = [0,0,255]\n",
    "\n",
    "cv2.imshow('dst',img)\n",
    "cv2.waitKey(0)\n",
    "cv2.destroyAllWindows()"
   ]
  }
 ],
 "metadata": {
  "kernelspec": {
   "display_name": "Python 3",
   "language": "python",
   "name": "python3"
  },
  "language_info": {
   "codemirror_mode": {
    "name": "ipython",
    "version": 3
   },
   "file_extension": ".py",
   "mimetype": "text/x-python",
   "name": "python",
   "nbconvert_exporter": "python",
   "pygments_lexer": "ipython3",
   "version": "3.11.6"
  },
  "orig_nbformat": 4
 },
 "nbformat": 4,
 "nbformat_minor": 2
}
