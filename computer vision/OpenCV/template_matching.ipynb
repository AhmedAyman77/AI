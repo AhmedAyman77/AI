{
 "cells": [
  {
   "cell_type": "code",
   "execution_count": 2,
   "metadata": {},
   "outputs": [],
   "source": [
    "import numpy as np\n",
    "import cv2\n",
    "import os\n",
    "import matplotlib.pyplot as plt"
   ]
  },
  {
   "cell_type": "code",
   "execution_count": 3,
   "metadata": {},
   "outputs": [],
   "source": [
    "os.chdir('../data/')"
   ]
  },
  {
   "cell_type": "code",
   "execution_count": 4,
   "metadata": {},
   "outputs": [
    {
     "name": "stderr",
     "output_type": "stream",
     "text": [
      "qt.qpa.plugin: Could not find the Qt platform plugin \"wayland\" in \"/home/ahmedcr7/.local/lib/python3.11/site-packages/cv2/qt/plugins\"\n"
     ]
    },
    {
     "name": "stdout",
     "output_type": "stream",
     "text": [
      "[[-0.04579445 -0.05652436 -0.06648497 ... -0.03645412 -0.04250771\n",
      "  -0.0460097 ]\n",
      " [-0.05764298 -0.06674034 -0.07488215 ... -0.04700691 -0.05335993\n",
      "  -0.05717555]\n",
      " [-0.06839727 -0.07611316 -0.08307214 ... -0.05250816 -0.05857212\n",
      "  -0.06253772]\n",
      " ...\n",
      " [ 0.20929421  0.2054743   0.20410967 ...  0.03421781  0.0398063\n",
      "   0.04211947]\n",
      " [ 0.22026719  0.21814978  0.21576191 ...  0.01615954  0.01847281\n",
      "   0.0170666 ]\n",
      " [ 0.23066156  0.2221413   0.22060382 ... -0.00583446 -0.00240357\n",
      "  -0.00405368]]\n",
      "(array([61]), array([200]))\n"
     ]
    }
   ],
   "source": [
    "img = cv2.imread('messi5.jpg')\n",
    "gray = cv2.cvtColor(img, cv2.COLOR_BGR2GRAY)\n",
    "template = gray[61:140,200:265]\n",
    "\n",
    "h,w = template.shape\n",
    "res = cv2.matchTemplate(gray,template,cv2.TM_CCOEFF_NORMED)\n",
    "cv2.imshow(\"res\",res)\n",
    "print(res)\n",
    "\n",
    "threshold = 0.99\n",
    "loc = np.where(res>=threshold)\n",
    "print(loc)\n",
    "\n",
    "for pt in zip(*loc[::-1]): # zip(loc[1],loc[0])\n",
    "    cv2.rectangle(img, pt, (pt[0] + w, pt[1] + h), (0,0,255), 2)\n",
    "\n",
    "cv2.imshow('img',img)\n",
    "cv2.waitKey(0)\n",
    "cv2.destroyAllWindows()"
   ]
  }
 ],
 "metadata": {
  "kernelspec": {
   "display_name": "Python 3",
   "language": "python",
   "name": "python3"
  },
  "language_info": {
   "codemirror_mode": {
    "name": "ipython",
    "version": 3
   },
   "file_extension": ".py",
   "mimetype": "text/x-python",
   "name": "python",
   "nbconvert_exporter": "python",
   "pygments_lexer": "ipython3",
   "version": "3.11.6"
  },
  "orig_nbformat": 4
 },
 "nbformat": 4,
 "nbformat_minor": 2
}
