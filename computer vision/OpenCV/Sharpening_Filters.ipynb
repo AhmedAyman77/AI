{
 "cells": [
  {
   "cell_type": "code",
   "execution_count": 1,
   "metadata": {},
   "outputs": [],
   "source": [
    "import cv2\n",
    "import matplotlib.pyplot as plt\n",
    "import numpy as np\n",
    "import os"
   ]
  },
  {
   "cell_type": "code",
   "execution_count": 2,
   "metadata": {},
   "outputs": [],
   "source": [
    "os.chdir('../../data/')"
   ]
  },
  {
   "cell_type": "markdown",
   "metadata": {},
   "source": [
    "# 1. Laplacian Filter\n",
    "- A second-order derivative filter that enhances edges by detecting rapid intensity changes.\n",
    "- **Steps**:\n",
    "1. Compute the Laplacian of the image.\n",
    "2. Convert the result to an absolute value to retain edge information.\n",
    "3. Combine with the original image for sharpening (optional).​\n",
    " \n",
    "- Can be used directly for edge enhancement or combined with other techniques for sharpening.\n",
    "---\n",
    "\n",
    "### **2. Unsharp Masking**\n",
    "- A widely used method to enhance edges while preserving the overall image structure.\n",
    "- **Steps**:\n",
    "1. Blur the image using a Gaussian filter.\n",
    "2. Subtract the blurred image from the original to extract the \"details.\"\n",
    "3. Add the \"details\" back to the original image with a scaling factor (\\(\\alpha\\)).\n",
    "- **Formula**:\n",
    "\\[\n",
    "I_{\\text{sharpened}} = I_{\\text{original}} + \\alpha \\cdot (I_{\\text{original}} - I_{\\text{blurred}})\n",
    "\\]\n",
    "- \\(\\alpha\\): Controls the sharpening intensity.\n",
    "\n",
    "---\n",
    "\n",
    "### **3. High-Pass Filtering**\n",
    "- Retains high-frequency components (edges and fine details) and removes low-frequency components (smooth regions).\n",
    "- **Steps**:\n",
    "1. Apply a low-pass filter (e.g., Gaussian blur).\n",
    "2. Subtract the low-pass filtered image from the original.\n",
    "\n",
    "---\n",
    "\n",
    "### **4. Custom Sharpening Kernel**\n",
    "- A flexible sharpening method using a predefined kernel.\n",
    "- **How it works**:\n",
    "- The center pixel (\\(9\\)) is amplified.\n",
    "- Neighboring pixels are reduced to emphasize the center.\n",
    "\n",
    "---\n",
    "\n",
    "## **Comparison of Sharpening Techniques**\n",
    "\n",
    "| Technique         | Edge Enhancement | Noise Sensitivity | Use Case                       |\n",
    "|--------------------|------------------|-------------------|--------------------------------|\n",
    "| Laplacian Filter   | High             | High              | Edge detection and sharpening |\n",
    "| Unsharp Masking    | Moderate         | Low to Moderate   | General sharpening             |\n",
    "| High-Pass Filter   | High             | Moderate          | Highlight fine details         |\n",
    "| Custom Kernel      | Moderate         | Moderate          | Flexible sharpening tasks      |"
   ]
  },
  {
   "cell_type": "code",
   "execution_count": 3,
   "metadata": {},
   "outputs": [
    {
     "name": "stderr",
     "output_type": "stream",
     "text": [
      "qt.qpa.plugin: Could not find the Qt platform plugin \"wayland\" in \"/home/ahmedcr7/.local/lib/python3.11/site-packages/cv2/qt/plugins\"\n"
     ]
    }
   ],
   "source": [
    "import cv2\n",
    "import numpy as np\n",
    "\n",
    "# Read the image\n",
    "image = cv2.imread('lena.jpg')\n",
    "\n",
    "# Apply a Laplacian Filter\n",
    "laplacian = cv2.Laplacian(image, cv2.CV_64F)\n",
    "laplacian = np.uint8(np.absolute(laplacian))\n",
    "\n",
    "\n",
    "\n",
    "\n",
    "# Apply Unsharp Masking\n",
    "blurred = cv2.GaussianBlur(image, (5, 5), 0)\n",
    "unsharp = cv2.addWeighted(image, 1.5, blurred, -0.5, 0)\n",
    "\n",
    "\n",
    "\n",
    "\n",
    "# Apply Gaussian blur to create a low-pass filtered image\n",
    "low_pass = cv2.GaussianBlur(image, (15, 15), 0)\n",
    "\n",
    "# Subtract the low-pass image from the original image\n",
    "high_pass = cv2.subtract(image, low_pass)\n",
    "\n",
    "\n",
    "\n",
    "\n",
    "# Apply a Custom Sharpening Kernel\n",
    "kernel = np.array([[-1, -1, -1], \n",
    "                [-1,  9, -1], \n",
    "                [-1, -1, -1]])\n",
    "sharpened = cv2.filter2D(image, -1, kernel)\n",
    "\n",
    "\n",
    "\n",
    "\n",
    "cv2.imshow(\"Original Image\", image)\n",
    "cv2.imshow('Laplacian', laplacian)\n",
    "cv2.imshow('Unsharp Masking', unsharp)\n",
    "cv2.imshow(\"Low-Pass Filtered Image\", low_pass)\n",
    "cv2.imshow(\"High-Pass Filtered Image\", high_pass)\n",
    "cv2.imshow('Custom Sharpening', sharpened)\n",
    "\n",
    "cv2.waitKey(0)\n",
    "cv2.destroyAllWindows()\n"
   ]
  },
  {
   "cell_type": "code",
   "execution_count": null,
   "metadata": {},
   "outputs": [],
   "source": []
  }
 ],
 "metadata": {
  "kernelspec": {
   "display_name": "Python 3",
   "language": "python",
   "name": "python3"
  },
  "language_info": {
   "codemirror_mode": {
    "name": "ipython",
    "version": 3
   },
   "file_extension": ".py",
   "mimetype": "text/x-python",
   "name": "python",
   "nbconvert_exporter": "python",
   "pygments_lexer": "ipython3",
   "version": "3.11.6"
  },
  "orig_nbformat": 4
 },
 "nbformat": 4,
 "nbformat_minor": 2
}
