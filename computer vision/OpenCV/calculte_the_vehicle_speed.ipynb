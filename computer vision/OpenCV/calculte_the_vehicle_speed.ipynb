{
 "cells": [
  {
   "cell_type": "code",
   "execution_count": 2,
   "metadata": {},
   "outputs": [],
   "source": [
    "import cv2\n",
    "import time\n",
    "import os\n",
    "os.chdir('./data')"
   ]
  },
  {
   "cell_type": "code",
   "execution_count": 36,
   "metadata": {},
   "outputs": [],
   "source": [
    "VIDEO_PATH = '1.mp4'\n",
    "CASCADE_PATH = '../../../../HaarCascade/cars.xml'\n",
    "\n",
    "AX1 = 50\n",
    "AX2 = 640\n",
    "AY = 300\n",
    "\n",
    "BX1 = 40\n",
    "BX2 = 640\n",
    "BY = 400"
   ]
  },
  {
   "cell_type": "code",
   "execution_count": 4,
   "metadata": {},
   "outputs": [],
   "source": [
    "def calc_speed(time):\n",
    "    try:\n",
    "        speed = (10.15/1000) / (time/3600)  # km/h\n",
    "        return speed\n",
    "    except ZeroDivisionError:\n",
    "        print(\"Cannot divide by zero!\")"
   ]
  },
  {
   "cell_type": "code",
   "execution_count": 48,
   "metadata": {},
   "outputs": [
    {
     "name": "stdout",
     "output_type": "stream",
     "text": [
      "the speed of car number 1 is 50.1595406500127 km/h\n",
      "the speed of car number 2 is 45.07653787420677 km/h\n",
      "the speed of car number 3 is 41.40799968875078 km/h\n",
      "the speed of car number 4 is 38.13592839019015 km/h\n",
      "the speed of car number 5 is 35.076566851173936 km/h\n",
      "the speed of car number 6 is 32.49542615987951 km/h\n",
      "the speed of car number 7 is 24.257187208477458 km/h\n",
      "the speed of car number 8 is 9.597696009907567 km/h\n"
     ]
    }
   ],
   "source": [
    "i = 1\n",
    "start_time = time.time()\n",
    "\n",
    "cap = cv2.VideoCapture(VIDEO_PATH)\n",
    "car_cascade = cv2.CascadeClassifier(CASCADE_PATH)\n",
    "\n",
    "\n",
    "while True:\n",
    "    ret, frame = cap.read()\n",
    "    if ret == False:\n",
    "        break\n",
    "\n",
    "    frame = cv2.resize(frame, (640, 640))\n",
    "    blur = cv2.blur(frame, (5, 5), 0)\n",
    "    gray = cv2.cvtColor(blur, cv2.COLOR_BGR2GRAY)\n",
    "    cars = car_cascade.detectMultiScale(gray, 1.1, 2) # img, scaleFactor, minNeighbors\n",
    "\n",
    "    cv2.line(frame,(AX1,AY),(AX2,AY),(255,0,0),2)\n",
    "    cv2.line(frame,(BX1,BY),(BX2,BY),(255,0,0),2)\n",
    "\n",
    "    for (x,y,w,h) in cars:\n",
    "        cv2.rectangle(frame,(x,y),(x+w,y+h),(0,0,255),2)\n",
    "        cv2.circle(frame, (int((x + x + w)/2), int((y + y + h)/2)), 2, (0, 0, 255), 2)\n",
    "        # cv2.putText(frame, \"car\", (x, y-10), cv2.FONT_HERSHEY_SIMPLEX, 0.7, (0, 0, 255), 2)\n",
    "\n",
    "        if BY == int((y + y + h)/2):\n",
    "            cv2.line(frame,(BX1,BY),(BX2,BY),(0,0,255),2)\n",
    "            start_time = time.time()\n",
    "        \n",
    "        if AY <= int((y + y + h)/2):\n",
    "            cv2.line(frame,(AX1,AY),(AX2,AY),(0,255,0),2)\n",
    "            speed = calc_speed(time.time() - start_time)\n",
    "            print(f\"the speed of car number {i} is {speed} km/h\")\n",
    "            i += 1\n",
    "    cv2.imshow('frame', frame)\n",
    "\n",
    "    if cv2.waitKey(20) == 27:\n",
    "        break\n",
    "\n",
    "cv2.destroyAllWindows()"
   ]
  }
 ],
 "metadata": {
  "kernelspec": {
   "display_name": "Python 3",
   "language": "python",
   "name": "python3"
  },
  "language_info": {
   "codemirror_mode": {
    "name": "ipython",
    "version": 3
   },
   "file_extension": ".py",
   "mimetype": "text/x-python",
   "name": "python",
   "nbconvert_exporter": "python",
   "pygments_lexer": "ipython3",
   "version": "3.11.6"
  },
  "orig_nbformat": 4
 },
 "nbformat": 4,
 "nbformat_minor": 2
}
