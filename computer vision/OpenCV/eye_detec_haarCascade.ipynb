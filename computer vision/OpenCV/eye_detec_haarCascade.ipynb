{
 "cells": [
  {
   "cell_type": "code",
   "execution_count": 1,
   "metadata": {},
   "outputs": [],
   "source": [
    "import cv2\n",
    "import os\n",
    "os.chdir('../../../HaarCascade')"
   ]
  },
  {
   "cell_type": "code",
   "execution_count": 2,
   "metadata": {},
   "outputs": [
    {
     "name": "stderr",
     "output_type": "stream",
     "text": [
      "[ WARN:0@1.617] global ./modules/videoio/src/cap_gstreamer.cpp (1405) open OpenCV | GStreamer warning: Cannot query video position: status=0, value=-1, duration=-1\n",
      "QSocketNotifier: Can only be used with threads started with QThread\n"
     ]
    }
   ],
   "source": [
    "cap = cv2.VideoCapture(0)\n",
    "\n",
    "face_cascade = cv2.CascadeClassifier(\"haarcascade_frontalface_default.xml\")\n",
    "eyes_cascade = cv2.CascadeClassifier(\"haarcascade_eye.xml\")\n",
    "\n",
    "while(cap.isOpened()):\n",
    "    ret ,frame = cap.read()\n",
    "    \n",
    "    gray = cv2.cvtColor(frame,cv2.COLOR_BGR2GRAY)\n",
    "    \n",
    "    faces = face_cascade.detectMultiScale(gray ,1.3 , 4)\n",
    "    for (x,y,h,w) in faces :\n",
    "        cv2.rectangle(frame ,(x,y),(x+w ,y+h),(0,255,0),3)       \n",
    "        roi_gray=gray[y:y+h ,x:x+w] # get face part\n",
    "        roi_color=frame[y:y+h ,x:x+w]       \n",
    "        eyes = eyes_cascade.detectMultiScale(roi_gray) # detect eyes \n",
    "        for(ex,ey,eh,ew) in eyes :      \n",
    "            cv2.rectangle(roi_color ,(ex,ey),(ex+ew ,ey+eh),(0,0,255),3)\n",
    "\n",
    "    cv2.imshow(\"frame\" ,frame)\n",
    "    \n",
    "    key = cv2.waitKey(1)\n",
    "    if(key == 27):\n",
    "        break \n",
    "\n",
    "cap.release()\n",
    "cv2.destroyAllWindows()"
   ]
  }
 ],
 "metadata": {
  "kernelspec": {
   "display_name": "Python 3",
   "language": "python",
   "name": "python3"
  },
  "language_info": {
   "codemirror_mode": {
    "name": "ipython",
    "version": 3
   },
   "file_extension": ".py",
   "mimetype": "text/x-python",
   "name": "python",
   "nbconvert_exporter": "python",
   "pygments_lexer": "ipython3",
   "version": "3.11.6"
  },
  "orig_nbformat": 4
 },
 "nbformat": 4,
 "nbformat_minor": 2
}
