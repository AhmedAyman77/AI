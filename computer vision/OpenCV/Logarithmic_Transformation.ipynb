{
 "cells": [
  {
   "cell_type": "code",
   "execution_count": 1,
   "metadata": {},
   "outputs": [],
   "source": [
    "import numpy as np\n",
    "import matplotlib.pyplot as plt\n",
    "import cv2\n",
    "import os"
   ]
  },
  {
   "cell_type": "code",
   "execution_count": 2,
   "metadata": {},
   "outputs": [],
   "source": [
    "os.chdir('../../data/')"
   ]
  },
  {
   "cell_type": "markdown",
   "metadata": {},
   "source": [
    "# **Logarithmic Transformation in Image Processing**\n",
    "\n",
    "Logarithmic transformation is a technique used to enhance the details of low-intensity regions in an image. It is commonly applied to images that have a large dynamic range, such as satellite or medical images, to make the details more visible.\n",
    "\n",
    "The logarithmic transformation is defined by the following equation:\n",
    "\n",
    "\\[\n",
    "s = c \\cdot \\log(1 + r)\n",
    "\\]\n",
    "\n",
    "Where:\n",
    "- \\( s \\) is the output pixel value.\n",
    "- \\( r \\) is the input pixel value.\n",
    "- \\( c \\) is a constant that controls the contrast.\n",
    "- \\( \\log \\) is the natural logarithm.\n",
    "\n",
    "### **Steps to Implement Logarithmic Transformation**\n",
    "\n",
    "1. **Read the image:** Load the input image into memory.\n",
    "2. **Convert the image to float32:** Since logarithmic transformation requires floating-point arithmetic, we convert the image to `float32` to prevent overflow and ensure accuracy.\n",
    "3. **Apply the logarithmic transformation:** Perform the logarithmic transformation on each pixel in the image.\n",
    "4. **Normalize the result:** After applying the log transformation, the pixel values will be scaled, so normalization is required to bring the values back to a displayable range.\n",
    "5. **Display the results:** Show both the original and the transformed images for comparison.\n"
   ]
  },
  {
   "cell_type": "code",
   "execution_count": 11,
   "metadata": {},
   "outputs": [],
   "source": [
    "img1 = cv2.imread('star.png')\n",
    "img2 = np.float32(img1)\n",
    "\n",
    "c = 255 / np.log(1 + np.max(img2))  # scaling factor\n",
    "log_transformed = c * np.log(1 + img2)\n",
    "\n",
    "# Convert back to uint8 type\n",
    "log_transformed = np.uint8(np.clip(log_transformed, 0, 255))\n",
    "\n",
    "cv2.imshow('start_image',img1)\n",
    "cv2.imshow('float_start_image',img2)\n",
    "cv2.imshow('log_transformed',log_transformed)\n",
    "cv2.waitKey(0)\n",
    "cv2.destroyAllWindows()"
   ]
  }
 ],
 "metadata": {
  "kernelspec": {
   "display_name": "Python 3",
   "language": "python",
   "name": "python3"
  },
  "language_info": {
   "codemirror_mode": {
    "name": "ipython",
    "version": 3
   },
   "file_extension": ".py",
   "mimetype": "text/x-python",
   "name": "python",
   "nbconvert_exporter": "python",
   "pygments_lexer": "ipython3",
   "version": "3.11.6"
  },
  "orig_nbformat": 4
 },
 "nbformat": 4,
 "nbformat_minor": 2
}
