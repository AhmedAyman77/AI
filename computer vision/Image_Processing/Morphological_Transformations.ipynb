{
 "cells": [
  {
   "cell_type": "code",
   "execution_count": 4,
   "metadata": {},
   "outputs": [],
   "source": [
    "import cv2\n",
    "import matplotlib.pyplot as plt\n",
    "import numpy as np\n",
    "import os\n",
    "os.chdir('./data/')"
   ]
  },
  {
   "cell_type": "markdown",
   "metadata": {},
   "source": [
    "<h1>Morphological Transformations<h1>\n",
    "<h4>working with binary images<h4>"
   ]
  },
  {
   "cell_type": "code",
   "execution_count": 5,
   "metadata": {},
   "outputs": [
    {
     "name": "stderr",
     "output_type": "stream",
     "text": [
      "QSocketNotifier: Can only be used with threads started with QThread\n"
     ]
    }
   ],
   "source": [
    "img = cv2.imread('smarties.png',0)\n",
    "\n",
    "# convert image to binary\n",
    "_, mask = cv2.threshold(img,220,225,cv2.THRESH_BINARY_INV)\n",
    "\n",
    "kernel = np.ones((5,5),np.uint8)\n",
    "\n",
    "# image, kernel, iteration\n",
    "dilation = cv2.dilate(mask,kernel,iterations=2)\n",
    "erosion = cv2.erode(mask,kernel,iterations=2)\n",
    "opening = cv2.morphologyEx(mask,cv2.MORPH_OPEN,kernel) # erosion then dilation\n",
    "closing = cv2.morphologyEx(mask,cv2.MORPH_CLOSE,kernel) # dilation then erosion\n",
    "\n",
    "\n",
    "cv2.imshow('img', img)\n",
    "cv2.imshow('mask', mask)\n",
    "cv2.imshow('dilation', dilation)\n",
    "cv2.imshow('erosion', erosion)\n",
    "cv2.imshow('opening', opening)\n",
    "cv2.imshow('closing', closing)\n",
    "\n",
    "cv2.waitKey(0)\n",
    "cv2.destroyAllWindows()"
   ]
  }
 ],
 "metadata": {
  "kernelspec": {
   "display_name": "Python 3",
   "language": "python",
   "name": "python3"
  },
  "language_info": {
   "codemirror_mode": {
    "name": "ipython",
    "version": 3
   },
   "file_extension": ".py",
   "mimetype": "text/x-python",
   "name": "python",
   "nbconvert_exporter": "python",
   "pygments_lexer": "ipython3",
   "version": "3.11.6"
  },
  "orig_nbformat": 4
 },
 "nbformat": 4,
 "nbformat_minor": 2
}
