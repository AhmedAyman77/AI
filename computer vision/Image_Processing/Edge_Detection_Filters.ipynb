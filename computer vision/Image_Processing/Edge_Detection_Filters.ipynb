{
 "cells": [
  {
   "cell_type": "code",
   "execution_count": 1,
   "metadata": {},
   "outputs": [],
   "source": [
    "import cv2\n",
    "import matplotlib.pyplot as plt\n",
    "import numpy as np\n",
    "import os"
   ]
  },
  {
   "cell_type": "code",
   "execution_count": 2,
   "metadata": {},
   "outputs": [],
   "source": [
    "os.chdir('../../data/')"
   ]
  },
  {
   "cell_type": "markdown",
   "metadata": {},
   "source": [
    "# **Edge Detection**\n",
    "\n",
    "## **Laplacian**\n",
    "- Relies on the **second derivative**, measuring the change in gradients in both the x and y directions.  \n",
    "- Highlights regions of rapid intensity changes, such as edges, but can be sensitive to noise.\n",
    "\n",
    "## **Sobel X**\n",
    "- Computes the gradient in the **x-direction**, detecting vertical edges.  \n",
    "\n",
    "## **Sobel Y**\n",
    "- Computes the gradient in the **y-direction**, detecting horizontal edges.  \n",
    "\n",
    "## **Second Derivative**\n",
    "- Measures the **rate of change of the gradient**.  \n",
    "- Often used with Laplacian operators to detect zero crossings (regions where the intensity gradient changes direction).  \n",
    "\n",
    "## **Canny Edge Detection**\n",
    "- A **multi-step process** combining the strengths of gradient-based methods for accurate and refined edge detection.  \n",
    "\n",
    "---\n",
    "\n",
    "## **Steps of Canny Edge Detection**\n",
    "\n",
    "1. **Convert Image to Grayscale**  \n",
    "   Use the formula:  \n",
    "   \\[\n",
    "   Y = 0.299 \\cdot R + 0.587 \\cdot G + 0.114 \\cdot B\n",
    "   \\]  \n",
    "   This reduces the image to a single channel, simplifying edge detection.\n",
    "\n",
    "2. **Apply Gaussian Blur**  \n",
    "   - Smoothens the image to reduce noise, which is critical for avoiding false edges.  \n",
    "   - Gaussian blur is preferred because it preserves edge structures while reducing high-frequency noise.\n",
    "\n",
    "3. **Compute Gradients (Edge Detection)**  \n",
    "   - Use **Sobel X** (\\( G_x \\)) and **Sobel Y** (\\( G_y \\)) to compute gradients in both directions.  \n",
    "   - Combine them to get the overall gradient magnitude:  \n",
    "     \\[\n",
    "     G = \\sqrt{G_x^2 + G_y^2}\n",
    "     \\]\n",
    "\n",
    "4. **Apply Non-Maximum Suppression (NMS)**  \n",
    "   - Refines edges by thinning them to one-pixel width.  \n",
    "   - Retains only the pixels with the maximum gradient value in the direction of the edge.\n",
    "\n",
    "5. **Apply Hysteresis Thresholding**  \n",
    "   - Uses two thresholds: **MaxVal** and **MinVal**.  \n",
    "     - If a pixel's gradient is greater than **MaxVal**, it is considered an edge.  \n",
    "     - If it is below **MinVal**, it is ignored.  \n",
    "     - Pixels between the two thresholds are kept only if they are connected to strong edges.\n"
   ]
  },
  {
   "cell_type": "code",
   "execution_count": 3,
   "metadata": {},
   "outputs": [
    {
     "name": "stderr",
     "output_type": "stream",
     "text": [
      "qt.qpa.plugin: Could not find the Qt platform plugin \"wayland\" in \"/home/ahmedcr7/.local/lib/python3.11/site-packages/cv2/qt/plugins\"\n"
     ]
    }
   ],
   "source": [
    "img = cv2.imread('sudoku.png')\n",
    "\n",
    "\n",
    "lap = cv2.Laplacian(img, cv2.CV_64F, ksize=3) # img, dtype, ksize \"should be odd and the best value is 3\"\n",
    "# Convert to absolute values and uint8\n",
    "lap = np.uint8(np.absolute(lap))\n",
    "\n",
    "\n",
    "\n",
    "\n",
    "Sobel_X = cv2.Sobel(img, cv2.CV_64F, 1, 0) # img, dtype, dx, dy\n",
    "Sobel_Y = cv2.Sobel(img, cv2.CV_64F, 0, 1)\n",
    "Sobel_X = np.uint8(np.absolute(Sobel_X))\n",
    "Sobel_Y = np.uint8(np.absolute(Sobel_Y))\n",
    "sobel_combined = cv2.bitwise_or(Sobel_X, Sobel_Y)\n",
    "\n",
    "\n",
    "\n",
    "\n",
    "canny = cv2.Canny(img,100,200) # img, minVal, maxVal\n",
    "\n",
    "\n",
    "\n",
    "cv2.imshow('img',img)\n",
    "cv2.imshow('lap',lap)\n",
    "cv2.imshow('sopleX',Sobel_X)\n",
    "cv2.imshow('sopleY',Sobel_Y)\n",
    "cv2.imshow('sopleCombined',sobel_combined)\n",
    "cv2.imshow('canny',canny)\n",
    "\n",
    "cv2.waitKey(0)\n",
    "cv2.destroyAllWindows()"
   ]
  }
 ],
 "metadata": {
  "kernelspec": {
   "display_name": "Python 3",
   "language": "python",
   "name": "python3"
  },
  "language_info": {
   "codemirror_mode": {
    "name": "ipython",
    "version": 3
   },
   "file_extension": ".py",
   "mimetype": "text/x-python",
   "name": "python",
   "nbconvert_exporter": "python",
   "pygments_lexer": "ipython3",
   "version": "3.11.6"
  },
  "orig_nbformat": 4
 },
 "nbformat": 4,
 "nbformat_minor": 2
}
