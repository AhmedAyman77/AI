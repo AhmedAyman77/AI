{
 "cells": [
  {
   "cell_type": "code",
   "execution_count": 1,
   "metadata": {},
   "outputs": [],
   "source": [
    "import cv2\n",
    "import matplotlib.pyplot as plt\n",
    "import numpy as np\n",
    "import os\n",
    "os.chdir('./data/')"
   ]
  },
  {
   "cell_type": "markdown",
   "metadata": {},
   "source": [
    "<h1>image pyramids (Gaussian pyramid and Laplacian pyramid)</h1>"
   ]
  },
  {
   "cell_type": "code",
   "execution_count": 3,
   "metadata": {},
   "outputs": [
    {
     "name": "stderr",
     "output_type": "stream",
     "text": [
      "QSocketNotifier: Can only be used with threads started with QThread\n"
     ]
    }
   ],
   "source": [
    "img = cv2.imread('lena.jpg')\n",
    "\n",
    "# downSampling \"make image smaller\" by default it shows 1/4 of the original image\n",
    "lr1 = cv2.pyrDown(img)\n",
    "# downSampling of the downSampled image\n",
    "lr2 = cv2.pyrDown(lr1)\n",
    "\n",
    "# upSampling \"make image bigger\" by default it shows 4 times of the original image\n",
    "hr1 = cv2.pyrUp(lr1) \n",
    "\n",
    "\n",
    "cv2.imshow('Original',img)\n",
    "cv2.imshow('DownSampled1',lr1)\n",
    "cv2.imshow('DownSampled2',lr2)\n",
    "cv2.imshow('UpSampled',hr1)\n",
    "\n",
    "cv2.waitKey(0)\n",
    "cv2.destroyAllWindows()"
   ]
  },
  {
   "cell_type": "code",
   "execution_count": 5,
   "metadata": {},
   "outputs": [],
   "source": [
    "layer = img.copy()\n",
    "gaussian_pyramids_list = [layer]\n",
    "\n",
    "for i in range(6):\n",
    "    layer = cv2.pyrDown(layer)\n",
    "    gaussian_pyramids_list.append(layer)\n",
    "\n",
    "layer = gaussian_pyramids_list[5]\n",
    "cv2.imshow('smallest_img', layer)\n",
    "\n",
    "laplacian_pyramids_list = [layer]\n",
    "for i in range(5,0,-1):\n",
    "    # upSampling the smallest img\n",
    "    gaussian_expanded = cv2.pyrUp(gaussian_pyramids_list[i])\n",
    "    # resize the image to the same size as the previous image\n",
    "    gaussian_expanded = cv2.resize(gaussian_expanded, (gaussian_pyramids_list[i-1].shape[1], gaussian_pyramids_list[i-1].shape[0]))\n",
    "    # subtract the upSampling image with the previous image\n",
    "    laplacian = cv2.subtract(gaussian_pyramids_list[i-1],gaussian_expanded)\n",
    "    # get the laplacian img\n",
    "    cv2.imshow(str(i),laplacian)\n",
    "\n",
    "\n",
    "# cv2.imshow('Original Image', img)\n",
    "cv2.waitKey(0)\n",
    "cv2.destroyAllWindows()"
   ]
  }
 ],
 "metadata": {
  "kernelspec": {
   "display_name": "Python 3",
   "language": "python",
   "name": "python3"
  },
  "language_info": {
   "codemirror_mode": {
    "name": "ipython",
    "version": 3
   },
   "file_extension": ".py",
   "mimetype": "text/x-python",
   "name": "python",
   "nbconvert_exporter": "python",
   "pygments_lexer": "ipython3",
   "version": "3.11.6"
  },
  "orig_nbformat": 4
 },
 "nbformat": 4,
 "nbformat_minor": 2
}
