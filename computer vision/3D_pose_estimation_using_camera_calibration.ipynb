{
 "cells": [
  {
   "cell_type": "code",
   "execution_count": 1,
   "metadata": {},
   "outputs": [],
   "source": [
    "import numpy as np\n",
    "import cv2\n",
    "import os\n",
    "import glob\n",
    "from enum import Enum"
   ]
  },
  {
   "cell_type": "code",
   "execution_count": 2,
   "metadata": {},
   "outputs": [],
   "source": [
    "os.chdir('./data/')"
   ]
  },
  {
   "cell_type": "code",
   "execution_count": 3,
   "metadata": {},
   "outputs": [],
   "source": [
    "class DrawOption(Enum):\n",
    "    AXES = 1\n",
    "    CUBE = 2"
   ]
  },
  {
   "cell_type": "code",
   "execution_count": 57,
   "metadata": {},
   "outputs": [],
   "source": [
    "def draw_axis(img, corners, img_pts):\n",
    "    def tuple_of_int(arr):\n",
    "        return tuple(int(i) for i in arr)\n",
    "    \n",
    "    corner = tuple_of_int(corners[0].ravel())\n",
    "    # print(corners[0].ravel()) -> corner coordinates for every image\n",
    "    # print(img_pts[0].ravel()) -> 3 points for every image corner \n",
    "    # print('#'*50)\n",
    "\n",
    "    # draw the axis\n",
    "    img = cv2.line(img, corner, tuple_of_int(img_pts[0].ravel()), (255,0,0), 5)\n",
    "    img = cv2.line(img, corner, tuple_of_int(img_pts[1].ravel()), (0,255,0), 5)\n",
    "    img = cv2.line(img, corner, tuple_of_int(img_pts[2].ravel()), (0,0,255), 5)\n",
    "    \n",
    "    return img\n",
    "\n",
    "def draw_cube(img, img_pts):\n",
    "    img_pts = np.int32(img_pts).reshape(-1,2)\n",
    "    # print(img_pts) -> 8 corner points\n",
    "    # print('#'*50)\n",
    "    \n",
    "    # draw ground floor in green\n",
    "    '''\n",
    "    img_pts[:4] ->[598  67][453  78][472 251][628 233] 4 point that form the ground floor\n",
    "    img_pts[4:] ->[617 -42][446 -41][472 152][665 136] 4 point that form the top floor\n",
    "    '''\n",
    "    img = cv2.drawContours(img, [img_pts[:4]],-1,(0,255,0),-1)\n",
    "    \n",
    "    # draw pillars in blue color\n",
    "    for i in range(4):\n",
    "        j = i+4\n",
    "        # draw line from every point in ground floor to top floor\n",
    "        img = cv2.line(img, tuple(img_pts[i]), tuple(img_pts[j]), (255,0,0), 3)\n",
    "\n",
    "        # draw top layer in red color\n",
    "        img = cv2.drawContours(img, [img_pts[4:]],-1,(0,0,255), 3)\n",
    "    \n",
    "    return img"
   ]
  },
  {
   "cell_type": "code",
   "execution_count": 49,
   "metadata": {},
   "outputs": [],
   "source": [
    "def pose_estimation(option: DrawOption):\n",
    "    data = np.load('./calibration_data/MultiMatrix.npz')\n",
    "\n",
    "    cam_matrix = data['cam_matrix']\n",
    "    dist_matrix = data['dist_coeffs']\n",
    "\n",
    "    img_paths = glob.glob('./chess_board_images/*.png')\n",
    "\n",
    "    num_rows = 7\n",
    "    num_cols = 7\n",
    "\n",
    "    criteria = (cv2.TERM_CRITERIA_EPS + cv2.TERM_CRITERIA_MAX_ITER, 30, 0.001)\n",
    "\n",
    "    obj_3D = np.zeros((num_rows * num_cols, 3), np.float32)\n",
    "    obj_3D[:, :2] = np.mgrid[0:num_rows, 0:num_cols].T.reshape(-1, 2)\n",
    "\n",
    "    # real world points of objects\n",
    "    axis = np.float32([[2,0,0],[0,2,0],[0,0,-2]])\n",
    "    cubeCorners = np.float32([[0,0,0],[0,2,0],[2,2,0],[2,0,0],[0,0,-2],[0,2,-2],[2,2,-2],[2,0,-2]])\n",
    "\n",
    "    for img_path in img_paths:\n",
    "        img = cv2.imread(img_path)\n",
    "        gray = cv2.cvtColor(img, cv2.COLOR_BGR2GRAY)\n",
    "        ret, corners = cv2.findChessboardCorners(gray, (num_rows, num_cols), None)\n",
    "\n",
    "        if ret:\n",
    "            improve_corners = cv2.cornerSubPix(gray, corners, (11, 11), (-1, -1), criteria)\n",
    "            ret, rvecs, tvecs = cv2.solvePnP(obj_3D, improve_corners, cam_matrix, dist_matrix) # to estimate the pose (rotation and translation vectors) of the chessboard in the image\n",
    "\n",
    "            if option == DrawOption.AXES:\n",
    "                # projection 3D point on 2D image\n",
    "                img_pts,_ = cv2.projectPoints(axis, rvecs, tvecs, cam_matrix, dist_matrix)\n",
    "                # print(img_pts)\n",
    "                img = draw_axis(img, improve_corners, img_pts)\n",
    "            \n",
    "            if option == DrawOption.CUBE:\n",
    "                # project on 2d image\n",
    "                img_pts,_ = cv2.projectPoints(cubeCorners, rvecs, tvecs, cam_matrix, dist_matrix)\n",
    "                img = draw_cube(img, img_pts)\n",
    "            \n",
    "            cv2.imshow('img', img)\n",
    "            cv2.waitKey(5000)\n",
    "    \n",
    "    cv2.destroyAllWindows()"
   ]
  },
  {
   "cell_type": "code",
   "execution_count": 58,
   "metadata": {},
   "outputs": [],
   "source": [
    "if __name__ == '__main__':\n",
    "    # pose_estimation(DrawOption.AXES)\n",
    "    pose_estimation(DrawOption.CUBE)"
   ]
  }
 ],
 "metadata": {
  "kernelspec": {
   "display_name": "Python 3",
   "language": "python",
   "name": "python3"
  },
  "language_info": {
   "codemirror_mode": {
    "name": "ipython",
    "version": 3
   },
   "file_extension": ".py",
   "mimetype": "text/x-python",
   "name": "python",
   "nbconvert_exporter": "python",
   "pygments_lexer": "ipython3",
   "version": "3.11.6"
  },
  "orig_nbformat": 4
 },
 "nbformat": 4,
 "nbformat_minor": 2
}
